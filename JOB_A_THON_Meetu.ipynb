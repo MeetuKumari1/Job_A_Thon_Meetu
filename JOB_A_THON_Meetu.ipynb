{
  "nbformat": 4,
  "nbformat_minor": 0,
  "metadata": {
    "colab": {
      "name": "JOB_A_THON_Meetu",
      "provenance": [],
      "collapsed_sections": []
    },
    "kernelspec": {
      "name": "python3",
      "display_name": "Python 3"
    },
    "language_info": {
      "name": "python"
    }
  },
  "cells": [
    {
      "cell_type": "markdown",
      "metadata": {
        "id": "cjOc9PFuZY1q"
      },
      "source": [
        "# Problem Statement: Credit Card Lead Prediction\n",
        "Happy Customer Bank is a mid-sized private bank that deals in all kinds of banking products, like Savings accounts, Current accounts, investment products, credit products, among other offerings.\n",
        "\n",
        "The bank also cross-sells products to its existing customers and to do so they use different kinds of communication like tele-calling, e-mails, recommendations on net banking, mobile banking, etc. \n",
        "\n",
        "In this case, the Happy Customer Bank wants to cross sell its credit cards to its existing customers. The bank has identified a set of customers that are eligible for taking these credit cards.\n",
        "\n",
        "Now, the bank is looking for your help in identifying customers that could show higher intent towards a recommended credit card, given:\n",
        "\n",
        "•\tCustomer details (gender, age, region etc.)\n",
        "\n",
        "•\tDetails of his/her relationship with the bank (Channel_Code,Vintage, 'Avg_Asset_Value etc.)\n",
        "\n",
        "\n",
        "# Problem Definition\n",
        "We are going to build classification models which will predict propensity (probability) of customers who are willing to take the credit card offer by the Happy Bank. The probabilities from the model will be used to classify the outcome and identify variables that influence the response. The goal is to build a model that identifies customers who are most likely to accept the offer in future. \n",
        "\n",
        "# Data Clean-up and Preparation\n",
        "we set up the working directory and read the dataset in csv format into Python"
      ]
    },
    {
      "cell_type": "code",
      "metadata": {
        "id": "sZennXuYiVVN"
      },
      "source": [
        "# Importing important libraries\n",
        "import numpy as np\n",
        "import pandas as pd\n",
        "# Vizualizing data\n",
        "from IPython.display import Image\n",
        "import matplotlib.pyplot as plt\n",
        "%matplotlib inline\n",
        "import seaborn as sns\n",
        "color = sns.color_palette()\n",
        "sns.set_style('darkgrid')\n"
      ],
      "execution_count": 85,
      "outputs": []
    },
    {
      "cell_type": "code",
      "metadata": {
        "colab": {
          "base_uri": "https://localhost:8080/",
          "height": 347
        },
        "id": "Z38_FtRZIPNx",
        "outputId": "6386bb99-8031-476f-98ee-8e333eb0e994"
      },
      "source": [
        "df_train = pd.read_csv(\"/content/train_s3TEQDk.csv\")\n",
        "df_test = pd.read_csv(\"/content/test_mSzZ8RL.csv\")\n",
        "df_train.head(10)"
      ],
      "execution_count": 86,
      "outputs": [
        {
          "output_type": "execute_result",
          "data": {
            "text/html": [
              "<div>\n",
              "<style scoped>\n",
              "    .dataframe tbody tr th:only-of-type {\n",
              "        vertical-align: middle;\n",
              "    }\n",
              "\n",
              "    .dataframe tbody tr th {\n",
              "        vertical-align: top;\n",
              "    }\n",
              "\n",
              "    .dataframe thead th {\n",
              "        text-align: right;\n",
              "    }\n",
              "</style>\n",
              "<table border=\"1\" class=\"dataframe\">\n",
              "  <thead>\n",
              "    <tr style=\"text-align: right;\">\n",
              "      <th></th>\n",
              "      <th>ID</th>\n",
              "      <th>Gender</th>\n",
              "      <th>Age</th>\n",
              "      <th>Region_Code</th>\n",
              "      <th>Occupation</th>\n",
              "      <th>Channel_Code</th>\n",
              "      <th>Vintage</th>\n",
              "      <th>Credit_Product</th>\n",
              "      <th>Avg_Account_Balance</th>\n",
              "      <th>Is_Active</th>\n",
              "      <th>Is_Lead</th>\n",
              "    </tr>\n",
              "  </thead>\n",
              "  <tbody>\n",
              "    <tr>\n",
              "      <th>0</th>\n",
              "      <td>NNVBBKZB</td>\n",
              "      <td>Female</td>\n",
              "      <td>73</td>\n",
              "      <td>RG268</td>\n",
              "      <td>Other</td>\n",
              "      <td>X3</td>\n",
              "      <td>43</td>\n",
              "      <td>No</td>\n",
              "      <td>1045696</td>\n",
              "      <td>No</td>\n",
              "      <td>0</td>\n",
              "    </tr>\n",
              "    <tr>\n",
              "      <th>1</th>\n",
              "      <td>IDD62UNG</td>\n",
              "      <td>Female</td>\n",
              "      <td>30</td>\n",
              "      <td>RG277</td>\n",
              "      <td>Salaried</td>\n",
              "      <td>X1</td>\n",
              "      <td>32</td>\n",
              "      <td>No</td>\n",
              "      <td>581988</td>\n",
              "      <td>No</td>\n",
              "      <td>0</td>\n",
              "    </tr>\n",
              "    <tr>\n",
              "      <th>2</th>\n",
              "      <td>HD3DSEMC</td>\n",
              "      <td>Female</td>\n",
              "      <td>56</td>\n",
              "      <td>RG268</td>\n",
              "      <td>Self_Employed</td>\n",
              "      <td>X3</td>\n",
              "      <td>26</td>\n",
              "      <td>No</td>\n",
              "      <td>1484315</td>\n",
              "      <td>Yes</td>\n",
              "      <td>0</td>\n",
              "    </tr>\n",
              "    <tr>\n",
              "      <th>3</th>\n",
              "      <td>BF3NC7KV</td>\n",
              "      <td>Male</td>\n",
              "      <td>34</td>\n",
              "      <td>RG270</td>\n",
              "      <td>Salaried</td>\n",
              "      <td>X1</td>\n",
              "      <td>19</td>\n",
              "      <td>No</td>\n",
              "      <td>470454</td>\n",
              "      <td>No</td>\n",
              "      <td>0</td>\n",
              "    </tr>\n",
              "    <tr>\n",
              "      <th>4</th>\n",
              "      <td>TEASRWXV</td>\n",
              "      <td>Female</td>\n",
              "      <td>30</td>\n",
              "      <td>RG282</td>\n",
              "      <td>Salaried</td>\n",
              "      <td>X1</td>\n",
              "      <td>33</td>\n",
              "      <td>No</td>\n",
              "      <td>886787</td>\n",
              "      <td>No</td>\n",
              "      <td>0</td>\n",
              "    </tr>\n",
              "    <tr>\n",
              "      <th>5</th>\n",
              "      <td>ACUTYTWS</td>\n",
              "      <td>Male</td>\n",
              "      <td>56</td>\n",
              "      <td>RG261</td>\n",
              "      <td>Self_Employed</td>\n",
              "      <td>X1</td>\n",
              "      <td>32</td>\n",
              "      <td>No</td>\n",
              "      <td>544163</td>\n",
              "      <td>Yes</td>\n",
              "      <td>0</td>\n",
              "    </tr>\n",
              "    <tr>\n",
              "      <th>6</th>\n",
              "      <td>ETQCZFEJ</td>\n",
              "      <td>Male</td>\n",
              "      <td>62</td>\n",
              "      <td>RG282</td>\n",
              "      <td>Other</td>\n",
              "      <td>X3</td>\n",
              "      <td>20</td>\n",
              "      <td>NaN</td>\n",
              "      <td>1056750</td>\n",
              "      <td>Yes</td>\n",
              "      <td>1</td>\n",
              "    </tr>\n",
              "    <tr>\n",
              "      <th>7</th>\n",
              "      <td>JJNJUQMQ</td>\n",
              "      <td>Female</td>\n",
              "      <td>48</td>\n",
              "      <td>RG265</td>\n",
              "      <td>Self_Employed</td>\n",
              "      <td>X3</td>\n",
              "      <td>13</td>\n",
              "      <td>No</td>\n",
              "      <td>444724</td>\n",
              "      <td>Yes</td>\n",
              "      <td>0</td>\n",
              "    </tr>\n",
              "    <tr>\n",
              "      <th>8</th>\n",
              "      <td>ZMQFYKCB</td>\n",
              "      <td>Female</td>\n",
              "      <td>40</td>\n",
              "      <td>RG283</td>\n",
              "      <td>Self_Employed</td>\n",
              "      <td>X2</td>\n",
              "      <td>38</td>\n",
              "      <td>No</td>\n",
              "      <td>1274284</td>\n",
              "      <td>No</td>\n",
              "      <td>0</td>\n",
              "    </tr>\n",
              "    <tr>\n",
              "      <th>9</th>\n",
              "      <td>NVKTFBA2</td>\n",
              "      <td>Female</td>\n",
              "      <td>55</td>\n",
              "      <td>RG268</td>\n",
              "      <td>Self_Employed</td>\n",
              "      <td>X2</td>\n",
              "      <td>49</td>\n",
              "      <td>Yes</td>\n",
              "      <td>2014239</td>\n",
              "      <td>No</td>\n",
              "      <td>0</td>\n",
              "    </tr>\n",
              "  </tbody>\n",
              "</table>\n",
              "</div>"
            ],
            "text/plain": [
              "         ID  Gender  Age  ... Avg_Account_Balance Is_Active Is_Lead\n",
              "0  NNVBBKZB  Female   73  ...             1045696        No       0\n",
              "1  IDD62UNG  Female   30  ...              581988        No       0\n",
              "2  HD3DSEMC  Female   56  ...             1484315       Yes       0\n",
              "3  BF3NC7KV    Male   34  ...              470454        No       0\n",
              "4  TEASRWXV  Female   30  ...              886787        No       0\n",
              "5  ACUTYTWS    Male   56  ...              544163       Yes       0\n",
              "6  ETQCZFEJ    Male   62  ...             1056750       Yes       1\n",
              "7  JJNJUQMQ  Female   48  ...              444724       Yes       0\n",
              "8  ZMQFYKCB  Female   40  ...             1274284        No       0\n",
              "9  NVKTFBA2  Female   55  ...             2014239        No       0\n",
              "\n",
              "[10 rows x 11 columns]"
            ]
          },
          "metadata": {
            "tags": []
          },
          "execution_count": 86
        }
      ]
    },
    {
      "cell_type": "code",
      "metadata": {
        "colab": {
          "base_uri": "https://localhost:8080/",
          "height": 347
        },
        "id": "ERDdxrUINOXA",
        "outputId": "d534a3a3-76a7-4524-edc2-79359c7e0d5b"
      },
      "source": [
        "df_test.head(10)"
      ],
      "execution_count": 87,
      "outputs": [
        {
          "output_type": "execute_result",
          "data": {
            "text/html": [
              "<div>\n",
              "<style scoped>\n",
              "    .dataframe tbody tr th:only-of-type {\n",
              "        vertical-align: middle;\n",
              "    }\n",
              "\n",
              "    .dataframe tbody tr th {\n",
              "        vertical-align: top;\n",
              "    }\n",
              "\n",
              "    .dataframe thead th {\n",
              "        text-align: right;\n",
              "    }\n",
              "</style>\n",
              "<table border=\"1\" class=\"dataframe\">\n",
              "  <thead>\n",
              "    <tr style=\"text-align: right;\">\n",
              "      <th></th>\n",
              "      <th>ID</th>\n",
              "      <th>Gender</th>\n",
              "      <th>Age</th>\n",
              "      <th>Region_Code</th>\n",
              "      <th>Occupation</th>\n",
              "      <th>Channel_Code</th>\n",
              "      <th>Vintage</th>\n",
              "      <th>Credit_Product</th>\n",
              "      <th>Avg_Account_Balance</th>\n",
              "      <th>Is_Active</th>\n",
              "    </tr>\n",
              "  </thead>\n",
              "  <tbody>\n",
              "    <tr>\n",
              "      <th>0</th>\n",
              "      <td>VBENBARO</td>\n",
              "      <td>Male</td>\n",
              "      <td>29</td>\n",
              "      <td>RG254</td>\n",
              "      <td>Other</td>\n",
              "      <td>X1</td>\n",
              "      <td>25</td>\n",
              "      <td>Yes</td>\n",
              "      <td>742366</td>\n",
              "      <td>No</td>\n",
              "    </tr>\n",
              "    <tr>\n",
              "      <th>1</th>\n",
              "      <td>CCMEWNKY</td>\n",
              "      <td>Male</td>\n",
              "      <td>43</td>\n",
              "      <td>RG268</td>\n",
              "      <td>Other</td>\n",
              "      <td>X2</td>\n",
              "      <td>49</td>\n",
              "      <td>NaN</td>\n",
              "      <td>925537</td>\n",
              "      <td>No</td>\n",
              "    </tr>\n",
              "    <tr>\n",
              "      <th>2</th>\n",
              "      <td>VK3KGA9M</td>\n",
              "      <td>Male</td>\n",
              "      <td>31</td>\n",
              "      <td>RG270</td>\n",
              "      <td>Salaried</td>\n",
              "      <td>X1</td>\n",
              "      <td>14</td>\n",
              "      <td>No</td>\n",
              "      <td>215949</td>\n",
              "      <td>No</td>\n",
              "    </tr>\n",
              "    <tr>\n",
              "      <th>3</th>\n",
              "      <td>TT8RPZVC</td>\n",
              "      <td>Male</td>\n",
              "      <td>29</td>\n",
              "      <td>RG272</td>\n",
              "      <td>Other</td>\n",
              "      <td>X1</td>\n",
              "      <td>33</td>\n",
              "      <td>No</td>\n",
              "      <td>868070</td>\n",
              "      <td>No</td>\n",
              "    </tr>\n",
              "    <tr>\n",
              "      <th>4</th>\n",
              "      <td>SHQZEYTZ</td>\n",
              "      <td>Female</td>\n",
              "      <td>29</td>\n",
              "      <td>RG270</td>\n",
              "      <td>Other</td>\n",
              "      <td>X1</td>\n",
              "      <td>19</td>\n",
              "      <td>No</td>\n",
              "      <td>657087</td>\n",
              "      <td>No</td>\n",
              "    </tr>\n",
              "    <tr>\n",
              "      <th>5</th>\n",
              "      <td>MZZAQMPT</td>\n",
              "      <td>Male</td>\n",
              "      <td>60</td>\n",
              "      <td>RG268</td>\n",
              "      <td>Self_Employed</td>\n",
              "      <td>X3</td>\n",
              "      <td>110</td>\n",
              "      <td>No</td>\n",
              "      <td>4624262</td>\n",
              "      <td>No</td>\n",
              "    </tr>\n",
              "    <tr>\n",
              "      <th>6</th>\n",
              "      <td>Y88TW36I</td>\n",
              "      <td>Female</td>\n",
              "      <td>69</td>\n",
              "      <td>RG253</td>\n",
              "      <td>Other</td>\n",
              "      <td>X2</td>\n",
              "      <td>67</td>\n",
              "      <td>No</td>\n",
              "      <td>1032764</td>\n",
              "      <td>No</td>\n",
              "    </tr>\n",
              "    <tr>\n",
              "      <th>7</th>\n",
              "      <td>3UGOAQNU</td>\n",
              "      <td>Female</td>\n",
              "      <td>30</td>\n",
              "      <td>RG257</td>\n",
              "      <td>Salaried</td>\n",
              "      <td>X1</td>\n",
              "      <td>33</td>\n",
              "      <td>No</td>\n",
              "      <td>837009</td>\n",
              "      <td>No</td>\n",
              "    </tr>\n",
              "    <tr>\n",
              "      <th>8</th>\n",
              "      <td>VVUKMUJT</td>\n",
              "      <td>Male</td>\n",
              "      <td>43</td>\n",
              "      <td>RG284</td>\n",
              "      <td>Salaried</td>\n",
              "      <td>X3</td>\n",
              "      <td>81</td>\n",
              "      <td>NaN</td>\n",
              "      <td>1001232</td>\n",
              "      <td>Yes</td>\n",
              "    </tr>\n",
              "    <tr>\n",
              "      <th>9</th>\n",
              "      <td>9R363ZXS</td>\n",
              "      <td>Female</td>\n",
              "      <td>54</td>\n",
              "      <td>RG283</td>\n",
              "      <td>Self_Employed</td>\n",
              "      <td>X2</td>\n",
              "      <td>37</td>\n",
              "      <td>Yes</td>\n",
              "      <td>1667851</td>\n",
              "      <td>No</td>\n",
              "    </tr>\n",
              "  </tbody>\n",
              "</table>\n",
              "</div>"
            ],
            "text/plain": [
              "         ID  Gender  Age  ... Credit_Product Avg_Account_Balance Is_Active\n",
              "0  VBENBARO    Male   29  ...            Yes              742366        No\n",
              "1  CCMEWNKY    Male   43  ...            NaN              925537        No\n",
              "2  VK3KGA9M    Male   31  ...             No              215949        No\n",
              "3  TT8RPZVC    Male   29  ...             No              868070        No\n",
              "4  SHQZEYTZ  Female   29  ...             No              657087        No\n",
              "5  MZZAQMPT    Male   60  ...             No             4624262        No\n",
              "6  Y88TW36I  Female   69  ...             No             1032764        No\n",
              "7  3UGOAQNU  Female   30  ...             No              837009        No\n",
              "8  VVUKMUJT    Male   43  ...            NaN             1001232       Yes\n",
              "9  9R363ZXS  Female   54  ...            Yes             1667851        No\n",
              "\n",
              "[10 rows x 10 columns]"
            ]
          },
          "metadata": {
            "tags": []
          },
          "execution_count": 87
        }
      ]
    },
    {
      "cell_type": "markdown",
      "metadata": {
        "id": "66ir4Kk3bLlr"
      },
      "source": [
        "we view the dataset to understand the columns and their data types, and number of records present."
      ]
    },
    {
      "cell_type": "code",
      "metadata": {
        "colab": {
          "base_uri": "https://localhost:8080/"
        },
        "id": "7bCz9sIjL46f",
        "outputId": "daf96aa3-4c9e-45c6-e0ee-704c8af1f9da"
      },
      "source": [
        "#Checking the data type of the columns\n",
        "df_train.info()"
      ],
      "execution_count": 88,
      "outputs": [
        {
          "output_type": "stream",
          "text": [
            "<class 'pandas.core.frame.DataFrame'>\n",
            "RangeIndex: 245725 entries, 0 to 245724\n",
            "Data columns (total 11 columns):\n",
            " #   Column               Non-Null Count   Dtype \n",
            "---  ------               --------------   ----- \n",
            " 0   ID                   245725 non-null  object\n",
            " 1   Gender               245725 non-null  object\n",
            " 2   Age                  245725 non-null  int64 \n",
            " 3   Region_Code          245725 non-null  object\n",
            " 4   Occupation           245725 non-null  object\n",
            " 5   Channel_Code         245725 non-null  object\n",
            " 6   Vintage              245725 non-null  int64 \n",
            " 7   Credit_Product       216400 non-null  object\n",
            " 8   Avg_Account_Balance  245725 non-null  int64 \n",
            " 9   Is_Active            245725 non-null  object\n",
            " 10  Is_Lead              245725 non-null  int64 \n",
            "dtypes: int64(4), object(7)\n",
            "memory usage: 20.6+ MB\n"
          ],
          "name": "stdout"
        }
      ]
    },
    {
      "cell_type": "markdown",
      "metadata": {
        "id": "Y9qp3KssVZEC"
      },
      "source": [
        "Upon viewing the dataset, we infer:\n",
        "There are 245725 observations and 11 variables.\n",
        "We have a mix of integer, numeric, and factor variables.\n",
        "The categorical response variable, representing if a customer responded to the recommendation or not, is the variable called ‘Is_Lead’; 0 - customer is not interested / 1 - customer is interested "
      ]
    },
    {
      "cell_type": "code",
      "metadata": {
        "colab": {
          "base_uri": "https://localhost:8080/"
        },
        "id": "QKfHaS6hKxok",
        "outputId": "766ffc60-16e3-4620-e712-9690225a571e"
      },
      "source": [
        "# Checking the dimension of the data sets\n",
        "df_train.shape,df_test.shape"
      ],
      "execution_count": 89,
      "outputs": [
        {
          "output_type": "execute_result",
          "data": {
            "text/plain": [
              "((245725, 11), (105312, 10))"
            ]
          },
          "metadata": {
            "tags": []
          },
          "execution_count": 89
        }
      ]
    },
    {
      "cell_type": "markdown",
      "metadata": {
        "id": "HWFWFtM8f4n2"
      },
      "source": [
        "We have 245725 rows and 11 columns in Train set whereas Test set has 105312 rows and 10 columns."
      ]
    },
    {
      "cell_type": "code",
      "metadata": {
        "colab": {
          "base_uri": "https://localhost:8080/"
        },
        "id": "YAgwkhZXg0TG",
        "outputId": "5f95ba53-ce5e-40ab-a2b6-c3e5548c7ee2"
      },
      "source": [
        "#categorical features\n",
        "categorical = df_train.select_dtypes(include =[np.object])\n",
        "print(\"Categorical Features in Train Set:\",categorical.shape[1])\n",
        "\n",
        "#numerical features\n",
        "numerical= df_train.select_dtypes(include =[np.float64,np.int64])\n",
        "print(\"Numerical Features in Train Set:\",numerical.shape[1])"
      ],
      "execution_count": 90,
      "outputs": [
        {
          "output_type": "stream",
          "text": [
            "Categorical Features in Train Set: 7\n",
            "Numerical Features in Train Set: 4\n"
          ],
          "name": "stdout"
        }
      ]
    },
    {
      "cell_type": "code",
      "metadata": {
        "colab": {
          "base_uri": "https://localhost:8080/"
        },
        "id": "wzvK9PfOg24H",
        "outputId": "73c5a934-9417-4d50-b72c-2d1b158c3dc7"
      },
      "source": [
        "#categorical features\n",
        "categorical = df_test.select_dtypes(include =[np.object])\n",
        "print(\"Categorical Features in test Set:\",categorical.shape[1])\n",
        "\n",
        "#numerical features\n",
        "numerical= df_test.select_dtypes(include =[np.float64,np.int64])\n",
        "print(\"Numerical Features in test Set:\",numerical.shape[1])"
      ],
      "execution_count": 91,
      "outputs": [
        {
          "output_type": "stream",
          "text": [
            "Categorical Features in test Set: 7\n",
            "Numerical Features in test Set: 3\n"
          ],
          "name": "stdout"
        }
      ]
    },
    {
      "cell_type": "code",
      "metadata": {
        "colab": {
          "base_uri": "https://localhost:8080/"
        },
        "id": "7fmF-y2pLIn3",
        "outputId": "4e4fe9b9-5365-4bd8-ffb3-cd0d971b4764"
      },
      "source": [
        "#Checking the missing or null values\n",
        "df_train.isnull().sum()/df_train.shape[0] *100"
      ],
      "execution_count": 92,
      "outputs": [
        {
          "output_type": "execute_result",
          "data": {
            "text/plain": [
              "ID                      0.000000\n",
              "Gender                  0.000000\n",
              "Age                     0.000000\n",
              "Region_Code             0.000000\n",
              "Occupation              0.000000\n",
              "Channel_Code            0.000000\n",
              "Vintage                 0.000000\n",
              "Credit_Product         11.934073\n",
              "Avg_Account_Balance     0.000000\n",
              "Is_Active               0.000000\n",
              "Is_Lead                 0.000000\n",
              "dtype: float64"
            ]
          },
          "metadata": {
            "tags": []
          },
          "execution_count": 92
        }
      ]
    },
    {
      "cell_type": "code",
      "metadata": {
        "colab": {
          "base_uri": "https://localhost:8080/"
        },
        "id": "1iaa6wv1LsD4",
        "outputId": "e1c076d5-3dbf-4ebd-b99a-9dc3de857bf6"
      },
      "source": [
        "df_test.isnull().sum()/df_test.shape[0] *100"
      ],
      "execution_count": 93,
      "outputs": [
        {
          "output_type": "execute_result",
          "data": {
            "text/plain": [
              "ID                      0.000000\n",
              "Gender                  0.000000\n",
              "Age                     0.000000\n",
              "Region_Code             0.000000\n",
              "Occupation              0.000000\n",
              "Channel_Code            0.000000\n",
              "Vintage                 0.000000\n",
              "Credit_Product         11.890383\n",
              "Avg_Account_Balance     0.000000\n",
              "Is_Active               0.000000\n",
              "dtype: float64"
            ]
          },
          "metadata": {
            "tags": []
          },
          "execution_count": 93
        }
      ]
    },
    {
      "cell_type": "markdown",
      "metadata": {
        "id": "5EGOE1nORgjE"
      },
      "source": [
        "In the train data and test data only 'Credit_Product' column has missing value."
      ]
    },
    {
      "cell_type": "code",
      "metadata": {
        "colab": {
          "base_uri": "https://localhost:8080/"
        },
        "id": "C5RZQKrvMYUs",
        "outputId": "399267af-0bc1-4e8a-b9a6-edf92590542d"
      },
      "source": [
        "df_train['Credit_Product'].value_counts()"
      ],
      "execution_count": 94,
      "outputs": [
        {
          "output_type": "execute_result",
          "data": {
            "text/plain": [
              "No     144357\n",
              "Yes     72043\n",
              "Name: Credit_Product, dtype: int64"
            ]
          },
          "metadata": {
            "tags": []
          },
          "execution_count": 94
        }
      ]
    },
    {
      "cell_type": "code",
      "metadata": {
        "colab": {
          "base_uri": "https://localhost:8080/"
        },
        "id": "8bVb6EEgQx12",
        "outputId": "4968dc19-2f92-41c9-f387-164527d90fbd"
      },
      "source": [
        "df_test['Credit_Product'].value_counts()"
      ],
      "execution_count": 95,
      "outputs": [
        {
          "output_type": "execute_result",
          "data": {
            "text/plain": [
              "No     61608\n",
              "Yes    31182\n",
              "Name: Credit_Product, dtype: int64"
            ]
          },
          "metadata": {
            "tags": []
          },
          "execution_count": 95
        }
      ]
    },
    {
      "cell_type": "code",
      "metadata": {
        "id": "kVwbVOmhh6rz"
      },
      "source": [
        "#Imputing the missing values with Mode (here we can directly fill the value with 'No', because only two values are present in the 'Credit_Product' column )\n",
        "df_train['Credit_Product']= df_train['Credit_Product'].fillna(df_train['Credit_Product'].mode()[0])\n",
        "df_test['Credit_Product']= df_test['Credit_Product'].fillna(df_test['Credit_Product'].mode()[0])"
      ],
      "execution_count": 96,
      "outputs": []
    },
    {
      "cell_type": "code",
      "metadata": {
        "colab": {
          "base_uri": "https://localhost:8080/"
        },
        "id": "2e1ldYziXTl3",
        "outputId": "e4b4a357-685c-47be-8f56-b5e8db868421"
      },
      "source": [
        "# Checking once again the missing values\n",
        "df_train['Credit_Product'].isnull().sum(), df_test['Credit_Product'].isnull().sum()"
      ],
      "execution_count": 97,
      "outputs": [
        {
          "output_type": "execute_result",
          "data": {
            "text/plain": [
              "(0, 0)"
            ]
          },
          "metadata": {
            "tags": []
          },
          "execution_count": 97
        }
      ]
    },
    {
      "cell_type": "markdown",
      "metadata": {
        "id": "ztb1mkTo85hk"
      },
      "source": [
        "#Statistical Summary of Data\n",
        "Statistical summary gives the mean, standard deviation, minimum and maximum value, and the quartile values of the numerical variables.  "
      ]
    },
    {
      "cell_type": "code",
      "metadata": {
        "colab": {
          "base_uri": "https://localhost:8080/",
          "height": 287
        },
        "id": "1ED9zR7o84wG",
        "outputId": "33b611da-2dec-47f6-abb8-6f90b01fea6e"
      },
      "source": [
        "df_train.describe()"
      ],
      "execution_count": 98,
      "outputs": [
        {
          "output_type": "execute_result",
          "data": {
            "text/html": [
              "<div>\n",
              "<style scoped>\n",
              "    .dataframe tbody tr th:only-of-type {\n",
              "        vertical-align: middle;\n",
              "    }\n",
              "\n",
              "    .dataframe tbody tr th {\n",
              "        vertical-align: top;\n",
              "    }\n",
              "\n",
              "    .dataframe thead th {\n",
              "        text-align: right;\n",
              "    }\n",
              "</style>\n",
              "<table border=\"1\" class=\"dataframe\">\n",
              "  <thead>\n",
              "    <tr style=\"text-align: right;\">\n",
              "      <th></th>\n",
              "      <th>Age</th>\n",
              "      <th>Vintage</th>\n",
              "      <th>Avg_Account_Balance</th>\n",
              "      <th>Is_Lead</th>\n",
              "    </tr>\n",
              "  </thead>\n",
              "  <tbody>\n",
              "    <tr>\n",
              "      <th>count</th>\n",
              "      <td>245725.000000</td>\n",
              "      <td>245725.000000</td>\n",
              "      <td>2.457250e+05</td>\n",
              "      <td>245725.000000</td>\n",
              "    </tr>\n",
              "    <tr>\n",
              "      <th>mean</th>\n",
              "      <td>43.856307</td>\n",
              "      <td>46.959141</td>\n",
              "      <td>1.128403e+06</td>\n",
              "      <td>0.237208</td>\n",
              "    </tr>\n",
              "    <tr>\n",
              "      <th>std</th>\n",
              "      <td>14.828672</td>\n",
              "      <td>32.353136</td>\n",
              "      <td>8.529364e+05</td>\n",
              "      <td>0.425372</td>\n",
              "    </tr>\n",
              "    <tr>\n",
              "      <th>min</th>\n",
              "      <td>23.000000</td>\n",
              "      <td>7.000000</td>\n",
              "      <td>2.079000e+04</td>\n",
              "      <td>0.000000</td>\n",
              "    </tr>\n",
              "    <tr>\n",
              "      <th>25%</th>\n",
              "      <td>30.000000</td>\n",
              "      <td>20.000000</td>\n",
              "      <td>6.043100e+05</td>\n",
              "      <td>0.000000</td>\n",
              "    </tr>\n",
              "    <tr>\n",
              "      <th>50%</th>\n",
              "      <td>43.000000</td>\n",
              "      <td>32.000000</td>\n",
              "      <td>8.946010e+05</td>\n",
              "      <td>0.000000</td>\n",
              "    </tr>\n",
              "    <tr>\n",
              "      <th>75%</th>\n",
              "      <td>54.000000</td>\n",
              "      <td>73.000000</td>\n",
              "      <td>1.366666e+06</td>\n",
              "      <td>0.000000</td>\n",
              "    </tr>\n",
              "    <tr>\n",
              "      <th>max</th>\n",
              "      <td>85.000000</td>\n",
              "      <td>135.000000</td>\n",
              "      <td>1.035201e+07</td>\n",
              "      <td>1.000000</td>\n",
              "    </tr>\n",
              "  </tbody>\n",
              "</table>\n",
              "</div>"
            ],
            "text/plain": [
              "                 Age        Vintage  Avg_Account_Balance        Is_Lead\n",
              "count  245725.000000  245725.000000         2.457250e+05  245725.000000\n",
              "mean       43.856307      46.959141         1.128403e+06       0.237208\n",
              "std        14.828672      32.353136         8.529364e+05       0.425372\n",
              "min        23.000000       7.000000         2.079000e+04       0.000000\n",
              "25%        30.000000      20.000000         6.043100e+05       0.000000\n",
              "50%        43.000000      32.000000         8.946010e+05       0.000000\n",
              "75%        54.000000      73.000000         1.366666e+06       0.000000\n",
              "max        85.000000     135.000000         1.035201e+07       1.000000"
            ]
          },
          "metadata": {
            "tags": []
          },
          "execution_count": 98
        }
      ]
    },
    {
      "cell_type": "code",
      "metadata": {
        "colab": {
          "base_uri": "https://localhost:8080/",
          "height": 324
        },
        "id": "B96wBRt4-rta",
        "outputId": "12259af1-a146-4fb4-b96f-2a5ec17e9049"
      },
      "source": [
        "# Plot the correlation\n",
        "plt.figure(figsize=(10, 5))\n",
        "ax = plt.subplot()\n",
        "g = sns.heatmap(df_train.corr(),annot=True, cmap='Blues')"
      ],
      "execution_count": 99,
      "outputs": [
        {
          "output_type": "display_data",
          "data": {
            "image/png": "[encoded data removed]",
            "text/plain": [
              "<Figure size 720x360 with 2 Axes>"
            ]
          },
          "metadata": {
            "tags": []
          }
        }
      ]
    },
    {
      "cell_type": "markdown",
      "metadata": {
        "id": "S1KfbG8rSXSp"
      },
      "source": [
        "In the correlation plot we can see that there is no negative correlation in data and also most important is that it only showing the correlation between the 4 variables. We need to check the important features in the data set.\n",
        "\n",
        "In the banking centre Average account balance is one of the most important criteria for the bank to offer different financial products to the customer. here we can see the correlation between 'Avg_Account_Balance' and the target vaiable 'Is_Lead' is the least. we need to explore this problem also. "
      ]
    },
    {
      "cell_type": "markdown",
      "metadata": {
        "id": "v3vMxzLPY8mR"
      },
      "source": [
        "#Exploratory Data Analysis\n",
        "\n",
        "We will explore the data visually and see the patterns in the data distribution. "
      ]
    },
    {
      "cell_type": "code",
      "metadata": {
        "colab": {
          "base_uri": "https://localhost:8080/"
        },
        "id": "D-38SbbPX6Vr",
        "outputId": "485f1bed-f89a-484f-c8df-7e5ab4f92843"
      },
      "source": [
        "df_train.columns"
      ],
      "execution_count": 100,
      "outputs": [
        {
          "output_type": "execute_result",
          "data": {
            "text/plain": [
              "Index(['ID', 'Gender', 'Age', 'Region_Code', 'Occupation', 'Channel_Code',\n",
              "       'Vintage', 'Credit_Product', 'Avg_Account_Balance', 'Is_Active',\n",
              "       'Is_Lead'],\n",
              "      dtype='object')"
            ]
          },
          "metadata": {
            "tags": []
          },
          "execution_count": 100
        }
      ]
    },
    {
      "cell_type": "code",
      "metadata": {
        "colab": {
          "base_uri": "https://localhost:8080/",
          "height": 408
        },
        "id": "GRlb9vY-dru6",
        "outputId": "708ff193-0cf5-4c29-893f-7a7b0b190e96"
      },
      "source": [
        "plt.figure(figsize=(8,5))\n",
        "sns.countplot('Gender',data=df_train,palette='ocean')"
      ],
      "execution_count": 101,
      "outputs": [
        {
          "output_type": "stream",
          "text": [
            "/usr/local/lib/python3.7/dist-packages/seaborn/_decorators.py:43: FutureWarning: Pass the following variable as a keyword arg: x. From version 0.12, the only valid positional argument will be `data`, and passing other arguments without an explicit keyword will result in an error or misinterpretation.\n",
            "  FutureWarning\n"
          ],
          "name": "stderr"
        },
        {
          "output_type": "execute_result",
          "data": {
            "text/plain": [
              "<matplotlib.axes._subplots.AxesSubplot at 0x7fcf6dd87a50>"
            ]
          },
          "metadata": {
            "tags": []
          },
          "execution_count": 101
        },
        {
          "output_type": "display_data",
          "data": {
            "image/png": "[encoded data removed]",
            "text/plain": [
              "<Figure size 576x360 with 1 Axes>"
            ]
          },
          "metadata": {
            "tags": []
          }
        }
      ]
    },
    {
      "cell_type": "markdown",
      "metadata": {
        "id": "zP7axk4tT3K0"
      },
      "source": [
        "Male customers are more in number"
      ]
    },
    {
      "cell_type": "code",
      "metadata": {
        "colab": {
          "base_uri": "https://localhost:8080/",
          "height": 496
        },
        "id": "tM9RBtFDjRsH",
        "outputId": "6749aa9b-2f93-4eed-f0c9-161d228fb9f4"
      },
      "source": [
        "plt.figure(figsize=(25,7))\n",
        "sns.countplot('Age',data=df_train,palette='spring')"
      ],
      "execution_count": 102,
      "outputs": [
        {
          "output_type": "stream",
          "text": [
            "/usr/local/lib/python3.7/dist-packages/seaborn/_decorators.py:43: FutureWarning: Pass the following variable as a keyword arg: x. From version 0.12, the only valid positional argument will be `data`, and passing other arguments without an explicit keyword will result in an error or misinterpretation.\n",
            "  FutureWarning\n"
          ],
          "name": "stderr"
        },
        {
          "output_type": "execute_result",
          "data": {
            "text/plain": [
              "<matplotlib.axes._subplots.AxesSubplot at 0x7fcf6dcbf950>"
            ]
          },
          "metadata": {
            "tags": []
          },
          "execution_count": 102
        },
        {
          "output_type": "display_data",
          "data": {
            "image/png": "[encoded data removed]",
            "text/plain": [
              "<Figure size 1800x504 with 1 Axes>"
            ]
          },
          "metadata": {
            "tags": []
          }
        }
      ]
    },
    {
      "cell_type": "markdown",
      "metadata": {
        "id": "ZBCqlxvgOkuO"
      },
      "source": [
        "most customers are in the age group 25 to 35 years of age.  "
      ]
    },
    {
      "cell_type": "code",
      "metadata": {
        "colab": {
          "base_uri": "https://localhost:8080/",
          "height": 497
        },
        "id": "KngjaawCjdmI",
        "outputId": "d9b5e9a5-8caf-4e2c-8332-eb702c227658"
      },
      "source": [
        "plt.figure(figsize=(25,7))\n",
        "sns.countplot('Region_Code',data=df_train,palette='spring')"
      ],
      "execution_count": 103,
      "outputs": [
        {
          "output_type": "stream",
          "text": [
            "/usr/local/lib/python3.7/dist-packages/seaborn/_decorators.py:43: FutureWarning: Pass the following variable as a keyword arg: x. From version 0.12, the only valid positional argument will be `data`, and passing other arguments without an explicit keyword will result in an error or misinterpretation.\n",
            "  FutureWarning\n"
          ],
          "name": "stderr"
        },
        {
          "output_type": "execute_result",
          "data": {
            "text/plain": [
              "<matplotlib.axes._subplots.AxesSubplot at 0x7fcf6da6cdd0>"
            ]
          },
          "metadata": {
            "tags": []
          },
          "execution_count": 103
        },
        {
          "output_type": "display_data",
          "data": {
            "image/png": "[encoded data removed]",
            "text/plain": [
              "<Figure size 1800x504 with 1 Axes>"
            ]
          },
          "metadata": {
            "tags": []
          }
        }
      ]
    },
    {
      "cell_type": "code",
      "metadata": {
        "colab": {
          "base_uri": "https://localhost:8080/",
          "height": 407
        },
        "id": "AbdqcunqjzuF",
        "outputId": "04001f7f-f0c5-42cf-91f3-dbba7db1cdd3"
      },
      "source": [
        "plt.figure(figsize=(8,5))\n",
        "sns.countplot('Occupation',data=df_train,palette='autumn')"
      ],
      "execution_count": 104,
      "outputs": [
        {
          "output_type": "stream",
          "text": [
            "/usr/local/lib/python3.7/dist-packages/seaborn/_decorators.py:43: FutureWarning: Pass the following variable as a keyword arg: x. From version 0.12, the only valid positional argument will be `data`, and passing other arguments without an explicit keyword will result in an error or misinterpretation.\n",
            "  FutureWarning\n"
          ],
          "name": "stderr"
        },
        {
          "output_type": "execute_result",
          "data": {
            "text/plain": [
              "<matplotlib.axes._subplots.AxesSubplot at 0x7fcf6d987650>"
            ]
          },
          "metadata": {
            "tags": []
          },
          "execution_count": 104
        },
        {
          "output_type": "display_data",
          "data": {
            "image/png": "[encoded data removed]",
            "text/plain": [
              "<Figure size 576x360 with 1 Axes>"
            ]
          },
          "metadata": {
            "tags": []
          }
        }
      ]
    },
    {
      "cell_type": "markdown",
      "metadata": {
        "id": "JGG89cGePUBE"
      },
      "source": [
        "most number of customers are in self_employed category."
      ]
    },
    {
      "cell_type": "code",
      "metadata": {
        "colab": {
          "base_uri": "https://localhost:8080/",
          "height": 407
        },
        "id": "ajr9t6fUkH68",
        "outputId": "17a6797c-180c-42c3-fd03-656586b04094"
      },
      "source": [
        "plt.figure(figsize=(8,5))\n",
        "sns.countplot('Channel_Code',data=df_train,palette='summer')"
      ],
      "execution_count": 105,
      "outputs": [
        {
          "output_type": "stream",
          "text": [
            "/usr/local/lib/python3.7/dist-packages/seaborn/_decorators.py:43: FutureWarning: Pass the following variable as a keyword arg: x. From version 0.12, the only valid positional argument will be `data`, and passing other arguments without an explicit keyword will result in an error or misinterpretation.\n",
            "  FutureWarning\n"
          ],
          "name": "stderr"
        },
        {
          "output_type": "execute_result",
          "data": {
            "text/plain": [
              "<matplotlib.axes._subplots.AxesSubplot at 0x7fcf6d8e0c50>"
            ]
          },
          "metadata": {
            "tags": []
          },
          "execution_count": 105
        },
        {
          "output_type": "display_data",
          "data": {
            "image/png": "[encoded data removed]",
            "text/plain": [
              "<Figure size 576x360 with 1 Axes>"
            ]
          },
          "metadata": {
            "tags": []
          }
        }
      ]
    },
    {
      "cell_type": "code",
      "metadata": {
        "colab": {
          "base_uri": "https://localhost:8080/",
          "height": 496
        },
        "id": "avh90pbTku2q",
        "outputId": "1c6009fb-0069-4928-a937-26aff4128a76"
      },
      "source": [
        "plt.figure(figsize=(25,7))\n",
        "sns.countplot('Vintage',data=df_train,palette='spring')"
      ],
      "execution_count": 106,
      "outputs": [
        {
          "output_type": "stream",
          "text": [
            "/usr/local/lib/python3.7/dist-packages/seaborn/_decorators.py:43: FutureWarning: Pass the following variable as a keyword arg: x. From version 0.12, the only valid positional argument will be `data`, and passing other arguments without an explicit keyword will result in an error or misinterpretation.\n",
            "  FutureWarning\n"
          ],
          "name": "stderr"
        },
        {
          "output_type": "execute_result",
          "data": {
            "text/plain": [
              "<matplotlib.axes._subplots.AxesSubplot at 0x7fcf6d8b5110>"
            ]
          },
          "metadata": {
            "tags": []
          },
          "execution_count": 106
        },
        {
          "output_type": "display_data",
          "data": {
            "image/png": "[encoded data removed]",
            "text/plain": [
              "<Figure size 1800x504 with 1 Axes>"
            ]
          },
          "metadata": {
            "tags": []
          }
        }
      ]
    },
    {
      "cell_type": "code",
      "metadata": {
        "colab": {
          "base_uri": "https://localhost:8080/",
          "height": 407
        },
        "id": "iJwDU0MslLmc",
        "outputId": "cc1435bd-631d-4552-8e6e-347b971ed755"
      },
      "source": [
        "plt.figure(figsize=(8,5))\n",
        "sns.countplot('Credit_Product',data=df_train,palette='ocean')"
      ],
      "execution_count": 107,
      "outputs": [
        {
          "output_type": "stream",
          "text": [
            "/usr/local/lib/python3.7/dist-packages/seaborn/_decorators.py:43: FutureWarning: Pass the following variable as a keyword arg: x. From version 0.12, the only valid positional argument will be `data`, and passing other arguments without an explicit keyword will result in an error or misinterpretation.\n",
            "  FutureWarning\n"
          ],
          "name": "stderr"
        },
        {
          "output_type": "execute_result",
          "data": {
            "text/plain": [
              "<matplotlib.axes._subplots.AxesSubplot at 0x7fcf6d754410>"
            ]
          },
          "metadata": {
            "tags": []
          },
          "execution_count": 107
        },
        {
          "output_type": "display_data",
          "data": {
            "image/png": "[encoded data removed]",
            "text/plain": [
              "<Figure size 576x360 with 1 Axes>"
            ]
          },
          "metadata": {
            "tags": []
          }
        }
      ]
    },
    {
      "cell_type": "markdown",
      "metadata": {
        "id": "zgXx7DGZQQFa"
      },
      "source": [
        "less than 50% of the customers are having Credit_product"
      ]
    },
    {
      "cell_type": "code",
      "metadata": {
        "colab": {
          "base_uri": "https://localhost:8080/",
          "height": 407
        },
        "id": "WgSku_rPmCvl",
        "outputId": "f32688ed-2437-4066-fffc-a7e9d9105ea0"
      },
      "source": [
        "plt.figure(figsize=(8,5))\n",
        "sns.countplot('Is_Active',data=df_train,palette='twilight')"
      ],
      "execution_count": 108,
      "outputs": [
        {
          "output_type": "stream",
          "text": [
            "/usr/local/lib/python3.7/dist-packages/seaborn/_decorators.py:43: FutureWarning: Pass the following variable as a keyword arg: x. From version 0.12, the only valid positional argument will be `data`, and passing other arguments without an explicit keyword will result in an error or misinterpretation.\n",
            "  FutureWarning\n"
          ],
          "name": "stderr"
        },
        {
          "output_type": "execute_result",
          "data": {
            "text/plain": [
              "<matplotlib.axes._subplots.AxesSubplot at 0x7fcf6d6e9cd0>"
            ]
          },
          "metadata": {
            "tags": []
          },
          "execution_count": 108
        },
        {
          "output_type": "display_data",
          "data": {
            "image/png": "[encoded data removed]",
            "text/plain": [
              "<Figure size 576x360 with 1 Axes>"
            ]
          },
          "metadata": {
            "tags": []
          }
        }
      ]
    },
    {
      "cell_type": "code",
      "metadata": {
        "colab": {
          "base_uri": "https://localhost:8080/",
          "height": 407
        },
        "id": "LXcS7Nylyt8g",
        "outputId": "3c14dc78-7421-4802-fc8f-b26ba4e02c2a"
      },
      "source": [
        "plt.figure(figsize=(8,5))\n",
        "sns.countplot('Is_Lead',data=df_train,palette='twilight')"
      ],
      "execution_count": 109,
      "outputs": [
        {
          "output_type": "stream",
          "text": [
            "/usr/local/lib/python3.7/dist-packages/seaborn/_decorators.py:43: FutureWarning: Pass the following variable as a keyword arg: x. From version 0.12, the only valid positional argument will be `data`, and passing other arguments without an explicit keyword will result in an error or misinterpretation.\n",
            "  FutureWarning\n"
          ],
          "name": "stderr"
        },
        {
          "output_type": "execute_result",
          "data": {
            "text/plain": [
              "<matplotlib.axes._subplots.AxesSubplot at 0x7fcf6d6b1f10>"
            ]
          },
          "metadata": {
            "tags": []
          },
          "execution_count": 109
        },
        {
          "output_type": "display_data",
          "data": {
            "image/png": "[encoded data removed]",
            "text/plain": [
              "<Figure size 576x360 with 1 Axes>"
            ]
          },
          "metadata": {
            "tags": []
          }
        }
      ]
    },
    {
      "cell_type": "markdown",
      "metadata": {
        "id": "Rugm03g7URx1"
      },
      "source": [
        "Very few customers have shown interest in the credit card. \n",
        "\n",
        "We will check the exact number ofcustomers."
      ]
    },
    {
      "cell_type": "code",
      "metadata": {
        "colab": {
          "base_uri": "https://localhost:8080/"
        },
        "id": "COSji1AbRAsK",
        "outputId": "6cd22600-fdf5-482b-c047-2abae95dbd99"
      },
      "source": [
        "df_train['Is_Lead'].value_counts()"
      ],
      "execution_count": 110,
      "outputs": [
        {
          "output_type": "execute_result",
          "data": {
            "text/plain": [
              "0    187437\n",
              "1     58288\n",
              "Name: Is_Lead, dtype: int64"
            ]
          },
          "metadata": {
            "tags": []
          },
          "execution_count": 110
        }
      ]
    },
    {
      "cell_type": "markdown",
      "metadata": {
        "id": "1rSmCbg6VIAH"
      },
      "source": [
        "Less than 25% of the customers have shown their interest for credit card"
      ]
    },
    {
      "cell_type": "code",
      "metadata": {
        "colab": {
          "base_uri": "https://localhost:8080/"
        },
        "id": "oL4tV8nMRx0w",
        "outputId": "133169aa-300a-45ac-d1ed-5fc3b1162cb3"
      },
      "source": [
        "#Checking the count value in Avg_Account_Balance \n",
        "df_train['Avg_Account_Balance'].value_counts()"
      ],
      "execution_count": 111,
      "outputs": [
        {
          "output_type": "execute_result",
          "data": {
            "text/plain": [
              "4022185    127\n",
              "1611273     35\n",
              "4126262     33\n",
              "1142030     32\n",
              "936814      31\n",
              "          ... \n",
              "1016388      1\n",
              "516680       1\n",
              "1043017      1\n",
              "784971       1\n",
              "2760299      1\n",
              "Name: Avg_Account_Balance, Length: 135292, dtype: int64"
            ]
          },
          "metadata": {
            "tags": []
          },
          "execution_count": 111
        }
      ]
    },
    {
      "cell_type": "code",
      "metadata": {
        "colab": {
          "base_uri": "https://localhost:8080/",
          "height": 311
        },
        "id": "3gT_2AeFW-md",
        "outputId": "26b609ae-6a0d-4a78-fb3b-ec07c80804b0"
      },
      "source": [
        "sns.boxplot(y= df_train['Avg_Account_Balance'], data=df_train)\n",
        "plt.tight_layout(pad=0.4, w_pad=0.5, h_pad=5.0)"
      ],
      "execution_count": 112,
      "outputs": [
        {
          "output_type": "display_data",
          "data": {
            "image/png": "[encoded data removed]",
            "text/plain": [
              "<Figure size 432x288 with 1 Axes>"
            ]
          },
          "metadata": {
            "tags": []
          }
        }
      ]
    },
    {
      "cell_type": "markdown",
      "metadata": {
        "id": "gDLX-JiaYoy-"
      },
      "source": [
        "The 'Avg_Account_Balance' is showing outliers, but for banking sector data modelling, removing outlier is not good for the business. "
      ]
    },
    {
      "cell_type": "code",
      "metadata": {
        "colab": {
          "base_uri": "https://localhost:8080/",
          "height": 798
        },
        "id": "6TPnyTefQuxG",
        "outputId": "1e08f7a5-bf5b-47a3-a6de-9e78ec122c55"
      },
      "source": [
        "fig = plt.figure(figsize=(12,12))\n",
        "sns.distplot(df_train['Avg_Account_Balance'])"
      ],
      "execution_count": 113,
      "outputs": [
        {
          "output_type": "stream",
          "text": [
            "/usr/local/lib/python3.7/dist-packages/seaborn/distributions.py:2557: FutureWarning: `distplot` is a deprecated function and will be removed in a future version. Please adapt your code to use either `displot` (a figure-level function with similar flexibility) or `histplot` (an axes-level function for histograms).\n",
            "  warnings.warn(msg, FutureWarning)\n"
          ],
          "name": "stderr"
        },
        {
          "output_type": "execute_result",
          "data": {
            "text/plain": [
              "<matplotlib.axes._subplots.AxesSubplot at 0x7fcf6d8a2650>"
            ]
          },
          "metadata": {
            "tags": []
          },
          "execution_count": 113
        },
        {
          "output_type": "display_data",
          "data": {
            "image/png": "[encoded data removed]",
            "text/plain": [
              "<Figure size 864x864 with 1 Axes>"
            ]
          },
          "metadata": {
            "tags": []
          }
        }
      ]
    },
    {
      "cell_type": "markdown",
      "metadata": {
        "id": "ii4Q6NI2ZHTC"
      },
      "source": [
        "We will scale the data by MinMaxScaler "
      ]
    },
    {
      "cell_type": "code",
      "metadata": {
        "colab": {
          "base_uri": "https://localhost:8080/",
          "height": 197
        },
        "id": "5bPHgY2VSkQv",
        "outputId": "6966402b-4898-4493-c040-69488d29fad8"
      },
      "source": [
        "# Import MinMaxScaler\n",
        "from sklearn.preprocessing import MinMaxScaler\n",
        "\n",
        "# Scaling X_train and X_test\n",
        "scaler = MinMaxScaler(feature_range=(0, 1))\n",
        "df_train[['Avg_Account_Balance']] = scaler.fit_transform(df_train[['Avg_Account_Balance']])\n",
        "df_train.head(5)"
      ],
      "execution_count": 114,
      "outputs": [
        {
          "output_type": "execute_result",
          "data": {
            "text/html": [
              "<div>\n",
              "<style scoped>\n",
              "    .dataframe tbody tr th:only-of-type {\n",
              "        vertical-align: middle;\n",
              "    }\n",
              "\n",
              "    .dataframe tbody tr th {\n",
              "        vertical-align: top;\n",
              "    }\n",
              "\n",
              "    .dataframe thead th {\n",
              "        text-align: right;\n",
              "    }\n",
              "</style>\n",
              "<table border=\"1\" class=\"dataframe\">\n",
              "  <thead>\n",
              "    <tr style=\"text-align: right;\">\n",
              "      <th></th>\n",
              "      <th>ID</th>\n",
              "      <th>Gender</th>\n",
              "      <th>Age</th>\n",
              "      <th>Region_Code</th>\n",
              "      <th>Occupation</th>\n",
              "      <th>Channel_Code</th>\n",
              "      <th>Vintage</th>\n",
              "      <th>Credit_Product</th>\n",
              "      <th>Avg_Account_Balance</th>\n",
              "      <th>Is_Active</th>\n",
              "      <th>Is_Lead</th>\n",
              "    </tr>\n",
              "  </thead>\n",
              "  <tbody>\n",
              "    <tr>\n",
              "      <th>0</th>\n",
              "      <td>NNVBBKZB</td>\n",
              "      <td>Female</td>\n",
              "      <td>73</td>\n",
              "      <td>RG268</td>\n",
              "      <td>Other</td>\n",
              "      <td>X3</td>\n",
              "      <td>43</td>\n",
              "      <td>No</td>\n",
              "      <td>0.099205</td>\n",
              "      <td>No</td>\n",
              "      <td>0</td>\n",
              "    </tr>\n",
              "    <tr>\n",
              "      <th>1</th>\n",
              "      <td>IDD62UNG</td>\n",
              "      <td>Female</td>\n",
              "      <td>30</td>\n",
              "      <td>RG277</td>\n",
              "      <td>Salaried</td>\n",
              "      <td>X1</td>\n",
              "      <td>32</td>\n",
              "      <td>No</td>\n",
              "      <td>0.054321</td>\n",
              "      <td>No</td>\n",
              "      <td>0</td>\n",
              "    </tr>\n",
              "    <tr>\n",
              "      <th>2</th>\n",
              "      <td>HD3DSEMC</td>\n",
              "      <td>Female</td>\n",
              "      <td>56</td>\n",
              "      <td>RG268</td>\n",
              "      <td>Self_Employed</td>\n",
              "      <td>X3</td>\n",
              "      <td>26</td>\n",
              "      <td>No</td>\n",
              "      <td>0.141660</td>\n",
              "      <td>Yes</td>\n",
              "      <td>0</td>\n",
              "    </tr>\n",
              "    <tr>\n",
              "      <th>3</th>\n",
              "      <td>BF3NC7KV</td>\n",
              "      <td>Male</td>\n",
              "      <td>34</td>\n",
              "      <td>RG270</td>\n",
              "      <td>Salaried</td>\n",
              "      <td>X1</td>\n",
              "      <td>19</td>\n",
              "      <td>No</td>\n",
              "      <td>0.043525</td>\n",
              "      <td>No</td>\n",
              "      <td>0</td>\n",
              "    </tr>\n",
              "    <tr>\n",
              "      <th>4</th>\n",
              "      <td>TEASRWXV</td>\n",
              "      <td>Female</td>\n",
              "      <td>30</td>\n",
              "      <td>RG282</td>\n",
              "      <td>Salaried</td>\n",
              "      <td>X1</td>\n",
              "      <td>33</td>\n",
              "      <td>No</td>\n",
              "      <td>0.083823</td>\n",
              "      <td>No</td>\n",
              "      <td>0</td>\n",
              "    </tr>\n",
              "  </tbody>\n",
              "</table>\n",
              "</div>"
            ],
            "text/plain": [
              "         ID  Gender  Age  ... Avg_Account_Balance Is_Active Is_Lead\n",
              "0  NNVBBKZB  Female   73  ...            0.099205        No       0\n",
              "1  IDD62UNG  Female   30  ...            0.054321        No       0\n",
              "2  HD3DSEMC  Female   56  ...            0.141660       Yes       0\n",
              "3  BF3NC7KV    Male   34  ...            0.043525        No       0\n",
              "4  TEASRWXV  Female   30  ...            0.083823        No       0\n",
              "\n",
              "[5 rows x 11 columns]"
            ]
          },
          "metadata": {
            "tags": []
          },
          "execution_count": 114
        }
      ]
    },
    {
      "cell_type": "code",
      "metadata": {
        "id": "Up5eL3kOSkdV"
      },
      "source": [
        "df_test[['Avg_Account_Balance']] = scaler.fit_transform(df_test[['Avg_Account_Balance']])"
      ],
      "execution_count": 115,
      "outputs": []
    },
    {
      "cell_type": "code",
      "metadata": {
        "colab": {
          "base_uri": "https://localhost:8080/",
          "height": 197
        },
        "id": "s-Y_KaRGTb0t",
        "outputId": "60c3b49d-04d8-4958-fd48-eda7ec6eeb95"
      },
      "source": [
        "df_test.head(5)"
      ],
      "execution_count": 116,
      "outputs": [
        {
          "output_type": "execute_result",
          "data": {
            "text/html": [
              "<div>\n",
              "<style scoped>\n",
              "    .dataframe tbody tr th:only-of-type {\n",
              "        vertical-align: middle;\n",
              "    }\n",
              "\n",
              "    .dataframe tbody tr th {\n",
              "        vertical-align: top;\n",
              "    }\n",
              "\n",
              "    .dataframe thead th {\n",
              "        text-align: right;\n",
              "    }\n",
              "</style>\n",
              "<table border=\"1\" class=\"dataframe\">\n",
              "  <thead>\n",
              "    <tr style=\"text-align: right;\">\n",
              "      <th></th>\n",
              "      <th>ID</th>\n",
              "      <th>Gender</th>\n",
              "      <th>Age</th>\n",
              "      <th>Region_Code</th>\n",
              "      <th>Occupation</th>\n",
              "      <th>Channel_Code</th>\n",
              "      <th>Vintage</th>\n",
              "      <th>Credit_Product</th>\n",
              "      <th>Avg_Account_Balance</th>\n",
              "      <th>Is_Active</th>\n",
              "    </tr>\n",
              "  </thead>\n",
              "  <tbody>\n",
              "    <tr>\n",
              "      <th>0</th>\n",
              "      <td>VBENBARO</td>\n",
              "      <td>Male</td>\n",
              "      <td>29</td>\n",
              "      <td>RG254</td>\n",
              "      <td>Other</td>\n",
              "      <td>X1</td>\n",
              "      <td>25</td>\n",
              "      <td>Yes</td>\n",
              "      <td>0.072805</td>\n",
              "      <td>No</td>\n",
              "    </tr>\n",
              "    <tr>\n",
              "      <th>1</th>\n",
              "      <td>CCMEWNKY</td>\n",
              "      <td>Male</td>\n",
              "      <td>43</td>\n",
              "      <td>RG268</td>\n",
              "      <td>Other</td>\n",
              "      <td>X2</td>\n",
              "      <td>49</td>\n",
              "      <td>No</td>\n",
              "      <td>0.091333</td>\n",
              "      <td>No</td>\n",
              "    </tr>\n",
              "    <tr>\n",
              "      <th>2</th>\n",
              "      <td>VK3KGA9M</td>\n",
              "      <td>Male</td>\n",
              "      <td>31</td>\n",
              "      <td>RG270</td>\n",
              "      <td>Salaried</td>\n",
              "      <td>X1</td>\n",
              "      <td>14</td>\n",
              "      <td>No</td>\n",
              "      <td>0.019558</td>\n",
              "      <td>No</td>\n",
              "    </tr>\n",
              "    <tr>\n",
              "      <th>3</th>\n",
              "      <td>TT8RPZVC</td>\n",
              "      <td>Male</td>\n",
              "      <td>29</td>\n",
              "      <td>RG272</td>\n",
              "      <td>Other</td>\n",
              "      <td>X1</td>\n",
              "      <td>33</td>\n",
              "      <td>No</td>\n",
              "      <td>0.085520</td>\n",
              "      <td>No</td>\n",
              "    </tr>\n",
              "    <tr>\n",
              "      <th>4</th>\n",
              "      <td>SHQZEYTZ</td>\n",
              "      <td>Female</td>\n",
              "      <td>29</td>\n",
              "      <td>RG270</td>\n",
              "      <td>Other</td>\n",
              "      <td>X1</td>\n",
              "      <td>19</td>\n",
              "      <td>No</td>\n",
              "      <td>0.064179</td>\n",
              "      <td>No</td>\n",
              "    </tr>\n",
              "  </tbody>\n",
              "</table>\n",
              "</div>"
            ],
            "text/plain": [
              "         ID  Gender  Age  ... Credit_Product Avg_Account_Balance Is_Active\n",
              "0  VBENBARO    Male   29  ...            Yes            0.072805        No\n",
              "1  CCMEWNKY    Male   43  ...             No            0.091333        No\n",
              "2  VK3KGA9M    Male   31  ...             No            0.019558        No\n",
              "3  TT8RPZVC    Male   29  ...             No            0.085520        No\n",
              "4  SHQZEYTZ  Female   29  ...             No            0.064179        No\n",
              "\n",
              "[5 rows x 10 columns]"
            ]
          },
          "metadata": {
            "tags": []
          },
          "execution_count": 116
        }
      ]
    },
    {
      "cell_type": "markdown",
      "metadata": {
        "id": "6CKBVKr92OS8"
      },
      "source": [
        "#Dropping ID Column\n",
        "The columns 'ID' is not required for the training of the algorithm,  it is used for unique identification of the customers. "
      ]
    },
    {
      "cell_type": "code",
      "metadata": {
        "colab": {
          "base_uri": "https://localhost:8080/"
        },
        "id": "Y5-kh-r5LW73",
        "outputId": "61acbcc8-6c48-42d4-93d4-427a0c7499d9"
      },
      "source": [
        "df_train.shape, df_test.shape"
      ],
      "execution_count": 117,
      "outputs": [
        {
          "output_type": "execute_result",
          "data": {
            "text/plain": [
              "((245725, 11), (105312, 10))"
            ]
          },
          "metadata": {
            "tags": []
          },
          "execution_count": 117
        }
      ]
    },
    {
      "cell_type": "code",
      "metadata": {
        "id": "1bDShbQwQISR"
      },
      "source": [
        "train= df_train.drop(['ID'], axis=1)\n",
        "test =df_test.drop(['ID'],axis=1)"
      ],
      "execution_count": 118,
      "outputs": []
    },
    {
      "cell_type": "code",
      "metadata": {
        "colab": {
          "base_uri": "https://localhost:8080/"
        },
        "id": "DK8OlOGvPOBW",
        "outputId": "c74112c7-11e6-4ff9-d92e-d7874a3468cc"
      },
      "source": [
        "train.shape, test.shape"
      ],
      "execution_count": 119,
      "outputs": [
        {
          "output_type": "execute_result",
          "data": {
            "text/plain": [
              "((245725, 10), (105312, 9))"
            ]
          },
          "metadata": {
            "tags": []
          },
          "execution_count": 119
        }
      ]
    },
    {
      "cell_type": "code",
      "metadata": {
        "colab": {
          "base_uri": "https://localhost:8080/",
          "height": 197
        },
        "id": "0s0RVuwmM-i0",
        "outputId": "6ae3a810-d0bf-4258-d91d-ad123df3aa4d"
      },
      "source": [
        "train.head()"
      ],
      "execution_count": 120,
      "outputs": [
        {
          "output_type": "execute_result",
          "data": {
            "text/html": [
              "<div>\n",
              "<style scoped>\n",
              "    .dataframe tbody tr th:only-of-type {\n",
              "        vertical-align: middle;\n",
              "    }\n",
              "\n",
              "    .dataframe tbody tr th {\n",
              "        vertical-align: top;\n",
              "    }\n",
              "\n",
              "    .dataframe thead th {\n",
              "        text-align: right;\n",
              "    }\n",
              "</style>\n",
              "<table border=\"1\" class=\"dataframe\">\n",
              "  <thead>\n",
              "    <tr style=\"text-align: right;\">\n",
              "      <th></th>\n",
              "      <th>Gender</th>\n",
              "      <th>Age</th>\n",
              "      <th>Region_Code</th>\n",
              "      <th>Occupation</th>\n",
              "      <th>Channel_Code</th>\n",
              "      <th>Vintage</th>\n",
              "      <th>Credit_Product</th>\n",
              "      <th>Avg_Account_Balance</th>\n",
              "      <th>Is_Active</th>\n",
              "      <th>Is_Lead</th>\n",
              "    </tr>\n",
              "  </thead>\n",
              "  <tbody>\n",
              "    <tr>\n",
              "      <th>0</th>\n",
              "      <td>Female</td>\n",
              "      <td>73</td>\n",
              "      <td>RG268</td>\n",
              "      <td>Other</td>\n",
              "      <td>X3</td>\n",
              "      <td>43</td>\n",
              "      <td>No</td>\n",
              "      <td>0.099205</td>\n",
              "      <td>No</td>\n",
              "      <td>0</td>\n",
              "    </tr>\n",
              "    <tr>\n",
              "      <th>1</th>\n",
              "      <td>Female</td>\n",
              "      <td>30</td>\n",
              "      <td>RG277</td>\n",
              "      <td>Salaried</td>\n",
              "      <td>X1</td>\n",
              "      <td>32</td>\n",
              "      <td>No</td>\n",
              "      <td>0.054321</td>\n",
              "      <td>No</td>\n",
              "      <td>0</td>\n",
              "    </tr>\n",
              "    <tr>\n",
              "      <th>2</th>\n",
              "      <td>Female</td>\n",
              "      <td>56</td>\n",
              "      <td>RG268</td>\n",
              "      <td>Self_Employed</td>\n",
              "      <td>X3</td>\n",
              "      <td>26</td>\n",
              "      <td>No</td>\n",
              "      <td>0.141660</td>\n",
              "      <td>Yes</td>\n",
              "      <td>0</td>\n",
              "    </tr>\n",
              "    <tr>\n",
              "      <th>3</th>\n",
              "      <td>Male</td>\n",
              "      <td>34</td>\n",
              "      <td>RG270</td>\n",
              "      <td>Salaried</td>\n",
              "      <td>X1</td>\n",
              "      <td>19</td>\n",
              "      <td>No</td>\n",
              "      <td>0.043525</td>\n",
              "      <td>No</td>\n",
              "      <td>0</td>\n",
              "    </tr>\n",
              "    <tr>\n",
              "      <th>4</th>\n",
              "      <td>Female</td>\n",
              "      <td>30</td>\n",
              "      <td>RG282</td>\n",
              "      <td>Salaried</td>\n",
              "      <td>X1</td>\n",
              "      <td>33</td>\n",
              "      <td>No</td>\n",
              "      <td>0.083823</td>\n",
              "      <td>No</td>\n",
              "      <td>0</td>\n",
              "    </tr>\n",
              "  </tbody>\n",
              "</table>\n",
              "</div>"
            ],
            "text/plain": [
              "   Gender  Age Region_Code  ... Avg_Account_Balance Is_Active  Is_Lead\n",
              "0  Female   73       RG268  ...            0.099205        No        0\n",
              "1  Female   30       RG277  ...            0.054321        No        0\n",
              "2  Female   56       RG268  ...            0.141660       Yes        0\n",
              "3    Male   34       RG270  ...            0.043525        No        0\n",
              "4  Female   30       RG282  ...            0.083823        No        0\n",
              "\n",
              "[5 rows x 10 columns]"
            ]
          },
          "metadata": {
            "tags": []
          },
          "execution_count": 120
        }
      ]
    },
    {
      "cell_type": "markdown",
      "metadata": {
        "id": "ENgvbSgINQqv"
      },
      "source": [
        "#Converting object type data into numerical data"
      ]
    },
    {
      "cell_type": "code",
      "metadata": {
        "id": "cYXxO70szVsH"
      },
      "source": [
        "from sklearn.preprocessing import LabelEncoder\n",
        "le = LabelEncoder()\n",
        "for c in train.columns:\n",
        "    if train[c].dtype == 'object':\n",
        "        if len(list(train[c].unique())) <= 2:\n",
        "            train[c] = le.fit_transform(train[c])\n",
        "            test[c] = le.transform(test[c])"
      ],
      "execution_count": 121,
      "outputs": []
    },
    {
      "cell_type": "code",
      "metadata": {
        "colab": {
          "base_uri": "https://localhost:8080/",
          "height": 287
        },
        "id": "NJwhnaG5NrWp",
        "outputId": "5a6885cb-b794-4e03-e001-fe6f1825df56"
      },
      "source": [
        "train.describe()"
      ],
      "execution_count": 122,
      "outputs": [
        {
          "output_type": "execute_result",
          "data": {
            "text/html": [
              "<div>\n",
              "<style scoped>\n",
              "    .dataframe tbody tr th:only-of-type {\n",
              "        vertical-align: middle;\n",
              "    }\n",
              "\n",
              "    .dataframe tbody tr th {\n",
              "        vertical-align: top;\n",
              "    }\n",
              "\n",
              "    .dataframe thead th {\n",
              "        text-align: right;\n",
              "    }\n",
              "</style>\n",
              "<table border=\"1\" class=\"dataframe\">\n",
              "  <thead>\n",
              "    <tr style=\"text-align: right;\">\n",
              "      <th></th>\n",
              "      <th>Gender</th>\n",
              "      <th>Age</th>\n",
              "      <th>Vintage</th>\n",
              "      <th>Credit_Product</th>\n",
              "      <th>Avg_Account_Balance</th>\n",
              "      <th>Is_Active</th>\n",
              "      <th>Is_Lead</th>\n",
              "    </tr>\n",
              "  </thead>\n",
              "  <tbody>\n",
              "    <tr>\n",
              "      <th>count</th>\n",
              "      <td>245725.000000</td>\n",
              "      <td>245725.000000</td>\n",
              "      <td>245725.000000</td>\n",
              "      <td>245725.000000</td>\n",
              "      <td>245725.000000</td>\n",
              "      <td>245725.000000</td>\n",
              "      <td>245725.000000</td>\n",
              "    </tr>\n",
              "    <tr>\n",
              "      <th>mean</th>\n",
              "      <td>0.546127</td>\n",
              "      <td>43.856307</td>\n",
              "      <td>46.959141</td>\n",
              "      <td>0.293185</td>\n",
              "      <td>0.107210</td>\n",
              "      <td>0.388381</td>\n",
              "      <td>0.237208</td>\n",
              "    </tr>\n",
              "    <tr>\n",
              "      <th>std</th>\n",
              "      <td>0.497869</td>\n",
              "      <td>14.828672</td>\n",
              "      <td>32.353136</td>\n",
              "      <td>0.455224</td>\n",
              "      <td>0.082559</td>\n",
              "      <td>0.487383</td>\n",
              "      <td>0.425372</td>\n",
              "    </tr>\n",
              "    <tr>\n",
              "      <th>min</th>\n",
              "      <td>0.000000</td>\n",
              "      <td>23.000000</td>\n",
              "      <td>7.000000</td>\n",
              "      <td>0.000000</td>\n",
              "      <td>0.000000</td>\n",
              "      <td>0.000000</td>\n",
              "      <td>0.000000</td>\n",
              "    </tr>\n",
              "    <tr>\n",
              "      <th>25%</th>\n",
              "      <td>0.000000</td>\n",
              "      <td>30.000000</td>\n",
              "      <td>20.000000</td>\n",
              "      <td>0.000000</td>\n",
              "      <td>0.056481</td>\n",
              "      <td>0.000000</td>\n",
              "      <td>0.000000</td>\n",
              "    </tr>\n",
              "    <tr>\n",
              "      <th>50%</th>\n",
              "      <td>1.000000</td>\n",
              "      <td>43.000000</td>\n",
              "      <td>32.000000</td>\n",
              "      <td>0.000000</td>\n",
              "      <td>0.084580</td>\n",
              "      <td>0.000000</td>\n",
              "      <td>0.000000</td>\n",
              "    </tr>\n",
              "    <tr>\n",
              "      <th>75%</th>\n",
              "      <td>1.000000</td>\n",
              "      <td>54.000000</td>\n",
              "      <td>73.000000</td>\n",
              "      <td>1.000000</td>\n",
              "      <td>0.130273</td>\n",
              "      <td>1.000000</td>\n",
              "      <td>0.000000</td>\n",
              "    </tr>\n",
              "    <tr>\n",
              "      <th>max</th>\n",
              "      <td>1.000000</td>\n",
              "      <td>85.000000</td>\n",
              "      <td>135.000000</td>\n",
              "      <td>1.000000</td>\n",
              "      <td>1.000000</td>\n",
              "      <td>1.000000</td>\n",
              "      <td>1.000000</td>\n",
              "    </tr>\n",
              "  </tbody>\n",
              "</table>\n",
              "</div>"
            ],
            "text/plain": [
              "              Gender            Age  ...      Is_Active        Is_Lead\n",
              "count  245725.000000  245725.000000  ...  245725.000000  245725.000000\n",
              "mean        0.546127      43.856307  ...       0.388381       0.237208\n",
              "std         0.497869      14.828672  ...       0.487383       0.425372\n",
              "min         0.000000      23.000000  ...       0.000000       0.000000\n",
              "25%         0.000000      30.000000  ...       0.000000       0.000000\n",
              "50%         1.000000      43.000000  ...       0.000000       0.000000\n",
              "75%         1.000000      54.000000  ...       1.000000       0.000000\n",
              "max         1.000000      85.000000  ...       1.000000       1.000000\n",
              "\n",
              "[8 rows x 7 columns]"
            ]
          },
          "metadata": {
            "tags": []
          },
          "execution_count": 122
        }
      ]
    },
    {
      "cell_type": "code",
      "metadata": {
        "colab": {
          "base_uri": "https://localhost:8080/"
        },
        "id": "3E3XBdmvOwY0",
        "outputId": "ba4e6a85-5b91-4204-eaca-c6c42ce2025e"
      },
      "source": [
        "train.info()"
      ],
      "execution_count": 123,
      "outputs": [
        {
          "output_type": "stream",
          "text": [
            "<class 'pandas.core.frame.DataFrame'>\n",
            "RangeIndex: 245725 entries, 0 to 245724\n",
            "Data columns (total 10 columns):\n",
            " #   Column               Non-Null Count   Dtype  \n",
            "---  ------               --------------   -----  \n",
            " 0   Gender               245725 non-null  int64  \n",
            " 1   Age                  245725 non-null  int64  \n",
            " 2   Region_Code          245725 non-null  object \n",
            " 3   Occupation           245725 non-null  object \n",
            " 4   Channel_Code         245725 non-null  object \n",
            " 5   Vintage              245725 non-null  int64  \n",
            " 6   Credit_Product       245725 non-null  int64  \n",
            " 7   Avg_Account_Balance  245725 non-null  float64\n",
            " 8   Is_Active            245725 non-null  int64  \n",
            " 9   Is_Lead              245725 non-null  int64  \n",
            "dtypes: float64(1), int64(6), object(3)\n",
            "memory usage: 18.7+ MB\n"
          ],
          "name": "stdout"
        }
      ]
    },
    {
      "cell_type": "code",
      "metadata": {
        "colab": {
          "base_uri": "https://localhost:8080/"
        },
        "id": "OkSsZqvJRyEW",
        "outputId": "8e8ba3f7-dfec-44d1-bb4e-d0156912a675"
      },
      "source": [
        "train['Region_Code'].unique()"
      ],
      "execution_count": 124,
      "outputs": [
        {
          "output_type": "execute_result",
          "data": {
            "text/plain": [
              "array(['RG268', 'RG277', 'RG270', 'RG282', 'RG261', 'RG265', 'RG283',\n",
              "       'RG254', 'RG269', 'RG257', 'RG279', 'RG280', 'RG252', 'RG284',\n",
              "       'RG259', 'RG281', 'RG258', 'RG266', 'RG260', 'RG274', 'RG256',\n",
              "       'RG275', 'RG273', 'RG267', 'RG272', 'RG251', 'RG262', 'RG264',\n",
              "       'RG278', 'RG276', 'RG263', 'RG250', 'RG255', 'RG253', 'RG271'],\n",
              "      dtype=object)"
            ]
          },
          "metadata": {
            "tags": []
          },
          "execution_count": 124
        }
      ]
    },
    {
      "cell_type": "code",
      "metadata": {
        "id": "h1ww4VcfPEOL"
      },
      "source": [
        "# Labelencoding\n",
        "le = LabelEncoder()\n",
        "var_mod = train.select_dtypes(include='object').columns\n",
        "for i in var_mod:\n",
        "    train[i] = le.fit_transform(train[i])\n",
        "    \n",
        "for i in var_mod:\n",
        "    test[i] = le.fit_transform(test[i])"
      ],
      "execution_count": 125,
      "outputs": []
    },
    {
      "cell_type": "code",
      "metadata": {
        "colab": {
          "base_uri": "https://localhost:8080/",
          "height": 197
        },
        "id": "tYMj_lXlSlnS",
        "outputId": "8d7e820c-eb41-4b4a-bcc4-105cdd2fef41"
      },
      "source": [
        "train.head()"
      ],
      "execution_count": 126,
      "outputs": [
        {
          "output_type": "execute_result",
          "data": {
            "text/html": [
              "<div>\n",
              "<style scoped>\n",
              "    .dataframe tbody tr th:only-of-type {\n",
              "        vertical-align: middle;\n",
              "    }\n",
              "\n",
              "    .dataframe tbody tr th {\n",
              "        vertical-align: top;\n",
              "    }\n",
              "\n",
              "    .dataframe thead th {\n",
              "        text-align: right;\n",
              "    }\n",
              "</style>\n",
              "<table border=\"1\" class=\"dataframe\">\n",
              "  <thead>\n",
              "    <tr style=\"text-align: right;\">\n",
              "      <th></th>\n",
              "      <th>Gender</th>\n",
              "      <th>Age</th>\n",
              "      <th>Region_Code</th>\n",
              "      <th>Occupation</th>\n",
              "      <th>Channel_Code</th>\n",
              "      <th>Vintage</th>\n",
              "      <th>Credit_Product</th>\n",
              "      <th>Avg_Account_Balance</th>\n",
              "      <th>Is_Active</th>\n",
              "      <th>Is_Lead</th>\n",
              "    </tr>\n",
              "  </thead>\n",
              "  <tbody>\n",
              "    <tr>\n",
              "      <th>0</th>\n",
              "      <td>0</td>\n",
              "      <td>73</td>\n",
              "      <td>18</td>\n",
              "      <td>1</td>\n",
              "      <td>2</td>\n",
              "      <td>43</td>\n",
              "      <td>0</td>\n",
              "      <td>0.099205</td>\n",
              "      <td>0</td>\n",
              "      <td>0</td>\n",
              "    </tr>\n",
              "    <tr>\n",
              "      <th>1</th>\n",
              "      <td>0</td>\n",
              "      <td>30</td>\n",
              "      <td>27</td>\n",
              "      <td>2</td>\n",
              "      <td>0</td>\n",
              "      <td>32</td>\n",
              "      <td>0</td>\n",
              "      <td>0.054321</td>\n",
              "      <td>0</td>\n",
              "      <td>0</td>\n",
              "    </tr>\n",
              "    <tr>\n",
              "      <th>2</th>\n",
              "      <td>0</td>\n",
              "      <td>56</td>\n",
              "      <td>18</td>\n",
              "      <td>3</td>\n",
              "      <td>2</td>\n",
              "      <td>26</td>\n",
              "      <td>0</td>\n",
              "      <td>0.141660</td>\n",
              "      <td>1</td>\n",
              "      <td>0</td>\n",
              "    </tr>\n",
              "    <tr>\n",
              "      <th>3</th>\n",
              "      <td>1</td>\n",
              "      <td>34</td>\n",
              "      <td>20</td>\n",
              "      <td>2</td>\n",
              "      <td>0</td>\n",
              "      <td>19</td>\n",
              "      <td>0</td>\n",
              "      <td>0.043525</td>\n",
              "      <td>0</td>\n",
              "      <td>0</td>\n",
              "    </tr>\n",
              "    <tr>\n",
              "      <th>4</th>\n",
              "      <td>0</td>\n",
              "      <td>30</td>\n",
              "      <td>32</td>\n",
              "      <td>2</td>\n",
              "      <td>0</td>\n",
              "      <td>33</td>\n",
              "      <td>0</td>\n",
              "      <td>0.083823</td>\n",
              "      <td>0</td>\n",
              "      <td>0</td>\n",
              "    </tr>\n",
              "  </tbody>\n",
              "</table>\n",
              "</div>"
            ],
            "text/plain": [
              "   Gender  Age  Region_Code  ...  Avg_Account_Balance  Is_Active  Is_Lead\n",
              "0       0   73           18  ...             0.099205          0        0\n",
              "1       0   30           27  ...             0.054321          0        0\n",
              "2       0   56           18  ...             0.141660          1        0\n",
              "3       1   34           20  ...             0.043525          0        0\n",
              "4       0   30           32  ...             0.083823          0        0\n",
              "\n",
              "[5 rows x 10 columns]"
            ]
          },
          "metadata": {
            "tags": []
          },
          "execution_count": 126
        }
      ]
    },
    {
      "cell_type": "code",
      "metadata": {
        "colab": {
          "base_uri": "https://localhost:8080/",
          "height": 197
        },
        "id": "mKWt7OncV5_G",
        "outputId": "78bb9284-0aa7-4db3-bc96-48315eb12a5a"
      },
      "source": [
        "test.head()"
      ],
      "execution_count": 127,
      "outputs": [
        {
          "output_type": "execute_result",
          "data": {
            "text/html": [
              "<div>\n",
              "<style scoped>\n",
              "    .dataframe tbody tr th:only-of-type {\n",
              "        vertical-align: middle;\n",
              "    }\n",
              "\n",
              "    .dataframe tbody tr th {\n",
              "        vertical-align: top;\n",
              "    }\n",
              "\n",
              "    .dataframe thead th {\n",
              "        text-align: right;\n",
              "    }\n",
              "</style>\n",
              "<table border=\"1\" class=\"dataframe\">\n",
              "  <thead>\n",
              "    <tr style=\"text-align: right;\">\n",
              "      <th></th>\n",
              "      <th>Gender</th>\n",
              "      <th>Age</th>\n",
              "      <th>Region_Code</th>\n",
              "      <th>Occupation</th>\n",
              "      <th>Channel_Code</th>\n",
              "      <th>Vintage</th>\n",
              "      <th>Credit_Product</th>\n",
              "      <th>Avg_Account_Balance</th>\n",
              "      <th>Is_Active</th>\n",
              "    </tr>\n",
              "  </thead>\n",
              "  <tbody>\n",
              "    <tr>\n",
              "      <th>0</th>\n",
              "      <td>1</td>\n",
              "      <td>29</td>\n",
              "      <td>4</td>\n",
              "      <td>1</td>\n",
              "      <td>0</td>\n",
              "      <td>25</td>\n",
              "      <td>1</td>\n",
              "      <td>0.072805</td>\n",
              "      <td>0</td>\n",
              "    </tr>\n",
              "    <tr>\n",
              "      <th>1</th>\n",
              "      <td>1</td>\n",
              "      <td>43</td>\n",
              "      <td>18</td>\n",
              "      <td>1</td>\n",
              "      <td>1</td>\n",
              "      <td>49</td>\n",
              "      <td>0</td>\n",
              "      <td>0.091333</td>\n",
              "      <td>0</td>\n",
              "    </tr>\n",
              "    <tr>\n",
              "      <th>2</th>\n",
              "      <td>1</td>\n",
              "      <td>31</td>\n",
              "      <td>20</td>\n",
              "      <td>2</td>\n",
              "      <td>0</td>\n",
              "      <td>14</td>\n",
              "      <td>0</td>\n",
              "      <td>0.019558</td>\n",
              "      <td>0</td>\n",
              "    </tr>\n",
              "    <tr>\n",
              "      <th>3</th>\n",
              "      <td>1</td>\n",
              "      <td>29</td>\n",
              "      <td>22</td>\n",
              "      <td>1</td>\n",
              "      <td>0</td>\n",
              "      <td>33</td>\n",
              "      <td>0</td>\n",
              "      <td>0.085520</td>\n",
              "      <td>0</td>\n",
              "    </tr>\n",
              "    <tr>\n",
              "      <th>4</th>\n",
              "      <td>0</td>\n",
              "      <td>29</td>\n",
              "      <td>20</td>\n",
              "      <td>1</td>\n",
              "      <td>0</td>\n",
              "      <td>19</td>\n",
              "      <td>0</td>\n",
              "      <td>0.064179</td>\n",
              "      <td>0</td>\n",
              "    </tr>\n",
              "  </tbody>\n",
              "</table>\n",
              "</div>"
            ],
            "text/plain": [
              "   Gender  Age  Region_Code  ...  Credit_Product  Avg_Account_Balance  Is_Active\n",
              "0       1   29            4  ...               1             0.072805          0\n",
              "1       1   43           18  ...               0             0.091333          0\n",
              "2       1   31           20  ...               0             0.019558          0\n",
              "3       1   29           22  ...               0             0.085520          0\n",
              "4       0   29           20  ...               0             0.064179          0\n",
              "\n",
              "[5 rows x 9 columns]"
            ]
          },
          "metadata": {
            "tags": []
          },
          "execution_count": 127
        }
      ]
    },
    {
      "cell_type": "markdown",
      "metadata": {
        "id": "qAEnWkLgWJ1_"
      },
      "source": [
        "# Separate features and target from the train data set"
      ]
    },
    {
      "cell_type": "code",
      "metadata": {
        "colab": {
          "base_uri": "https://localhost:8080/"
        },
        "id": "q9kWRlSOV-gf",
        "outputId": "163b37f7-4fd6-457e-df8d-a16ca075b4bc"
      },
      "source": [
        "train.columns"
      ],
      "execution_count": 128,
      "outputs": [
        {
          "output_type": "execute_result",
          "data": {
            "text/plain": [
              "Index(['Gender', 'Age', 'Region_Code', 'Occupation', 'Channel_Code', 'Vintage',\n",
              "       'Credit_Product', 'Avg_Account_Balance', 'Is_Active', 'Is_Lead'],\n",
              "      dtype='object')"
            ]
          },
          "metadata": {
            "tags": []
          },
          "execution_count": 128
        }
      ]
    },
    {
      "cell_type": "code",
      "metadata": {
        "id": "exc3c5BLWXq1"
      },
      "source": [
        "X= train.drop(columns = ['Is_Lead'], axis=1)\n",
        "y= train['Is_Lead']"
      ],
      "execution_count": 129,
      "outputs": []
    },
    {
      "cell_type": "code",
      "metadata": {
        "colab": {
          "base_uri": "https://localhost:8080/"
        },
        "id": "7P-4aLOlhwrW",
        "outputId": "9d3d4988-eac3-4d4c-b7c0-b05fb59fce25"
      },
      "source": [
        "X.shape, y.shape"
      ],
      "execution_count": 130,
      "outputs": [
        {
          "output_type": "execute_result",
          "data": {
            "text/plain": [
              "((245725, 9), (245725,))"
            ]
          },
          "metadata": {
            "tags": []
          },
          "execution_count": 130
        }
      ]
    },
    {
      "cell_type": "markdown",
      "metadata": {
        "id": "jMm1gHzaXEEY"
      },
      "source": [
        "# Taking out 20% data as validation set"
      ]
    },
    {
      "cell_type": "code",
      "metadata": {
        "id": "qSkp20v_WrAF"
      },
      "source": [
        "from sklearn.model_selection import train_test_split\n",
        "X_train,X_valid,y_train,y_valid = train_test_split(X,y,test_size=0.2,random_state=22)"
      ],
      "execution_count": 131,
      "outputs": []
    },
    {
      "cell_type": "code",
      "metadata": {
        "colab": {
          "base_uri": "https://localhost:8080/"
        },
        "id": "XCX3j3hPhNUA",
        "outputId": "99949193-ae07-4654-9a32-0d55bebdcc41"
      },
      "source": [
        "# describes info about train and test set\n",
        "print(\"Number transactions X_train dataset: \", X_train.shape)\n",
        "print(\"Number transactions y_train dataset: \", y_train.shape)\n",
        "print(\"Number transactions X_valid dataset: \", X_valid.shape)\n",
        "print(\"Number transactions y_valid dataset: \", y_valid.shape)"
      ],
      "execution_count": 132,
      "outputs": [
        {
          "output_type": "stream",
          "text": [
            "Number transactions X_train dataset:  (196580, 9)\n",
            "Number transactions y_train dataset:  (196580,)\n",
            "Number transactions X_valid dataset:  (49145, 9)\n",
            "Number transactions y_valid dataset:  (49145,)\n"
          ],
          "name": "stdout"
        }
      ]
    },
    {
      "cell_type": "code",
      "metadata": {
        "id": "cYGzGCDUGbJ-"
      },
      "source": [
        "# Scaling X_train and X_test\n",
        "from sklearn.preprocessing import MinMaxScaler\n",
        "scaler = MinMaxScaler(feature_range=(0, 1))\n",
        "rescaledX_train = scaler.fit_transform(X_train)\n",
        "rescaledX_valid = scaler.transform(X_valid)\n",
        "rescaledX = scaler.transform(X)"
      ],
      "execution_count": 133,
      "outputs": []
    },
    {
      "cell_type": "markdown",
      "metadata": {
        "id": "59i1FBuNXPeN"
      },
      "source": [
        "#Machine Learning Models "
      ]
    },
    {
      "cell_type": "markdown",
      "metadata": {
        "id": "OTE7ERE1Y0y1"
      },
      "source": [
        "# Feature Selection\n",
        "I am going to use RandomForest classifier for feature selection. \n",
        "At first i will check how the Random Forest classifier model work on all the features.\n"
      ]
    },
    {
      "cell_type": "code",
      "metadata": {
        "id": "MXTfVbXvYaFv",
        "colab": {
          "base_uri": "https://localhost:8080/"
        },
        "outputId": "16dae32a-a9de-4c96-91d4-a65d95965fa1"
      },
      "source": [
        "from sklearn.ensemble import RandomForestClassifier\n",
        "from sklearn.metrics import confusion_matrix\n",
        "rf = RandomForestClassifier(n_estimators=500)\n",
        "rf.fit(X_train, y_train)\n",
        "y_pred = rf.predict(X_valid)\n",
        "print(\"Random Forest classifier has accuracy of: \", rf.score(X_valid, y_valid))\n",
        "# Evaluate the confusion_matrix\n",
        "confusion_matrix(y_valid, y_pred)"
      ],
      "execution_count": 134,
      "outputs": [
        {
          "output_type": "stream",
          "text": [
            "Random Forest classifier has accuracy of:  0.7769050768135111\n"
          ],
          "name": "stdout"
        },
        {
          "output_type": "execute_result",
          "data": {
            "text/plain": [
              "array([[34469,  2989],\n",
              "       [ 7975,  3712]])"
            ]
          },
          "metadata": {
            "tags": []
          },
          "execution_count": 134
        }
      ]
    },
    {
      "cell_type": "code",
      "metadata": {
        "colab": {
          "base_uri": "https://localhost:8080/"
        },
        "id": "bo2b-fVpG5E1",
        "outputId": "e245ea51-86be-4e79-a3fc-46d615af5a8c"
      },
      "source": [
        "roc_auc_score= rf.score(X_valid, y_valid)\n",
        "roc_auc_score"
      ],
      "execution_count": 135,
      "outputs": [
        {
          "output_type": "execute_result",
          "data": {
            "text/plain": [
              "0.7769050768135111"
            ]
          },
          "metadata": {
            "tags": []
          },
          "execution_count": 135
        }
      ]
    },
    {
      "cell_type": "code",
      "metadata": {
        "id": "wkhHah3haK_Q",
        "colab": {
          "base_uri": "https://localhost:8080/"
        },
        "outputId": "adae3432-c0f6-4c20-b5cb-c0bf59016094"
      },
      "source": [
        "from sklearn.feature_selection import SelectFromModel\n",
        "select= SelectFromModel(RandomForestClassifier(n_estimators =100))\n",
        "select.fit(X,y)"
      ],
      "execution_count": 136,
      "outputs": [
        {
          "output_type": "execute_result",
          "data": {
            "text/plain": [
              "SelectFromModel(estimator=RandomForestClassifier(bootstrap=True, ccp_alpha=0.0,\n",
              "                                                 class_weight=None,\n",
              "                                                 criterion='gini',\n",
              "                                                 max_depth=None,\n",
              "                                                 max_features='auto',\n",
              "                                                 max_leaf_nodes=None,\n",
              "                                                 max_samples=None,\n",
              "                                                 min_impurity_decrease=0.0,\n",
              "                                                 min_impurity_split=None,\n",
              "                                                 min_samples_leaf=1,\n",
              "                                                 min_samples_split=2,\n",
              "                                                 min_weight_fraction_leaf=0.0,\n",
              "                                                 n_estimators=100, n_jobs=None,\n",
              "                                                 oob_score=False,\n",
              "                                                 random_state=None, verbose=0,\n",
              "                                                 warm_start=False),\n",
              "                max_features=None, norm_order=1, prefit=False, threshold=None)"
            ]
          },
          "metadata": {
            "tags": []
          },
          "execution_count": 136
        }
      ]
    },
    {
      "cell_type": "code",
      "metadata": {
        "id": "G1AWG1mIcpET",
        "colab": {
          "base_uri": "https://localhost:8080/"
        },
        "outputId": "835ecc9a-527b-4aed-b702-7539167c325b"
      },
      "source": [
        "select.transform(X)\n",
        "select.get_support() # answer should be in True and False\n",
        "                    # True means feature is important"
      ],
      "execution_count": 137,
      "outputs": [
        {
          "output_type": "execute_result",
          "data": {
            "text/plain": [
              "array([False,  True,  True, False, False,  True, False,  True, False])"
            ]
          },
          "metadata": {
            "tags": []
          },
          "execution_count": 137
        }
      ]
    },
    {
      "cell_type": "code",
      "metadata": {
        "id": "th8mO2-FhhZH",
        "colab": {
          "base_uri": "https://localhost:8080/",
          "height": 317
        },
        "outputId": "9ac45869-90bd-40d0-f53e-af252af3abce"
      },
      "source": [
        "variable_imp = pd.DataFrame({\"Importance\": list(select.get_support()), \"Feature_name\": list(X.columns)})\n",
        "variable_imp"
      ],
      "execution_count": 138,
      "outputs": [
        {
          "output_type": "execute_result",
          "data": {
            "text/html": [
              "<div>\n",
              "<style scoped>\n",
              "    .dataframe tbody tr th:only-of-type {\n",
              "        vertical-align: middle;\n",
              "    }\n",
              "\n",
              "    .dataframe tbody tr th {\n",
              "        vertical-align: top;\n",
              "    }\n",
              "\n",
              "    .dataframe thead th {\n",
              "        text-align: right;\n",
              "    }\n",
              "</style>\n",
              "<table border=\"1\" class=\"dataframe\">\n",
              "  <thead>\n",
              "    <tr style=\"text-align: right;\">\n",
              "      <th></th>\n",
              "      <th>Importance</th>\n",
              "      <th>Feature_name</th>\n",
              "    </tr>\n",
              "  </thead>\n",
              "  <tbody>\n",
              "    <tr>\n",
              "      <th>0</th>\n",
              "      <td>False</td>\n",
              "      <td>Gender</td>\n",
              "    </tr>\n",
              "    <tr>\n",
              "      <th>1</th>\n",
              "      <td>True</td>\n",
              "      <td>Age</td>\n",
              "    </tr>\n",
              "    <tr>\n",
              "      <th>2</th>\n",
              "      <td>True</td>\n",
              "      <td>Region_Code</td>\n",
              "    </tr>\n",
              "    <tr>\n",
              "      <th>3</th>\n",
              "      <td>False</td>\n",
              "      <td>Occupation</td>\n",
              "    </tr>\n",
              "    <tr>\n",
              "      <th>4</th>\n",
              "      <td>False</td>\n",
              "      <td>Channel_Code</td>\n",
              "    </tr>\n",
              "    <tr>\n",
              "      <th>5</th>\n",
              "      <td>True</td>\n",
              "      <td>Vintage</td>\n",
              "    </tr>\n",
              "    <tr>\n",
              "      <th>6</th>\n",
              "      <td>False</td>\n",
              "      <td>Credit_Product</td>\n",
              "    </tr>\n",
              "    <tr>\n",
              "      <th>7</th>\n",
              "      <td>True</td>\n",
              "      <td>Avg_Account_Balance</td>\n",
              "    </tr>\n",
              "    <tr>\n",
              "      <th>8</th>\n",
              "      <td>False</td>\n",
              "      <td>Is_Active</td>\n",
              "    </tr>\n",
              "  </tbody>\n",
              "</table>\n",
              "</div>"
            ],
            "text/plain": [
              "   Importance         Feature_name\n",
              "0       False               Gender\n",
              "1        True                  Age\n",
              "2        True          Region_Code\n",
              "3       False           Occupation\n",
              "4       False         Channel_Code\n",
              "5        True              Vintage\n",
              "6       False       Credit_Product\n",
              "7        True  Avg_Account_Balance\n",
              "8       False            Is_Active"
            ]
          },
          "metadata": {
            "tags": []
          },
          "execution_count": 138
        }
      ]
    },
    {
      "cell_type": "markdown",
      "metadata": {
        "id": "HcRFisyQmr2B"
      },
      "source": [
        "Now I will train a model by keeping only important features in data. In correlation graph also we have obsorve that Age, Region_Code, Vintage, Avg_Account_Balance columns are importatnt.\n",
        "\n",
        "# Dropping the unimportant featues"
      ]
    },
    {
      "cell_type": "code",
      "metadata": {
        "id": "K3iUZgdri6Hz"
      },
      "source": [
        "del_columns= ['Gender','Occupation','Channel_Code','Credit_Product','Is_Active']\n",
        "X1 = X.drop(labels = del_columns,axis = 1)"
      ],
      "execution_count": 139,
      "outputs": []
    },
    {
      "cell_type": "code",
      "metadata": {
        "id": "4ZUZi-ozoG2n",
        "colab": {
          "base_uri": "https://localhost:8080/",
          "height": 197
        },
        "outputId": "1f8d7872-d644-44c5-99e0-9d82d787ac39"
      },
      "source": [
        "X1.head()"
      ],
      "execution_count": 140,
      "outputs": [
        {
          "output_type": "execute_result",
          "data": {
            "text/html": [
              "<div>\n",
              "<style scoped>\n",
              "    .dataframe tbody tr th:only-of-type {\n",
              "        vertical-align: middle;\n",
              "    }\n",
              "\n",
              "    .dataframe tbody tr th {\n",
              "        vertical-align: top;\n",
              "    }\n",
              "\n",
              "    .dataframe thead th {\n",
              "        text-align: right;\n",
              "    }\n",
              "</style>\n",
              "<table border=\"1\" class=\"dataframe\">\n",
              "  <thead>\n",
              "    <tr style=\"text-align: right;\">\n",
              "      <th></th>\n",
              "      <th>Age</th>\n",
              "      <th>Region_Code</th>\n",
              "      <th>Vintage</th>\n",
              "      <th>Avg_Account_Balance</th>\n",
              "    </tr>\n",
              "  </thead>\n",
              "  <tbody>\n",
              "    <tr>\n",
              "      <th>0</th>\n",
              "      <td>73</td>\n",
              "      <td>18</td>\n",
              "      <td>43</td>\n",
              "      <td>0.099205</td>\n",
              "    </tr>\n",
              "    <tr>\n",
              "      <th>1</th>\n",
              "      <td>30</td>\n",
              "      <td>27</td>\n",
              "      <td>32</td>\n",
              "      <td>0.054321</td>\n",
              "    </tr>\n",
              "    <tr>\n",
              "      <th>2</th>\n",
              "      <td>56</td>\n",
              "      <td>18</td>\n",
              "      <td>26</td>\n",
              "      <td>0.141660</td>\n",
              "    </tr>\n",
              "    <tr>\n",
              "      <th>3</th>\n",
              "      <td>34</td>\n",
              "      <td>20</td>\n",
              "      <td>19</td>\n",
              "      <td>0.043525</td>\n",
              "    </tr>\n",
              "    <tr>\n",
              "      <th>4</th>\n",
              "      <td>30</td>\n",
              "      <td>32</td>\n",
              "      <td>33</td>\n",
              "      <td>0.083823</td>\n",
              "    </tr>\n",
              "  </tbody>\n",
              "</table>\n",
              "</div>"
            ],
            "text/plain": [
              "   Age  Region_Code  Vintage  Avg_Account_Balance\n",
              "0   73           18       43             0.099205\n",
              "1   30           27       32             0.054321\n",
              "2   56           18       26             0.141660\n",
              "3   34           20       19             0.043525\n",
              "4   30           32       33             0.083823"
            ]
          },
          "metadata": {
            "tags": []
          },
          "execution_count": 140
        }
      ]
    },
    {
      "cell_type": "code",
      "metadata": {
        "id": "ohSQjPa9oPd6"
      },
      "source": [
        "#Also dropping the features from the test data set\n",
        "test1 = test.drop(labels= del_columns, axis=1)"
      ],
      "execution_count": 141,
      "outputs": []
    },
    {
      "cell_type": "code",
      "metadata": {
        "id": "hF_znY8QphjT",
        "colab": {
          "base_uri": "https://localhost:8080/",
          "height": 197
        },
        "outputId": "79ad2646-a645-4bd9-c9d6-c8a94c99dac0"
      },
      "source": [
        "test1.head()"
      ],
      "execution_count": 142,
      "outputs": [
        {
          "output_type": "execute_result",
          "data": {
            "text/html": [
              "<div>\n",
              "<style scoped>\n",
              "    .dataframe tbody tr th:only-of-type {\n",
              "        vertical-align: middle;\n",
              "    }\n",
              "\n",
              "    .dataframe tbody tr th {\n",
              "        vertical-align: top;\n",
              "    }\n",
              "\n",
              "    .dataframe thead th {\n",
              "        text-align: right;\n",
              "    }\n",
              "</style>\n",
              "<table border=\"1\" class=\"dataframe\">\n",
              "  <thead>\n",
              "    <tr style=\"text-align: right;\">\n",
              "      <th></th>\n",
              "      <th>Age</th>\n",
              "      <th>Region_Code</th>\n",
              "      <th>Vintage</th>\n",
              "      <th>Avg_Account_Balance</th>\n",
              "    </tr>\n",
              "  </thead>\n",
              "  <tbody>\n",
              "    <tr>\n",
              "      <th>0</th>\n",
              "      <td>29</td>\n",
              "      <td>4</td>\n",
              "      <td>25</td>\n",
              "      <td>0.072805</td>\n",
              "    </tr>\n",
              "    <tr>\n",
              "      <th>1</th>\n",
              "      <td>43</td>\n",
              "      <td>18</td>\n",
              "      <td>49</td>\n",
              "      <td>0.091333</td>\n",
              "    </tr>\n",
              "    <tr>\n",
              "      <th>2</th>\n",
              "      <td>31</td>\n",
              "      <td>20</td>\n",
              "      <td>14</td>\n",
              "      <td>0.019558</td>\n",
              "    </tr>\n",
              "    <tr>\n",
              "      <th>3</th>\n",
              "      <td>29</td>\n",
              "      <td>22</td>\n",
              "      <td>33</td>\n",
              "      <td>0.085520</td>\n",
              "    </tr>\n",
              "    <tr>\n",
              "      <th>4</th>\n",
              "      <td>29</td>\n",
              "      <td>20</td>\n",
              "      <td>19</td>\n",
              "      <td>0.064179</td>\n",
              "    </tr>\n",
              "  </tbody>\n",
              "</table>\n",
              "</div>"
            ],
            "text/plain": [
              "   Age  Region_Code  Vintage  Avg_Account_Balance\n",
              "0   29            4       25             0.072805\n",
              "1   43           18       49             0.091333\n",
              "2   31           20       14             0.019558\n",
              "3   29           22       33             0.085520\n",
              "4   29           20       19             0.064179"
            ]
          },
          "metadata": {
            "tags": []
          },
          "execution_count": 142
        }
      ]
    },
    {
      "cell_type": "code",
      "metadata": {
        "id": "pziSSEECqifC"
      },
      "source": [
        "# keeping 20% data to validate the model\n",
        "X1_train,X1_valid,y_train,y_valid = train_test_split(X1,y,test_size=0.2,random_state=22)"
      ],
      "execution_count": 143,
      "outputs": []
    },
    {
      "cell_type": "code",
      "metadata": {
        "id": "SiLZ_9qsrA6h",
        "colab": {
          "base_uri": "https://localhost:8080/"
        },
        "outputId": "8e6a6d87-11c9-477d-b482-9a22689141bd"
      },
      "source": [
        "# Scalling the data\n",
        "scaler = MinMaxScaler(feature_range=(0, 1))\n",
        "rescaledX1_train = scaler.fit_transform(X1_train)\n",
        "rescaledX1_valid = scaler.transform(X1_valid)\n",
        "print(rescaledX1_train.shape, rescaledX1_valid.shape) "
      ],
      "execution_count": 144,
      "outputs": [
        {
          "output_type": "stream",
          "text": [
            "(196580, 4) (49145, 4)\n"
          ],
          "name": "stdout"
        }
      ]
    },
    {
      "cell_type": "code",
      "metadata": {
        "id": "NSChi4GRBQtC",
        "colab": {
          "base_uri": "https://localhost:8080/"
        },
        "outputId": "4869cfc5-67fd-45f0-c4bb-54e631a31800"
      },
      "source": [
        "# Checking the improvement in Random Forest classifier after feature selection\n",
        "rf1 = RandomForestClassifier(n_estimators=500)\n",
        "rf1.fit(X1_train, y_train)\n",
        "y_pred1 = rf1.predict(X1_valid)\n",
        "print(\"Random Forest classifier has accuracy of: \", rf1.score(X1_valid, y_valid))\n",
        "# Evaluate the confusion_matrix\n",
        "confusion_matrix(y_valid, y_pred1)"
      ],
      "execution_count": 145,
      "outputs": [
        {
          "output_type": "stream",
          "text": [
            "Random Forest classifier has accuracy of:  0.738243971919829\n"
          ],
          "name": "stdout"
        },
        {
          "output_type": "execute_result",
          "data": {
            "text/plain": [
              "array([[33343,  4115],\n",
              "       [ 8749,  2938]])"
            ]
          },
          "metadata": {
            "tags": []
          },
          "execution_count": 145
        }
      ]
    },
    {
      "cell_type": "code",
      "metadata": {
        "id": "FKKN-brXGTFx",
        "colab": {
          "base_uri": "https://localhost:8080/"
        },
        "outputId": "3488d57e-4ceb-4044-9266-9817019edcd2"
      },
      "source": [
        "roc_auc_score1= rf1.score(X1_valid, y_valid)\n",
        "roc_auc_score1\n"
      ],
      "execution_count": 146,
      "outputs": [
        {
          "output_type": "execute_result",
          "data": {
            "text/plain": [
              "0.738243971919829"
            ]
          },
          "metadata": {
            "tags": []
          },
          "execution_count": 146
        }
      ]
    },
    {
      "cell_type": "code",
      "metadata": {
        "id": "6XraxCdfHi6G",
        "colab": {
          "base_uri": "https://localhost:8080/",
          "height": 107
        },
        "outputId": "83270a65-95de-4c3e-ffc8-56ed7ad9b3b2"
      },
      "source": [
        "#Comparing both the models\n",
        "models = [('rf', roc_auc_score),\n",
        "          ('rf1', roc_auc_score1)]\n",
        "\n",
        "Model_comp = pd.DataFrame(data= models, columns=['Model', 'roc_auc_score'])\n",
        "Model_comp"
      ],
      "execution_count": 147,
      "outputs": [
        {
          "output_type": "execute_result",
          "data": {
            "text/html": [
              "<div>\n",
              "<style scoped>\n",
              "    .dataframe tbody tr th:only-of-type {\n",
              "        vertical-align: middle;\n",
              "    }\n",
              "\n",
              "    .dataframe tbody tr th {\n",
              "        vertical-align: top;\n",
              "    }\n",
              "\n",
              "    .dataframe thead th {\n",
              "        text-align: right;\n",
              "    }\n",
              "</style>\n",
              "<table border=\"1\" class=\"dataframe\">\n",
              "  <thead>\n",
              "    <tr style=\"text-align: right;\">\n",
              "      <th></th>\n",
              "      <th>Model</th>\n",
              "      <th>roc_auc_score</th>\n",
              "    </tr>\n",
              "  </thead>\n",
              "  <tbody>\n",
              "    <tr>\n",
              "      <th>0</th>\n",
              "      <td>rf</td>\n",
              "      <td>0.776905</td>\n",
              "    </tr>\n",
              "    <tr>\n",
              "      <th>1</th>\n",
              "      <td>rf1</td>\n",
              "      <td>0.738244</td>\n",
              "    </tr>\n",
              "  </tbody>\n",
              "</table>\n",
              "</div>"
            ],
            "text/plain": [
              "  Model  roc_auc_score\n",
              "0    rf       0.776905\n",
              "1   rf1       0.738244"
            ]
          },
          "metadata": {
            "tags": []
          },
          "execution_count": 147
        }
      ]
    },
    {
      "cell_type": "markdown",
      "metadata": {
        "id": "GcZIyt3OIRJ0"
      },
      "source": [
        "The roc_auc_score here is saying that model is performing better with all the features. hence I will continue with the all features in data set and try to train other classifier models."
      ]
    },
    {
      "cell_type": "markdown",
      "metadata": {
        "id": "kS8FQBXfqOHI"
      },
      "source": [
        "# Model Building and Validation\n",
        "Let's start modelling by importing a few modules. Features are all on different scale, so it is wise to rescale\n",
        "all features in the range -1, +1\n",
        "\n"
      ]
    },
    {
      "cell_type": "code",
      "metadata": {
        "id": "qHVr4S0Lp1J6"
      },
      "source": [
        "#Importing libraries for model building\n",
        "from sklearn.model_selection import KFold\n",
        "from sklearn.model_selection import cross_val_score\n",
        "from sklearn.metrics import roc_auc_score\n",
        "from sklearn.metrics import classification_report\n",
        "from sklearn.metrics import confusion_matrix\n",
        "from sklearn.linear_model import LogisticRegression\n",
        "from sklearn.discriminant_analysis import LinearDiscriminantAnalysis\n",
        "from sklearn.neighbors import KNeighborsClassifier\n",
        "from sklearn.tree import DecisionTreeClassifier\n",
        "from sklearn.svm import SVC\n",
        "from xgboost import XGBClassifier\n",
        "from sklearn.ensemble import RandomForestClassifier\n",
        "from sklearn.ensemble import ExtraTreesClassifier\n",
        "from sklearn.model_selection import train_test_split\n",
        "from sklearn import metrics\n",
        "from sklearn import preprocessing\n",
        "from sklearn.ensemble import GradientBoostingClassifier"
      ],
      "execution_count": 148,
      "outputs": []
    },
    {
      "cell_type": "code",
      "metadata": {
        "colab": {
          "base_uri": "https://localhost:8080/"
        },
        "id": "quZ9cAbwF8M-",
        "outputId": "22246d27-5af9-4f3e-a563-40b49702e5b8"
      },
      "source": [
        "pip install catboost"
      ],
      "execution_count": 152,
      "outputs": [
        {
          "output_type": "stream",
          "text": [
            "Requirement already satisfied: catboost in /usr/local/lib/python3.7/dist-packages (0.25.1)\n",
            "Requirement already satisfied: graphviz in /usr/local/lib/python3.7/dist-packages (from catboost) (0.10.1)\n",
            "Requirement already satisfied: six in /usr/local/lib/python3.7/dist-packages (from catboost) (1.15.0)\n",
            "Requirement already satisfied: scipy in /usr/local/lib/python3.7/dist-packages (from catboost) (1.4.1)\n",
            "Requirement already satisfied: matplotlib in /usr/local/lib/python3.7/dist-packages (from catboost) (3.2.2)\n",
            "Requirement already satisfied: plotly in /usr/local/lib/python3.7/dist-packages (from catboost) (4.4.1)\n",
            "Requirement already satisfied: numpy>=1.16.0 in /usr/local/lib/python3.7/dist-packages (from catboost) (1.19.5)\n",
            "Requirement already satisfied: pandas>=0.24.0 in /usr/local/lib/python3.7/dist-packages (from catboost) (1.1.5)\n",
            "Requirement already satisfied: pyparsing!=2.0.4,!=2.1.2,!=2.1.6,>=2.0.1 in /usr/local/lib/python3.7/dist-packages (from matplotlib->catboost) (2.4.7)\n",
            "Requirement already satisfied: kiwisolver>=1.0.1 in /usr/local/lib/python3.7/dist-packages (from matplotlib->catboost) (1.3.1)\n",
            "Requirement already satisfied: cycler>=0.10 in /usr/local/lib/python3.7/dist-packages (from matplotlib->catboost) (0.10.0)\n",
            "Requirement already satisfied: python-dateutil>=2.1 in /usr/local/lib/python3.7/dist-packages (from matplotlib->catboost) (2.8.1)\n",
            "Requirement already satisfied: retrying>=1.3.3 in /usr/local/lib/python3.7/dist-packages (from plotly->catboost) (1.3.3)\n",
            "Requirement already satisfied: pytz>=2017.2 in /usr/local/lib/python3.7/dist-packages (from pandas>=0.24.0->catboost) (2018.9)\n"
          ],
          "name": "stdout"
        }
      ]
    },
    {
      "cell_type": "code",
      "metadata": {
        "id": "eCe46OBSiRN6"
      },
      "source": [
        "from catboost import CatBoostClassifier"
      ],
      "execution_count": 153,
      "outputs": []
    },
    {
      "cell_type": "code",
      "metadata": {
        "id": "x058UiU4J8kV"
      },
      "source": [
        "X= train.drop(columns = ['Is_Lead'], axis=1)\n",
        "y= train['Is_Lead']\n",
        "X_train,X_valid,y_train,y_valid = train_test_split(X,y,test_size=0.2,random_state=22)\n",
        "# Scaling X_train and X_test\n",
        "scaler = MinMaxScaler(feature_range=(0, 1))\n",
        "rescaledX_train = scaler.fit_transform(X_train)\n",
        "rescaledX_valid = scaler.transform(X_valid)\n",
        "rescaledX = scaler.transform(X)"
      ],
      "execution_count": 154,
      "outputs": []
    },
    {
      "cell_type": "code",
      "metadata": {
        "id": "FRTSrHzHUoW2"
      },
      "source": [
        "#Will check the performance of algorithm on entire data\n",
        "def run_models(X_train, y_train, X_valid, y_valid, model_type = 'non-blanced'):\n",
        "    \n",
        "    clfs = {'GradientBoosting': GradientBoostingClassifier(max_depth= 6, n_estimators=100, max_features = 0.3),\n",
        "            'XGB': XGBClassifier(),\n",
        "            'LogisticRegression' : LogisticRegression(),\n",
        "            'KNN': KNeighborsClassifier(),\n",
        "            'RandomForestClassifier': RandomForestClassifier(n_estimators=10),\n",
        "             'CatBoostClassifier': CatBoostClassifier(),\n",
        "            'extra_tree_forest': ExtraTreesClassifier()}\n",
        "    cols = ['model', 'roc_auc_score', 'precision_score', 'recall_score','f1_score']\n",
        "\n",
        "    models_report = pd.DataFrame(columns = cols)\n",
        "    conf_matrix = dict()\n",
        "\n",
        "    for clf, clf_name in zip(clfs.values(), clfs.keys()):\n",
        "\n",
        "        clf.fit(X_train, y_train)\n",
        "\n",
        "        y_pred = clf.predict(X_valid)\n",
        "        y_score = clf.predict_proba(X_valid)[:,1]\n",
        "\n",
        "        print('computing {} - {} '.format(clf_name, model_type))\n",
        "\n",
        "        tmp = pd.Series({'model_type': model_type,\n",
        "                         'model': clf_name,\n",
        "                         'roc_auc_score' : metrics.roc_auc_score(y_valid, y_score),\n",
        "                         'precision_score': metrics.precision_score(y_valid, y_pred),\n",
        "                         'recall_score': metrics.recall_score(y_valid, y_pred),\n",
        "                         'f1_score': metrics.f1_score(y_valid, y_pred)})\n",
        "\n",
        "        models_report = models_report.append(tmp, ignore_index = True)\n",
        "        conf_matrix[clf_name] = pd.crosstab(y_valid, y_pred, rownames=['True'], colnames= ['Predicted'], margins=False)\n",
        "        fpr, tpr, thresholds = metrics.roc_curve(y_valid, y_score, drop_intermediate = False, pos_label = 1)\n",
        "\n",
        "        plt.figure(1, figsize=(6,6))\n",
        "        plt.xlabel('false positive rate')\n",
        "        plt.ylabel('true positive rate')\n",
        "        plt.title('ROC curve - {}'.format(model_type))\n",
        "        plt.plot(fpr, tpr, label = clf_name )\n",
        "        plt.legend(loc=2, prop={'size':11})\n",
        "    plt.plot([0,1],[0,1], color = 'black')\n",
        "    \n",
        "    return models_report, conf_matrix"
      ],
      "execution_count": 155,
      "outputs": []
    },
    {
      "cell_type": "code",
      "metadata": {
        "colab": {
          "base_uri": "https://localhost:8080/",
          "height": 1000
        },
        "id": "6oStIWW2VTtJ",
        "outputId": "f505ab1a-389a-425f-b72a-3e0085ca7c9f"
      },
      "source": [
        "models_report, conf_matrix = run_models(X_train, y_train, X_valid, y_valid, model_type = 'im-balanced')"
      ],
      "execution_count": 156,
      "outputs": [
        {
          "output_type": "stream",
          "text": [
            "computing GradientBoosting - im-balanced \n",
            "computing XGB - im-balanced \n"
          ],
          "name": "stdout"
        },
        {
          "output_type": "stream",
          "text": [
            "/usr/local/lib/python3.7/dist-packages/sklearn/linear_model/_logistic.py:940: ConvergenceWarning: lbfgs failed to converge (status=1):\n",
            "STOP: TOTAL NO. of ITERATIONS REACHED LIMIT.\n",
            "\n",
            "Increase the number of iterations (max_iter) or scale the data as shown in:\n",
            "    https://scikit-learn.org/stable/modules/preprocessing.html\n",
            "Please also refer to the documentation for alternative solver options:\n",
            "    https://scikit-learn.org/stable/modules/linear_model.html#logistic-regression\n",
            "  extra_warning_msg=_LOGISTIC_SOLVER_CONVERGENCE_MSG)\n"
          ],
          "name": "stderr"
        },
        {
          "output_type": "stream",
          "text": [
            "computing LogisticRegression - im-balanced \n",
            "computing KNN - im-balanced \n",
            "computing RandomForestClassifier - im-balanced \n",
            "Learning rate set to 0.098237\n",
            "0:\tlearn: 0.6407442\ttotal: 150ms\tremaining: 2m 29s\n",
            "1:\tlearn: 0.6020770\ttotal: 211ms\tremaining: 1m 45s\n",
            "2:\tlearn: 0.5719814\ttotal: 277ms\tremaining: 1m 31s\n",
            "3:\tlearn: 0.5506833\ttotal: 343ms\tremaining: 1m 25s\n",
            "4:\tlearn: 0.5318727\ttotal: 404ms\tremaining: 1m 20s\n",
            "5:\tlearn: 0.5139154\ttotal: 480ms\tremaining: 1m 19s\n",
            "6:\tlearn: 0.5029552\ttotal: 546ms\tremaining: 1m 17s\n",
            "7:\tlearn: 0.4931217\ttotal: 615ms\tremaining: 1m 16s\n",
            "8:\tlearn: 0.4864970\ttotal: 677ms\tremaining: 1m 14s\n",
            "9:\tlearn: 0.4804611\ttotal: 747ms\tremaining: 1m 13s\n",
            "10:\tlearn: 0.4740576\ttotal: 812ms\tremaining: 1m 13s\n",
            "11:\tlearn: 0.4699698\ttotal: 871ms\tremaining: 1m 11s\n",
            "12:\tlearn: 0.4660618\ttotal: 937ms\tremaining: 1m 11s\n",
            "13:\tlearn: 0.4631430\ttotal: 1s\tremaining: 1m 10s\n",
            "14:\tlearn: 0.4602070\ttotal: 1.08s\tremaining: 1m 10s\n",
            "15:\tlearn: 0.4579936\ttotal: 1.15s\tremaining: 1m 10s\n",
            "16:\tlearn: 0.4563484\ttotal: 1.22s\tremaining: 1m 10s\n",
            "17:\tlearn: 0.4550872\ttotal: 1.28s\tremaining: 1m 9s\n",
            "18:\tlearn: 0.4535666\ttotal: 1.34s\tremaining: 1m 9s\n",
            "19:\tlearn: 0.4526234\ttotal: 1.41s\tremaining: 1m 8s\n",
            "20:\tlearn: 0.4515815\ttotal: 1.47s\tremaining: 1m 8s\n",
            "21:\tlearn: 0.4508166\ttotal: 1.52s\tremaining: 1m 7s\n",
            "22:\tlearn: 0.4502577\ttotal: 1.58s\tremaining: 1m 7s\n",
            "23:\tlearn: 0.4494189\ttotal: 1.65s\tremaining: 1m 7s\n",
            "24:\tlearn: 0.4485358\ttotal: 1.72s\tremaining: 1m 7s\n",
            "25:\tlearn: 0.4482353\ttotal: 1.78s\tremaining: 1m 6s\n",
            "26:\tlearn: 0.4478090\ttotal: 1.84s\tremaining: 1m 6s\n",
            "27:\tlearn: 0.4475627\ttotal: 1.9s\tremaining: 1m 6s\n",
            "28:\tlearn: 0.4473467\ttotal: 1.97s\tremaining: 1m 5s\n",
            "29:\tlearn: 0.4469769\ttotal: 2.07s\tremaining: 1m 6s\n",
            "30:\tlearn: 0.4467461\ttotal: 2.15s\tremaining: 1m 7s\n",
            "31:\tlearn: 0.4463784\ttotal: 2.22s\tremaining: 1m 7s\n",
            "32:\tlearn: 0.4462356\ttotal: 2.28s\tremaining: 1m 6s\n",
            "33:\tlearn: 0.4458492\ttotal: 2.35s\tremaining: 1m 6s\n",
            "34:\tlearn: 0.4449377\ttotal: 2.42s\tremaining: 1m 6s\n",
            "35:\tlearn: 0.4448282\ttotal: 2.48s\tremaining: 1m 6s\n",
            "36:\tlearn: 0.4446425\ttotal: 2.55s\tremaining: 1m 6s\n",
            "37:\tlearn: 0.4444913\ttotal: 2.6s\tremaining: 1m 5s\n",
            "38:\tlearn: 0.4443686\ttotal: 2.67s\tremaining: 1m 5s\n",
            "39:\tlearn: 0.4441679\ttotal: 2.74s\tremaining: 1m 5s\n",
            "40:\tlearn: 0.4435131\ttotal: 2.81s\tremaining: 1m 5s\n",
            "41:\tlearn: 0.4434168\ttotal: 2.87s\tremaining: 1m 5s\n",
            "42:\tlearn: 0.4431914\ttotal: 2.93s\tremaining: 1m 5s\n",
            "43:\tlearn: 0.4430800\ttotal: 3s\tremaining: 1m 5s\n",
            "44:\tlearn: 0.4429622\ttotal: 3.07s\tremaining: 1m 5s\n",
            "45:\tlearn: 0.4427804\ttotal: 3.14s\tremaining: 1m 5s\n",
            "46:\tlearn: 0.4424665\ttotal: 3.21s\tremaining: 1m 5s\n",
            "47:\tlearn: 0.4423197\ttotal: 3.27s\tremaining: 1m 4s\n",
            "48:\tlearn: 0.4422135\ttotal: 3.33s\tremaining: 1m 4s\n",
            "49:\tlearn: 0.4421529\ttotal: 3.38s\tremaining: 1m 4s\n",
            "50:\tlearn: 0.4420630\ttotal: 3.46s\tremaining: 1m 4s\n",
            "51:\tlearn: 0.4417904\ttotal: 3.52s\tremaining: 1m 4s\n",
            "52:\tlearn: 0.4417134\ttotal: 3.59s\tremaining: 1m 4s\n",
            "53:\tlearn: 0.4416337\ttotal: 3.65s\tremaining: 1m 3s\n",
            "54:\tlearn: 0.4415072\ttotal: 3.71s\tremaining: 1m 3s\n",
            "55:\tlearn: 0.4414309\ttotal: 3.78s\tremaining: 1m 3s\n",
            "56:\tlearn: 0.4413668\ttotal: 3.84s\tremaining: 1m 3s\n",
            "57:\tlearn: 0.4412817\ttotal: 3.9s\tremaining: 1m 3s\n",
            "58:\tlearn: 0.4412205\ttotal: 3.97s\tremaining: 1m 3s\n",
            "59:\tlearn: 0.4409003\ttotal: 4.04s\tremaining: 1m 3s\n",
            "60:\tlearn: 0.4408292\ttotal: 4.11s\tremaining: 1m 3s\n",
            "61:\tlearn: 0.4407506\ttotal: 4.17s\tremaining: 1m 3s\n",
            "62:\tlearn: 0.4406748\ttotal: 4.23s\tremaining: 1m 2s\n",
            "63:\tlearn: 0.4406101\ttotal: 4.29s\tremaining: 1m 2s\n",
            "64:\tlearn: 0.4405307\ttotal: 4.36s\tremaining: 1m 2s\n",
            "65:\tlearn: 0.4404864\ttotal: 4.43s\tremaining: 1m 2s\n",
            "66:\tlearn: 0.4403812\ttotal: 4.5s\tremaining: 1m 2s\n",
            "67:\tlearn: 0.4402818\ttotal: 4.56s\tremaining: 1m 2s\n",
            "68:\tlearn: 0.4402264\ttotal: 4.62s\tremaining: 1m 2s\n",
            "69:\tlearn: 0.4401732\ttotal: 4.69s\tremaining: 1m 2s\n",
            "70:\tlearn: 0.4401328\ttotal: 4.75s\tremaining: 1m 2s\n",
            "71:\tlearn: 0.4400224\ttotal: 4.81s\tremaining: 1m 2s\n",
            "72:\tlearn: 0.4399815\ttotal: 4.88s\tremaining: 1m 1s\n",
            "73:\tlearn: 0.4399238\ttotal: 4.94s\tremaining: 1m 1s\n",
            "74:\tlearn: 0.4398777\ttotal: 5.01s\tremaining: 1m 1s\n",
            "75:\tlearn: 0.4398322\ttotal: 5.07s\tremaining: 1m 1s\n",
            "76:\tlearn: 0.4397959\ttotal: 5.15s\tremaining: 1m 1s\n",
            "77:\tlearn: 0.4396378\ttotal: 5.21s\tremaining: 1m 1s\n",
            "78:\tlearn: 0.4396110\ttotal: 5.27s\tremaining: 1m 1s\n",
            "79:\tlearn: 0.4395481\ttotal: 5.34s\tremaining: 1m 1s\n",
            "80:\tlearn: 0.4395067\ttotal: 5.41s\tremaining: 1m 1s\n",
            "81:\tlearn: 0.4394540\ttotal: 5.47s\tremaining: 1m 1s\n",
            "82:\tlearn: 0.4394106\ttotal: 5.54s\tremaining: 1m 1s\n",
            "83:\tlearn: 0.4393555\ttotal: 5.61s\tremaining: 1m 1s\n",
            "84:\tlearn: 0.4392941\ttotal: 5.67s\tremaining: 1m 1s\n",
            "85:\tlearn: 0.4390159\ttotal: 5.74s\tremaining: 1m 1s\n",
            "86:\tlearn: 0.4389815\ttotal: 5.8s\tremaining: 1m\n",
            "87:\tlearn: 0.4389562\ttotal: 5.87s\tremaining: 1m\n",
            "88:\tlearn: 0.4389087\ttotal: 5.93s\tremaining: 1m\n",
            "89:\tlearn: 0.4388854\ttotal: 6s\tremaining: 1m\n",
            "90:\tlearn: 0.4388356\ttotal: 6.06s\tremaining: 1m\n",
            "91:\tlearn: 0.4387960\ttotal: 6.14s\tremaining: 1m\n",
            "92:\tlearn: 0.4387548\ttotal: 6.2s\tremaining: 1m\n",
            "93:\tlearn: 0.4387145\ttotal: 6.27s\tremaining: 1m\n",
            "94:\tlearn: 0.4386374\ttotal: 6.33s\tremaining: 1m\n",
            "95:\tlearn: 0.4386143\ttotal: 6.4s\tremaining: 1m\n",
            "96:\tlearn: 0.4385722\ttotal: 6.47s\tremaining: 1m\n",
            "97:\tlearn: 0.4385359\ttotal: 6.53s\tremaining: 1m\n",
            "98:\tlearn: 0.4384858\ttotal: 6.6s\tremaining: 1m\n",
            "99:\tlearn: 0.4384543\ttotal: 6.67s\tremaining: 60s\n",
            "100:\tlearn: 0.4383982\ttotal: 6.72s\tremaining: 59.9s\n",
            "101:\tlearn: 0.4382336\ttotal: 6.79s\tremaining: 59.8s\n",
            "102:\tlearn: 0.4381953\ttotal: 6.86s\tremaining: 59.8s\n",
            "103:\tlearn: 0.4381425\ttotal: 6.92s\tremaining: 59.7s\n",
            "104:\tlearn: 0.4381006\ttotal: 6.99s\tremaining: 59.6s\n",
            "105:\tlearn: 0.4380787\ttotal: 7.05s\tremaining: 59.5s\n",
            "106:\tlearn: 0.4380267\ttotal: 7.13s\tremaining: 59.5s\n",
            "107:\tlearn: 0.4379876\ttotal: 7.2s\tremaining: 59.5s\n",
            "108:\tlearn: 0.4379461\ttotal: 7.25s\tremaining: 59.3s\n",
            "109:\tlearn: 0.4378952\ttotal: 7.32s\tremaining: 59.3s\n",
            "110:\tlearn: 0.4378610\ttotal: 7.39s\tremaining: 59.2s\n",
            "111:\tlearn: 0.4378260\ttotal: 7.46s\tremaining: 59.1s\n",
            "112:\tlearn: 0.4377439\ttotal: 7.53s\tremaining: 59.1s\n",
            "113:\tlearn: 0.4376811\ttotal: 7.58s\tremaining: 58.9s\n",
            "114:\tlearn: 0.4376470\ttotal: 7.65s\tremaining: 58.8s\n",
            "115:\tlearn: 0.4375399\ttotal: 7.71s\tremaining: 58.8s\n",
            "116:\tlearn: 0.4374907\ttotal: 7.77s\tremaining: 58.7s\n",
            "117:\tlearn: 0.4374489\ttotal: 7.84s\tremaining: 58.6s\n",
            "118:\tlearn: 0.4374078\ttotal: 7.91s\tremaining: 58.5s\n",
            "119:\tlearn: 0.4373774\ttotal: 7.97s\tremaining: 58.4s\n",
            "120:\tlearn: 0.4373419\ttotal: 8.03s\tremaining: 58.3s\n",
            "121:\tlearn: 0.4373057\ttotal: 8.1s\tremaining: 58.3s\n",
            "122:\tlearn: 0.4372659\ttotal: 8.18s\tremaining: 58.3s\n",
            "123:\tlearn: 0.4372321\ttotal: 8.24s\tremaining: 58.2s\n",
            "124:\tlearn: 0.4371989\ttotal: 8.3s\tremaining: 58.1s\n",
            "125:\tlearn: 0.4371674\ttotal: 8.37s\tremaining: 58s\n",
            "126:\tlearn: 0.4371405\ttotal: 8.44s\tremaining: 58s\n",
            "127:\tlearn: 0.4371009\ttotal: 8.5s\tremaining: 57.9s\n",
            "128:\tlearn: 0.4370278\ttotal: 8.57s\tremaining: 57.9s\n",
            "129:\tlearn: 0.4369855\ttotal: 8.63s\tremaining: 57.8s\n",
            "130:\tlearn: 0.4369372\ttotal: 8.7s\tremaining: 57.7s\n",
            "131:\tlearn: 0.4369082\ttotal: 8.76s\tremaining: 57.6s\n",
            "132:\tlearn: 0.4368697\ttotal: 8.82s\tremaining: 57.5s\n",
            "133:\tlearn: 0.4368411\ttotal: 8.89s\tremaining: 57.4s\n",
            "134:\tlearn: 0.4368061\ttotal: 8.96s\tremaining: 57.4s\n",
            "135:\tlearn: 0.4367735\ttotal: 9.02s\tremaining: 57.3s\n",
            "136:\tlearn: 0.4367325\ttotal: 9.09s\tremaining: 57.3s\n",
            "137:\tlearn: 0.4367090\ttotal: 9.17s\tremaining: 57.3s\n",
            "138:\tlearn: 0.4366261\ttotal: 9.24s\tremaining: 57.2s\n",
            "139:\tlearn: 0.4365934\ttotal: 9.31s\tremaining: 57.2s\n",
            "140:\tlearn: 0.4365528\ttotal: 9.38s\tremaining: 57.1s\n",
            "141:\tlearn: 0.4364947\ttotal: 9.44s\tremaining: 57.1s\n",
            "142:\tlearn: 0.4364594\ttotal: 9.51s\tremaining: 57s\n",
            "143:\tlearn: 0.4364236\ttotal: 9.57s\tremaining: 56.9s\n",
            "144:\tlearn: 0.4363745\ttotal: 9.64s\tremaining: 56.9s\n",
            "145:\tlearn: 0.4363406\ttotal: 9.71s\tremaining: 56.8s\n",
            "146:\tlearn: 0.4363151\ttotal: 9.78s\tremaining: 56.7s\n",
            "147:\tlearn: 0.4362846\ttotal: 9.84s\tremaining: 56.7s\n",
            "148:\tlearn: 0.4362269\ttotal: 9.91s\tremaining: 56.6s\n",
            "149:\tlearn: 0.4361973\ttotal: 9.98s\tremaining: 56.5s\n",
            "150:\tlearn: 0.4361645\ttotal: 10s\tremaining: 56.5s\n",
            "151:\tlearn: 0.4361395\ttotal: 10.1s\tremaining: 56.4s\n",
            "152:\tlearn: 0.4361059\ttotal: 10.2s\tremaining: 56.4s\n",
            "153:\tlearn: 0.4360769\ttotal: 10.2s\tremaining: 56.3s\n",
            "154:\tlearn: 0.4360309\ttotal: 10.3s\tremaining: 56.2s\n",
            "155:\tlearn: 0.4360086\ttotal: 10.4s\tremaining: 56.2s\n",
            "156:\tlearn: 0.4359676\ttotal: 10.4s\tremaining: 56.1s\n",
            "157:\tlearn: 0.4359318\ttotal: 10.5s\tremaining: 56s\n",
            "158:\tlearn: 0.4359077\ttotal: 10.6s\tremaining: 56s\n",
            "159:\tlearn: 0.4358746\ttotal: 10.6s\tremaining: 55.9s\n",
            "160:\tlearn: 0.4358494\ttotal: 10.7s\tremaining: 55.9s\n",
            "161:\tlearn: 0.4358204\ttotal: 10.8s\tremaining: 55.8s\n",
            "162:\tlearn: 0.4357852\ttotal: 10.9s\tremaining: 55.7s\n",
            "163:\tlearn: 0.4357168\ttotal: 10.9s\tremaining: 55.7s\n",
            "164:\tlearn: 0.4356200\ttotal: 11s\tremaining: 55.6s\n",
            "165:\tlearn: 0.4355500\ttotal: 11.1s\tremaining: 55.5s\n",
            "166:\tlearn: 0.4355168\ttotal: 11.1s\tremaining: 55.5s\n",
            "167:\tlearn: 0.4354827\ttotal: 11.2s\tremaining: 55.5s\n",
            "168:\tlearn: 0.4354478\ttotal: 11.3s\tremaining: 55.4s\n",
            "169:\tlearn: 0.4354205\ttotal: 11.3s\tremaining: 55.3s\n",
            "170:\tlearn: 0.4353932\ttotal: 11.4s\tremaining: 55.3s\n",
            "171:\tlearn: 0.4353535\ttotal: 11.5s\tremaining: 55.2s\n",
            "172:\tlearn: 0.4353243\ttotal: 11.5s\tremaining: 55.2s\n",
            "173:\tlearn: 0.4352983\ttotal: 11.6s\tremaining: 55.1s\n",
            "174:\tlearn: 0.4352666\ttotal: 11.7s\tremaining: 55s\n",
            "175:\tlearn: 0.4352395\ttotal: 11.7s\tremaining: 55s\n",
            "176:\tlearn: 0.4352105\ttotal: 11.8s\tremaining: 54.9s\n",
            "177:\tlearn: 0.4351684\ttotal: 11.9s\tremaining: 54.8s\n",
            "178:\tlearn: 0.4351258\ttotal: 11.9s\tremaining: 54.7s\n",
            "179:\tlearn: 0.4350914\ttotal: 12s\tremaining: 54.6s\n",
            "180:\tlearn: 0.4350580\ttotal: 12.1s\tremaining: 54.6s\n",
            "181:\tlearn: 0.4350303\ttotal: 12.1s\tremaining: 54.5s\n",
            "182:\tlearn: 0.4349978\ttotal: 12.2s\tremaining: 54.5s\n",
            "183:\tlearn: 0.4349624\ttotal: 12.3s\tremaining: 54.5s\n",
            "184:\tlearn: 0.4349333\ttotal: 12.3s\tremaining: 54.4s\n",
            "185:\tlearn: 0.4349020\ttotal: 12.4s\tremaining: 54.3s\n",
            "186:\tlearn: 0.4348727\ttotal: 12.5s\tremaining: 54.3s\n",
            "187:\tlearn: 0.4348335\ttotal: 12.6s\tremaining: 54.2s\n",
            "188:\tlearn: 0.4347844\ttotal: 12.6s\tremaining: 54.2s\n",
            "189:\tlearn: 0.4347531\ttotal: 12.7s\tremaining: 54.1s\n",
            "190:\tlearn: 0.4347228\ttotal: 12.8s\tremaining: 54.1s\n",
            "191:\tlearn: 0.4346912\ttotal: 12.8s\tremaining: 54s\n",
            "192:\tlearn: 0.4346638\ttotal: 12.9s\tremaining: 53.9s\n",
            "193:\tlearn: 0.4346097\ttotal: 13s\tremaining: 53.9s\n",
            "194:\tlearn: 0.4345807\ttotal: 13s\tremaining: 53.8s\n",
            "195:\tlearn: 0.4345514\ttotal: 13.1s\tremaining: 53.7s\n",
            "196:\tlearn: 0.4344628\ttotal: 13.2s\tremaining: 53.7s\n",
            "197:\tlearn: 0.4344339\ttotal: 13.3s\tremaining: 53.7s\n",
            "198:\tlearn: 0.4344090\ttotal: 13.3s\tremaining: 53.6s\n",
            "199:\tlearn: 0.4343877\ttotal: 13.4s\tremaining: 53.6s\n",
            "200:\tlearn: 0.4343605\ttotal: 13.5s\tremaining: 53.5s\n",
            "201:\tlearn: 0.4343296\ttotal: 13.5s\tremaining: 53.4s\n",
            "202:\tlearn: 0.4342923\ttotal: 13.6s\tremaining: 53.3s\n",
            "203:\tlearn: 0.4342668\ttotal: 13.7s\tremaining: 53.3s\n",
            "204:\tlearn: 0.4342350\ttotal: 13.7s\tremaining: 53.2s\n",
            "205:\tlearn: 0.4341908\ttotal: 13.8s\tremaining: 53.2s\n",
            "206:\tlearn: 0.4341693\ttotal: 13.9s\tremaining: 53.1s\n",
            "207:\tlearn: 0.4341363\ttotal: 13.9s\tremaining: 53s\n",
            "208:\tlearn: 0.4341028\ttotal: 14s\tremaining: 53s\n",
            "209:\tlearn: 0.4340828\ttotal: 14.1s\tremaining: 52.9s\n",
            "210:\tlearn: 0.4340467\ttotal: 14.1s\tremaining: 52.8s\n",
            "211:\tlearn: 0.4340146\ttotal: 14.2s\tremaining: 52.8s\n",
            "212:\tlearn: 0.4339856\ttotal: 14.3s\tremaining: 52.7s\n",
            "213:\tlearn: 0.4339636\ttotal: 14.3s\tremaining: 52.7s\n",
            "214:\tlearn: 0.4339439\ttotal: 14.4s\tremaining: 52.6s\n",
            "215:\tlearn: 0.4339147\ttotal: 14.5s\tremaining: 52.5s\n",
            "216:\tlearn: 0.4338619\ttotal: 14.5s\tremaining: 52.5s\n",
            "217:\tlearn: 0.4338266\ttotal: 14.6s\tremaining: 52.4s\n",
            "218:\tlearn: 0.4338005\ttotal: 14.7s\tremaining: 52.3s\n",
            "219:\tlearn: 0.4337671\ttotal: 14.7s\tremaining: 52.3s\n",
            "220:\tlearn: 0.4337329\ttotal: 14.8s\tremaining: 52.2s\n",
            "221:\tlearn: 0.4337108\ttotal: 14.9s\tremaining: 52.1s\n",
            "222:\tlearn: 0.4336797\ttotal: 14.9s\tremaining: 52s\n",
            "223:\tlearn: 0.4336497\ttotal: 15s\tremaining: 52s\n",
            "224:\tlearn: 0.4336198\ttotal: 15.1s\tremaining: 51.9s\n",
            "225:\tlearn: 0.4335955\ttotal: 15.1s\tremaining: 51.8s\n",
            "226:\tlearn: 0.4335757\ttotal: 15.2s\tremaining: 51.7s\n",
            "227:\tlearn: 0.4335466\ttotal: 15.3s\tremaining: 51.7s\n",
            "228:\tlearn: 0.4335199\ttotal: 15.3s\tremaining: 51.6s\n",
            "229:\tlearn: 0.4334982\ttotal: 15.4s\tremaining: 51.6s\n",
            "230:\tlearn: 0.4334709\ttotal: 15.5s\tremaining: 51.5s\n",
            "231:\tlearn: 0.4334421\ttotal: 15.5s\tremaining: 51.4s\n",
            "232:\tlearn: 0.4334068\ttotal: 15.6s\tremaining: 51.4s\n",
            "233:\tlearn: 0.4333783\ttotal: 15.7s\tremaining: 51.3s\n",
            "234:\tlearn: 0.4333460\ttotal: 15.7s\tremaining: 51.2s\n",
            "235:\tlearn: 0.4333207\ttotal: 15.8s\tremaining: 51.2s\n",
            "236:\tlearn: 0.4332841\ttotal: 15.9s\tremaining: 51.1s\n",
            "237:\tlearn: 0.4332575\ttotal: 15.9s\tremaining: 51s\n",
            "238:\tlearn: 0.4332337\ttotal: 16s\tremaining: 51s\n",
            "239:\tlearn: 0.4332073\ttotal: 16.1s\tremaining: 50.9s\n",
            "240:\tlearn: 0.4331875\ttotal: 16.1s\tremaining: 50.8s\n",
            "241:\tlearn: 0.4331376\ttotal: 16.2s\tremaining: 50.8s\n",
            "242:\tlearn: 0.4331141\ttotal: 16.3s\tremaining: 50.7s\n",
            "243:\tlearn: 0.4330926\ttotal: 16.4s\tremaining: 50.7s\n",
            "244:\tlearn: 0.4330725\ttotal: 16.4s\tremaining: 50.6s\n",
            "245:\tlearn: 0.4330442\ttotal: 16.5s\tremaining: 50.6s\n",
            "246:\tlearn: 0.4330178\ttotal: 16.6s\tremaining: 50.5s\n",
            "247:\tlearn: 0.4329992\ttotal: 16.6s\tremaining: 50.4s\n",
            "248:\tlearn: 0.4329743\ttotal: 16.7s\tremaining: 50.3s\n",
            "249:\tlearn: 0.4329522\ttotal: 16.8s\tremaining: 50.3s\n",
            "250:\tlearn: 0.4329243\ttotal: 16.8s\tremaining: 50.2s\n",
            "251:\tlearn: 0.4328962\ttotal: 16.9s\tremaining: 50.1s\n",
            "252:\tlearn: 0.4328680\ttotal: 17s\tremaining: 50.1s\n",
            "253:\tlearn: 0.4328395\ttotal: 17s\tremaining: 50s\n",
            "254:\tlearn: 0.4328149\ttotal: 17.1s\tremaining: 50s\n",
            "255:\tlearn: 0.4327700\ttotal: 17.2s\tremaining: 49.9s\n",
            "256:\tlearn: 0.4327496\ttotal: 17.2s\tremaining: 49.8s\n",
            "257:\tlearn: 0.4327197\ttotal: 17.3s\tremaining: 49.8s\n",
            "258:\tlearn: 0.4326993\ttotal: 17.4s\tremaining: 49.7s\n",
            "259:\tlearn: 0.4326713\ttotal: 17.4s\tremaining: 49.6s\n",
            "260:\tlearn: 0.4326415\ttotal: 17.5s\tremaining: 49.6s\n",
            "261:\tlearn: 0.4325990\ttotal: 17.6s\tremaining: 49.5s\n",
            "262:\tlearn: 0.4325686\ttotal: 17.6s\tremaining: 49.4s\n",
            "263:\tlearn: 0.4325458\ttotal: 17.7s\tremaining: 49.4s\n",
            "264:\tlearn: 0.4325214\ttotal: 17.8s\tremaining: 49.3s\n",
            "265:\tlearn: 0.4325018\ttotal: 17.8s\tremaining: 49.2s\n",
            "266:\tlearn: 0.4324763\ttotal: 17.9s\tremaining: 49.2s\n",
            "267:\tlearn: 0.4324364\ttotal: 18s\tremaining: 49.1s\n",
            "268:\tlearn: 0.4324176\ttotal: 18s\tremaining: 49s\n",
            "269:\tlearn: 0.4323815\ttotal: 18.1s\tremaining: 48.9s\n",
            "270:\tlearn: 0.4323657\ttotal: 18.2s\tremaining: 48.9s\n",
            "271:\tlearn: 0.4323467\ttotal: 18.2s\tremaining: 48.8s\n",
            "272:\tlearn: 0.4323192\ttotal: 18.3s\tremaining: 48.7s\n",
            "273:\tlearn: 0.4323006\ttotal: 18.4s\tremaining: 48.7s\n",
            "274:\tlearn: 0.4322588\ttotal: 18.4s\tremaining: 48.6s\n",
            "275:\tlearn: 0.4322304\ttotal: 18.5s\tremaining: 48.5s\n",
            "276:\tlearn: 0.4322143\ttotal: 18.6s\tremaining: 48.5s\n",
            "277:\tlearn: 0.4321924\ttotal: 18.6s\tremaining: 48.4s\n",
            "278:\tlearn: 0.4321669\ttotal: 18.7s\tremaining: 48.3s\n",
            "279:\tlearn: 0.4321413\ttotal: 18.8s\tremaining: 48.3s\n",
            "280:\tlearn: 0.4321169\ttotal: 18.8s\tremaining: 48.2s\n",
            "281:\tlearn: 0.4320881\ttotal: 18.9s\tremaining: 48.1s\n",
            "282:\tlearn: 0.4320620\ttotal: 19s\tremaining: 48.1s\n",
            "283:\tlearn: 0.4320422\ttotal: 19s\tremaining: 48s\n",
            "284:\tlearn: 0.4320183\ttotal: 19.1s\tremaining: 47.9s\n",
            "285:\tlearn: 0.4319905\ttotal: 19.2s\tremaining: 47.9s\n",
            "286:\tlearn: 0.4319644\ttotal: 19.2s\tremaining: 47.8s\n",
            "287:\tlearn: 0.4319316\ttotal: 19.3s\tremaining: 47.7s\n",
            "288:\tlearn: 0.4319127\ttotal: 19.4s\tremaining: 47.7s\n",
            "289:\tlearn: 0.4318903\ttotal: 19.4s\tremaining: 47.6s\n",
            "290:\tlearn: 0.4318562\ttotal: 19.5s\tremaining: 47.5s\n",
            "291:\tlearn: 0.4318373\ttotal: 19.6s\tremaining: 47.5s\n",
            "292:\tlearn: 0.4318168\ttotal: 19.6s\tremaining: 47.4s\n",
            "293:\tlearn: 0.4318040\ttotal: 19.7s\tremaining: 47.3s\n",
            "294:\tlearn: 0.4317902\ttotal: 19.8s\tremaining: 47.2s\n",
            "295:\tlearn: 0.4317642\ttotal: 19.8s\tremaining: 47.2s\n",
            "296:\tlearn: 0.4317406\ttotal: 19.9s\tremaining: 47.1s\n",
            "297:\tlearn: 0.4317027\ttotal: 20s\tremaining: 47s\n",
            "298:\tlearn: 0.4316820\ttotal: 20s\tremaining: 47s\n",
            "299:\tlearn: 0.4316606\ttotal: 20.1s\tremaining: 46.9s\n",
            "300:\tlearn: 0.4316345\ttotal: 20.2s\tremaining: 46.8s\n",
            "301:\tlearn: 0.4316171\ttotal: 20.2s\tremaining: 46.8s\n",
            "302:\tlearn: 0.4315942\ttotal: 20.3s\tremaining: 46.7s\n",
            "303:\tlearn: 0.4315652\ttotal: 20.4s\tremaining: 46.6s\n",
            "304:\tlearn: 0.4315510\ttotal: 20.4s\tremaining: 46.6s\n",
            "305:\tlearn: 0.4315251\ttotal: 20.5s\tremaining: 46.5s\n",
            "306:\tlearn: 0.4314847\ttotal: 20.6s\tremaining: 46.4s\n",
            "307:\tlearn: 0.4314575\ttotal: 20.6s\tremaining: 46.4s\n",
            "308:\tlearn: 0.4314226\ttotal: 20.7s\tremaining: 46.3s\n",
            "309:\tlearn: 0.4313957\ttotal: 20.8s\tremaining: 46.3s\n",
            "310:\tlearn: 0.4313669\ttotal: 20.8s\tremaining: 46.2s\n",
            "311:\tlearn: 0.4313379\ttotal: 20.9s\tremaining: 46.1s\n",
            "312:\tlearn: 0.4313107\ttotal: 21s\tremaining: 46s\n",
            "313:\tlearn: 0.4312820\ttotal: 21s\tremaining: 46s\n",
            "314:\tlearn: 0.4312555\ttotal: 21.1s\tremaining: 45.9s\n",
            "315:\tlearn: 0.4312270\ttotal: 21.2s\tremaining: 45.8s\n",
            "316:\tlearn: 0.4312016\ttotal: 21.2s\tremaining: 45.8s\n",
            "317:\tlearn: 0.4311732\ttotal: 21.3s\tremaining: 45.7s\n",
            "318:\tlearn: 0.4311503\ttotal: 21.4s\tremaining: 45.7s\n",
            "319:\tlearn: 0.4311268\ttotal: 21.5s\tremaining: 45.6s\n",
            "320:\tlearn: 0.4311054\ttotal: 21.5s\tremaining: 45.5s\n",
            "321:\tlearn: 0.4310821\ttotal: 21.6s\tremaining: 45.5s\n",
            "322:\tlearn: 0.4310539\ttotal: 21.7s\tremaining: 45.4s\n",
            "323:\tlearn: 0.4310310\ttotal: 21.7s\tremaining: 45.3s\n",
            "324:\tlearn: 0.4310151\ttotal: 21.8s\tremaining: 45.3s\n",
            "325:\tlearn: 0.4309839\ttotal: 21.9s\tremaining: 45.2s\n",
            "326:\tlearn: 0.4309598\ttotal: 21.9s\tremaining: 45.1s\n",
            "327:\tlearn: 0.4309409\ttotal: 22s\tremaining: 45.1s\n",
            "328:\tlearn: 0.4309128\ttotal: 22.1s\tremaining: 45s\n",
            "329:\tlearn: 0.4308890\ttotal: 22.1s\tremaining: 44.9s\n",
            "330:\tlearn: 0.4308625\ttotal: 22.2s\tremaining: 44.9s\n",
            "331:\tlearn: 0.4308433\ttotal: 22.3s\tremaining: 44.8s\n",
            "332:\tlearn: 0.4308235\ttotal: 22.3s\tremaining: 44.7s\n",
            "333:\tlearn: 0.4308001\ttotal: 22.4s\tremaining: 44.7s\n",
            "334:\tlearn: 0.4307753\ttotal: 22.5s\tremaining: 44.6s\n",
            "335:\tlearn: 0.4307497\ttotal: 22.5s\tremaining: 44.5s\n",
            "336:\tlearn: 0.4307267\ttotal: 22.6s\tremaining: 44.5s\n",
            "337:\tlearn: 0.4306998\ttotal: 22.7s\tremaining: 44.4s\n",
            "338:\tlearn: 0.4306680\ttotal: 22.7s\tremaining: 44.3s\n",
            "339:\tlearn: 0.4306488\ttotal: 22.8s\tremaining: 44.3s\n",
            "340:\tlearn: 0.4306257\ttotal: 22.9s\tremaining: 44.2s\n",
            "341:\tlearn: 0.4306004\ttotal: 22.9s\tremaining: 44.1s\n",
            "342:\tlearn: 0.4305643\ttotal: 23s\tremaining: 44.1s\n",
            "343:\tlearn: 0.4305399\ttotal: 23.1s\tremaining: 44s\n",
            "344:\tlearn: 0.4305188\ttotal: 23.1s\tremaining: 43.9s\n",
            "345:\tlearn: 0.4305016\ttotal: 23.2s\tremaining: 43.9s\n",
            "346:\tlearn: 0.4304837\ttotal: 23.3s\tremaining: 43.8s\n",
            "347:\tlearn: 0.4304547\ttotal: 23.4s\tremaining: 43.8s\n",
            "348:\tlearn: 0.4304436\ttotal: 23.4s\tremaining: 43.7s\n",
            "349:\tlearn: 0.4304152\ttotal: 23.5s\tremaining: 43.6s\n",
            "350:\tlearn: 0.4303998\ttotal: 23.6s\tremaining: 43.6s\n",
            "351:\tlearn: 0.4303808\ttotal: 23.6s\tremaining: 43.5s\n",
            "352:\tlearn: 0.4303636\ttotal: 23.7s\tremaining: 43.5s\n",
            "353:\tlearn: 0.4303384\ttotal: 23.8s\tremaining: 43.4s\n",
            "354:\tlearn: 0.4303133\ttotal: 23.8s\tremaining: 43.3s\n",
            "355:\tlearn: 0.4302719\ttotal: 23.9s\tremaining: 43.3s\n",
            "356:\tlearn: 0.4302503\ttotal: 24s\tremaining: 43.2s\n",
            "357:\tlearn: 0.4302296\ttotal: 24s\tremaining: 43.1s\n",
            "358:\tlearn: 0.4302196\ttotal: 24.1s\tremaining: 43.1s\n",
            "359:\tlearn: 0.4302038\ttotal: 24.2s\tremaining: 43s\n",
            "360:\tlearn: 0.4301879\ttotal: 24.2s\tremaining: 42.9s\n",
            "361:\tlearn: 0.4301702\ttotal: 24.3s\tremaining: 42.9s\n",
            "362:\tlearn: 0.4301452\ttotal: 24.4s\tremaining: 42.8s\n",
            "363:\tlearn: 0.4300859\ttotal: 24.4s\tremaining: 42.7s\n",
            "364:\tlearn: 0.4300632\ttotal: 24.5s\tremaining: 42.6s\n",
            "365:\tlearn: 0.4300411\ttotal: 24.6s\tremaining: 42.6s\n",
            "366:\tlearn: 0.4300153\ttotal: 24.6s\tremaining: 42.5s\n",
            "367:\tlearn: 0.4299952\ttotal: 24.7s\tremaining: 42.4s\n",
            "368:\tlearn: 0.4299730\ttotal: 24.8s\tremaining: 42.4s\n",
            "369:\tlearn: 0.4299523\ttotal: 24.8s\tremaining: 42.3s\n",
            "370:\tlearn: 0.4299253\ttotal: 24.9s\tremaining: 42.2s\n",
            "371:\tlearn: 0.4299099\ttotal: 25s\tremaining: 42.2s\n",
            "372:\tlearn: 0.4298912\ttotal: 25s\tremaining: 42.1s\n",
            "373:\tlearn: 0.4298651\ttotal: 25.1s\tremaining: 42s\n",
            "374:\tlearn: 0.4298473\ttotal: 25.2s\tremaining: 42s\n",
            "375:\tlearn: 0.4298184\ttotal: 25.3s\tremaining: 41.9s\n",
            "376:\tlearn: 0.4297860\ttotal: 25.3s\tremaining: 41.8s\n",
            "377:\tlearn: 0.4297699\ttotal: 25.4s\tremaining: 41.8s\n",
            "378:\tlearn: 0.4297446\ttotal: 25.4s\tremaining: 41.7s\n",
            "379:\tlearn: 0.4297331\ttotal: 25.5s\tremaining: 41.6s\n",
            "380:\tlearn: 0.4297096\ttotal: 25.6s\tremaining: 41.6s\n",
            "381:\tlearn: 0.4296901\ttotal: 25.7s\tremaining: 41.5s\n",
            "382:\tlearn: 0.4296626\ttotal: 25.7s\tremaining: 41.5s\n",
            "383:\tlearn: 0.4296363\ttotal: 25.8s\tremaining: 41.4s\n",
            "384:\tlearn: 0.4296062\ttotal: 25.9s\tremaining: 41.3s\n",
            "385:\tlearn: 0.4295804\ttotal: 25.9s\tremaining: 41.3s\n",
            "386:\tlearn: 0.4295548\ttotal: 26s\tremaining: 41.2s\n",
            "387:\tlearn: 0.4295413\ttotal: 26.1s\tremaining: 41.1s\n",
            "388:\tlearn: 0.4295203\ttotal: 26.1s\tremaining: 41.1s\n",
            "389:\tlearn: 0.4294906\ttotal: 26.2s\tremaining: 41s\n",
            "390:\tlearn: 0.4294716\ttotal: 26.3s\tremaining: 40.9s\n",
            "391:\tlearn: 0.4294548\ttotal: 26.4s\tremaining: 40.9s\n",
            "392:\tlearn: 0.4294332\ttotal: 26.4s\tremaining: 40.8s\n",
            "393:\tlearn: 0.4294140\ttotal: 26.5s\tremaining: 40.7s\n",
            "394:\tlearn: 0.4293856\ttotal: 26.6s\tremaining: 40.7s\n",
            "395:\tlearn: 0.4293629\ttotal: 26.6s\tremaining: 40.6s\n",
            "396:\tlearn: 0.4293387\ttotal: 26.7s\tremaining: 40.5s\n",
            "397:\tlearn: 0.4293198\ttotal: 26.8s\tremaining: 40.5s\n",
            "398:\tlearn: 0.4292955\ttotal: 26.8s\tremaining: 40.4s\n",
            "399:\tlearn: 0.4292727\ttotal: 26.9s\tremaining: 40.3s\n",
            "400:\tlearn: 0.4292488\ttotal: 27s\tremaining: 40.3s\n",
            "401:\tlearn: 0.4292157\ttotal: 27s\tremaining: 40.2s\n",
            "402:\tlearn: 0.4292014\ttotal: 27.1s\tremaining: 40.1s\n",
            "403:\tlearn: 0.4291775\ttotal: 27.2s\tremaining: 40.1s\n",
            "404:\tlearn: 0.4291641\ttotal: 27.2s\tremaining: 40s\n",
            "405:\tlearn: 0.4291357\ttotal: 27.3s\tremaining: 39.9s\n",
            "406:\tlearn: 0.4291197\ttotal: 27.4s\tremaining: 39.9s\n",
            "407:\tlearn: 0.4291044\ttotal: 27.4s\tremaining: 39.8s\n",
            "408:\tlearn: 0.4290817\ttotal: 27.5s\tremaining: 39.7s\n",
            "409:\tlearn: 0.4290548\ttotal: 27.6s\tremaining: 39.7s\n",
            "410:\tlearn: 0.4290319\ttotal: 27.6s\tremaining: 39.6s\n",
            "411:\tlearn: 0.4290139\ttotal: 27.7s\tremaining: 39.5s\n",
            "412:\tlearn: 0.4289961\ttotal: 27.8s\tremaining: 39.5s\n",
            "413:\tlearn: 0.4289722\ttotal: 27.8s\tremaining: 39.4s\n",
            "414:\tlearn: 0.4289520\ttotal: 27.9s\tremaining: 39.3s\n",
            "415:\tlearn: 0.4289351\ttotal: 28s\tremaining: 39.3s\n",
            "416:\tlearn: 0.4289069\ttotal: 28s\tremaining: 39.2s\n",
            "417:\tlearn: 0.4288839\ttotal: 28.1s\tremaining: 39.1s\n",
            "418:\tlearn: 0.4288601\ttotal: 28.2s\tremaining: 39.1s\n",
            "419:\tlearn: 0.4288369\ttotal: 28.2s\tremaining: 39s\n",
            "420:\tlearn: 0.4288205\ttotal: 28.3s\tremaining: 38.9s\n",
            "421:\tlearn: 0.4288007\ttotal: 28.4s\tremaining: 38.9s\n",
            "422:\tlearn: 0.4287894\ttotal: 28.4s\tremaining: 38.8s\n",
            "423:\tlearn: 0.4287671\ttotal: 28.5s\tremaining: 38.7s\n",
            "424:\tlearn: 0.4287417\ttotal: 28.6s\tremaining: 38.7s\n",
            "425:\tlearn: 0.4287239\ttotal: 28.6s\tremaining: 38.6s\n",
            "426:\tlearn: 0.4286951\ttotal: 28.7s\tremaining: 38.5s\n",
            "427:\tlearn: 0.4286829\ttotal: 28.8s\tremaining: 38.5s\n",
            "428:\tlearn: 0.4286595\ttotal: 28.8s\tremaining: 38.4s\n",
            "429:\tlearn: 0.4286362\ttotal: 28.9s\tremaining: 38.3s\n",
            "430:\tlearn: 0.4286199\ttotal: 29s\tremaining: 38.3s\n",
            "431:\tlearn: 0.4285988\ttotal: 29s\tremaining: 38.2s\n",
            "432:\tlearn: 0.4285777\ttotal: 29.1s\tremaining: 38.1s\n",
            "433:\tlearn: 0.4285601\ttotal: 29.2s\tremaining: 38s\n",
            "434:\tlearn: 0.4285401\ttotal: 29.2s\tremaining: 38s\n",
            "435:\tlearn: 0.4285256\ttotal: 29.3s\tremaining: 37.9s\n",
            "436:\tlearn: 0.4285089\ttotal: 29.4s\tremaining: 37.9s\n",
            "437:\tlearn: 0.4284872\ttotal: 29.5s\tremaining: 37.8s\n",
            "438:\tlearn: 0.4284633\ttotal: 29.5s\tremaining: 37.7s\n",
            "439:\tlearn: 0.4284494\ttotal: 29.6s\tremaining: 37.7s\n",
            "440:\tlearn: 0.4284280\ttotal: 29.7s\tremaining: 37.6s\n",
            "441:\tlearn: 0.4284106\ttotal: 29.7s\tremaining: 37.5s\n",
            "442:\tlearn: 0.4283936\ttotal: 29.8s\tremaining: 37.5s\n",
            "443:\tlearn: 0.4283785\ttotal: 29.9s\tremaining: 37.4s\n",
            "444:\tlearn: 0.4283513\ttotal: 29.9s\tremaining: 37.3s\n",
            "445:\tlearn: 0.4283305\ttotal: 30s\tremaining: 37.3s\n",
            "446:\tlearn: 0.4283076\ttotal: 30.1s\tremaining: 37.2s\n",
            "447:\tlearn: 0.4282926\ttotal: 30.1s\tremaining: 37.1s\n",
            "448:\tlearn: 0.4282774\ttotal: 30.2s\tremaining: 37.1s\n",
            "449:\tlearn: 0.4282580\ttotal: 30.3s\tremaining: 37s\n",
            "450:\tlearn: 0.4282434\ttotal: 30.3s\tremaining: 36.9s\n",
            "451:\tlearn: 0.4282229\ttotal: 30.4s\tremaining: 36.9s\n",
            "452:\tlearn: 0.4281982\ttotal: 30.5s\tremaining: 36.8s\n",
            "453:\tlearn: 0.4281771\ttotal: 30.5s\tremaining: 36.7s\n",
            "454:\tlearn: 0.4281513\ttotal: 30.6s\tremaining: 36.7s\n",
            "455:\tlearn: 0.4281332\ttotal: 30.7s\tremaining: 36.6s\n",
            "456:\tlearn: 0.4281150\ttotal: 30.7s\tremaining: 36.5s\n",
            "457:\tlearn: 0.4280725\ttotal: 30.8s\tremaining: 36.5s\n",
            "458:\tlearn: 0.4280585\ttotal: 30.9s\tremaining: 36.4s\n",
            "459:\tlearn: 0.4280401\ttotal: 30.9s\tremaining: 36.3s\n",
            "460:\tlearn: 0.4280264\ttotal: 31s\tremaining: 36.3s\n",
            "461:\tlearn: 0.4280066\ttotal: 31.1s\tremaining: 36.2s\n",
            "462:\tlearn: 0.4279888\ttotal: 31.1s\tremaining: 36.1s\n",
            "463:\tlearn: 0.4279585\ttotal: 31.2s\tremaining: 36.1s\n",
            "464:\tlearn: 0.4279316\ttotal: 31.3s\tremaining: 36s\n",
            "465:\tlearn: 0.4279132\ttotal: 31.4s\tremaining: 35.9s\n",
            "466:\tlearn: 0.4278973\ttotal: 31.4s\tremaining: 35.9s\n",
            "467:\tlearn: 0.4278681\ttotal: 31.5s\tremaining: 35.8s\n",
            "468:\tlearn: 0.4278505\ttotal: 31.6s\tremaining: 35.7s\n",
            "469:\tlearn: 0.4278316\ttotal: 31.6s\tremaining: 35.7s\n",
            "470:\tlearn: 0.4278097\ttotal: 31.7s\tremaining: 35.6s\n",
            "471:\tlearn: 0.4277923\ttotal: 31.8s\tremaining: 35.5s\n",
            "472:\tlearn: 0.4277738\ttotal: 31.8s\tremaining: 35.5s\n",
            "473:\tlearn: 0.4277461\ttotal: 31.9s\tremaining: 35.4s\n",
            "474:\tlearn: 0.4277257\ttotal: 32s\tremaining: 35.3s\n",
            "475:\tlearn: 0.4277152\ttotal: 32s\tremaining: 35.2s\n",
            "476:\tlearn: 0.4276999\ttotal: 32.1s\tremaining: 35.2s\n",
            "477:\tlearn: 0.4276793\ttotal: 32.2s\tremaining: 35.1s\n",
            "478:\tlearn: 0.4276623\ttotal: 32.2s\tremaining: 35s\n",
            "479:\tlearn: 0.4276461\ttotal: 32.3s\tremaining: 35s\n",
            "480:\tlearn: 0.4276253\ttotal: 32.4s\tremaining: 34.9s\n",
            "481:\tlearn: 0.4276063\ttotal: 32.4s\tremaining: 34.9s\n",
            "482:\tlearn: 0.4275818\ttotal: 32.5s\tremaining: 34.8s\n",
            "483:\tlearn: 0.4275691\ttotal: 32.6s\tremaining: 34.7s\n",
            "484:\tlearn: 0.4275511\ttotal: 32.6s\tremaining: 34.6s\n",
            "485:\tlearn: 0.4275291\ttotal: 32.7s\tremaining: 34.6s\n",
            "486:\tlearn: 0.4275081\ttotal: 32.8s\tremaining: 34.5s\n",
            "487:\tlearn: 0.4274904\ttotal: 32.8s\tremaining: 34.4s\n",
            "488:\tlearn: 0.4274746\ttotal: 32.9s\tremaining: 34.4s\n",
            "489:\tlearn: 0.4274592\ttotal: 33s\tremaining: 34.3s\n",
            "490:\tlearn: 0.4274324\ttotal: 33s\tremaining: 34.2s\n",
            "491:\tlearn: 0.4274088\ttotal: 33.1s\tremaining: 34.2s\n",
            "492:\tlearn: 0.4273865\ttotal: 33.2s\tremaining: 34.1s\n",
            "493:\tlearn: 0.4273725\ttotal: 33.2s\tremaining: 34s\n",
            "494:\tlearn: 0.4273501\ttotal: 33.3s\tremaining: 34s\n",
            "495:\tlearn: 0.4273297\ttotal: 33.4s\tremaining: 33.9s\n",
            "496:\tlearn: 0.4273129\ttotal: 33.4s\tremaining: 33.8s\n",
            "497:\tlearn: 0.4272909\ttotal: 33.5s\tremaining: 33.8s\n",
            "498:\tlearn: 0.4272760\ttotal: 33.6s\tremaining: 33.7s\n",
            "499:\tlearn: 0.4272610\ttotal: 33.6s\tremaining: 33.6s\n",
            "500:\tlearn: 0.4272406\ttotal: 33.7s\tremaining: 33.6s\n",
            "501:\tlearn: 0.4272200\ttotal: 33.8s\tremaining: 33.5s\n",
            "502:\tlearn: 0.4272024\ttotal: 33.8s\tremaining: 33.4s\n",
            "503:\tlearn: 0.4271863\ttotal: 33.9s\tremaining: 33.4s\n",
            "504:\tlearn: 0.4271628\ttotal: 34s\tremaining: 33.3s\n",
            "505:\tlearn: 0.4271540\ttotal: 34s\tremaining: 33.2s\n",
            "506:\tlearn: 0.4271417\ttotal: 34.1s\tremaining: 33.1s\n",
            "507:\tlearn: 0.4271243\ttotal: 34.2s\tremaining: 33.1s\n",
            "508:\tlearn: 0.4271037\ttotal: 34.2s\tremaining: 33s\n",
            "509:\tlearn: 0.4270784\ttotal: 34.3s\tremaining: 32.9s\n",
            "510:\tlearn: 0.4270633\ttotal: 34.4s\tremaining: 32.9s\n",
            "511:\tlearn: 0.4270455\ttotal: 34.4s\tremaining: 32.8s\n",
            "512:\tlearn: 0.4270386\ttotal: 34.5s\tremaining: 32.8s\n",
            "513:\tlearn: 0.4270211\ttotal: 34.6s\tremaining: 32.7s\n",
            "514:\tlearn: 0.4270076\ttotal: 34.6s\tremaining: 32.6s\n",
            "515:\tlearn: 0.4269920\ttotal: 34.7s\tremaining: 32.6s\n",
            "516:\tlearn: 0.4269732\ttotal: 34.8s\tremaining: 32.5s\n",
            "517:\tlearn: 0.4269516\ttotal: 34.8s\tremaining: 32.4s\n",
            "518:\tlearn: 0.4269309\ttotal: 34.9s\tremaining: 32.4s\n",
            "519:\tlearn: 0.4269032\ttotal: 35s\tremaining: 32.3s\n",
            "520:\tlearn: 0.4268880\ttotal: 35s\tremaining: 32.2s\n",
            "521:\tlearn: 0.4268645\ttotal: 35.1s\tremaining: 32.2s\n",
            "522:\tlearn: 0.4268490\ttotal: 35.2s\tremaining: 32.1s\n",
            "523:\tlearn: 0.4268368\ttotal: 35.2s\tremaining: 32s\n",
            "524:\tlearn: 0.4268225\ttotal: 35.3s\tremaining: 31.9s\n",
            "525:\tlearn: 0.4267934\ttotal: 35.4s\tremaining: 31.9s\n",
            "526:\tlearn: 0.4267799\ttotal: 35.4s\tremaining: 31.8s\n",
            "527:\tlearn: 0.4267558\ttotal: 35.5s\tremaining: 31.7s\n",
            "528:\tlearn: 0.4267356\ttotal: 35.6s\tremaining: 31.7s\n",
            "529:\tlearn: 0.4267158\ttotal: 35.6s\tremaining: 31.6s\n",
            "530:\tlearn: 0.4266992\ttotal: 35.7s\tremaining: 31.5s\n",
            "531:\tlearn: 0.4266847\ttotal: 35.8s\tremaining: 31.5s\n",
            "532:\tlearn: 0.4266694\ttotal: 35.8s\tremaining: 31.4s\n",
            "533:\tlearn: 0.4266430\ttotal: 35.9s\tremaining: 31.3s\n",
            "534:\tlearn: 0.4266199\ttotal: 36s\tremaining: 31.3s\n",
            "535:\tlearn: 0.4265995\ttotal: 36.1s\tremaining: 31.2s\n",
            "536:\tlearn: 0.4265808\ttotal: 36.1s\tremaining: 31.1s\n",
            "537:\tlearn: 0.4265696\ttotal: 36.2s\tremaining: 31.1s\n",
            "538:\tlearn: 0.4265536\ttotal: 36.3s\tremaining: 31s\n",
            "539:\tlearn: 0.4265294\ttotal: 36.3s\tremaining: 30.9s\n",
            "540:\tlearn: 0.4265135\ttotal: 36.4s\tremaining: 30.9s\n",
            "541:\tlearn: 0.4264919\ttotal: 36.5s\tremaining: 30.8s\n",
            "542:\tlearn: 0.4264638\ttotal: 36.5s\tremaining: 30.7s\n",
            "543:\tlearn: 0.4264415\ttotal: 36.6s\tremaining: 30.7s\n",
            "544:\tlearn: 0.4264207\ttotal: 36.7s\tremaining: 30.6s\n",
            "545:\tlearn: 0.4264061\ttotal: 36.7s\tremaining: 30.5s\n",
            "546:\tlearn: 0.4263898\ttotal: 36.8s\tremaining: 30.5s\n",
            "547:\tlearn: 0.4263736\ttotal: 36.9s\tremaining: 30.4s\n",
            "548:\tlearn: 0.4263475\ttotal: 36.9s\tremaining: 30.3s\n",
            "549:\tlearn: 0.4263214\ttotal: 37s\tremaining: 30.3s\n",
            "550:\tlearn: 0.4263006\ttotal: 37.1s\tremaining: 30.2s\n",
            "551:\tlearn: 0.4262809\ttotal: 37.1s\tremaining: 30.1s\n",
            "552:\tlearn: 0.4262600\ttotal: 37.2s\tremaining: 30.1s\n",
            "553:\tlearn: 0.4262447\ttotal: 37.3s\tremaining: 30s\n",
            "554:\tlearn: 0.4262251\ttotal: 37.3s\tremaining: 29.9s\n",
            "555:\tlearn: 0.4262110\ttotal: 37.4s\tremaining: 29.9s\n",
            "556:\tlearn: 0.4261924\ttotal: 37.5s\tremaining: 29.8s\n",
            "557:\tlearn: 0.4261671\ttotal: 37.5s\tremaining: 29.7s\n",
            "558:\tlearn: 0.4261516\ttotal: 37.6s\tremaining: 29.7s\n",
            "559:\tlearn: 0.4261383\ttotal: 37.7s\tremaining: 29.6s\n",
            "560:\tlearn: 0.4261182\ttotal: 37.7s\tremaining: 29.5s\n",
            "561:\tlearn: 0.4260974\ttotal: 37.8s\tremaining: 29.5s\n",
            "562:\tlearn: 0.4260811\ttotal: 37.9s\tremaining: 29.4s\n",
            "563:\tlearn: 0.4260634\ttotal: 37.9s\tremaining: 29.3s\n",
            "564:\tlearn: 0.4260433\ttotal: 38s\tremaining: 29.3s\n",
            "565:\tlearn: 0.4260263\ttotal: 38.1s\tremaining: 29.2s\n",
            "566:\tlearn: 0.4260145\ttotal: 38.1s\tremaining: 29.1s\n",
            "567:\tlearn: 0.4259939\ttotal: 38.2s\tremaining: 29.1s\n",
            "568:\tlearn: 0.4259752\ttotal: 38.3s\tremaining: 29s\n",
            "569:\tlearn: 0.4259529\ttotal: 38.3s\tremaining: 28.9s\n",
            "570:\tlearn: 0.4259345\ttotal: 38.4s\tremaining: 28.9s\n",
            "571:\tlearn: 0.4259126\ttotal: 38.5s\tremaining: 28.8s\n",
            "572:\tlearn: 0.4258999\ttotal: 38.5s\tremaining: 28.7s\n",
            "573:\tlearn: 0.4258835\ttotal: 38.6s\tremaining: 28.7s\n",
            "574:\tlearn: 0.4258680\ttotal: 38.7s\tremaining: 28.6s\n",
            "575:\tlearn: 0.4258506\ttotal: 38.8s\tremaining: 28.5s\n",
            "576:\tlearn: 0.4258332\ttotal: 38.8s\tremaining: 28.5s\n",
            "577:\tlearn: 0.4258084\ttotal: 38.9s\tremaining: 28.4s\n",
            "578:\tlearn: 0.4257886\ttotal: 39s\tremaining: 28.3s\n",
            "579:\tlearn: 0.4257716\ttotal: 39s\tremaining: 28.3s\n",
            "580:\tlearn: 0.4257649\ttotal: 39.1s\tremaining: 28.2s\n",
            "581:\tlearn: 0.4257432\ttotal: 39.2s\tremaining: 28.1s\n",
            "582:\tlearn: 0.4257306\ttotal: 39.2s\tremaining: 28.1s\n",
            "583:\tlearn: 0.4257110\ttotal: 39.3s\tremaining: 28s\n",
            "584:\tlearn: 0.4256916\ttotal: 39.4s\tremaining: 27.9s\n",
            "585:\tlearn: 0.4256689\ttotal: 39.4s\tremaining: 27.9s\n",
            "586:\tlearn: 0.4256567\ttotal: 39.5s\tremaining: 27.8s\n",
            "587:\tlearn: 0.4256395\ttotal: 39.6s\tremaining: 27.7s\n",
            "588:\tlearn: 0.4256181\ttotal: 39.6s\tremaining: 27.7s\n",
            "589:\tlearn: 0.4256074\ttotal: 39.7s\tremaining: 27.6s\n",
            "590:\tlearn: 0.4255748\ttotal: 39.8s\tremaining: 27.5s\n",
            "591:\tlearn: 0.4255510\ttotal: 39.8s\tremaining: 27.5s\n",
            "592:\tlearn: 0.4255307\ttotal: 39.9s\tremaining: 27.4s\n",
            "593:\tlearn: 0.4255115\ttotal: 40s\tremaining: 27.3s\n",
            "594:\tlearn: 0.4254941\ttotal: 40s\tremaining: 27.2s\n",
            "595:\tlearn: 0.4254742\ttotal: 40.1s\tremaining: 27.2s\n",
            "596:\tlearn: 0.4254617\ttotal: 40.2s\tremaining: 27.1s\n",
            "597:\tlearn: 0.4254430\ttotal: 40.2s\tremaining: 27s\n",
            "598:\tlearn: 0.4254229\ttotal: 40.3s\tremaining: 27s\n",
            "599:\tlearn: 0.4254163\ttotal: 40.4s\tremaining: 26.9s\n",
            "600:\tlearn: 0.4254044\ttotal: 40.4s\tremaining: 26.8s\n",
            "601:\tlearn: 0.4253808\ttotal: 40.5s\tremaining: 26.8s\n",
            "602:\tlearn: 0.4253659\ttotal: 40.6s\tremaining: 26.7s\n",
            "603:\tlearn: 0.4253463\ttotal: 40.6s\tremaining: 26.6s\n",
            "604:\tlearn: 0.4253331\ttotal: 40.7s\tremaining: 26.6s\n",
            "605:\tlearn: 0.4253107\ttotal: 40.7s\tremaining: 26.5s\n",
            "606:\tlearn: 0.4252820\ttotal: 40.8s\tremaining: 26.4s\n",
            "607:\tlearn: 0.4252700\ttotal: 40.9s\tremaining: 26.4s\n",
            "608:\tlearn: 0.4252565\ttotal: 40.9s\tremaining: 26.3s\n",
            "609:\tlearn: 0.4252352\ttotal: 41s\tremaining: 26.2s\n",
            "610:\tlearn: 0.4252204\ttotal: 41.1s\tremaining: 26.2s\n",
            "611:\tlearn: 0.4251996\ttotal: 41.1s\tremaining: 26.1s\n",
            "612:\tlearn: 0.4251783\ttotal: 41.2s\tremaining: 26s\n",
            "613:\tlearn: 0.4251629\ttotal: 41.3s\tremaining: 25.9s\n",
            "614:\tlearn: 0.4251469\ttotal: 41.3s\tremaining: 25.9s\n",
            "615:\tlearn: 0.4251362\ttotal: 41.4s\tremaining: 25.8s\n",
            "616:\tlearn: 0.4251247\ttotal: 41.5s\tremaining: 25.8s\n",
            "617:\tlearn: 0.4251102\ttotal: 41.6s\tremaining: 25.7s\n",
            "618:\tlearn: 0.4250908\ttotal: 41.6s\tremaining: 25.6s\n",
            "619:\tlearn: 0.4250744\ttotal: 41.7s\tremaining: 25.6s\n",
            "620:\tlearn: 0.4250604\ttotal: 41.8s\tremaining: 25.5s\n",
            "621:\tlearn: 0.4250453\ttotal: 41.8s\tremaining: 25.4s\n",
            "622:\tlearn: 0.4250258\ttotal: 41.9s\tremaining: 25.4s\n",
            "623:\tlearn: 0.4250072\ttotal: 42s\tremaining: 25.3s\n",
            "624:\tlearn: 0.4249824\ttotal: 42s\tremaining: 25.2s\n",
            "625:\tlearn: 0.4249618\ttotal: 42.1s\tremaining: 25.2s\n",
            "626:\tlearn: 0.4249460\ttotal: 42.2s\tremaining: 25.1s\n",
            "627:\tlearn: 0.4249284\ttotal: 42.2s\tremaining: 25s\n",
            "628:\tlearn: 0.4249230\ttotal: 42.3s\tremaining: 25s\n",
            "629:\tlearn: 0.4249041\ttotal: 42.4s\tremaining: 24.9s\n",
            "630:\tlearn: 0.4248925\ttotal: 42.4s\tremaining: 24.8s\n",
            "631:\tlearn: 0.4248743\ttotal: 42.5s\tremaining: 24.8s\n",
            "632:\tlearn: 0.4248646\ttotal: 42.6s\tremaining: 24.7s\n",
            "633:\tlearn: 0.4248444\ttotal: 42.6s\tremaining: 24.6s\n",
            "634:\tlearn: 0.4248314\ttotal: 42.7s\tremaining: 24.5s\n",
            "635:\tlearn: 0.4248121\ttotal: 42.8s\tremaining: 24.5s\n",
            "636:\tlearn: 0.4247902\ttotal: 42.8s\tremaining: 24.4s\n",
            "637:\tlearn: 0.4247597\ttotal: 42.9s\tremaining: 24.3s\n",
            "638:\tlearn: 0.4247487\ttotal: 43s\tremaining: 24.3s\n",
            "639:\tlearn: 0.4247287\ttotal: 43s\tremaining: 24.2s\n",
            "640:\tlearn: 0.4247163\ttotal: 43.1s\tremaining: 24.1s\n",
            "641:\tlearn: 0.4247016\ttotal: 43.2s\tremaining: 24.1s\n",
            "642:\tlearn: 0.4246857\ttotal: 43.2s\tremaining: 24s\n",
            "643:\tlearn: 0.4246665\ttotal: 43.3s\tremaining: 23.9s\n",
            "644:\tlearn: 0.4246501\ttotal: 43.4s\tremaining: 23.9s\n",
            "645:\tlearn: 0.4246351\ttotal: 43.4s\tremaining: 23.8s\n",
            "646:\tlearn: 0.4246242\ttotal: 43.5s\tremaining: 23.7s\n",
            "647:\tlearn: 0.4246070\ttotal: 43.6s\tremaining: 23.7s\n",
            "648:\tlearn: 0.4245851\ttotal: 43.6s\tremaining: 23.6s\n",
            "649:\tlearn: 0.4245649\ttotal: 43.7s\tremaining: 23.5s\n",
            "650:\tlearn: 0.4245483\ttotal: 43.8s\tremaining: 23.5s\n",
            "651:\tlearn: 0.4245324\ttotal: 43.8s\tremaining: 23.4s\n",
            "652:\tlearn: 0.4245150\ttotal: 43.9s\tremaining: 23.3s\n",
            "653:\tlearn: 0.4245059\ttotal: 44s\tremaining: 23.3s\n",
            "654:\tlearn: 0.4244854\ttotal: 44s\tremaining: 23.2s\n",
            "655:\tlearn: 0.4244736\ttotal: 44.1s\tremaining: 23.1s\n",
            "656:\tlearn: 0.4244472\ttotal: 44.2s\tremaining: 23.1s\n",
            "657:\tlearn: 0.4244214\ttotal: 44.2s\tremaining: 23s\n",
            "658:\tlearn: 0.4244020\ttotal: 44.3s\tremaining: 22.9s\n",
            "659:\tlearn: 0.4243874\ttotal: 44.4s\tremaining: 22.9s\n",
            "660:\tlearn: 0.4243662\ttotal: 44.5s\tremaining: 22.8s\n",
            "661:\tlearn: 0.4243459\ttotal: 44.5s\tremaining: 22.7s\n",
            "662:\tlearn: 0.4243294\ttotal: 44.6s\tremaining: 22.7s\n",
            "663:\tlearn: 0.4243139\ttotal: 44.7s\tremaining: 22.6s\n",
            "664:\tlearn: 0.4242961\ttotal: 44.7s\tremaining: 22.5s\n",
            "665:\tlearn: 0.4242718\ttotal: 44.8s\tremaining: 22.5s\n",
            "666:\tlearn: 0.4242562\ttotal: 44.9s\tremaining: 22.4s\n",
            "667:\tlearn: 0.4242362\ttotal: 44.9s\tremaining: 22.3s\n",
            "668:\tlearn: 0.4242120\ttotal: 45s\tremaining: 22.3s\n",
            "669:\tlearn: 0.4241912\ttotal: 45.1s\tremaining: 22.2s\n",
            "670:\tlearn: 0.4241709\ttotal: 45.1s\tremaining: 22.1s\n",
            "671:\tlearn: 0.4241567\ttotal: 45.2s\tremaining: 22.1s\n",
            "672:\tlearn: 0.4241370\ttotal: 45.3s\tremaining: 22s\n",
            "673:\tlearn: 0.4241180\ttotal: 45.3s\tremaining: 21.9s\n",
            "674:\tlearn: 0.4240947\ttotal: 45.4s\tremaining: 21.9s\n",
            "675:\tlearn: 0.4240805\ttotal: 45.5s\tremaining: 21.8s\n",
            "676:\tlearn: 0.4240542\ttotal: 45.5s\tremaining: 21.7s\n",
            "677:\tlearn: 0.4240354\ttotal: 45.6s\tremaining: 21.7s\n",
            "678:\tlearn: 0.4240238\ttotal: 45.7s\tremaining: 21.6s\n",
            "679:\tlearn: 0.4240088\ttotal: 45.8s\tremaining: 21.5s\n",
            "680:\tlearn: 0.4239882\ttotal: 45.8s\tremaining: 21.5s\n",
            "681:\tlearn: 0.4239725\ttotal: 45.9s\tremaining: 21.4s\n",
            "682:\tlearn: 0.4239424\ttotal: 46s\tremaining: 21.3s\n",
            "683:\tlearn: 0.4239269\ttotal: 46s\tremaining: 21.3s\n",
            "684:\tlearn: 0.4239165\ttotal: 46.1s\tremaining: 21.2s\n",
            "685:\tlearn: 0.4239047\ttotal: 46.2s\tremaining: 21.1s\n",
            "686:\tlearn: 0.4238897\ttotal: 46.2s\tremaining: 21.1s\n",
            "687:\tlearn: 0.4238648\ttotal: 46.3s\tremaining: 21s\n",
            "688:\tlearn: 0.4238482\ttotal: 46.4s\tremaining: 20.9s\n",
            "689:\tlearn: 0.4238380\ttotal: 46.4s\tremaining: 20.9s\n",
            "690:\tlearn: 0.4238211\ttotal: 46.5s\tremaining: 20.8s\n",
            "691:\tlearn: 0.4238058\ttotal: 46.6s\tremaining: 20.7s\n",
            "692:\tlearn: 0.4237863\ttotal: 46.6s\tremaining: 20.7s\n",
            "693:\tlearn: 0.4237680\ttotal: 46.7s\tremaining: 20.6s\n",
            "694:\tlearn: 0.4237555\ttotal: 46.8s\tremaining: 20.5s\n",
            "695:\tlearn: 0.4237421\ttotal: 46.8s\tremaining: 20.5s\n",
            "696:\tlearn: 0.4237213\ttotal: 46.9s\tremaining: 20.4s\n",
            "697:\tlearn: 0.4237061\ttotal: 47s\tremaining: 20.3s\n",
            "698:\tlearn: 0.4236907\ttotal: 47s\tremaining: 20.3s\n",
            "699:\tlearn: 0.4236679\ttotal: 47.1s\tremaining: 20.2s\n",
            "700:\tlearn: 0.4236480\ttotal: 47.2s\tremaining: 20.1s\n",
            "701:\tlearn: 0.4236275\ttotal: 47.2s\tremaining: 20.1s\n",
            "702:\tlearn: 0.4236085\ttotal: 47.3s\tremaining: 20s\n",
            "703:\tlearn: 0.4235885\ttotal: 47.4s\tremaining: 19.9s\n",
            "704:\tlearn: 0.4235627\ttotal: 47.4s\tremaining: 19.9s\n",
            "705:\tlearn: 0.4235457\ttotal: 47.5s\tremaining: 19.8s\n",
            "706:\tlearn: 0.4235193\ttotal: 47.6s\tremaining: 19.7s\n",
            "707:\tlearn: 0.4235042\ttotal: 47.7s\tremaining: 19.7s\n",
            "708:\tlearn: 0.4234898\ttotal: 47.7s\tremaining: 19.6s\n",
            "709:\tlearn: 0.4234654\ttotal: 47.8s\tremaining: 19.5s\n",
            "710:\tlearn: 0.4234415\ttotal: 47.9s\tremaining: 19.5s\n",
            "711:\tlearn: 0.4234194\ttotal: 47.9s\tremaining: 19.4s\n",
            "712:\tlearn: 0.4234051\ttotal: 48s\tremaining: 19.3s\n",
            "713:\tlearn: 0.4233893\ttotal: 48.1s\tremaining: 19.3s\n",
            "714:\tlearn: 0.4233683\ttotal: 48.1s\tremaining: 19.2s\n",
            "715:\tlearn: 0.4233565\ttotal: 48.2s\tremaining: 19.1s\n",
            "716:\tlearn: 0.4233426\ttotal: 48.3s\tremaining: 19s\n",
            "717:\tlearn: 0.4233236\ttotal: 48.3s\tremaining: 19s\n",
            "718:\tlearn: 0.4232993\ttotal: 48.4s\tremaining: 18.9s\n",
            "719:\tlearn: 0.4232826\ttotal: 48.5s\tremaining: 18.8s\n",
            "720:\tlearn: 0.4232605\ttotal: 48.5s\tremaining: 18.8s\n",
            "721:\tlearn: 0.4232445\ttotal: 48.6s\tremaining: 18.7s\n",
            "722:\tlearn: 0.4232272\ttotal: 48.7s\tremaining: 18.6s\n",
            "723:\tlearn: 0.4232156\ttotal: 48.7s\tremaining: 18.6s\n",
            "724:\tlearn: 0.4231980\ttotal: 48.8s\tremaining: 18.5s\n",
            "725:\tlearn: 0.4231774\ttotal: 48.9s\tremaining: 18.4s\n",
            "726:\tlearn: 0.4231495\ttotal: 48.9s\tremaining: 18.4s\n",
            "727:\tlearn: 0.4231297\ttotal: 49s\tremaining: 18.3s\n",
            "728:\tlearn: 0.4231126\ttotal: 49.1s\tremaining: 18.2s\n",
            "729:\tlearn: 0.4231015\ttotal: 49.1s\tremaining: 18.2s\n",
            "730:\tlearn: 0.4230914\ttotal: 49.2s\tremaining: 18.1s\n",
            "731:\tlearn: 0.4230743\ttotal: 49.2s\tremaining: 18s\n",
            "732:\tlearn: 0.4230498\ttotal: 49.3s\tremaining: 18s\n",
            "733:\tlearn: 0.4230317\ttotal: 49.4s\tremaining: 17.9s\n",
            "734:\tlearn: 0.4230184\ttotal: 49.4s\tremaining: 17.8s\n",
            "735:\tlearn: 0.4229909\ttotal: 49.5s\tremaining: 17.8s\n",
            "736:\tlearn: 0.4229795\ttotal: 49.6s\tremaining: 17.7s\n",
            "737:\tlearn: 0.4229566\ttotal: 49.6s\tremaining: 17.6s\n",
            "738:\tlearn: 0.4229417\ttotal: 49.7s\tremaining: 17.6s\n",
            "739:\tlearn: 0.4229218\ttotal: 49.8s\tremaining: 17.5s\n",
            "740:\tlearn: 0.4229063\ttotal: 49.8s\tremaining: 17.4s\n",
            "741:\tlearn: 0.4228914\ttotal: 49.9s\tremaining: 17.4s\n",
            "742:\tlearn: 0.4228688\ttotal: 50s\tremaining: 17.3s\n",
            "743:\tlearn: 0.4228514\ttotal: 50.1s\tremaining: 17.2s\n",
            "744:\tlearn: 0.4228436\ttotal: 50.1s\tremaining: 17.2s\n",
            "745:\tlearn: 0.4228252\ttotal: 50.2s\tremaining: 17.1s\n",
            "746:\tlearn: 0.4228096\ttotal: 50.3s\tremaining: 17s\n",
            "747:\tlearn: 0.4227851\ttotal: 50.3s\tremaining: 17s\n",
            "748:\tlearn: 0.4227707\ttotal: 50.4s\tremaining: 16.9s\n",
            "749:\tlearn: 0.4227528\ttotal: 50.5s\tremaining: 16.8s\n",
            "750:\tlearn: 0.4227350\ttotal: 50.5s\tremaining: 16.8s\n",
            "751:\tlearn: 0.4227236\ttotal: 50.6s\tremaining: 16.7s\n",
            "752:\tlearn: 0.4227024\ttotal: 50.7s\tremaining: 16.6s\n",
            "753:\tlearn: 0.4226823\ttotal: 50.7s\tremaining: 16.6s\n",
            "754:\tlearn: 0.4226692\ttotal: 50.8s\tremaining: 16.5s\n",
            "755:\tlearn: 0.4226501\ttotal: 50.9s\tremaining: 16.4s\n",
            "756:\tlearn: 0.4226282\ttotal: 50.9s\tremaining: 16.4s\n",
            "757:\tlearn: 0.4226164\ttotal: 51s\tremaining: 16.3s\n",
            "758:\tlearn: 0.4225990\ttotal: 51.1s\tremaining: 16.2s\n",
            "759:\tlearn: 0.4225846\ttotal: 51.2s\tremaining: 16.2s\n",
            "760:\tlearn: 0.4225628\ttotal: 51.2s\tremaining: 16.1s\n",
            "761:\tlearn: 0.4225403\ttotal: 51.3s\tremaining: 16s\n",
            "762:\tlearn: 0.4225188\ttotal: 51.4s\tremaining: 16s\n",
            "763:\tlearn: 0.4224915\ttotal: 51.4s\tremaining: 15.9s\n",
            "764:\tlearn: 0.4224842\ttotal: 51.5s\tremaining: 15.8s\n",
            "765:\tlearn: 0.4224641\ttotal: 51.6s\tremaining: 15.8s\n",
            "766:\tlearn: 0.4224449\ttotal: 51.6s\tremaining: 15.7s\n",
            "767:\tlearn: 0.4224264\ttotal: 51.7s\tremaining: 15.6s\n",
            "768:\tlearn: 0.4224066\ttotal: 51.8s\tremaining: 15.5s\n",
            "769:\tlearn: 0.4223835\ttotal: 51.8s\tremaining: 15.5s\n",
            "770:\tlearn: 0.4223671\ttotal: 51.9s\tremaining: 15.4s\n",
            "771:\tlearn: 0.4223455\ttotal: 52s\tremaining: 15.3s\n",
            "772:\tlearn: 0.4223333\ttotal: 52s\tremaining: 15.3s\n",
            "773:\tlearn: 0.4223198\ttotal: 52.1s\tremaining: 15.2s\n",
            "774:\tlearn: 0.4223062\ttotal: 52.2s\tremaining: 15.1s\n",
            "775:\tlearn: 0.4222918\ttotal: 52.2s\tremaining: 15.1s\n",
            "776:\tlearn: 0.4222797\ttotal: 52.3s\tremaining: 15s\n",
            "777:\tlearn: 0.4222589\ttotal: 52.4s\tremaining: 14.9s\n",
            "778:\tlearn: 0.4222496\ttotal: 52.4s\tremaining: 14.9s\n",
            "779:\tlearn: 0.4222413\ttotal: 52.5s\tremaining: 14.8s\n",
            "780:\tlearn: 0.4222216\ttotal: 52.6s\tremaining: 14.7s\n",
            "781:\tlearn: 0.4222087\ttotal: 52.7s\tremaining: 14.7s\n",
            "782:\tlearn: 0.4221946\ttotal: 52.7s\tremaining: 14.6s\n",
            "783:\tlearn: 0.4221807\ttotal: 52.8s\tremaining: 14.5s\n",
            "784:\tlearn: 0.4221649\ttotal: 52.9s\tremaining: 14.5s\n",
            "785:\tlearn: 0.4221497\ttotal: 52.9s\tremaining: 14.4s\n",
            "786:\tlearn: 0.4221399\ttotal: 53s\tremaining: 14.3s\n",
            "787:\tlearn: 0.4221235\ttotal: 53.1s\tremaining: 14.3s\n",
            "788:\tlearn: 0.4221091\ttotal: 53.1s\tremaining: 14.2s\n",
            "789:\tlearn: 0.4220934\ttotal: 53.2s\tremaining: 14.1s\n",
            "790:\tlearn: 0.4220799\ttotal: 53.3s\tremaining: 14.1s\n",
            "791:\tlearn: 0.4220633\ttotal: 53.3s\tremaining: 14s\n",
            "792:\tlearn: 0.4220449\ttotal: 53.4s\tremaining: 13.9s\n",
            "793:\tlearn: 0.4220208\ttotal: 53.5s\tremaining: 13.9s\n",
            "794:\tlearn: 0.4220100\ttotal: 53.5s\tremaining: 13.8s\n",
            "795:\tlearn: 0.4219916\ttotal: 53.6s\tremaining: 13.7s\n",
            "796:\tlearn: 0.4219776\ttotal: 53.7s\tremaining: 13.7s\n",
            "797:\tlearn: 0.4219566\ttotal: 53.8s\tremaining: 13.6s\n",
            "798:\tlearn: 0.4219417\ttotal: 53.8s\tremaining: 13.5s\n",
            "799:\tlearn: 0.4219183\ttotal: 53.9s\tremaining: 13.5s\n",
            "800:\tlearn: 0.4219083\ttotal: 54s\tremaining: 13.4s\n",
            "801:\tlearn: 0.4218895\ttotal: 54s\tremaining: 13.3s\n",
            "802:\tlearn: 0.4218722\ttotal: 54.1s\tremaining: 13.3s\n",
            "803:\tlearn: 0.4218581\ttotal: 54.2s\tremaining: 13.2s\n",
            "804:\tlearn: 0.4218445\ttotal: 54.2s\tremaining: 13.1s\n",
            "805:\tlearn: 0.4218349\ttotal: 54.3s\tremaining: 13.1s\n",
            "806:\tlearn: 0.4218163\ttotal: 54.4s\tremaining: 13s\n",
            "807:\tlearn: 0.4218007\ttotal: 54.4s\tremaining: 12.9s\n",
            "808:\tlearn: 0.4217833\ttotal: 54.5s\tremaining: 12.9s\n",
            "809:\tlearn: 0.4217644\ttotal: 54.6s\tremaining: 12.8s\n",
            "810:\tlearn: 0.4217495\ttotal: 54.6s\tremaining: 12.7s\n",
            "811:\tlearn: 0.4217260\ttotal: 54.7s\tremaining: 12.7s\n",
            "812:\tlearn: 0.4217143\ttotal: 54.8s\tremaining: 12.6s\n",
            "813:\tlearn: 0.4216985\ttotal: 54.8s\tremaining: 12.5s\n",
            "814:\tlearn: 0.4216793\ttotal: 54.9s\tremaining: 12.5s\n",
            "815:\tlearn: 0.4216490\ttotal: 55s\tremaining: 12.4s\n",
            "816:\tlearn: 0.4216291\ttotal: 55s\tremaining: 12.3s\n",
            "817:\tlearn: 0.4216080\ttotal: 55.1s\tremaining: 12.3s\n",
            "818:\tlearn: 0.4215920\ttotal: 55.2s\tremaining: 12.2s\n",
            "819:\tlearn: 0.4215797\ttotal: 55.2s\tremaining: 12.1s\n",
            "820:\tlearn: 0.4215647\ttotal: 55.3s\tremaining: 12.1s\n",
            "821:\tlearn: 0.4215566\ttotal: 55.4s\tremaining: 12s\n",
            "822:\tlearn: 0.4215385\ttotal: 55.4s\tremaining: 11.9s\n",
            "823:\tlearn: 0.4215183\ttotal: 55.5s\tremaining: 11.9s\n",
            "824:\tlearn: 0.4214999\ttotal: 55.6s\tremaining: 11.8s\n",
            "825:\tlearn: 0.4214745\ttotal: 55.7s\tremaining: 11.7s\n",
            "826:\tlearn: 0.4214575\ttotal: 55.7s\tremaining: 11.7s\n",
            "827:\tlearn: 0.4214417\ttotal: 55.8s\tremaining: 11.6s\n",
            "828:\tlearn: 0.4214195\ttotal: 55.9s\tremaining: 11.5s\n",
            "829:\tlearn: 0.4214045\ttotal: 55.9s\tremaining: 11.5s\n",
            "830:\tlearn: 0.4213881\ttotal: 56s\tremaining: 11.4s\n",
            "831:\tlearn: 0.4213803\ttotal: 56.1s\tremaining: 11.3s\n",
            "832:\tlearn: 0.4213609\ttotal: 56.1s\tremaining: 11.3s\n",
            "833:\tlearn: 0.4213470\ttotal: 56.2s\tremaining: 11.2s\n",
            "834:\tlearn: 0.4213417\ttotal: 56.3s\tremaining: 11.1s\n",
            "835:\tlearn: 0.4213292\ttotal: 56.4s\tremaining: 11.1s\n",
            "836:\tlearn: 0.4213071\ttotal: 56.4s\tremaining: 11s\n",
            "837:\tlearn: 0.4212793\ttotal: 56.5s\tremaining: 10.9s\n",
            "838:\tlearn: 0.4212592\ttotal: 56.5s\tremaining: 10.9s\n",
            "839:\tlearn: 0.4212497\ttotal: 56.6s\tremaining: 10.8s\n",
            "840:\tlearn: 0.4212335\ttotal: 56.7s\tremaining: 10.7s\n",
            "841:\tlearn: 0.4212149\ttotal: 56.8s\tremaining: 10.6s\n",
            "842:\tlearn: 0.4212020\ttotal: 56.8s\tremaining: 10.6s\n",
            "843:\tlearn: 0.4211757\ttotal: 56.9s\tremaining: 10.5s\n",
            "844:\tlearn: 0.4211578\ttotal: 57s\tremaining: 10.4s\n",
            "845:\tlearn: 0.4211431\ttotal: 57s\tremaining: 10.4s\n",
            "846:\tlearn: 0.4211221\ttotal: 57.1s\tremaining: 10.3s\n",
            "847:\tlearn: 0.4211003\ttotal: 57.2s\tremaining: 10.2s\n",
            "848:\tlearn: 0.4210793\ttotal: 57.2s\tremaining: 10.2s\n",
            "849:\tlearn: 0.4210608\ttotal: 57.3s\tremaining: 10.1s\n",
            "850:\tlearn: 0.4210431\ttotal: 57.4s\tremaining: 10s\n",
            "851:\tlearn: 0.4210242\ttotal: 57.4s\tremaining: 9.98s\n",
            "852:\tlearn: 0.4210137\ttotal: 57.5s\tremaining: 9.91s\n",
            "853:\tlearn: 0.4209918\ttotal: 57.6s\tremaining: 9.84s\n",
            "854:\tlearn: 0.4209788\ttotal: 57.7s\tremaining: 9.78s\n",
            "855:\tlearn: 0.4209601\ttotal: 57.7s\tremaining: 9.71s\n",
            "856:\tlearn: 0.4209433\ttotal: 57.8s\tremaining: 9.64s\n",
            "857:\tlearn: 0.4209251\ttotal: 57.9s\tremaining: 9.58s\n",
            "858:\tlearn: 0.4209062\ttotal: 57.9s\tremaining: 9.51s\n",
            "859:\tlearn: 0.4208918\ttotal: 58s\tremaining: 9.44s\n",
            "860:\tlearn: 0.4208757\ttotal: 58.1s\tremaining: 9.37s\n",
            "861:\tlearn: 0.4208594\ttotal: 58.1s\tremaining: 9.3s\n",
            "862:\tlearn: 0.4208478\ttotal: 58.2s\tremaining: 9.24s\n",
            "863:\tlearn: 0.4208315\ttotal: 58.3s\tremaining: 9.17s\n",
            "864:\tlearn: 0.4208201\ttotal: 58.3s\tremaining: 9.1s\n",
            "865:\tlearn: 0.4208023\ttotal: 58.4s\tremaining: 9.04s\n",
            "866:\tlearn: 0.4207937\ttotal: 58.5s\tremaining: 8.97s\n",
            "867:\tlearn: 0.4207749\ttotal: 58.5s\tremaining: 8.9s\n",
            "868:\tlearn: 0.4207613\ttotal: 58.6s\tremaining: 8.83s\n",
            "869:\tlearn: 0.4207472\ttotal: 58.7s\tremaining: 8.77s\n",
            "870:\tlearn: 0.4207279\ttotal: 58.7s\tremaining: 8.7s\n",
            "871:\tlearn: 0.4207054\ttotal: 58.8s\tremaining: 8.63s\n",
            "872:\tlearn: 0.4206897\ttotal: 58.9s\tremaining: 8.56s\n",
            "873:\tlearn: 0.4206743\ttotal: 58.9s\tremaining: 8.49s\n",
            "874:\tlearn: 0.4206568\ttotal: 59s\tremaining: 8.43s\n",
            "875:\tlearn: 0.4206420\ttotal: 59.1s\tremaining: 8.36s\n",
            "876:\tlearn: 0.4206226\ttotal: 59.1s\tremaining: 8.29s\n",
            "877:\tlearn: 0.4206104\ttotal: 59.2s\tremaining: 8.23s\n",
            "878:\tlearn: 0.4205933\ttotal: 59.3s\tremaining: 8.16s\n",
            "879:\tlearn: 0.4205755\ttotal: 59.3s\tremaining: 8.09s\n",
            "880:\tlearn: 0.4205581\ttotal: 59.4s\tremaining: 8.02s\n",
            "881:\tlearn: 0.4205441\ttotal: 59.5s\tremaining: 7.96s\n",
            "882:\tlearn: 0.4205321\ttotal: 59.5s\tremaining: 7.89s\n",
            "883:\tlearn: 0.4205118\ttotal: 59.6s\tremaining: 7.82s\n",
            "884:\tlearn: 0.4204923\ttotal: 59.7s\tremaining: 7.75s\n",
            "885:\tlearn: 0.4204727\ttotal: 59.7s\tremaining: 7.69s\n",
            "886:\tlearn: 0.4204618\ttotal: 59.8s\tremaining: 7.62s\n",
            "887:\tlearn: 0.4204430\ttotal: 59.9s\tremaining: 7.55s\n",
            "888:\tlearn: 0.4204271\ttotal: 59.9s\tremaining: 7.49s\n",
            "889:\tlearn: 0.4204155\ttotal: 1m\tremaining: 7.42s\n",
            "890:\tlearn: 0.4204029\ttotal: 1m\tremaining: 7.35s\n",
            "891:\tlearn: 0.4203882\ttotal: 1m\tremaining: 7.28s\n",
            "892:\tlearn: 0.4203718\ttotal: 1m\tremaining: 7.21s\n",
            "893:\tlearn: 0.4203592\ttotal: 1m\tremaining: 7.15s\n",
            "894:\tlearn: 0.4203407\ttotal: 1m\tremaining: 7.08s\n",
            "895:\tlearn: 0.4203235\ttotal: 1m\tremaining: 7.01s\n",
            "896:\tlearn: 0.4203012\ttotal: 1m\tremaining: 6.95s\n",
            "897:\tlearn: 0.4202807\ttotal: 1m\tremaining: 6.88s\n",
            "898:\tlearn: 0.4202607\ttotal: 1m\tremaining: 6.81s\n",
            "899:\tlearn: 0.4202445\ttotal: 1m\tremaining: 6.74s\n",
            "900:\tlearn: 0.4202289\ttotal: 1m\tremaining: 6.68s\n",
            "901:\tlearn: 0.4202162\ttotal: 1m\tremaining: 6.61s\n",
            "902:\tlearn: 0.4202019\ttotal: 1m\tremaining: 6.54s\n",
            "903:\tlearn: 0.4201883\ttotal: 1m\tremaining: 6.47s\n",
            "904:\tlearn: 0.4201774\ttotal: 1m 1s\tremaining: 6.41s\n",
            "905:\tlearn: 0.4201578\ttotal: 1m 1s\tremaining: 6.34s\n",
            "906:\tlearn: 0.4201401\ttotal: 1m 1s\tremaining: 6.27s\n",
            "907:\tlearn: 0.4201272\ttotal: 1m 1s\tremaining: 6.21s\n",
            "908:\tlearn: 0.4201114\ttotal: 1m 1s\tremaining: 6.14s\n",
            "909:\tlearn: 0.4200927\ttotal: 1m 1s\tremaining: 6.07s\n",
            "910:\tlearn: 0.4200801\ttotal: 1m 1s\tremaining: 6s\n",
            "911:\tlearn: 0.4200584\ttotal: 1m 1s\tremaining: 5.93s\n",
            "912:\tlearn: 0.4200354\ttotal: 1m 1s\tremaining: 5.87s\n",
            "913:\tlearn: 0.4200173\ttotal: 1m 1s\tremaining: 5.8s\n",
            "914:\tlearn: 0.4199891\ttotal: 1m 1s\tremaining: 5.73s\n",
            "915:\tlearn: 0.4199745\ttotal: 1m 1s\tremaining: 5.67s\n",
            "916:\tlearn: 0.4199618\ttotal: 1m 1s\tremaining: 5.6s\n",
            "917:\tlearn: 0.4199466\ttotal: 1m 1s\tremaining: 5.53s\n",
            "918:\tlearn: 0.4199373\ttotal: 1m 1s\tremaining: 5.46s\n",
            "919:\tlearn: 0.4199166\ttotal: 1m 2s\tremaining: 5.4s\n",
            "920:\tlearn: 0.4198942\ttotal: 1m 2s\tremaining: 5.33s\n",
            "921:\tlearn: 0.4198814\ttotal: 1m 2s\tremaining: 5.26s\n",
            "922:\tlearn: 0.4198637\ttotal: 1m 2s\tremaining: 5.19s\n",
            "923:\tlearn: 0.4198497\ttotal: 1m 2s\tremaining: 5.13s\n",
            "924:\tlearn: 0.4198343\ttotal: 1m 2s\tremaining: 5.06s\n",
            "925:\tlearn: 0.4198209\ttotal: 1m 2s\tremaining: 4.99s\n",
            "926:\tlearn: 0.4197982\ttotal: 1m 2s\tremaining: 4.92s\n",
            "927:\tlearn: 0.4197865\ttotal: 1m 2s\tremaining: 4.86s\n",
            "928:\tlearn: 0.4197724\ttotal: 1m 2s\tremaining: 4.79s\n",
            "929:\tlearn: 0.4197613\ttotal: 1m 2s\tremaining: 4.72s\n",
            "930:\tlearn: 0.4197453\ttotal: 1m 2s\tremaining: 4.66s\n",
            "931:\tlearn: 0.4197268\ttotal: 1m 2s\tremaining: 4.59s\n",
            "932:\tlearn: 0.4197167\ttotal: 1m 2s\tremaining: 4.52s\n",
            "933:\tlearn: 0.4197002\ttotal: 1m 3s\tremaining: 4.45s\n",
            "934:\tlearn: 0.4196782\ttotal: 1m 3s\tremaining: 4.38s\n",
            "935:\tlearn: 0.4196660\ttotal: 1m 3s\tremaining: 4.32s\n",
            "936:\tlearn: 0.4196451\ttotal: 1m 3s\tremaining: 4.25s\n",
            "937:\tlearn: 0.4196278\ttotal: 1m 3s\tremaining: 4.18s\n",
            "938:\tlearn: 0.4196053\ttotal: 1m 3s\tremaining: 4.12s\n",
            "939:\tlearn: 0.4195844\ttotal: 1m 3s\tremaining: 4.05s\n",
            "940:\tlearn: 0.4195664\ttotal: 1m 3s\tremaining: 3.98s\n",
            "941:\tlearn: 0.4195493\ttotal: 1m 3s\tremaining: 3.91s\n",
            "942:\tlearn: 0.4195280\ttotal: 1m 3s\tremaining: 3.85s\n",
            "943:\tlearn: 0.4195105\ttotal: 1m 3s\tremaining: 3.78s\n",
            "944:\tlearn: 0.4195059\ttotal: 1m 3s\tremaining: 3.71s\n",
            "945:\tlearn: 0.4194878\ttotal: 1m 3s\tremaining: 3.64s\n",
            "946:\tlearn: 0.4194678\ttotal: 1m 3s\tremaining: 3.58s\n",
            "947:\tlearn: 0.4194513\ttotal: 1m 3s\tremaining: 3.51s\n",
            "948:\tlearn: 0.4194379\ttotal: 1m 4s\tremaining: 3.44s\n",
            "949:\tlearn: 0.4194272\ttotal: 1m 4s\tremaining: 3.37s\n",
            "950:\tlearn: 0.4194171\ttotal: 1m 4s\tremaining: 3.31s\n",
            "951:\tlearn: 0.4193996\ttotal: 1m 4s\tremaining: 3.24s\n",
            "952:\tlearn: 0.4193937\ttotal: 1m 4s\tremaining: 3.17s\n",
            "953:\tlearn: 0.4193718\ttotal: 1m 4s\tremaining: 3.1s\n",
            "954:\tlearn: 0.4193474\ttotal: 1m 4s\tremaining: 3.04s\n",
            "955:\tlearn: 0.4193324\ttotal: 1m 4s\tremaining: 2.97s\n",
            "956:\tlearn: 0.4193194\ttotal: 1m 4s\tremaining: 2.9s\n",
            "957:\tlearn: 0.4193062\ttotal: 1m 4s\tremaining: 2.83s\n",
            "958:\tlearn: 0.4192866\ttotal: 1m 4s\tremaining: 2.77s\n",
            "959:\tlearn: 0.4192718\ttotal: 1m 4s\tremaining: 2.7s\n",
            "960:\tlearn: 0.4192551\ttotal: 1m 4s\tremaining: 2.63s\n",
            "961:\tlearn: 0.4192506\ttotal: 1m 4s\tremaining: 2.56s\n",
            "962:\tlearn: 0.4192365\ttotal: 1m 4s\tremaining: 2.5s\n",
            "963:\tlearn: 0.4192197\ttotal: 1m 5s\tremaining: 2.43s\n",
            "964:\tlearn: 0.4191956\ttotal: 1m 5s\tremaining: 2.36s\n",
            "965:\tlearn: 0.4191801\ttotal: 1m 5s\tremaining: 2.29s\n",
            "966:\tlearn: 0.4191652\ttotal: 1m 5s\tremaining: 2.23s\n",
            "967:\tlearn: 0.4191545\ttotal: 1m 5s\tremaining: 2.16s\n",
            "968:\tlearn: 0.4191339\ttotal: 1m 5s\tremaining: 2.09s\n",
            "969:\tlearn: 0.4191251\ttotal: 1m 5s\tremaining: 2.02s\n",
            "970:\tlearn: 0.4191151\ttotal: 1m 5s\tremaining: 1.96s\n",
            "971:\tlearn: 0.4191004\ttotal: 1m 5s\tremaining: 1.89s\n",
            "972:\tlearn: 0.4190835\ttotal: 1m 5s\tremaining: 1.82s\n",
            "973:\tlearn: 0.4190656\ttotal: 1m 5s\tremaining: 1.75s\n",
            "974:\tlearn: 0.4190460\ttotal: 1m 5s\tremaining: 1.69s\n",
            "975:\tlearn: 0.4190251\ttotal: 1m 5s\tremaining: 1.62s\n",
            "976:\tlearn: 0.4190060\ttotal: 1m 5s\tremaining: 1.55s\n",
            "977:\tlearn: 0.4189825\ttotal: 1m 5s\tremaining: 1.48s\n",
            "978:\tlearn: 0.4189669\ttotal: 1m 6s\tremaining: 1.42s\n",
            "979:\tlearn: 0.4189460\ttotal: 1m 6s\tremaining: 1.35s\n",
            "980:\tlearn: 0.4189367\ttotal: 1m 6s\tremaining: 1.28s\n",
            "981:\tlearn: 0.4189215\ttotal: 1m 6s\tremaining: 1.21s\n",
            "982:\tlearn: 0.4189109\ttotal: 1m 6s\tremaining: 1.15s\n",
            "983:\tlearn: 0.4188965\ttotal: 1m 6s\tremaining: 1.08s\n",
            "984:\tlearn: 0.4188864\ttotal: 1m 6s\tremaining: 1.01s\n",
            "985:\tlearn: 0.4188803\ttotal: 1m 6s\tremaining: 944ms\n",
            "986:\tlearn: 0.4188700\ttotal: 1m 6s\tremaining: 877ms\n",
            "987:\tlearn: 0.4188557\ttotal: 1m 6s\tremaining: 809ms\n",
            "988:\tlearn: 0.4188356\ttotal: 1m 6s\tremaining: 742ms\n",
            "989:\tlearn: 0.4188224\ttotal: 1m 6s\tremaining: 675ms\n",
            "990:\tlearn: 0.4187997\ttotal: 1m 6s\tremaining: 607ms\n",
            "991:\tlearn: 0.4187774\ttotal: 1m 6s\tremaining: 540ms\n",
            "992:\tlearn: 0.4187634\ttotal: 1m 7s\tremaining: 473ms\n",
            "993:\tlearn: 0.4187458\ttotal: 1m 7s\tremaining: 405ms\n",
            "994:\tlearn: 0.4187336\ttotal: 1m 7s\tremaining: 337ms\n",
            "995:\tlearn: 0.4187183\ttotal: 1m 7s\tremaining: 270ms\n",
            "996:\tlearn: 0.4187047\ttotal: 1m 7s\tremaining: 203ms\n",
            "997:\tlearn: 0.4186912\ttotal: 1m 7s\tremaining: 135ms\n",
            "998:\tlearn: 0.4186791\ttotal: 1m 7s\tremaining: 67.5ms\n",
            "999:\tlearn: 0.4186585\ttotal: 1m 7s\tremaining: 0us\n",
            "computing CatBoostClassifier - im-balanced \n",
            "computing extra_tree_forest - im-balanced \n"
          ],
          "name": "stdout"
        },
        {
          "output_type": "display_data",
          "data": {
            "image/png": "[encoded data removed]",
            "text/plain": [
              "<Figure size 432x432 with 1 Axes>"
            ]
          },
          "metadata": {
            "tags": []
          }
        }
      ]
    },
    {
      "cell_type": "code",
      "metadata": {
        "colab": {
          "base_uri": "https://localhost:8080/",
          "height": 257
        },
        "id": "c8HAq0MAWAIw",
        "outputId": "815e1fbe-40c3-48e6-a62d-ae0857a13ebe"
      },
      "source": [
        "models_report"
      ],
      "execution_count": 157,
      "outputs": [
        {
          "output_type": "execute_result",
          "data": {
            "text/html": [
              "<div>\n",
              "<style scoped>\n",
              "    .dataframe tbody tr th:only-of-type {\n",
              "        vertical-align: middle;\n",
              "    }\n",
              "\n",
              "    .dataframe tbody tr th {\n",
              "        vertical-align: top;\n",
              "    }\n",
              "\n",
              "    .dataframe thead th {\n",
              "        text-align: right;\n",
              "    }\n",
              "</style>\n",
              "<table border=\"1\" class=\"dataframe\">\n",
              "  <thead>\n",
              "    <tr style=\"text-align: right;\">\n",
              "      <th></th>\n",
              "      <th>model</th>\n",
              "      <th>roc_auc_score</th>\n",
              "      <th>precision_score</th>\n",
              "      <th>recall_score</th>\n",
              "      <th>f1_score</th>\n",
              "      <th>model_type</th>\n",
              "    </tr>\n",
              "  </thead>\n",
              "  <tbody>\n",
              "    <tr>\n",
              "      <th>0</th>\n",
              "      <td>GradientBoosting</td>\n",
              "      <td>0.787982</td>\n",
              "      <td>0.665550</td>\n",
              "      <td>0.255070</td>\n",
              "      <td>0.368799</td>\n",
              "      <td>im-balanced</td>\n",
              "    </tr>\n",
              "    <tr>\n",
              "      <th>1</th>\n",
              "      <td>XGB</td>\n",
              "      <td>0.781765</td>\n",
              "      <td>0.712266</td>\n",
              "      <td>0.198254</td>\n",
              "      <td>0.310174</td>\n",
              "      <td>im-balanced</td>\n",
              "    </tr>\n",
              "    <tr>\n",
              "      <th>2</th>\n",
              "      <td>LogisticRegression</td>\n",
              "      <td>0.715673</td>\n",
              "      <td>0.428625</td>\n",
              "      <td>0.097116</td>\n",
              "      <td>0.158354</td>\n",
              "      <td>im-balanced</td>\n",
              "    </tr>\n",
              "    <tr>\n",
              "      <th>3</th>\n",
              "      <td>KNN</td>\n",
              "      <td>0.681128</td>\n",
              "      <td>0.460917</td>\n",
              "      <td>0.283050</td>\n",
              "      <td>0.350721</td>\n",
              "      <td>im-balanced</td>\n",
              "    </tr>\n",
              "    <tr>\n",
              "      <th>4</th>\n",
              "      <td>RandomForestClassifier</td>\n",
              "      <td>0.725076</td>\n",
              "      <td>0.534369</td>\n",
              "      <td>0.297339</td>\n",
              "      <td>0.382078</td>\n",
              "      <td>im-balanced</td>\n",
              "    </tr>\n",
              "    <tr>\n",
              "      <th>5</th>\n",
              "      <td>CatBoostClassifier</td>\n",
              "      <td>0.787660</td>\n",
              "      <td>0.638174</td>\n",
              "      <td>0.282365</td>\n",
              "      <td>0.391506</td>\n",
              "      <td>im-balanced</td>\n",
              "    </tr>\n",
              "    <tr>\n",
              "      <th>6</th>\n",
              "      <td>extra_tree_forest</td>\n",
              "      <td>0.737919</td>\n",
              "      <td>0.507640</td>\n",
              "      <td>0.332592</td>\n",
              "      <td>0.401882</td>\n",
              "      <td>im-balanced</td>\n",
              "    </tr>\n",
              "  </tbody>\n",
              "</table>\n",
              "</div>"
            ],
            "text/plain": [
              "                    model  roc_auc_score  ...  f1_score   model_type\n",
              "0        GradientBoosting       0.787982  ...  0.368799  im-balanced\n",
              "1                     XGB       0.781765  ...  0.310174  im-balanced\n",
              "2      LogisticRegression       0.715673  ...  0.158354  im-balanced\n",
              "3                     KNN       0.681128  ...  0.350721  im-balanced\n",
              "4  RandomForestClassifier       0.725076  ...  0.382078  im-balanced\n",
              "5      CatBoostClassifier       0.787660  ...  0.391506  im-balanced\n",
              "6       extra_tree_forest       0.737919  ...  0.401882  im-balanced\n",
              "\n",
              "[7 rows x 6 columns]"
            ]
          },
          "metadata": {
            "tags": []
          },
          "execution_count": 157
        }
      ]
    },
    {
      "cell_type": "markdown",
      "metadata": {
        "id": "YOCIQFu_mgra"
      },
      "source": [
        "On the original data set the GradientBoosting model is performing better."
      ]
    },
    {
      "cell_type": "code",
      "metadata": {
        "id": "XYXdoLK6aBH7"
      },
      "source": [
        "submission = pd.read_csv('/content/sample_submission_eyYijxG.csv')\n",
        "model = GradientBoostingClassifier()\n",
        "model.fit(X, y)\n",
        "GB_predictions = model.predict(test)\n",
        "submission['Is_Lead'] = GB_predictions\n",
        "submission.to_csv('pred_test_GB.csv',index=False)\n"
      ],
      "execution_count": 158,
      "outputs": []
    },
    {
      "cell_type": "markdown",
      "metadata": {
        "id": "hqCDOORem8-T"
      },
      "source": [
        "The accuracy of models are below 80%, means these are not the best predicting algorithms. \n",
        "The major reason behind this is the class-imbalamce in data."
      ]
    },
    {
      "cell_type": "markdown",
      "metadata": {
        "id": "x6RpIvVCwQk6"
      },
      "source": [
        "#SMOTE Algorithm\n",
        "SMOTE Algorithm used to oversampled the minority instances and made it equal to majority class. After oversamplling Both instances have equal amount of records. More specifically, the minority class has been increased to the total number of majority class.\n",
        "Now see the accuracy and recall results after applying SMOTE algorithm (Oversampling)."
      ]
    },
    {
      "cell_type": "code",
      "metadata": {
        "id": "BsQahKc4vJuy"
      },
      "source": [
        "X= train.drop(columns = ['Is_Lead'], axis=1)\n",
        "y= train['Is_Lead']\n",
        "X_train,X_valid,y_train,y_valid = train_test_split(X,y,test_size=0.2,random_state=22)\n",
        "# Scaling X_train and X_test\n",
        "scaler = MinMaxScaler(feature_range=(0, 1))\n",
        "rescaledX_train = scaler.fit_transform(X_train)\n",
        "rescaledX_valid = scaler.transform(X_valid)\n",
        "rescaledX = scaler.transform(X)"
      ],
      "execution_count": 159,
      "outputs": []
    },
    {
      "cell_type": "code",
      "metadata": {
        "id": "DZuuxNy5Vvn7",
        "colab": {
          "base_uri": "https://localhost:8080/"
        },
        "outputId": "94ba6eb0-a527-4605-ddcd-8c7ff5cc2941"
      },
      "source": [
        "from imblearn.over_sampling import SMOTE"
      ],
      "execution_count": 160,
      "outputs": [
        {
          "output_type": "stream",
          "text": [
            "/usr/local/lib/python3.7/dist-packages/sklearn/externals/six.py:31: FutureWarning: The module is deprecated in version 0.21 and will be removed in version 0.23 since we've dropped support for Python 2.7. Please rely on the official version of six (https://pypi.org/project/six/).\n",
            "  \"(https://pypi.org/project/six/).\", FutureWarning)\n",
            "/usr/local/lib/python3.7/dist-packages/sklearn/utils/deprecation.py:144: FutureWarning: The sklearn.neighbors.base module is  deprecated in version 0.22 and will be removed in version 0.24. The corresponding classes / functions should instead be imported from sklearn.neighbors. Anything that cannot be imported from sklearn.neighbors is now part of the private API.\n",
            "  warnings.warn(message, FutureWarning)\n"
          ],
          "name": "stderr"
        }
      ]
    },
    {
      "cell_type": "code",
      "metadata": {
        "colab": {
          "base_uri": "https://localhost:8080/"
        },
        "id": "Gv3DEQpKbC5W",
        "outputId": "776cb624-6261-4186-d056-50433baf276e"
      },
      "source": [
        "print(\"Before OverSampling, counts of label '1': {}\".format(sum(y_train == 1)))\n",
        "print(\"Before OverSampling, counts of label '0': {} \\n\".format(sum(y_train == 0)))\n",
        "index_split = int(len(X_train)/2)\n",
        "sm = SMOTE(random_state = 2)\n",
        "X_train, y_train = sm.fit_sample(X_train, y_train.ravel())\n",
        "X_valid, y_valid = X_train[index_split:], y_train[index_split:]\n",
        "  \n",
        "print('After OverSampling, the shape of train_X: {}'.format(X_train.shape))\n",
        "print('After OverSampling, the shape of train_y: {} \\n'.format(y_train.shape))\n",
        "  \n",
        "print(\"After OverSampling, counts of label '1': {}\".format(sum(y_train == 1)))\n",
        "print(\"After OverSampling, counts of label '0': {}\".format(sum(y_train == 0)))"
      ],
      "execution_count": 161,
      "outputs": [
        {
          "output_type": "stream",
          "text": [
            "Before OverSampling, counts of label '1': 46601\n",
            "Before OverSampling, counts of label '0': 149979 \n",
            "\n"
          ],
          "name": "stdout"
        },
        {
          "output_type": "stream",
          "text": [
            "/usr/local/lib/python3.7/dist-packages/sklearn/utils/deprecation.py:87: FutureWarning: Function safe_indexing is deprecated; safe_indexing is deprecated in version 0.22 and will be removed in version 0.24.\n",
            "  warnings.warn(msg, category=FutureWarning)\n"
          ],
          "name": "stderr"
        },
        {
          "output_type": "stream",
          "text": [
            "After OverSampling, the shape of train_X: (299958, 9)\n",
            "After OverSampling, the shape of train_y: (299958,) \n",
            "\n",
            "After OverSampling, counts of label '1': 149979\n",
            "After OverSampling, counts of label '0': 149979\n"
          ],
          "name": "stdout"
        }
      ]
    },
    {
      "cell_type": "code",
      "metadata": {
        "colab": {
          "base_uri": "https://localhost:8080/",
          "height": 1000
        },
        "id": "cEO0GnIpiVuA",
        "outputId": "879c8715-19f0-4099-c537-2b40345c975f"
      },
      "source": [
        "models_report_bal, conf_matrix_bal = run_models(X_train, y_train, X_valid, y_valid, model_type = 'Balanced')"
      ],
      "execution_count": 162,
      "outputs": [
        {
          "output_type": "stream",
          "text": [
            "computing GradientBoosting - Balanced \n",
            "computing XGB - Balanced \n"
          ],
          "name": "stdout"
        },
        {
          "output_type": "stream",
          "text": [
            "/usr/local/lib/python3.7/dist-packages/sklearn/linear_model/_logistic.py:940: ConvergenceWarning: lbfgs failed to converge (status=1):\n",
            "STOP: TOTAL NO. of ITERATIONS REACHED LIMIT.\n",
            "\n",
            "Increase the number of iterations (max_iter) or scale the data as shown in:\n",
            "    https://scikit-learn.org/stable/modules/preprocessing.html\n",
            "Please also refer to the documentation for alternative solver options:\n",
            "    https://scikit-learn.org/stable/modules/linear_model.html#logistic-regression\n",
            "  extra_warning_msg=_LOGISTIC_SOLVER_CONVERGENCE_MSG)\n"
          ],
          "name": "stderr"
        },
        {
          "output_type": "stream",
          "text": [
            "computing LogisticRegression - Balanced \n",
            "computing KNN - Balanced \n",
            "computing RandomForestClassifier - Balanced \n",
            "Learning rate set to 0.117663\n",
            "0:\tlearn: 0.6080473\ttotal: 126ms\tremaining: 2m 5s\n",
            "1:\tlearn: 0.5702413\ttotal: 241ms\tremaining: 2m\n",
            "2:\tlearn: 0.5302266\ttotal: 348ms\tremaining: 1m 55s\n",
            "3:\tlearn: 0.5105690\ttotal: 450ms\tremaining: 1m 52s\n",
            "4:\tlearn: 0.4911217\ttotal: 551ms\tremaining: 1m 49s\n",
            "5:\tlearn: 0.4829083\ttotal: 653ms\tremaining: 1m 48s\n",
            "6:\tlearn: 0.4681502\ttotal: 758ms\tremaining: 1m 47s\n",
            "7:\tlearn: 0.4533084\ttotal: 869ms\tremaining: 1m 47s\n",
            "8:\tlearn: 0.4486437\ttotal: 978ms\tremaining: 1m 47s\n",
            "9:\tlearn: 0.4347022\ttotal: 1.08s\tremaining: 1m 47s\n",
            "10:\tlearn: 0.4289360\ttotal: 1.18s\tremaining: 1m 46s\n",
            "11:\tlearn: 0.4223066\ttotal: 1.3s\tremaining: 1m 47s\n",
            "12:\tlearn: 0.4181507\ttotal: 1.4s\tremaining: 1m 46s\n",
            "13:\tlearn: 0.4103433\ttotal: 1.51s\tremaining: 1m 46s\n",
            "14:\tlearn: 0.4085816\ttotal: 1.61s\tremaining: 1m 46s\n",
            "15:\tlearn: 0.4061925\ttotal: 1.72s\tremaining: 1m 45s\n",
            "16:\tlearn: 0.4029170\ttotal: 1.82s\tremaining: 1m 45s\n",
            "17:\tlearn: 0.3993488\ttotal: 1.93s\tremaining: 1m 45s\n",
            "18:\tlearn: 0.3963617\ttotal: 2.03s\tremaining: 1m 44s\n",
            "19:\tlearn: 0.3934500\ttotal: 2.14s\tremaining: 1m 44s\n",
            "20:\tlearn: 0.3918429\ttotal: 2.25s\tremaining: 1m 44s\n",
            "21:\tlearn: 0.3904852\ttotal: 2.35s\tremaining: 1m 44s\n",
            "22:\tlearn: 0.3885460\ttotal: 2.46s\tremaining: 1m 44s\n",
            "23:\tlearn: 0.3876830\ttotal: 2.57s\tremaining: 1m 44s\n",
            "24:\tlearn: 0.3855078\ttotal: 2.68s\tremaining: 1m 44s\n",
            "25:\tlearn: 0.3843536\ttotal: 2.79s\tremaining: 1m 44s\n",
            "26:\tlearn: 0.3837129\ttotal: 2.89s\tremaining: 1m 44s\n",
            "27:\tlearn: 0.3825547\ttotal: 2.99s\tremaining: 1m 43s\n",
            "28:\tlearn: 0.3813427\ttotal: 3.09s\tremaining: 1m 43s\n",
            "29:\tlearn: 0.3804636\ttotal: 3.2s\tremaining: 1m 43s\n",
            "30:\tlearn: 0.3800345\ttotal: 3.32s\tremaining: 1m 43s\n",
            "31:\tlearn: 0.3797384\ttotal: 3.41s\tremaining: 1m 43s\n",
            "32:\tlearn: 0.3793503\ttotal: 3.51s\tremaining: 1m 42s\n",
            "33:\tlearn: 0.3774901\ttotal: 3.61s\tremaining: 1m 42s\n",
            "34:\tlearn: 0.3772047\ttotal: 3.71s\tremaining: 1m 42s\n",
            "35:\tlearn: 0.3767627\ttotal: 3.81s\tremaining: 1m 41s\n",
            "36:\tlearn: 0.3755539\ttotal: 3.91s\tremaining: 1m 41s\n",
            "37:\tlearn: 0.3753364\ttotal: 4.01s\tremaining: 1m 41s\n",
            "38:\tlearn: 0.3749472\ttotal: 4.11s\tremaining: 1m 41s\n",
            "39:\tlearn: 0.3747875\ttotal: 4.21s\tremaining: 1m 40s\n",
            "40:\tlearn: 0.3736297\ttotal: 4.32s\tremaining: 1m 41s\n",
            "41:\tlearn: 0.3721357\ttotal: 4.42s\tremaining: 1m 40s\n",
            "42:\tlearn: 0.3719543\ttotal: 4.53s\tremaining: 1m 40s\n",
            "43:\tlearn: 0.3710016\ttotal: 4.63s\tremaining: 1m 40s\n",
            "44:\tlearn: 0.3703747\ttotal: 4.74s\tremaining: 1m 40s\n",
            "45:\tlearn: 0.3691071\ttotal: 4.84s\tremaining: 1m 40s\n",
            "46:\tlearn: 0.3688877\ttotal: 4.95s\tremaining: 1m 40s\n",
            "47:\tlearn: 0.3681307\ttotal: 5.05s\tremaining: 1m 40s\n",
            "48:\tlearn: 0.3678303\ttotal: 5.15s\tremaining: 1m 39s\n",
            "49:\tlearn: 0.3672941\ttotal: 5.26s\tremaining: 1m 39s\n",
            "50:\tlearn: 0.3669865\ttotal: 5.37s\tremaining: 1m 39s\n",
            "51:\tlearn: 0.3661636\ttotal: 5.48s\tremaining: 1m 39s\n",
            "52:\tlearn: 0.3657757\ttotal: 5.58s\tremaining: 1m 39s\n",
            "53:\tlearn: 0.3656580\ttotal: 5.68s\tremaining: 1m 39s\n",
            "54:\tlearn: 0.3654408\ttotal: 5.79s\tremaining: 1m 39s\n",
            "55:\tlearn: 0.3642737\ttotal: 5.89s\tremaining: 1m 39s\n",
            "56:\tlearn: 0.3634925\ttotal: 5.99s\tremaining: 1m 39s\n",
            "57:\tlearn: 0.3631993\ttotal: 6.09s\tremaining: 1m 38s\n",
            "58:\tlearn: 0.3630680\ttotal: 6.19s\tremaining: 1m 38s\n",
            "59:\tlearn: 0.3627584\ttotal: 6.3s\tremaining: 1m 38s\n",
            "60:\tlearn: 0.3620530\ttotal: 6.4s\tremaining: 1m 38s\n",
            "61:\tlearn: 0.3615576\ttotal: 6.5s\tremaining: 1m 38s\n",
            "62:\tlearn: 0.3613210\ttotal: 6.62s\tremaining: 1m 38s\n",
            "63:\tlearn: 0.3611877\ttotal: 6.71s\tremaining: 1m 38s\n",
            "64:\tlearn: 0.3606712\ttotal: 6.81s\tremaining: 1m 37s\n",
            "65:\tlearn: 0.3605907\ttotal: 6.91s\tremaining: 1m 37s\n",
            "66:\tlearn: 0.3601678\ttotal: 7.01s\tremaining: 1m 37s\n",
            "67:\tlearn: 0.3597897\ttotal: 7.12s\tremaining: 1m 37s\n",
            "68:\tlearn: 0.3594094\ttotal: 7.22s\tremaining: 1m 37s\n",
            "69:\tlearn: 0.3592839\ttotal: 7.34s\tremaining: 1m 37s\n",
            "70:\tlearn: 0.3589665\ttotal: 7.45s\tremaining: 1m 37s\n",
            "71:\tlearn: 0.3587544\ttotal: 7.55s\tremaining: 1m 37s\n",
            "72:\tlearn: 0.3579632\ttotal: 7.65s\tremaining: 1m 37s\n",
            "73:\tlearn: 0.3572345\ttotal: 7.76s\tremaining: 1m 37s\n",
            "74:\tlearn: 0.3569328\ttotal: 7.86s\tremaining: 1m 36s\n",
            "75:\tlearn: 0.3566360\ttotal: 7.96s\tremaining: 1m 36s\n",
            "76:\tlearn: 0.3558923\ttotal: 8.07s\tremaining: 1m 36s\n",
            "77:\tlearn: 0.3554045\ttotal: 8.18s\tremaining: 1m 36s\n",
            "78:\tlearn: 0.3548832\ttotal: 8.29s\tremaining: 1m 36s\n",
            "79:\tlearn: 0.3548246\ttotal: 8.39s\tremaining: 1m 36s\n",
            "80:\tlearn: 0.3543516\ttotal: 8.49s\tremaining: 1m 36s\n",
            "81:\tlearn: 0.3533890\ttotal: 8.59s\tremaining: 1m 36s\n",
            "82:\tlearn: 0.3531393\ttotal: 8.69s\tremaining: 1m 36s\n",
            "83:\tlearn: 0.3529206\ttotal: 8.8s\tremaining: 1m 35s\n",
            "84:\tlearn: 0.3526482\ttotal: 8.92s\tremaining: 1m 36s\n",
            "85:\tlearn: 0.3525362\ttotal: 9.03s\tremaining: 1m 36s\n",
            "86:\tlearn: 0.3521094\ttotal: 9.14s\tremaining: 1m 35s\n",
            "87:\tlearn: 0.3520037\ttotal: 9.24s\tremaining: 1m 35s\n",
            "88:\tlearn: 0.3517991\ttotal: 9.36s\tremaining: 1m 35s\n",
            "89:\tlearn: 0.3515377\ttotal: 9.46s\tremaining: 1m 35s\n",
            "90:\tlearn: 0.3512638\ttotal: 9.56s\tremaining: 1m 35s\n",
            "91:\tlearn: 0.3509941\ttotal: 9.66s\tremaining: 1m 35s\n",
            "92:\tlearn: 0.3504974\ttotal: 9.77s\tremaining: 1m 35s\n",
            "93:\tlearn: 0.3499294\ttotal: 9.88s\tremaining: 1m 35s\n",
            "94:\tlearn: 0.3497466\ttotal: 9.98s\tremaining: 1m 35s\n",
            "95:\tlearn: 0.3495061\ttotal: 10.1s\tremaining: 1m 34s\n",
            "96:\tlearn: 0.3493141\ttotal: 10.2s\tremaining: 1m 34s\n",
            "97:\tlearn: 0.3489314\ttotal: 10.3s\tremaining: 1m 34s\n",
            "98:\tlearn: 0.3488445\ttotal: 10.4s\tremaining: 1m 34s\n",
            "99:\tlearn: 0.3483199\ttotal: 10.5s\tremaining: 1m 34s\n",
            "100:\tlearn: 0.3481746\ttotal: 10.6s\tremaining: 1m 34s\n",
            "101:\tlearn: 0.3480727\ttotal: 10.7s\tremaining: 1m 34s\n",
            "102:\tlearn: 0.3476840\ttotal: 10.8s\tremaining: 1m 34s\n",
            "103:\tlearn: 0.3474500\ttotal: 10.9s\tremaining: 1m 34s\n",
            "104:\tlearn: 0.3473504\ttotal: 11s\tremaining: 1m 33s\n",
            "105:\tlearn: 0.3465616\ttotal: 11.1s\tremaining: 1m 33s\n",
            "106:\tlearn: 0.3455171\ttotal: 11.2s\tremaining: 1m 33s\n",
            "107:\tlearn: 0.3451681\ttotal: 11.3s\tremaining: 1m 33s\n",
            "108:\tlearn: 0.3445586\ttotal: 11.4s\tremaining: 1m 33s\n",
            "109:\tlearn: 0.3435904\ttotal: 11.5s\tremaining: 1m 33s\n",
            "110:\tlearn: 0.3433002\ttotal: 11.6s\tremaining: 1m 33s\n",
            "111:\tlearn: 0.3428626\ttotal: 11.8s\tremaining: 1m 33s\n",
            "112:\tlearn: 0.3425575\ttotal: 11.9s\tremaining: 1m 33s\n",
            "113:\tlearn: 0.3421269\ttotal: 12s\tremaining: 1m 32s\n",
            "114:\tlearn: 0.3420884\ttotal: 12.1s\tremaining: 1m 32s\n",
            "115:\tlearn: 0.3417831\ttotal: 12.2s\tremaining: 1m 32s\n",
            "116:\tlearn: 0.3412857\ttotal: 12.3s\tremaining: 1m 32s\n",
            "117:\tlearn: 0.3411038\ttotal: 12.4s\tremaining: 1m 32s\n",
            "118:\tlearn: 0.3403015\ttotal: 12.5s\tremaining: 1m 32s\n",
            "119:\tlearn: 0.3398690\ttotal: 12.6s\tremaining: 1m 32s\n",
            "120:\tlearn: 0.3396149\ttotal: 12.7s\tremaining: 1m 32s\n",
            "121:\tlearn: 0.3392418\ttotal: 12.8s\tremaining: 1m 32s\n",
            "122:\tlearn: 0.3387171\ttotal: 12.9s\tremaining: 1m 31s\n",
            "123:\tlearn: 0.3385891\ttotal: 13s\tremaining: 1m 31s\n",
            "124:\tlearn: 0.3385190\ttotal: 13.1s\tremaining: 1m 31s\n",
            "125:\tlearn: 0.3381384\ttotal: 13.2s\tremaining: 1m 31s\n",
            "126:\tlearn: 0.3378527\ttotal: 13.3s\tremaining: 1m 31s\n",
            "127:\tlearn: 0.3376992\ttotal: 13.4s\tremaining: 1m 31s\n",
            "128:\tlearn: 0.3375359\ttotal: 13.5s\tremaining: 1m 31s\n",
            "129:\tlearn: 0.3370890\ttotal: 13.6s\tremaining: 1m 31s\n",
            "130:\tlearn: 0.3369563\ttotal: 13.7s\tremaining: 1m 31s\n",
            "131:\tlearn: 0.3368141\ttotal: 13.8s\tremaining: 1m 30s\n",
            "132:\tlearn: 0.3365819\ttotal: 13.9s\tremaining: 1m 30s\n",
            "133:\tlearn: 0.3365387\ttotal: 14s\tremaining: 1m 30s\n",
            "134:\tlearn: 0.3364083\ttotal: 14.1s\tremaining: 1m 30s\n",
            "135:\tlearn: 0.3360850\ttotal: 14.2s\tremaining: 1m 30s\n",
            "136:\tlearn: 0.3354822\ttotal: 14.3s\tremaining: 1m 30s\n",
            "137:\tlearn: 0.3353973\ttotal: 14.4s\tremaining: 1m 30s\n",
            "138:\tlearn: 0.3351925\ttotal: 14.6s\tremaining: 1m 30s\n",
            "139:\tlearn: 0.3344484\ttotal: 14.7s\tremaining: 1m 30s\n",
            "140:\tlearn: 0.3339812\ttotal: 14.8s\tremaining: 1m 29s\n",
            "141:\tlearn: 0.3337334\ttotal: 14.9s\tremaining: 1m 29s\n",
            "142:\tlearn: 0.3331816\ttotal: 15s\tremaining: 1m 29s\n",
            "143:\tlearn: 0.3329006\ttotal: 15.1s\tremaining: 1m 29s\n",
            "144:\tlearn: 0.3323843\ttotal: 15.2s\tremaining: 1m 29s\n",
            "145:\tlearn: 0.3316111\ttotal: 15.3s\tremaining: 1m 29s\n",
            "146:\tlearn: 0.3313589\ttotal: 15.4s\tremaining: 1m 29s\n",
            "147:\tlearn: 0.3311094\ttotal: 15.5s\tremaining: 1m 29s\n",
            "148:\tlearn: 0.3308067\ttotal: 15.6s\tremaining: 1m 29s\n",
            "149:\tlearn: 0.3306116\ttotal: 15.7s\tremaining: 1m 29s\n",
            "150:\tlearn: 0.3303213\ttotal: 15.8s\tremaining: 1m 29s\n",
            "151:\tlearn: 0.3300016\ttotal: 15.9s\tremaining: 1m 28s\n",
            "152:\tlearn: 0.3297881\ttotal: 16s\tremaining: 1m 28s\n",
            "153:\tlearn: 0.3296038\ttotal: 16.1s\tremaining: 1m 28s\n",
            "154:\tlearn: 0.3295283\ttotal: 16.2s\tremaining: 1m 28s\n",
            "155:\tlearn: 0.3293617\ttotal: 16.4s\tremaining: 1m 28s\n",
            "156:\tlearn: 0.3292988\ttotal: 16.5s\tremaining: 1m 28s\n",
            "157:\tlearn: 0.3289952\ttotal: 16.6s\tremaining: 1m 28s\n",
            "158:\tlearn: 0.3288818\ttotal: 16.7s\tremaining: 1m 28s\n",
            "159:\tlearn: 0.3286778\ttotal: 16.8s\tremaining: 1m 28s\n",
            "160:\tlearn: 0.3284233\ttotal: 16.9s\tremaining: 1m 27s\n",
            "161:\tlearn: 0.3282640\ttotal: 17s\tremaining: 1m 27s\n",
            "162:\tlearn: 0.3280062\ttotal: 17.1s\tremaining: 1m 27s\n",
            "163:\tlearn: 0.3279627\ttotal: 17.2s\tremaining: 1m 27s\n",
            "164:\tlearn: 0.3277708\ttotal: 17.3s\tremaining: 1m 27s\n",
            "165:\tlearn: 0.3275348\ttotal: 17.4s\tremaining: 1m 27s\n",
            "166:\tlearn: 0.3273537\ttotal: 17.5s\tremaining: 1m 27s\n",
            "167:\tlearn: 0.3272013\ttotal: 17.6s\tremaining: 1m 27s\n",
            "168:\tlearn: 0.3268735\ttotal: 17.7s\tremaining: 1m 27s\n",
            "169:\tlearn: 0.3265596\ttotal: 17.8s\tremaining: 1m 27s\n",
            "170:\tlearn: 0.3264589\ttotal: 17.9s\tremaining: 1m 27s\n",
            "171:\tlearn: 0.3264247\ttotal: 18s\tremaining: 1m 26s\n",
            "172:\tlearn: 0.3263042\ttotal: 18.1s\tremaining: 1m 26s\n",
            "173:\tlearn: 0.3262139\ttotal: 18.2s\tremaining: 1m 26s\n",
            "174:\tlearn: 0.3260370\ttotal: 18.3s\tremaining: 1m 26s\n",
            "175:\tlearn: 0.3257169\ttotal: 18.5s\tremaining: 1m 26s\n",
            "176:\tlearn: 0.3255052\ttotal: 18.6s\tremaining: 1m 26s\n",
            "177:\tlearn: 0.3252276\ttotal: 18.7s\tremaining: 1m 26s\n",
            "178:\tlearn: 0.3250852\ttotal: 18.8s\tremaining: 1m 26s\n",
            "179:\tlearn: 0.3249155\ttotal: 18.9s\tremaining: 1m 26s\n",
            "180:\tlearn: 0.3246709\ttotal: 19s\tremaining: 1m 25s\n",
            "181:\tlearn: 0.3245497\ttotal: 19.1s\tremaining: 1m 25s\n",
            "182:\tlearn: 0.3243774\ttotal: 19.2s\tremaining: 1m 25s\n",
            "183:\tlearn: 0.3238731\ttotal: 19.3s\tremaining: 1m 25s\n",
            "184:\tlearn: 0.3238436\ttotal: 19.4s\tremaining: 1m 25s\n",
            "185:\tlearn: 0.3237339\ttotal: 19.5s\tremaining: 1m 25s\n",
            "186:\tlearn: 0.3236894\ttotal: 19.6s\tremaining: 1m 25s\n",
            "187:\tlearn: 0.3236397\ttotal: 19.7s\tremaining: 1m 25s\n",
            "188:\tlearn: 0.3235202\ttotal: 19.8s\tremaining: 1m 25s\n",
            "189:\tlearn: 0.3233675\ttotal: 19.9s\tremaining: 1m 25s\n",
            "190:\tlearn: 0.3232492\ttotal: 20s\tremaining: 1m 24s\n",
            "191:\tlearn: 0.3231517\ttotal: 20.1s\tremaining: 1m 24s\n",
            "192:\tlearn: 0.3230063\ttotal: 20.2s\tremaining: 1m 24s\n",
            "193:\tlearn: 0.3227409\ttotal: 20.4s\tremaining: 1m 24s\n",
            "194:\tlearn: 0.3227044\ttotal: 20.5s\tremaining: 1m 24s\n",
            "195:\tlearn: 0.3225523\ttotal: 20.6s\tremaining: 1m 24s\n",
            "196:\tlearn: 0.3223363\ttotal: 20.7s\tremaining: 1m 24s\n",
            "197:\tlearn: 0.3222090\ttotal: 20.8s\tremaining: 1m 24s\n",
            "198:\tlearn: 0.3221012\ttotal: 20.9s\tremaining: 1m 24s\n",
            "199:\tlearn: 0.3220069\ttotal: 21s\tremaining: 1m 24s\n",
            "200:\tlearn: 0.3219772\ttotal: 21.1s\tremaining: 1m 23s\n",
            "201:\tlearn: 0.3218082\ttotal: 21.2s\tremaining: 1m 23s\n",
            "202:\tlearn: 0.3217665\ttotal: 21.3s\tremaining: 1m 23s\n",
            "203:\tlearn: 0.3217216\ttotal: 21.4s\tremaining: 1m 23s\n",
            "204:\tlearn: 0.3215830\ttotal: 21.5s\tremaining: 1m 23s\n",
            "205:\tlearn: 0.3214159\ttotal: 21.6s\tremaining: 1m 23s\n",
            "206:\tlearn: 0.3212665\ttotal: 21.8s\tremaining: 1m 23s\n",
            "207:\tlearn: 0.3211906\ttotal: 21.9s\tremaining: 1m 23s\n",
            "208:\tlearn: 0.3211552\ttotal: 22s\tremaining: 1m 23s\n",
            "209:\tlearn: 0.3210341\ttotal: 22.1s\tremaining: 1m 22s\n",
            "210:\tlearn: 0.3209970\ttotal: 22.2s\tremaining: 1m 22s\n",
            "211:\tlearn: 0.3209612\ttotal: 22.3s\tremaining: 1m 22s\n",
            "212:\tlearn: 0.3207936\ttotal: 22.4s\tremaining: 1m 22s\n",
            "213:\tlearn: 0.3207537\ttotal: 22.5s\tremaining: 1m 22s\n",
            "214:\tlearn: 0.3206927\ttotal: 22.6s\tremaining: 1m 22s\n",
            "215:\tlearn: 0.3206062\ttotal: 22.7s\tremaining: 1m 22s\n",
            "216:\tlearn: 0.3204555\ttotal: 22.8s\tremaining: 1m 22s\n",
            "217:\tlearn: 0.3203471\ttotal: 22.9s\tremaining: 1m 22s\n",
            "218:\tlearn: 0.3199889\ttotal: 23s\tremaining: 1m 22s\n",
            "219:\tlearn: 0.3198973\ttotal: 23.1s\tremaining: 1m 21s\n",
            "220:\tlearn: 0.3197530\ttotal: 23.2s\tremaining: 1m 21s\n",
            "221:\tlearn: 0.3196742\ttotal: 23.3s\tremaining: 1m 21s\n",
            "222:\tlearn: 0.3196351\ttotal: 23.4s\tremaining: 1m 21s\n",
            "223:\tlearn: 0.3194208\ttotal: 23.5s\tremaining: 1m 21s\n",
            "224:\tlearn: 0.3193677\ttotal: 23.6s\tremaining: 1m 21s\n",
            "225:\tlearn: 0.3193370\ttotal: 23.7s\tremaining: 1m 21s\n",
            "226:\tlearn: 0.3192457\ttotal: 23.8s\tremaining: 1m 21s\n",
            "227:\tlearn: 0.3191800\ttotal: 23.9s\tremaining: 1m 21s\n",
            "228:\tlearn: 0.3189355\ttotal: 24s\tremaining: 1m 20s\n",
            "229:\tlearn: 0.3186800\ttotal: 24.1s\tremaining: 1m 20s\n",
            "230:\tlearn: 0.3186134\ttotal: 24.2s\tremaining: 1m 20s\n",
            "231:\tlearn: 0.3185806\ttotal: 24.4s\tremaining: 1m 20s\n",
            "232:\tlearn: 0.3184996\ttotal: 24.5s\tremaining: 1m 20s\n",
            "233:\tlearn: 0.3184262\ttotal: 24.6s\tremaining: 1m 20s\n",
            "234:\tlearn: 0.3183880\ttotal: 24.7s\tremaining: 1m 20s\n",
            "235:\tlearn: 0.3182915\ttotal: 24.8s\tremaining: 1m 20s\n",
            "236:\tlearn: 0.3182322\ttotal: 24.9s\tremaining: 1m 20s\n",
            "237:\tlearn: 0.3181430\ttotal: 25s\tremaining: 1m 19s\n",
            "238:\tlearn: 0.3181174\ttotal: 25.1s\tremaining: 1m 19s\n",
            "239:\tlearn: 0.3179908\ttotal: 25.2s\tremaining: 1m 19s\n",
            "240:\tlearn: 0.3178731\ttotal: 25.3s\tremaining: 1m 19s\n",
            "241:\tlearn: 0.3177579\ttotal: 25.4s\tremaining: 1m 19s\n",
            "242:\tlearn: 0.3176569\ttotal: 25.5s\tremaining: 1m 19s\n",
            "243:\tlearn: 0.3175676\ttotal: 25.6s\tremaining: 1m 19s\n",
            "244:\tlearn: 0.3175294\ttotal: 25.7s\tremaining: 1m 19s\n",
            "245:\tlearn: 0.3174967\ttotal: 25.8s\tremaining: 1m 19s\n",
            "246:\tlearn: 0.3173093\ttotal: 25.9s\tremaining: 1m 18s\n",
            "247:\tlearn: 0.3172184\ttotal: 26s\tremaining: 1m 18s\n",
            "248:\tlearn: 0.3170920\ttotal: 26.1s\tremaining: 1m 18s\n",
            "249:\tlearn: 0.3169710\ttotal: 26.2s\tremaining: 1m 18s\n",
            "250:\tlearn: 0.3167916\ttotal: 26.3s\tremaining: 1m 18s\n",
            "251:\tlearn: 0.3167638\ttotal: 26.4s\tremaining: 1m 18s\n",
            "252:\tlearn: 0.3167309\ttotal: 26.5s\tremaining: 1m 18s\n",
            "253:\tlearn: 0.3166915\ttotal: 26.6s\tremaining: 1m 18s\n",
            "254:\tlearn: 0.3166556\ttotal: 26.7s\tremaining: 1m 18s\n",
            "255:\tlearn: 0.3166214\ttotal: 26.8s\tremaining: 1m 17s\n",
            "256:\tlearn: 0.3165848\ttotal: 26.9s\tremaining: 1m 17s\n",
            "257:\tlearn: 0.3162756\ttotal: 27s\tremaining: 1m 17s\n",
            "258:\tlearn: 0.3162520\ttotal: 27.1s\tremaining: 1m 17s\n",
            "259:\tlearn: 0.3162312\ttotal: 27.2s\tremaining: 1m 17s\n",
            "260:\tlearn: 0.3161474\ttotal: 27.4s\tremaining: 1m 17s\n",
            "261:\tlearn: 0.3159882\ttotal: 27.5s\tremaining: 1m 17s\n",
            "262:\tlearn: 0.3157296\ttotal: 27.6s\tremaining: 1m 17s\n",
            "263:\tlearn: 0.3156405\ttotal: 27.7s\tremaining: 1m 17s\n",
            "264:\tlearn: 0.3156016\ttotal: 27.8s\tremaining: 1m 17s\n",
            "265:\tlearn: 0.3155065\ttotal: 27.9s\tremaining: 1m 16s\n",
            "266:\tlearn: 0.3153129\ttotal: 28s\tremaining: 1m 16s\n",
            "267:\tlearn: 0.3152629\ttotal: 28.1s\tremaining: 1m 16s\n",
            "268:\tlearn: 0.3152297\ttotal: 28.2s\tremaining: 1m 16s\n",
            "269:\tlearn: 0.3151192\ttotal: 28.3s\tremaining: 1m 16s\n",
            "270:\tlearn: 0.3150844\ttotal: 28.4s\tremaining: 1m 16s\n",
            "271:\tlearn: 0.3150590\ttotal: 28.5s\tremaining: 1m 16s\n",
            "272:\tlearn: 0.3150414\ttotal: 28.6s\tremaining: 1m 16s\n",
            "273:\tlearn: 0.3149370\ttotal: 28.7s\tremaining: 1m 16s\n",
            "274:\tlearn: 0.3149137\ttotal: 28.8s\tremaining: 1m 15s\n",
            "275:\tlearn: 0.3146959\ttotal: 28.9s\tremaining: 1m 15s\n",
            "276:\tlearn: 0.3146562\ttotal: 29s\tremaining: 1m 15s\n",
            "277:\tlearn: 0.3144879\ttotal: 29.1s\tremaining: 1m 15s\n",
            "278:\tlearn: 0.3144596\ttotal: 29.2s\tremaining: 1m 15s\n",
            "279:\tlearn: 0.3144352\ttotal: 29.3s\tremaining: 1m 15s\n",
            "280:\tlearn: 0.3143558\ttotal: 29.4s\tremaining: 1m 15s\n",
            "281:\tlearn: 0.3142555\ttotal: 29.5s\tremaining: 1m 15s\n",
            "282:\tlearn: 0.3141327\ttotal: 29.6s\tremaining: 1m 15s\n",
            "283:\tlearn: 0.3141064\ttotal: 29.7s\tremaining: 1m 14s\n",
            "284:\tlearn: 0.3140384\ttotal: 29.8s\tremaining: 1m 14s\n",
            "285:\tlearn: 0.3138841\ttotal: 29.9s\tremaining: 1m 14s\n",
            "286:\tlearn: 0.3138248\ttotal: 30s\tremaining: 1m 14s\n",
            "287:\tlearn: 0.3137727\ttotal: 30.1s\tremaining: 1m 14s\n",
            "288:\tlearn: 0.3136950\ttotal: 30.2s\tremaining: 1m 14s\n",
            "289:\tlearn: 0.3135064\ttotal: 30.3s\tremaining: 1m 14s\n",
            "290:\tlearn: 0.3134812\ttotal: 30.4s\tremaining: 1m 14s\n",
            "291:\tlearn: 0.3134062\ttotal: 30.6s\tremaining: 1m 14s\n",
            "292:\tlearn: 0.3133394\ttotal: 30.7s\tremaining: 1m 14s\n",
            "293:\tlearn: 0.3130934\ttotal: 30.8s\tremaining: 1m 13s\n",
            "294:\tlearn: 0.3130753\ttotal: 30.9s\tremaining: 1m 13s\n",
            "295:\tlearn: 0.3129515\ttotal: 31s\tremaining: 1m 13s\n",
            "296:\tlearn: 0.3128359\ttotal: 31.1s\tremaining: 1m 13s\n",
            "297:\tlearn: 0.3127799\ttotal: 31.2s\tremaining: 1m 13s\n",
            "298:\tlearn: 0.3127474\ttotal: 31.3s\tremaining: 1m 13s\n",
            "299:\tlearn: 0.3125910\ttotal: 31.4s\tremaining: 1m 13s\n",
            "300:\tlearn: 0.3125619\ttotal: 31.5s\tremaining: 1m 13s\n",
            "301:\tlearn: 0.3125246\ttotal: 31.6s\tremaining: 1m 13s\n",
            "302:\tlearn: 0.3125002\ttotal: 31.7s\tremaining: 1m 13s\n",
            "303:\tlearn: 0.3124215\ttotal: 31.9s\tremaining: 1m 12s\n",
            "304:\tlearn: 0.3123649\ttotal: 32s\tremaining: 1m 12s\n",
            "305:\tlearn: 0.3122610\ttotal: 32.1s\tremaining: 1m 12s\n",
            "306:\tlearn: 0.3122307\ttotal: 32.2s\tremaining: 1m 12s\n",
            "307:\tlearn: 0.3121599\ttotal: 32.3s\tremaining: 1m 12s\n",
            "308:\tlearn: 0.3121359\ttotal: 32.4s\tremaining: 1m 12s\n",
            "309:\tlearn: 0.3119721\ttotal: 32.5s\tremaining: 1m 12s\n",
            "310:\tlearn: 0.3119485\ttotal: 32.6s\tremaining: 1m 12s\n",
            "311:\tlearn: 0.3118453\ttotal: 32.7s\tremaining: 1m 12s\n",
            "312:\tlearn: 0.3118271\ttotal: 32.8s\tremaining: 1m 11s\n",
            "313:\tlearn: 0.3118137\ttotal: 32.9s\tremaining: 1m 11s\n",
            "314:\tlearn: 0.3117629\ttotal: 33s\tremaining: 1m 11s\n",
            "315:\tlearn: 0.3117358\ttotal: 33.1s\tremaining: 1m 11s\n",
            "316:\tlearn: 0.3117210\ttotal: 33.2s\tremaining: 1m 11s\n",
            "317:\tlearn: 0.3116992\ttotal: 33.3s\tremaining: 1m 11s\n",
            "318:\tlearn: 0.3116447\ttotal: 33.4s\tremaining: 1m 11s\n",
            "319:\tlearn: 0.3116195\ttotal: 33.5s\tremaining: 1m 11s\n",
            "320:\tlearn: 0.3115748\ttotal: 33.6s\tremaining: 1m 11s\n",
            "321:\tlearn: 0.3115582\ttotal: 33.7s\tremaining: 1m 10s\n",
            "322:\tlearn: 0.3115289\ttotal: 33.8s\tremaining: 1m 10s\n",
            "323:\tlearn: 0.3114600\ttotal: 33.9s\tremaining: 1m 10s\n",
            "324:\tlearn: 0.3114386\ttotal: 34s\tremaining: 1m 10s\n",
            "325:\tlearn: 0.3114164\ttotal: 34.1s\tremaining: 1m 10s\n",
            "326:\tlearn: 0.3113794\ttotal: 34.2s\tremaining: 1m 10s\n",
            "327:\tlearn: 0.3112832\ttotal: 34.3s\tremaining: 1m 10s\n",
            "328:\tlearn: 0.3111257\ttotal: 34.4s\tremaining: 1m 10s\n",
            "329:\tlearn: 0.3110254\ttotal: 34.5s\tremaining: 1m 10s\n",
            "330:\tlearn: 0.3109326\ttotal: 34.6s\tremaining: 1m 10s\n",
            "331:\tlearn: 0.3109111\ttotal: 34.7s\tremaining: 1m 9s\n",
            "332:\tlearn: 0.3108796\ttotal: 34.8s\tremaining: 1m 9s\n",
            "333:\tlearn: 0.3108029\ttotal: 34.9s\tremaining: 1m 9s\n",
            "334:\tlearn: 0.3107836\ttotal: 35.1s\tremaining: 1m 9s\n",
            "335:\tlearn: 0.3107285\ttotal: 35.2s\tremaining: 1m 9s\n",
            "336:\tlearn: 0.3107005\ttotal: 35.3s\tremaining: 1m 9s\n",
            "337:\tlearn: 0.3106793\ttotal: 35.4s\tremaining: 1m 9s\n",
            "338:\tlearn: 0.3106548\ttotal: 35.5s\tremaining: 1m 9s\n",
            "339:\tlearn: 0.3105894\ttotal: 35.6s\tremaining: 1m 9s\n",
            "340:\tlearn: 0.3104870\ttotal: 35.7s\tremaining: 1m 8s\n",
            "341:\tlearn: 0.3104584\ttotal: 35.8s\tremaining: 1m 8s\n",
            "342:\tlearn: 0.3102727\ttotal: 35.9s\tremaining: 1m 8s\n",
            "343:\tlearn: 0.3102162\ttotal: 36s\tremaining: 1m 8s\n",
            "344:\tlearn: 0.3101186\ttotal: 36.1s\tremaining: 1m 8s\n",
            "345:\tlearn: 0.3100391\ttotal: 36.2s\tremaining: 1m 8s\n",
            "346:\tlearn: 0.3100223\ttotal: 36.3s\tremaining: 1m 8s\n",
            "347:\tlearn: 0.3100053\ttotal: 36.4s\tremaining: 1m 8s\n",
            "348:\tlearn: 0.3099786\ttotal: 36.5s\tremaining: 1m 8s\n",
            "349:\tlearn: 0.3099486\ttotal: 36.6s\tremaining: 1m 7s\n",
            "350:\tlearn: 0.3099323\ttotal: 36.7s\tremaining: 1m 7s\n",
            "351:\tlearn: 0.3099030\ttotal: 36.8s\tremaining: 1m 7s\n",
            "352:\tlearn: 0.3098409\ttotal: 36.9s\tremaining: 1m 7s\n",
            "353:\tlearn: 0.3098171\ttotal: 37s\tremaining: 1m 7s\n",
            "354:\tlearn: 0.3097796\ttotal: 37.1s\tremaining: 1m 7s\n",
            "355:\tlearn: 0.3097581\ttotal: 37.2s\tremaining: 1m 7s\n",
            "356:\tlearn: 0.3097005\ttotal: 37.3s\tremaining: 1m 7s\n",
            "357:\tlearn: 0.3096729\ttotal: 37.4s\tremaining: 1m 7s\n",
            "358:\tlearn: 0.3096520\ttotal: 37.5s\tremaining: 1m 7s\n",
            "359:\tlearn: 0.3096288\ttotal: 37.6s\tremaining: 1m 6s\n",
            "360:\tlearn: 0.3095997\ttotal: 37.7s\tremaining: 1m 6s\n",
            "361:\tlearn: 0.3095814\ttotal: 37.8s\tremaining: 1m 6s\n",
            "362:\tlearn: 0.3095286\ttotal: 37.9s\tremaining: 1m 6s\n",
            "363:\tlearn: 0.3095002\ttotal: 38.1s\tremaining: 1m 6s\n",
            "364:\tlearn: 0.3094751\ttotal: 38.2s\tremaining: 1m 6s\n",
            "365:\tlearn: 0.3094311\ttotal: 38.3s\tremaining: 1m 6s\n",
            "366:\tlearn: 0.3093434\ttotal: 38.4s\tremaining: 1m 6s\n",
            "367:\tlearn: 0.3092289\ttotal: 38.5s\tremaining: 1m 6s\n",
            "368:\tlearn: 0.3092130\ttotal: 38.6s\tremaining: 1m 5s\n",
            "369:\tlearn: 0.3091622\ttotal: 38.7s\tremaining: 1m 5s\n",
            "370:\tlearn: 0.3091257\ttotal: 38.8s\tremaining: 1m 5s\n",
            "371:\tlearn: 0.3090740\ttotal: 38.9s\tremaining: 1m 5s\n",
            "372:\tlearn: 0.3090571\ttotal: 39s\tremaining: 1m 5s\n",
            "373:\tlearn: 0.3090413\ttotal: 39.1s\tremaining: 1m 5s\n",
            "374:\tlearn: 0.3090212\ttotal: 39.2s\tremaining: 1m 5s\n",
            "375:\tlearn: 0.3089620\ttotal: 39.3s\tremaining: 1m 5s\n",
            "376:\tlearn: 0.3089354\ttotal: 39.4s\tremaining: 1m 5s\n",
            "377:\tlearn: 0.3088658\ttotal: 39.5s\tremaining: 1m 5s\n",
            "378:\tlearn: 0.3088465\ttotal: 39.6s\tremaining: 1m 4s\n",
            "379:\tlearn: 0.3087954\ttotal: 39.7s\tremaining: 1m 4s\n",
            "380:\tlearn: 0.3087717\ttotal: 39.8s\tremaining: 1m 4s\n",
            "381:\tlearn: 0.3087467\ttotal: 40s\tremaining: 1m 4s\n",
            "382:\tlearn: 0.3087333\ttotal: 40.1s\tremaining: 1m 4s\n",
            "383:\tlearn: 0.3087053\ttotal: 40.2s\tremaining: 1m 4s\n",
            "384:\tlearn: 0.3086436\ttotal: 40.3s\tremaining: 1m 4s\n",
            "385:\tlearn: 0.3085936\ttotal: 40.4s\tremaining: 1m 4s\n",
            "386:\tlearn: 0.3085470\ttotal: 40.5s\tremaining: 1m 4s\n",
            "387:\tlearn: 0.3084803\ttotal: 40.6s\tremaining: 1m 4s\n",
            "388:\tlearn: 0.3084614\ttotal: 40.7s\tremaining: 1m 3s\n",
            "389:\tlearn: 0.3084091\ttotal: 40.8s\tremaining: 1m 3s\n",
            "390:\tlearn: 0.3083873\ttotal: 40.9s\tremaining: 1m 3s\n",
            "391:\tlearn: 0.3083532\ttotal: 41s\tremaining: 1m 3s\n",
            "392:\tlearn: 0.3083278\ttotal: 41.1s\tremaining: 1m 3s\n",
            "393:\tlearn: 0.3083045\ttotal: 41.2s\tremaining: 1m 3s\n",
            "394:\tlearn: 0.3082795\ttotal: 41.3s\tremaining: 1m 3s\n",
            "395:\tlearn: 0.3082529\ttotal: 41.4s\tremaining: 1m 3s\n",
            "396:\tlearn: 0.3081725\ttotal: 41.5s\tremaining: 1m 3s\n",
            "397:\tlearn: 0.3081325\ttotal: 41.6s\tremaining: 1m 2s\n",
            "398:\tlearn: 0.3081095\ttotal: 41.7s\tremaining: 1m 2s\n",
            "399:\tlearn: 0.3080713\ttotal: 41.8s\tremaining: 1m 2s\n",
            "400:\tlearn: 0.3080311\ttotal: 41.9s\tremaining: 1m 2s\n",
            "401:\tlearn: 0.3079649\ttotal: 42s\tremaining: 1m 2s\n",
            "402:\tlearn: 0.3079453\ttotal: 42.2s\tremaining: 1m 2s\n",
            "403:\tlearn: 0.3078936\ttotal: 42.3s\tremaining: 1m 2s\n",
            "404:\tlearn: 0.3078674\ttotal: 42.4s\tremaining: 1m 2s\n",
            "405:\tlearn: 0.3078436\ttotal: 42.5s\tremaining: 1m 2s\n",
            "406:\tlearn: 0.3078125\ttotal: 42.6s\tremaining: 1m 2s\n",
            "407:\tlearn: 0.3077405\ttotal: 42.7s\tremaining: 1m 1s\n",
            "408:\tlearn: 0.3077224\ttotal: 42.8s\tremaining: 1m 1s\n",
            "409:\tlearn: 0.3076224\ttotal: 42.9s\tremaining: 1m 1s\n",
            "410:\tlearn: 0.3076018\ttotal: 43s\tremaining: 1m 1s\n",
            "411:\tlearn: 0.3075814\ttotal: 43.1s\tremaining: 1m 1s\n",
            "412:\tlearn: 0.3075489\ttotal: 43.2s\tremaining: 1m 1s\n",
            "413:\tlearn: 0.3074970\ttotal: 43.3s\tremaining: 1m 1s\n",
            "414:\tlearn: 0.3074156\ttotal: 43.4s\tremaining: 1m 1s\n",
            "415:\tlearn: 0.3073992\ttotal: 43.5s\tremaining: 1m 1s\n",
            "416:\tlearn: 0.3073814\ttotal: 43.6s\tremaining: 1m\n",
            "417:\tlearn: 0.3073555\ttotal: 43.7s\tremaining: 1m\n",
            "418:\tlearn: 0.3073416\ttotal: 43.8s\tremaining: 1m\n",
            "419:\tlearn: 0.3073277\ttotal: 43.9s\tremaining: 1m\n",
            "420:\tlearn: 0.3073061\ttotal: 44s\tremaining: 1m\n",
            "421:\tlearn: 0.3072745\ttotal: 44.1s\tremaining: 1m\n",
            "422:\tlearn: 0.3072444\ttotal: 44.2s\tremaining: 1m\n",
            "423:\tlearn: 0.3072246\ttotal: 44.3s\tremaining: 1m\n",
            "424:\tlearn: 0.3072039\ttotal: 44.4s\tremaining: 1m\n",
            "425:\tlearn: 0.3071015\ttotal: 44.5s\tremaining: 60s\n",
            "426:\tlearn: 0.3070786\ttotal: 44.6s\tremaining: 59.9s\n",
            "427:\tlearn: 0.3070585\ttotal: 44.7s\tremaining: 59.8s\n",
            "428:\tlearn: 0.3070351\ttotal: 44.8s\tremaining: 59.7s\n",
            "429:\tlearn: 0.3070197\ttotal: 44.9s\tremaining: 59.6s\n",
            "430:\tlearn: 0.3069994\ttotal: 45s\tremaining: 59.5s\n",
            "431:\tlearn: 0.3069772\ttotal: 45.1s\tremaining: 59.4s\n",
            "432:\tlearn: 0.3069429\ttotal: 45.3s\tremaining: 59.3s\n",
            "433:\tlearn: 0.3068697\ttotal: 45.4s\tremaining: 59.2s\n",
            "434:\tlearn: 0.3068552\ttotal: 45.5s\tremaining: 59.1s\n",
            "435:\tlearn: 0.3067578\ttotal: 45.6s\tremaining: 59s\n",
            "436:\tlearn: 0.3066907\ttotal: 45.7s\tremaining: 58.9s\n",
            "437:\tlearn: 0.3066639\ttotal: 45.8s\tremaining: 58.8s\n",
            "438:\tlearn: 0.3065453\ttotal: 45.9s\tremaining: 58.7s\n",
            "439:\tlearn: 0.3064941\ttotal: 46s\tremaining: 58.6s\n",
            "440:\tlearn: 0.3064600\ttotal: 46.1s\tremaining: 58.5s\n",
            "441:\tlearn: 0.3064353\ttotal: 46.2s\tremaining: 58.3s\n",
            "442:\tlearn: 0.3064023\ttotal: 46.3s\tremaining: 58.2s\n",
            "443:\tlearn: 0.3063792\ttotal: 46.4s\tremaining: 58.1s\n",
            "444:\tlearn: 0.3063532\ttotal: 46.5s\tremaining: 58s\n",
            "445:\tlearn: 0.3063331\ttotal: 46.6s\tremaining: 57.9s\n",
            "446:\tlearn: 0.3061780\ttotal: 46.7s\tremaining: 57.8s\n",
            "447:\tlearn: 0.3061337\ttotal: 46.8s\tremaining: 57.7s\n",
            "448:\tlearn: 0.3060808\ttotal: 46.9s\tremaining: 57.6s\n",
            "449:\tlearn: 0.3060158\ttotal: 47s\tremaining: 57.5s\n",
            "450:\tlearn: 0.3059287\ttotal: 47.2s\tremaining: 57.4s\n",
            "451:\tlearn: 0.3059090\ttotal: 47.3s\tremaining: 57.3s\n",
            "452:\tlearn: 0.3058914\ttotal: 47.4s\tremaining: 57.2s\n",
            "453:\tlearn: 0.3058648\ttotal: 47.5s\tremaining: 57.1s\n",
            "454:\tlearn: 0.3058363\ttotal: 47.6s\tremaining: 57s\n",
            "455:\tlearn: 0.3058133\ttotal: 47.7s\tremaining: 56.9s\n",
            "456:\tlearn: 0.3057202\ttotal: 47.8s\tremaining: 56.8s\n",
            "457:\tlearn: 0.3056822\ttotal: 47.9s\tremaining: 56.7s\n",
            "458:\tlearn: 0.3056175\ttotal: 48s\tremaining: 56.6s\n",
            "459:\tlearn: 0.3055237\ttotal: 48.1s\tremaining: 56.5s\n",
            "460:\tlearn: 0.3054758\ttotal: 48.2s\tremaining: 56.3s\n",
            "461:\tlearn: 0.3054589\ttotal: 48.3s\tremaining: 56.2s\n",
            "462:\tlearn: 0.3053938\ttotal: 48.4s\tremaining: 56.1s\n",
            "463:\tlearn: 0.3053618\ttotal: 48.5s\tremaining: 56s\n",
            "464:\tlearn: 0.3052793\ttotal: 48.6s\tremaining: 55.9s\n",
            "465:\tlearn: 0.3052671\ttotal: 48.7s\tremaining: 55.8s\n",
            "466:\tlearn: 0.3052528\ttotal: 48.8s\tremaining: 55.7s\n",
            "467:\tlearn: 0.3052069\ttotal: 48.9s\tremaining: 55.6s\n",
            "468:\tlearn: 0.3051827\ttotal: 49s\tremaining: 55.5s\n",
            "469:\tlearn: 0.3051678\ttotal: 49.1s\tremaining: 55.4s\n",
            "470:\tlearn: 0.3051202\ttotal: 49.2s\tremaining: 55.3s\n",
            "471:\tlearn: 0.3050929\ttotal: 49.3s\tremaining: 55.2s\n",
            "472:\tlearn: 0.3050713\ttotal: 49.4s\tremaining: 55.1s\n",
            "473:\tlearn: 0.3050597\ttotal: 49.5s\tremaining: 55s\n",
            "474:\tlearn: 0.3050458\ttotal: 49.6s\tremaining: 54.9s\n",
            "475:\tlearn: 0.3050008\ttotal: 49.8s\tremaining: 54.8s\n",
            "476:\tlearn: 0.3049724\ttotal: 49.9s\tremaining: 54.7s\n",
            "477:\tlearn: 0.3049505\ttotal: 50s\tremaining: 54.6s\n",
            "478:\tlearn: 0.3049286\ttotal: 50.1s\tremaining: 54.4s\n",
            "479:\tlearn: 0.3049154\ttotal: 50.2s\tremaining: 54.4s\n",
            "480:\tlearn: 0.3048971\ttotal: 50.3s\tremaining: 54.2s\n",
            "481:\tlearn: 0.3048653\ttotal: 50.4s\tremaining: 54.1s\n",
            "482:\tlearn: 0.3048110\ttotal: 50.5s\tremaining: 54s\n",
            "483:\tlearn: 0.3047931\ttotal: 50.6s\tremaining: 53.9s\n",
            "484:\tlearn: 0.3047701\ttotal: 50.7s\tremaining: 53.8s\n",
            "485:\tlearn: 0.3047492\ttotal: 50.8s\tremaining: 53.7s\n",
            "486:\tlearn: 0.3047068\ttotal: 50.9s\tremaining: 53.6s\n",
            "487:\tlearn: 0.3046890\ttotal: 51s\tremaining: 53.5s\n",
            "488:\tlearn: 0.3046705\ttotal: 51.1s\tremaining: 53.4s\n",
            "489:\tlearn: 0.3046388\ttotal: 51.2s\tremaining: 53.3s\n",
            "490:\tlearn: 0.3046095\ttotal: 51.3s\tremaining: 53.2s\n",
            "491:\tlearn: 0.3045927\ttotal: 51.4s\tremaining: 53.1s\n",
            "492:\tlearn: 0.3045738\ttotal: 51.5s\tremaining: 53s\n",
            "493:\tlearn: 0.3045516\ttotal: 51.6s\tremaining: 52.9s\n",
            "494:\tlearn: 0.3045332\ttotal: 51.7s\tremaining: 52.8s\n",
            "495:\tlearn: 0.3045061\ttotal: 51.8s\tremaining: 52.7s\n",
            "496:\tlearn: 0.3044742\ttotal: 51.9s\tremaining: 52.5s\n",
            "497:\tlearn: 0.3044572\ttotal: 52s\tremaining: 52.4s\n",
            "498:\tlearn: 0.3044191\ttotal: 52.1s\tremaining: 52.3s\n",
            "499:\tlearn: 0.3044026\ttotal: 52.2s\tremaining: 52.2s\n",
            "500:\tlearn: 0.3043879\ttotal: 52.3s\tremaining: 52.1s\n",
            "501:\tlearn: 0.3043549\ttotal: 52.4s\tremaining: 52s\n",
            "502:\tlearn: 0.3043370\ttotal: 52.5s\tremaining: 51.9s\n",
            "503:\tlearn: 0.3043231\ttotal: 52.6s\tremaining: 51.8s\n",
            "504:\tlearn: 0.3043022\ttotal: 52.7s\tremaining: 51.7s\n",
            "505:\tlearn: 0.3042719\ttotal: 52.8s\tremaining: 51.6s\n",
            "506:\tlearn: 0.3042487\ttotal: 53s\tremaining: 51.5s\n",
            "507:\tlearn: 0.3042011\ttotal: 53.1s\tremaining: 51.4s\n",
            "508:\tlearn: 0.3041815\ttotal: 53.2s\tremaining: 51.3s\n",
            "509:\tlearn: 0.3041606\ttotal: 53.3s\tremaining: 51.2s\n",
            "510:\tlearn: 0.3041416\ttotal: 53.4s\tremaining: 51.1s\n",
            "511:\tlearn: 0.3041245\ttotal: 53.5s\tremaining: 51s\n",
            "512:\tlearn: 0.3041063\ttotal: 53.6s\tremaining: 50.9s\n",
            "513:\tlearn: 0.3040858\ttotal: 53.7s\tremaining: 50.8s\n",
            "514:\tlearn: 0.3040745\ttotal: 53.8s\tremaining: 50.6s\n",
            "515:\tlearn: 0.3040635\ttotal: 53.9s\tremaining: 50.5s\n",
            "516:\tlearn: 0.3040203\ttotal: 54s\tremaining: 50.4s\n",
            "517:\tlearn: 0.3040000\ttotal: 54.1s\tremaining: 50.3s\n",
            "518:\tlearn: 0.3039879\ttotal: 54.2s\tremaining: 50.2s\n",
            "519:\tlearn: 0.3039664\ttotal: 54.3s\tremaining: 50.1s\n",
            "520:\tlearn: 0.3038781\ttotal: 54.4s\tremaining: 50s\n",
            "521:\tlearn: 0.3038570\ttotal: 54.5s\tremaining: 49.9s\n",
            "522:\tlearn: 0.3038293\ttotal: 54.6s\tremaining: 49.8s\n",
            "523:\tlearn: 0.3037704\ttotal: 54.7s\tremaining: 49.7s\n",
            "524:\tlearn: 0.3037453\ttotal: 54.9s\tremaining: 49.6s\n",
            "525:\tlearn: 0.3036488\ttotal: 55s\tremaining: 49.5s\n",
            "526:\tlearn: 0.3036250\ttotal: 55.1s\tremaining: 49.4s\n",
            "527:\tlearn: 0.3035000\ttotal: 55.2s\tremaining: 49.3s\n",
            "528:\tlearn: 0.3034461\ttotal: 55.3s\tremaining: 49.2s\n",
            "529:\tlearn: 0.3033665\ttotal: 55.4s\tremaining: 49.1s\n",
            "530:\tlearn: 0.3033437\ttotal: 55.5s\tremaining: 49s\n",
            "531:\tlearn: 0.3033194\ttotal: 55.6s\tremaining: 48.9s\n",
            "532:\tlearn: 0.3033038\ttotal: 55.7s\tremaining: 48.8s\n",
            "533:\tlearn: 0.3032905\ttotal: 55.8s\tremaining: 48.7s\n",
            "534:\tlearn: 0.3032490\ttotal: 55.9s\tremaining: 48.6s\n",
            "535:\tlearn: 0.3032053\ttotal: 56s\tremaining: 48.5s\n",
            "536:\tlearn: 0.3031856\ttotal: 56.1s\tremaining: 48.4s\n",
            "537:\tlearn: 0.3031467\ttotal: 56.2s\tremaining: 48.3s\n",
            "538:\tlearn: 0.3030689\ttotal: 56.3s\tremaining: 48.2s\n",
            "539:\tlearn: 0.3030484\ttotal: 56.4s\tremaining: 48.1s\n",
            "540:\tlearn: 0.3030276\ttotal: 56.5s\tremaining: 48s\n",
            "541:\tlearn: 0.3030040\ttotal: 56.6s\tremaining: 47.9s\n",
            "542:\tlearn: 0.3029769\ttotal: 56.7s\tremaining: 47.8s\n",
            "543:\tlearn: 0.3029270\ttotal: 56.9s\tremaining: 47.7s\n",
            "544:\tlearn: 0.3028840\ttotal: 57s\tremaining: 47.6s\n",
            "545:\tlearn: 0.3028689\ttotal: 57.1s\tremaining: 47.4s\n",
            "546:\tlearn: 0.3028411\ttotal: 57.2s\tremaining: 47.3s\n",
            "547:\tlearn: 0.3028004\ttotal: 57.3s\tremaining: 47.2s\n",
            "548:\tlearn: 0.3027535\ttotal: 57.4s\tremaining: 47.1s\n",
            "549:\tlearn: 0.3027359\ttotal: 57.5s\tremaining: 47s\n",
            "550:\tlearn: 0.3027237\ttotal: 57.6s\tremaining: 46.9s\n",
            "551:\tlearn: 0.3026999\ttotal: 57.7s\tremaining: 46.8s\n",
            "552:\tlearn: 0.3026757\ttotal: 57.8s\tremaining: 46.7s\n",
            "553:\tlearn: 0.3026528\ttotal: 57.9s\tremaining: 46.6s\n",
            "554:\tlearn: 0.3026359\ttotal: 58s\tremaining: 46.5s\n",
            "555:\tlearn: 0.3026063\ttotal: 58.1s\tremaining: 46.4s\n",
            "556:\tlearn: 0.3025827\ttotal: 58.2s\tremaining: 46.3s\n",
            "557:\tlearn: 0.3025394\ttotal: 58.3s\tremaining: 46.2s\n",
            "558:\tlearn: 0.3025272\ttotal: 58.4s\tremaining: 46.1s\n",
            "559:\tlearn: 0.3025071\ttotal: 58.5s\tremaining: 46s\n",
            "560:\tlearn: 0.3024835\ttotal: 58.6s\tremaining: 45.9s\n",
            "561:\tlearn: 0.3024393\ttotal: 58.7s\tremaining: 45.8s\n",
            "562:\tlearn: 0.3024213\ttotal: 58.8s\tremaining: 45.7s\n",
            "563:\tlearn: 0.3022831\ttotal: 58.9s\tremaining: 45.6s\n",
            "564:\tlearn: 0.3022350\ttotal: 59s\tremaining: 45.5s\n",
            "565:\tlearn: 0.3022183\ttotal: 59.1s\tremaining: 45.3s\n",
            "566:\tlearn: 0.3022021\ttotal: 59.3s\tremaining: 45.2s\n",
            "567:\tlearn: 0.3021085\ttotal: 59.4s\tremaining: 45.1s\n",
            "568:\tlearn: 0.3020936\ttotal: 59.5s\tremaining: 45s\n",
            "569:\tlearn: 0.3020765\ttotal: 59.6s\tremaining: 44.9s\n",
            "570:\tlearn: 0.3020625\ttotal: 59.7s\tremaining: 44.8s\n",
            "571:\tlearn: 0.3020239\ttotal: 59.8s\tremaining: 44.7s\n",
            "572:\tlearn: 0.3020102\ttotal: 59.9s\tremaining: 44.6s\n",
            "573:\tlearn: 0.3019937\ttotal: 60s\tremaining: 44.5s\n",
            "574:\tlearn: 0.3019761\ttotal: 1m\tremaining: 44.4s\n",
            "575:\tlearn: 0.3019498\ttotal: 1m\tremaining: 44.3s\n",
            "576:\tlearn: 0.3019304\ttotal: 1m\tremaining: 44.2s\n",
            "577:\tlearn: 0.3019082\ttotal: 1m\tremaining: 44.1s\n",
            "578:\tlearn: 0.3018896\ttotal: 1m\tremaining: 44s\n",
            "579:\tlearn: 0.3018724\ttotal: 1m\tremaining: 43.9s\n",
            "580:\tlearn: 0.3018137\ttotal: 1m\tremaining: 43.8s\n",
            "581:\tlearn: 0.3017992\ttotal: 1m\tremaining: 43.7s\n",
            "582:\tlearn: 0.3017806\ttotal: 1m\tremaining: 43.6s\n",
            "583:\tlearn: 0.3017631\ttotal: 1m 1s\tremaining: 43.5s\n",
            "584:\tlearn: 0.3017040\ttotal: 1m 1s\tremaining: 43.4s\n",
            "585:\tlearn: 0.3016849\ttotal: 1m 1s\tremaining: 43.3s\n",
            "586:\tlearn: 0.3016129\ttotal: 1m 1s\tremaining: 43.2s\n",
            "587:\tlearn: 0.3015958\ttotal: 1m 1s\tremaining: 43s\n",
            "588:\tlearn: 0.3015807\ttotal: 1m 1s\tremaining: 42.9s\n",
            "589:\tlearn: 0.3015466\ttotal: 1m 1s\tremaining: 42.8s\n",
            "590:\tlearn: 0.3015297\ttotal: 1m 1s\tremaining: 42.7s\n",
            "591:\tlearn: 0.3015158\ttotal: 1m 1s\tremaining: 42.6s\n",
            "592:\tlearn: 0.3015024\ttotal: 1m 1s\tremaining: 42.5s\n",
            "593:\tlearn: 0.3014647\ttotal: 1m 2s\tremaining: 42.4s\n",
            "594:\tlearn: 0.3014475\ttotal: 1m 2s\tremaining: 42.3s\n",
            "595:\tlearn: 0.3014078\ttotal: 1m 2s\tremaining: 42.2s\n",
            "596:\tlearn: 0.3013912\ttotal: 1m 2s\tremaining: 42.1s\n",
            "597:\tlearn: 0.3013752\ttotal: 1m 2s\tremaining: 42s\n",
            "598:\tlearn: 0.3013542\ttotal: 1m 2s\tremaining: 41.9s\n",
            "599:\tlearn: 0.3013347\ttotal: 1m 2s\tremaining: 41.8s\n",
            "600:\tlearn: 0.3013221\ttotal: 1m 2s\tremaining: 41.7s\n",
            "601:\tlearn: 0.3013093\ttotal: 1m 2s\tremaining: 41.6s\n",
            "602:\tlearn: 0.3012879\ttotal: 1m 3s\tremaining: 41.5s\n",
            "603:\tlearn: 0.3012649\ttotal: 1m 3s\tremaining: 41.4s\n",
            "604:\tlearn: 0.3012462\ttotal: 1m 3s\tremaining: 41.3s\n",
            "605:\tlearn: 0.3011924\ttotal: 1m 3s\tremaining: 41.2s\n",
            "606:\tlearn: 0.3011743\ttotal: 1m 3s\tremaining: 41.1s\n",
            "607:\tlearn: 0.3011561\ttotal: 1m 3s\tremaining: 41s\n",
            "608:\tlearn: 0.3011373\ttotal: 1m 3s\tremaining: 40.9s\n",
            "609:\tlearn: 0.3010901\ttotal: 1m 3s\tremaining: 40.7s\n",
            "610:\tlearn: 0.3010675\ttotal: 1m 3s\tremaining: 40.6s\n",
            "611:\tlearn: 0.3010545\ttotal: 1m 3s\tremaining: 40.5s\n",
            "612:\tlearn: 0.3010012\ttotal: 1m 4s\tremaining: 40.4s\n",
            "613:\tlearn: 0.3009755\ttotal: 1m 4s\tremaining: 40.3s\n",
            "614:\tlearn: 0.3009575\ttotal: 1m 4s\tremaining: 40.2s\n",
            "615:\tlearn: 0.3009345\ttotal: 1m 4s\tremaining: 40.1s\n",
            "616:\tlearn: 0.3009217\ttotal: 1m 4s\tremaining: 40s\n",
            "617:\tlearn: 0.3009081\ttotal: 1m 4s\tremaining: 39.9s\n",
            "618:\tlearn: 0.3008920\ttotal: 1m 4s\tremaining: 39.8s\n",
            "619:\tlearn: 0.3008798\ttotal: 1m 4s\tremaining: 39.7s\n",
            "620:\tlearn: 0.3008627\ttotal: 1m 4s\tremaining: 39.6s\n",
            "621:\tlearn: 0.3008395\ttotal: 1m 4s\tremaining: 39.5s\n",
            "622:\tlearn: 0.3008217\ttotal: 1m 5s\tremaining: 39.4s\n",
            "623:\tlearn: 0.3008006\ttotal: 1m 5s\tremaining: 39.3s\n",
            "624:\tlearn: 0.3007856\ttotal: 1m 5s\tremaining: 39.2s\n",
            "625:\tlearn: 0.3007724\ttotal: 1m 5s\tremaining: 39.1s\n",
            "626:\tlearn: 0.3007576\ttotal: 1m 5s\tremaining: 38.9s\n",
            "627:\tlearn: 0.3007427\ttotal: 1m 5s\tremaining: 38.8s\n",
            "628:\tlearn: 0.3007277\ttotal: 1m 5s\tremaining: 38.7s\n",
            "629:\tlearn: 0.3007144\ttotal: 1m 5s\tremaining: 38.6s\n",
            "630:\tlearn: 0.3007029\ttotal: 1m 5s\tremaining: 38.5s\n",
            "631:\tlearn: 0.3006796\ttotal: 1m 5s\tremaining: 38.4s\n",
            "632:\tlearn: 0.3006483\ttotal: 1m 6s\tremaining: 38.3s\n",
            "633:\tlearn: 0.3005975\ttotal: 1m 6s\tremaining: 38.2s\n",
            "634:\tlearn: 0.3005770\ttotal: 1m 6s\tremaining: 38.1s\n",
            "635:\tlearn: 0.3005570\ttotal: 1m 6s\tremaining: 38s\n",
            "636:\tlearn: 0.3005423\ttotal: 1m 6s\tremaining: 37.9s\n",
            "637:\tlearn: 0.3005279\ttotal: 1m 6s\tremaining: 37.8s\n",
            "638:\tlearn: 0.3005120\ttotal: 1m 6s\tremaining: 37.7s\n",
            "639:\tlearn: 0.3005014\ttotal: 1m 6s\tremaining: 37.6s\n",
            "640:\tlearn: 0.3004493\ttotal: 1m 6s\tremaining: 37.5s\n",
            "641:\tlearn: 0.3004355\ttotal: 1m 7s\tremaining: 37.4s\n",
            "642:\tlearn: 0.3004104\ttotal: 1m 7s\tremaining: 37.3s\n",
            "643:\tlearn: 0.3003656\ttotal: 1m 7s\tremaining: 37.2s\n",
            "644:\tlearn: 0.3003474\ttotal: 1m 7s\tremaining: 37.1s\n",
            "645:\tlearn: 0.3003237\ttotal: 1m 7s\tremaining: 37s\n",
            "646:\tlearn: 0.3003125\ttotal: 1m 7s\tremaining: 36.9s\n",
            "647:\tlearn: 0.3002958\ttotal: 1m 7s\tremaining: 36.8s\n",
            "648:\tlearn: 0.3002753\ttotal: 1m 7s\tremaining: 36.7s\n",
            "649:\tlearn: 0.3002642\ttotal: 1m 7s\tremaining: 36.5s\n",
            "650:\tlearn: 0.3002493\ttotal: 1m 7s\tremaining: 36.4s\n",
            "651:\tlearn: 0.3002160\ttotal: 1m 8s\tremaining: 36.3s\n",
            "652:\tlearn: 0.3002070\ttotal: 1m 8s\tremaining: 36.2s\n",
            "653:\tlearn: 0.3001764\ttotal: 1m 8s\tremaining: 36.1s\n",
            "654:\tlearn: 0.3001565\ttotal: 1m 8s\tremaining: 36s\n",
            "655:\tlearn: 0.3001368\ttotal: 1m 8s\tremaining: 35.9s\n",
            "656:\tlearn: 0.3001244\ttotal: 1m 8s\tremaining: 35.8s\n",
            "657:\tlearn: 0.3001051\ttotal: 1m 8s\tremaining: 35.7s\n",
            "658:\tlearn: 0.3000806\ttotal: 1m 8s\tremaining: 35.6s\n",
            "659:\tlearn: 0.3000765\ttotal: 1m 8s\tremaining: 35.5s\n",
            "660:\tlearn: 0.3000539\ttotal: 1m 9s\tremaining: 35.4s\n",
            "661:\tlearn: 0.3000078\ttotal: 1m 9s\tremaining: 35.3s\n",
            "662:\tlearn: 0.2999792\ttotal: 1m 9s\tremaining: 35.2s\n",
            "663:\tlearn: 0.2999675\ttotal: 1m 9s\tremaining: 35.1s\n",
            "664:\tlearn: 0.2999503\ttotal: 1m 9s\tremaining: 35s\n",
            "665:\tlearn: 0.2999337\ttotal: 1m 9s\tremaining: 34.9s\n",
            "666:\tlearn: 0.2999226\ttotal: 1m 9s\tremaining: 34.8s\n",
            "667:\tlearn: 0.2999094\ttotal: 1m 9s\tremaining: 34.7s\n",
            "668:\tlearn: 0.2998979\ttotal: 1m 9s\tremaining: 34.6s\n",
            "669:\tlearn: 0.2998835\ttotal: 1m 9s\tremaining: 34.4s\n",
            "670:\tlearn: 0.2998136\ttotal: 1m 10s\tremaining: 34.3s\n",
            "671:\tlearn: 0.2998003\ttotal: 1m 10s\tremaining: 34.2s\n",
            "672:\tlearn: 0.2997492\ttotal: 1m 10s\tremaining: 34.1s\n",
            "673:\tlearn: 0.2997236\ttotal: 1m 10s\tremaining: 34s\n",
            "674:\tlearn: 0.2996974\ttotal: 1m 10s\tremaining: 33.9s\n",
            "675:\tlearn: 0.2996831\ttotal: 1m 10s\tremaining: 33.8s\n",
            "676:\tlearn: 0.2996672\ttotal: 1m 10s\tremaining: 33.7s\n",
            "677:\tlearn: 0.2996503\ttotal: 1m 10s\tremaining: 33.6s\n",
            "678:\tlearn: 0.2996364\ttotal: 1m 10s\tremaining: 33.5s\n",
            "679:\tlearn: 0.2996021\ttotal: 1m 10s\tremaining: 33.4s\n",
            "680:\tlearn: 0.2995884\ttotal: 1m 11s\tremaining: 33.3s\n",
            "681:\tlearn: 0.2995773\ttotal: 1m 11s\tremaining: 33.2s\n",
            "682:\tlearn: 0.2995547\ttotal: 1m 11s\tremaining: 33.1s\n",
            "683:\tlearn: 0.2995214\ttotal: 1m 11s\tremaining: 33s\n",
            "684:\tlearn: 0.2994895\ttotal: 1m 11s\tremaining: 32.9s\n",
            "685:\tlearn: 0.2994749\ttotal: 1m 11s\tremaining: 32.8s\n",
            "686:\tlearn: 0.2994522\ttotal: 1m 11s\tremaining: 32.7s\n",
            "687:\tlearn: 0.2993974\ttotal: 1m 11s\tremaining: 32.6s\n",
            "688:\tlearn: 0.2993832\ttotal: 1m 11s\tremaining: 32.5s\n",
            "689:\tlearn: 0.2993695\ttotal: 1m 12s\tremaining: 32.4s\n",
            "690:\tlearn: 0.2993488\ttotal: 1m 12s\tremaining: 32.2s\n",
            "691:\tlearn: 0.2993315\ttotal: 1m 12s\tremaining: 32.1s\n",
            "692:\tlearn: 0.2993038\ttotal: 1m 12s\tremaining: 32s\n",
            "693:\tlearn: 0.2992924\ttotal: 1m 12s\tremaining: 31.9s\n",
            "694:\tlearn: 0.2992748\ttotal: 1m 12s\tremaining: 31.8s\n",
            "695:\tlearn: 0.2992297\ttotal: 1m 12s\tremaining: 31.7s\n",
            "696:\tlearn: 0.2992149\ttotal: 1m 12s\tremaining: 31.6s\n",
            "697:\tlearn: 0.2991935\ttotal: 1m 12s\tremaining: 31.5s\n",
            "698:\tlearn: 0.2991746\ttotal: 1m 12s\tremaining: 31.4s\n",
            "699:\tlearn: 0.2991632\ttotal: 1m 13s\tremaining: 31.3s\n",
            "700:\tlearn: 0.2991341\ttotal: 1m 13s\tremaining: 31.2s\n",
            "701:\tlearn: 0.2991208\ttotal: 1m 13s\tremaining: 31.1s\n",
            "702:\tlearn: 0.2991094\ttotal: 1m 13s\tremaining: 31s\n",
            "703:\tlearn: 0.2990899\ttotal: 1m 13s\tremaining: 30.9s\n",
            "704:\tlearn: 0.2990516\ttotal: 1m 13s\tremaining: 30.8s\n",
            "705:\tlearn: 0.2990397\ttotal: 1m 13s\tremaining: 30.7s\n",
            "706:\tlearn: 0.2990268\ttotal: 1m 13s\tremaining: 30.6s\n",
            "707:\tlearn: 0.2989987\ttotal: 1m 13s\tremaining: 30.5s\n",
            "708:\tlearn: 0.2989862\ttotal: 1m 13s\tremaining: 30.4s\n",
            "709:\tlearn: 0.2989691\ttotal: 1m 14s\tremaining: 30.3s\n",
            "710:\tlearn: 0.2989580\ttotal: 1m 14s\tremaining: 30.1s\n",
            "711:\tlearn: 0.2989461\ttotal: 1m 14s\tremaining: 30s\n",
            "712:\tlearn: 0.2989313\ttotal: 1m 14s\tremaining: 29.9s\n",
            "713:\tlearn: 0.2989074\ttotal: 1m 14s\tremaining: 29.8s\n",
            "714:\tlearn: 0.2988885\ttotal: 1m 14s\tremaining: 29.7s\n",
            "715:\tlearn: 0.2988686\ttotal: 1m 14s\tremaining: 29.6s\n",
            "716:\tlearn: 0.2988479\ttotal: 1m 14s\tremaining: 29.5s\n",
            "717:\tlearn: 0.2988284\ttotal: 1m 14s\tremaining: 29.4s\n",
            "718:\tlearn: 0.2988146\ttotal: 1m 14s\tremaining: 29.3s\n",
            "719:\tlearn: 0.2987954\ttotal: 1m 15s\tremaining: 29.2s\n",
            "720:\tlearn: 0.2987711\ttotal: 1m 15s\tremaining: 29.1s\n",
            "721:\tlearn: 0.2987554\ttotal: 1m 15s\tremaining: 29s\n",
            "722:\tlearn: 0.2987416\ttotal: 1m 15s\tremaining: 28.9s\n",
            "723:\tlearn: 0.2987223\ttotal: 1m 15s\tremaining: 28.8s\n",
            "724:\tlearn: 0.2987045\ttotal: 1m 15s\tremaining: 28.7s\n",
            "725:\tlearn: 0.2986816\ttotal: 1m 15s\tremaining: 28.6s\n",
            "726:\tlearn: 0.2986686\ttotal: 1m 15s\tremaining: 28.5s\n",
            "727:\tlearn: 0.2986509\ttotal: 1m 15s\tremaining: 28.4s\n",
            "728:\tlearn: 0.2986111\ttotal: 1m 16s\tremaining: 28.3s\n",
            "729:\tlearn: 0.2985993\ttotal: 1m 16s\tremaining: 28.2s\n",
            "730:\tlearn: 0.2985685\ttotal: 1m 16s\tremaining: 28.1s\n",
            "731:\tlearn: 0.2985542\ttotal: 1m 16s\tremaining: 28s\n",
            "732:\tlearn: 0.2985344\ttotal: 1m 16s\tremaining: 27.8s\n",
            "733:\tlearn: 0.2985226\ttotal: 1m 16s\tremaining: 27.7s\n",
            "734:\tlearn: 0.2984794\ttotal: 1m 16s\tremaining: 27.6s\n",
            "735:\tlearn: 0.2984318\ttotal: 1m 16s\tremaining: 27.5s\n",
            "736:\tlearn: 0.2984143\ttotal: 1m 16s\tremaining: 27.4s\n",
            "737:\tlearn: 0.2983701\ttotal: 1m 16s\tremaining: 27.3s\n",
            "738:\tlearn: 0.2983413\ttotal: 1m 17s\tremaining: 27.2s\n",
            "739:\tlearn: 0.2983289\ttotal: 1m 17s\tremaining: 27.1s\n",
            "740:\tlearn: 0.2983151\ttotal: 1m 17s\tremaining: 27s\n",
            "741:\tlearn: 0.2982965\ttotal: 1m 17s\tremaining: 26.9s\n",
            "742:\tlearn: 0.2982805\ttotal: 1m 17s\tremaining: 26.8s\n",
            "743:\tlearn: 0.2982537\ttotal: 1m 17s\tremaining: 26.7s\n",
            "744:\tlearn: 0.2982319\ttotal: 1m 17s\tremaining: 26.6s\n",
            "745:\tlearn: 0.2982146\ttotal: 1m 17s\tremaining: 26.5s\n",
            "746:\tlearn: 0.2981990\ttotal: 1m 17s\tremaining: 26.4s\n",
            "747:\tlearn: 0.2981852\ttotal: 1m 18s\tremaining: 26.3s\n",
            "748:\tlearn: 0.2981707\ttotal: 1m 18s\tremaining: 26.2s\n",
            "749:\tlearn: 0.2981543\ttotal: 1m 18s\tremaining: 26.1s\n",
            "750:\tlearn: 0.2981431\ttotal: 1m 18s\tremaining: 26s\n",
            "751:\tlearn: 0.2981310\ttotal: 1m 18s\tremaining: 25.9s\n",
            "752:\tlearn: 0.2981144\ttotal: 1m 18s\tremaining: 25.8s\n",
            "753:\tlearn: 0.2980896\ttotal: 1m 18s\tremaining: 25.7s\n",
            "754:\tlearn: 0.2980762\ttotal: 1m 18s\tremaining: 25.6s\n",
            "755:\tlearn: 0.2980593\ttotal: 1m 18s\tremaining: 25.4s\n",
            "756:\tlearn: 0.2980418\ttotal: 1m 18s\tremaining: 25.3s\n",
            "757:\tlearn: 0.2980150\ttotal: 1m 19s\tremaining: 25.2s\n",
            "758:\tlearn: 0.2979926\ttotal: 1m 19s\tremaining: 25.1s\n",
            "759:\tlearn: 0.2979764\ttotal: 1m 19s\tremaining: 25s\n",
            "760:\tlearn: 0.2979683\ttotal: 1m 19s\tremaining: 24.9s\n",
            "761:\tlearn: 0.2979510\ttotal: 1m 19s\tremaining: 24.8s\n",
            "762:\tlearn: 0.2979373\ttotal: 1m 19s\tremaining: 24.7s\n",
            "763:\tlearn: 0.2979213\ttotal: 1m 19s\tremaining: 24.6s\n",
            "764:\tlearn: 0.2979075\ttotal: 1m 19s\tremaining: 24.5s\n",
            "765:\tlearn: 0.2978953\ttotal: 1m 19s\tremaining: 24.4s\n",
            "766:\tlearn: 0.2978654\ttotal: 1m 19s\tremaining: 24.3s\n",
            "767:\tlearn: 0.2978426\ttotal: 1m 20s\tremaining: 24.2s\n",
            "768:\tlearn: 0.2978129\ttotal: 1m 20s\tremaining: 24.1s\n",
            "769:\tlearn: 0.2977968\ttotal: 1m 20s\tremaining: 24s\n",
            "770:\tlearn: 0.2977812\ttotal: 1m 20s\tremaining: 23.9s\n",
            "771:\tlearn: 0.2977677\ttotal: 1m 20s\tremaining: 23.8s\n",
            "772:\tlearn: 0.2977528\ttotal: 1m 20s\tremaining: 23.7s\n",
            "773:\tlearn: 0.2977357\ttotal: 1m 20s\tremaining: 23.6s\n",
            "774:\tlearn: 0.2977220\ttotal: 1m 20s\tremaining: 23.5s\n",
            "775:\tlearn: 0.2977136\ttotal: 1m 20s\tremaining: 23.4s\n",
            "776:\tlearn: 0.2977002\ttotal: 1m 21s\tremaining: 23.3s\n",
            "777:\tlearn: 0.2976829\ttotal: 1m 21s\tremaining: 23.1s\n",
            "778:\tlearn: 0.2976500\ttotal: 1m 21s\tremaining: 23s\n",
            "779:\tlearn: 0.2976134\ttotal: 1m 21s\tremaining: 22.9s\n",
            "780:\tlearn: 0.2975913\ttotal: 1m 21s\tremaining: 22.8s\n",
            "781:\tlearn: 0.2975764\ttotal: 1m 21s\tremaining: 22.7s\n",
            "782:\tlearn: 0.2975681\ttotal: 1m 21s\tremaining: 22.6s\n",
            "783:\tlearn: 0.2975527\ttotal: 1m 21s\tremaining: 22.5s\n",
            "784:\tlearn: 0.2975118\ttotal: 1m 21s\tremaining: 22.4s\n",
            "785:\tlearn: 0.2974811\ttotal: 1m 21s\tremaining: 22.3s\n",
            "786:\tlearn: 0.2974680\ttotal: 1m 22s\tremaining: 22.2s\n",
            "787:\tlearn: 0.2974529\ttotal: 1m 22s\tremaining: 22.1s\n",
            "788:\tlearn: 0.2974288\ttotal: 1m 22s\tremaining: 22s\n",
            "789:\tlearn: 0.2974165\ttotal: 1m 22s\tremaining: 21.9s\n",
            "790:\tlearn: 0.2973999\ttotal: 1m 22s\tremaining: 21.8s\n",
            "791:\tlearn: 0.2973870\ttotal: 1m 22s\tremaining: 21.7s\n",
            "792:\tlearn: 0.2973741\ttotal: 1m 22s\tremaining: 21.6s\n",
            "793:\tlearn: 0.2973592\ttotal: 1m 22s\tremaining: 21.5s\n",
            "794:\tlearn: 0.2973443\ttotal: 1m 22s\tremaining: 21.4s\n",
            "795:\tlearn: 0.2973330\ttotal: 1m 22s\tremaining: 21.3s\n",
            "796:\tlearn: 0.2973165\ttotal: 1m 23s\tremaining: 21.2s\n",
            "797:\tlearn: 0.2973038\ttotal: 1m 23s\tremaining: 21.1s\n",
            "798:\tlearn: 0.2972885\ttotal: 1m 23s\tremaining: 21s\n",
            "799:\tlearn: 0.2972695\ttotal: 1m 23s\tremaining: 20.9s\n",
            "800:\tlearn: 0.2972296\ttotal: 1m 23s\tremaining: 20.7s\n",
            "801:\tlearn: 0.2972130\ttotal: 1m 23s\tremaining: 20.6s\n",
            "802:\tlearn: 0.2971976\ttotal: 1m 23s\tremaining: 20.5s\n",
            "803:\tlearn: 0.2971809\ttotal: 1m 23s\tremaining: 20.4s\n",
            "804:\tlearn: 0.2971574\ttotal: 1m 23s\tremaining: 20.3s\n",
            "805:\tlearn: 0.2971016\ttotal: 1m 24s\tremaining: 20.2s\n",
            "806:\tlearn: 0.2970911\ttotal: 1m 24s\tremaining: 20.1s\n",
            "807:\tlearn: 0.2970783\ttotal: 1m 24s\tremaining: 20s\n",
            "808:\tlearn: 0.2970609\ttotal: 1m 24s\tremaining: 19.9s\n",
            "809:\tlearn: 0.2970453\ttotal: 1m 24s\tremaining: 19.8s\n",
            "810:\tlearn: 0.2970296\ttotal: 1m 24s\tremaining: 19.7s\n",
            "811:\tlearn: 0.2970168\ttotal: 1m 24s\tremaining: 19.6s\n",
            "812:\tlearn: 0.2969997\ttotal: 1m 24s\tremaining: 19.5s\n",
            "813:\tlearn: 0.2969831\ttotal: 1m 24s\tremaining: 19.4s\n",
            "814:\tlearn: 0.2969672\ttotal: 1m 24s\tremaining: 19.3s\n",
            "815:\tlearn: 0.2969485\ttotal: 1m 25s\tremaining: 19.2s\n",
            "816:\tlearn: 0.2969065\ttotal: 1m 25s\tremaining: 19.1s\n",
            "817:\tlearn: 0.2968945\ttotal: 1m 25s\tremaining: 19s\n",
            "818:\tlearn: 0.2968828\ttotal: 1m 25s\tremaining: 18.9s\n",
            "819:\tlearn: 0.2968599\ttotal: 1m 25s\tremaining: 18.8s\n",
            "820:\tlearn: 0.2968415\ttotal: 1m 25s\tremaining: 18.7s\n",
            "821:\tlearn: 0.2968225\ttotal: 1m 25s\tremaining: 18.6s\n",
            "822:\tlearn: 0.2968050\ttotal: 1m 25s\tremaining: 18.5s\n",
            "823:\tlearn: 0.2967867\ttotal: 1m 25s\tremaining: 18.3s\n",
            "824:\tlearn: 0.2967696\ttotal: 1m 26s\tremaining: 18.2s\n",
            "825:\tlearn: 0.2967560\ttotal: 1m 26s\tremaining: 18.1s\n",
            "826:\tlearn: 0.2967330\ttotal: 1m 26s\tremaining: 18s\n",
            "827:\tlearn: 0.2967133\ttotal: 1m 26s\tremaining: 17.9s\n",
            "828:\tlearn: 0.2967010\ttotal: 1m 26s\tremaining: 17.8s\n",
            "829:\tlearn: 0.2966891\ttotal: 1m 26s\tremaining: 17.7s\n",
            "830:\tlearn: 0.2966778\ttotal: 1m 26s\tremaining: 17.6s\n",
            "831:\tlearn: 0.2966590\ttotal: 1m 26s\tremaining: 17.5s\n",
            "832:\tlearn: 0.2966462\ttotal: 1m 26s\tremaining: 17.4s\n",
            "833:\tlearn: 0.2966356\ttotal: 1m 26s\tremaining: 17.3s\n",
            "834:\tlearn: 0.2966234\ttotal: 1m 27s\tremaining: 17.2s\n",
            "835:\tlearn: 0.2966019\ttotal: 1m 27s\tremaining: 17.1s\n",
            "836:\tlearn: 0.2965858\ttotal: 1m 27s\tremaining: 17s\n",
            "837:\tlearn: 0.2965642\ttotal: 1m 27s\tremaining: 16.9s\n",
            "838:\tlearn: 0.2965387\ttotal: 1m 27s\tremaining: 16.8s\n",
            "839:\tlearn: 0.2965074\ttotal: 1m 27s\tremaining: 16.7s\n",
            "840:\tlearn: 0.2964946\ttotal: 1m 27s\tremaining: 16.6s\n",
            "841:\tlearn: 0.2964779\ttotal: 1m 27s\tremaining: 16.5s\n",
            "842:\tlearn: 0.2964662\ttotal: 1m 27s\tremaining: 16.4s\n",
            "843:\tlearn: 0.2964514\ttotal: 1m 27s\tremaining: 16.3s\n",
            "844:\tlearn: 0.2964238\ttotal: 1m 28s\tremaining: 16.2s\n",
            "845:\tlearn: 0.2964012\ttotal: 1m 28s\tremaining: 16.1s\n",
            "846:\tlearn: 0.2963754\ttotal: 1m 28s\tremaining: 15.9s\n",
            "847:\tlearn: 0.2963604\ttotal: 1m 28s\tremaining: 15.8s\n",
            "848:\tlearn: 0.2963465\ttotal: 1m 28s\tremaining: 15.7s\n",
            "849:\tlearn: 0.2963192\ttotal: 1m 28s\tremaining: 15.6s\n",
            "850:\tlearn: 0.2963011\ttotal: 1m 28s\tremaining: 15.5s\n",
            "851:\tlearn: 0.2962863\ttotal: 1m 28s\tremaining: 15.4s\n",
            "852:\tlearn: 0.2962661\ttotal: 1m 28s\tremaining: 15.3s\n",
            "853:\tlearn: 0.2962469\ttotal: 1m 28s\tremaining: 15.2s\n",
            "854:\tlearn: 0.2962328\ttotal: 1m 29s\tremaining: 15.1s\n",
            "855:\tlearn: 0.2962166\ttotal: 1m 29s\tremaining: 15s\n",
            "856:\tlearn: 0.2961974\ttotal: 1m 29s\tremaining: 14.9s\n",
            "857:\tlearn: 0.2961809\ttotal: 1m 29s\tremaining: 14.8s\n",
            "858:\tlearn: 0.2961616\ttotal: 1m 29s\tremaining: 14.7s\n",
            "859:\tlearn: 0.2961395\ttotal: 1m 29s\tremaining: 14.6s\n",
            "860:\tlearn: 0.2961286\ttotal: 1m 29s\tremaining: 14.5s\n",
            "861:\tlearn: 0.2961044\ttotal: 1m 29s\tremaining: 14.4s\n",
            "862:\tlearn: 0.2960864\ttotal: 1m 29s\tremaining: 14.3s\n",
            "863:\tlearn: 0.2960746\ttotal: 1m 30s\tremaining: 14.2s\n",
            "864:\tlearn: 0.2960378\ttotal: 1m 30s\tremaining: 14.1s\n",
            "865:\tlearn: 0.2960216\ttotal: 1m 30s\tremaining: 14s\n",
            "866:\tlearn: 0.2959829\ttotal: 1m 30s\tremaining: 13.9s\n",
            "867:\tlearn: 0.2959367\ttotal: 1m 30s\tremaining: 13.8s\n",
            "868:\tlearn: 0.2959222\ttotal: 1m 30s\tremaining: 13.7s\n",
            "869:\tlearn: 0.2959095\ttotal: 1m 30s\tremaining: 13.5s\n",
            "870:\tlearn: 0.2958918\ttotal: 1m 30s\tremaining: 13.4s\n",
            "871:\tlearn: 0.2958715\ttotal: 1m 30s\tremaining: 13.3s\n",
            "872:\tlearn: 0.2958583\ttotal: 1m 30s\tremaining: 13.2s\n",
            "873:\tlearn: 0.2958501\ttotal: 1m 31s\tremaining: 13.1s\n",
            "874:\tlearn: 0.2958310\ttotal: 1m 31s\tremaining: 13s\n",
            "875:\tlearn: 0.2958143\ttotal: 1m 31s\tremaining: 12.9s\n",
            "876:\tlearn: 0.2958044\ttotal: 1m 31s\tremaining: 12.8s\n",
            "877:\tlearn: 0.2957766\ttotal: 1m 31s\tremaining: 12.7s\n",
            "878:\tlearn: 0.2957632\ttotal: 1m 31s\tremaining: 12.6s\n",
            "879:\tlearn: 0.2957531\ttotal: 1m 31s\tremaining: 12.5s\n",
            "880:\tlearn: 0.2957316\ttotal: 1m 31s\tremaining: 12.4s\n",
            "881:\tlearn: 0.2957148\ttotal: 1m 32s\tremaining: 12.3s\n",
            "882:\tlearn: 0.2957005\ttotal: 1m 32s\tremaining: 12.2s\n",
            "883:\tlearn: 0.2956770\ttotal: 1m 32s\tremaining: 12.1s\n",
            "884:\tlearn: 0.2956428\ttotal: 1m 32s\tremaining: 12s\n",
            "885:\tlearn: 0.2956252\ttotal: 1m 32s\tremaining: 11.9s\n",
            "886:\tlearn: 0.2956133\ttotal: 1m 32s\tremaining: 11.8s\n",
            "887:\tlearn: 0.2955927\ttotal: 1m 32s\tremaining: 11.7s\n",
            "888:\tlearn: 0.2955793\ttotal: 1m 32s\tremaining: 11.6s\n",
            "889:\tlearn: 0.2955586\ttotal: 1m 33s\tremaining: 11.5s\n",
            "890:\tlearn: 0.2955395\ttotal: 1m 33s\tremaining: 11.4s\n",
            "891:\tlearn: 0.2955275\ttotal: 1m 33s\tremaining: 11.3s\n",
            "892:\tlearn: 0.2955173\ttotal: 1m 33s\tremaining: 11.2s\n",
            "893:\tlearn: 0.2954932\ttotal: 1m 33s\tremaining: 11.1s\n",
            "894:\tlearn: 0.2954507\ttotal: 1m 33s\tremaining: 11s\n",
            "895:\tlearn: 0.2954427\ttotal: 1m 33s\tremaining: 10.9s\n",
            "896:\tlearn: 0.2954264\ttotal: 1m 33s\tremaining: 10.8s\n",
            "897:\tlearn: 0.2954073\ttotal: 1m 33s\tremaining: 10.7s\n",
            "898:\tlearn: 0.2953919\ttotal: 1m 33s\tremaining: 10.6s\n",
            "899:\tlearn: 0.2953788\ttotal: 1m 34s\tremaining: 10.5s\n",
            "900:\tlearn: 0.2953502\ttotal: 1m 34s\tremaining: 10.3s\n",
            "901:\tlearn: 0.2953368\ttotal: 1m 34s\tremaining: 10.2s\n",
            "902:\tlearn: 0.2953126\ttotal: 1m 34s\tremaining: 10.1s\n",
            "903:\tlearn: 0.2952983\ttotal: 1m 34s\tremaining: 10s\n",
            "904:\tlearn: 0.2952818\ttotal: 1m 34s\tremaining: 9.93s\n",
            "905:\tlearn: 0.2952695\ttotal: 1m 34s\tremaining: 9.83s\n",
            "906:\tlearn: 0.2952631\ttotal: 1m 34s\tremaining: 9.72s\n",
            "907:\tlearn: 0.2952512\ttotal: 1m 34s\tremaining: 9.62s\n",
            "908:\tlearn: 0.2952321\ttotal: 1m 35s\tremaining: 9.51s\n",
            "909:\tlearn: 0.2952160\ttotal: 1m 35s\tremaining: 9.41s\n",
            "910:\tlearn: 0.2951964\ttotal: 1m 35s\tremaining: 9.3s\n",
            "911:\tlearn: 0.2951647\ttotal: 1m 35s\tremaining: 9.2s\n",
            "912:\tlearn: 0.2951495\ttotal: 1m 35s\tremaining: 9.09s\n",
            "913:\tlearn: 0.2951337\ttotal: 1m 35s\tremaining: 8.99s\n",
            "914:\tlearn: 0.2951131\ttotal: 1m 35s\tremaining: 8.88s\n",
            "915:\tlearn: 0.2951013\ttotal: 1m 35s\tremaining: 8.78s\n",
            "916:\tlearn: 0.2950885\ttotal: 1m 35s\tremaining: 8.68s\n",
            "917:\tlearn: 0.2950755\ttotal: 1m 35s\tremaining: 8.57s\n",
            "918:\tlearn: 0.2950642\ttotal: 1m 36s\tremaining: 8.47s\n",
            "919:\tlearn: 0.2950464\ttotal: 1m 36s\tremaining: 8.36s\n",
            "920:\tlearn: 0.2950299\ttotal: 1m 36s\tremaining: 8.26s\n",
            "921:\tlearn: 0.2950135\ttotal: 1m 36s\tremaining: 8.15s\n",
            "922:\tlearn: 0.2950033\ttotal: 1m 36s\tremaining: 8.05s\n",
            "923:\tlearn: 0.2949912\ttotal: 1m 36s\tremaining: 7.94s\n",
            "924:\tlearn: 0.2949604\ttotal: 1m 36s\tremaining: 7.84s\n",
            "925:\tlearn: 0.2949441\ttotal: 1m 36s\tremaining: 7.74s\n",
            "926:\tlearn: 0.2949287\ttotal: 1m 36s\tremaining: 7.63s\n",
            "927:\tlearn: 0.2949127\ttotal: 1m 37s\tremaining: 7.53s\n",
            "928:\tlearn: 0.2948986\ttotal: 1m 37s\tremaining: 7.42s\n",
            "929:\tlearn: 0.2948864\ttotal: 1m 37s\tremaining: 7.32s\n",
            "930:\tlearn: 0.2948734\ttotal: 1m 37s\tremaining: 7.21s\n",
            "931:\tlearn: 0.2948614\ttotal: 1m 37s\tremaining: 7.11s\n",
            "932:\tlearn: 0.2948517\ttotal: 1m 37s\tremaining: 7s\n",
            "933:\tlearn: 0.2948335\ttotal: 1m 37s\tremaining: 6.9s\n",
            "934:\tlearn: 0.2948236\ttotal: 1m 37s\tremaining: 6.79s\n",
            "935:\tlearn: 0.2948033\ttotal: 1m 37s\tremaining: 6.69s\n",
            "936:\tlearn: 0.2947916\ttotal: 1m 37s\tremaining: 6.58s\n",
            "937:\tlearn: 0.2947675\ttotal: 1m 38s\tremaining: 6.48s\n",
            "938:\tlearn: 0.2947532\ttotal: 1m 38s\tremaining: 6.38s\n",
            "939:\tlearn: 0.2947125\ttotal: 1m 38s\tremaining: 6.27s\n",
            "940:\tlearn: 0.2946994\ttotal: 1m 38s\tremaining: 6.17s\n",
            "941:\tlearn: 0.2946810\ttotal: 1m 38s\tremaining: 6.06s\n",
            "942:\tlearn: 0.2946642\ttotal: 1m 38s\tremaining: 5.96s\n",
            "943:\tlearn: 0.2946502\ttotal: 1m 38s\tremaining: 5.85s\n",
            "944:\tlearn: 0.2946296\ttotal: 1m 38s\tremaining: 5.75s\n",
            "945:\tlearn: 0.2946164\ttotal: 1m 38s\tremaining: 5.64s\n",
            "946:\tlearn: 0.2946035\ttotal: 1m 38s\tremaining: 5.54s\n",
            "947:\tlearn: 0.2945955\ttotal: 1m 39s\tremaining: 5.43s\n",
            "948:\tlearn: 0.2945787\ttotal: 1m 39s\tremaining: 5.33s\n",
            "949:\tlearn: 0.2945602\ttotal: 1m 39s\tremaining: 5.22s\n",
            "950:\tlearn: 0.2945416\ttotal: 1m 39s\tremaining: 5.12s\n",
            "951:\tlearn: 0.2945146\ttotal: 1m 39s\tremaining: 5.02s\n",
            "952:\tlearn: 0.2944958\ttotal: 1m 39s\tremaining: 4.91s\n",
            "953:\tlearn: 0.2944611\ttotal: 1m 39s\tremaining: 4.81s\n",
            "954:\tlearn: 0.2944456\ttotal: 1m 39s\tremaining: 4.7s\n",
            "955:\tlearn: 0.2944022\ttotal: 1m 39s\tremaining: 4.6s\n",
            "956:\tlearn: 0.2943507\ttotal: 1m 40s\tremaining: 4.49s\n",
            "957:\tlearn: 0.2943400\ttotal: 1m 40s\tremaining: 4.39s\n",
            "958:\tlearn: 0.2943276\ttotal: 1m 40s\tremaining: 4.29s\n",
            "959:\tlearn: 0.2943140\ttotal: 1m 40s\tremaining: 4.18s\n",
            "960:\tlearn: 0.2943000\ttotal: 1m 40s\tremaining: 4.08s\n",
            "961:\tlearn: 0.2942960\ttotal: 1m 40s\tremaining: 3.97s\n",
            "962:\tlearn: 0.2942591\ttotal: 1m 40s\tremaining: 3.87s\n",
            "963:\tlearn: 0.2942455\ttotal: 1m 40s\tremaining: 3.76s\n",
            "964:\tlearn: 0.2942340\ttotal: 1m 40s\tremaining: 3.66s\n",
            "965:\tlearn: 0.2942195\ttotal: 1m 40s\tremaining: 3.55s\n",
            "966:\tlearn: 0.2941837\ttotal: 1m 41s\tremaining: 3.45s\n",
            "967:\tlearn: 0.2941453\ttotal: 1m 41s\tremaining: 3.34s\n",
            "968:\tlearn: 0.2941318\ttotal: 1m 41s\tremaining: 3.24s\n",
            "969:\tlearn: 0.2941204\ttotal: 1m 41s\tremaining: 3.13s\n",
            "970:\tlearn: 0.2940998\ttotal: 1m 41s\tremaining: 3.03s\n",
            "971:\tlearn: 0.2940878\ttotal: 1m 41s\tremaining: 2.93s\n",
            "972:\tlearn: 0.2940722\ttotal: 1m 41s\tremaining: 2.82s\n",
            "973:\tlearn: 0.2940591\ttotal: 1m 41s\tremaining: 2.72s\n",
            "974:\tlearn: 0.2940431\ttotal: 1m 41s\tremaining: 2.61s\n",
            "975:\tlearn: 0.2939924\ttotal: 1m 41s\tremaining: 2.51s\n",
            "976:\tlearn: 0.2939803\ttotal: 1m 42s\tremaining: 2.4s\n",
            "977:\tlearn: 0.2939725\ttotal: 1m 42s\tremaining: 2.3s\n",
            "978:\tlearn: 0.2939325\ttotal: 1m 42s\tremaining: 2.19s\n",
            "979:\tlearn: 0.2939141\ttotal: 1m 42s\tremaining: 2.09s\n",
            "980:\tlearn: 0.2939042\ttotal: 1m 42s\tremaining: 1.99s\n",
            "981:\tlearn: 0.2938930\ttotal: 1m 42s\tremaining: 1.88s\n",
            "982:\tlearn: 0.2938833\ttotal: 1m 42s\tremaining: 1.78s\n",
            "983:\tlearn: 0.2938639\ttotal: 1m 42s\tremaining: 1.67s\n",
            "984:\tlearn: 0.2938503\ttotal: 1m 42s\tremaining: 1.57s\n",
            "985:\tlearn: 0.2938440\ttotal: 1m 43s\tremaining: 1.46s\n",
            "986:\tlearn: 0.2938331\ttotal: 1m 43s\tremaining: 1.36s\n",
            "987:\tlearn: 0.2938213\ttotal: 1m 43s\tremaining: 1.25s\n",
            "988:\tlearn: 0.2938064\ttotal: 1m 43s\tremaining: 1.15s\n",
            "989:\tlearn: 0.2937659\ttotal: 1m 43s\tremaining: 1.04s\n",
            "990:\tlearn: 0.2937551\ttotal: 1m 43s\tremaining: 940ms\n",
            "991:\tlearn: 0.2937456\ttotal: 1m 43s\tremaining: 836ms\n",
            "992:\tlearn: 0.2937184\ttotal: 1m 43s\tremaining: 731ms\n",
            "993:\tlearn: 0.2937066\ttotal: 1m 43s\tremaining: 627ms\n",
            "994:\tlearn: 0.2936948\ttotal: 1m 43s\tremaining: 522ms\n",
            "995:\tlearn: 0.2936780\ttotal: 1m 44s\tremaining: 418ms\n",
            "996:\tlearn: 0.2936653\ttotal: 1m 44s\tremaining: 313ms\n",
            "997:\tlearn: 0.2936475\ttotal: 1m 44s\tremaining: 209ms\n",
            "998:\tlearn: 0.2936327\ttotal: 1m 44s\tremaining: 104ms\n",
            "999:\tlearn: 0.2936219\ttotal: 1m 44s\tremaining: 0us\n",
            "computing CatBoostClassifier - Balanced \n",
            "computing extra_tree_forest - Balanced \n"
          ],
          "name": "stdout"
        },
        {
          "output_type": "display_data",
          "data": {
            "image/png": "[encoded data removed]",
            "text/plain": [
              "<Figure size 432x432 with 1 Axes>"
            ]
          },
          "metadata": {
            "tags": []
          }
        }
      ]
    },
    {
      "cell_type": "code",
      "metadata": {
        "colab": {
          "base_uri": "https://localhost:8080/",
          "height": 257
        },
        "id": "XgQvc59Uag0b",
        "outputId": "873552ec-edf4-4711-d5fa-c61540c0ff00"
      },
      "source": [
        "models_report_bal"
      ],
      "execution_count": 163,
      "outputs": [
        {
          "output_type": "execute_result",
          "data": {
            "text/html": [
              "<div>\n",
              "<style scoped>\n",
              "    .dataframe tbody tr th:only-of-type {\n",
              "        vertical-align: middle;\n",
              "    }\n",
              "\n",
              "    .dataframe tbody tr th {\n",
              "        vertical-align: top;\n",
              "    }\n",
              "\n",
              "    .dataframe thead th {\n",
              "        text-align: right;\n",
              "    }\n",
              "</style>\n",
              "<table border=\"1\" class=\"dataframe\">\n",
              "  <thead>\n",
              "    <tr style=\"text-align: right;\">\n",
              "      <th></th>\n",
              "      <th>model</th>\n",
              "      <th>roc_auc_score</th>\n",
              "      <th>precision_score</th>\n",
              "      <th>recall_score</th>\n",
              "      <th>f1_score</th>\n",
              "      <th>model_type</th>\n",
              "    </tr>\n",
              "  </thead>\n",
              "  <tbody>\n",
              "    <tr>\n",
              "      <th>0</th>\n",
              "      <td>GradientBoosting</td>\n",
              "      <td>0.933103</td>\n",
              "      <td>0.923268</td>\n",
              "      <td>0.832538</td>\n",
              "      <td>0.875559</td>\n",
              "      <td>Balanced</td>\n",
              "    </tr>\n",
              "    <tr>\n",
              "      <th>1</th>\n",
              "      <td>XGB</td>\n",
              "      <td>0.923112</td>\n",
              "      <td>0.910965</td>\n",
              "      <td>0.826943</td>\n",
              "      <td>0.866923</td>\n",
              "      <td>Balanced</td>\n",
              "    </tr>\n",
              "    <tr>\n",
              "      <th>2</th>\n",
              "      <td>LogisticRegression</td>\n",
              "      <td>0.714629</td>\n",
              "      <td>0.760179</td>\n",
              "      <td>0.691132</td>\n",
              "      <td>0.724013</td>\n",
              "      <td>Balanced</td>\n",
              "    </tr>\n",
              "    <tr>\n",
              "      <th>3</th>\n",
              "      <td>KNN</td>\n",
              "      <td>0.955932</td>\n",
              "      <td>0.871201</td>\n",
              "      <td>0.953323</td>\n",
              "      <td>0.910414</td>\n",
              "      <td>Balanced</td>\n",
              "    </tr>\n",
              "    <tr>\n",
              "      <th>4</th>\n",
              "      <td>RandomForestClassifier</td>\n",
              "      <td>0.999775</td>\n",
              "      <td>0.998442</td>\n",
              "      <td>0.986316</td>\n",
              "      <td>0.992342</td>\n",
              "      <td>Balanced</td>\n",
              "    </tr>\n",
              "    <tr>\n",
              "      <th>5</th>\n",
              "      <td>CatBoostClassifier</td>\n",
              "      <td>0.960342</td>\n",
              "      <td>0.962450</td>\n",
              "      <td>0.867512</td>\n",
              "      <td>0.912518</td>\n",
              "      <td>Balanced</td>\n",
              "    </tr>\n",
              "    <tr>\n",
              "      <th>6</th>\n",
              "      <td>extra_tree_forest</td>\n",
              "      <td>1.000000</td>\n",
              "      <td>1.000000</td>\n",
              "      <td>0.999992</td>\n",
              "      <td>0.999996</td>\n",
              "      <td>Balanced</td>\n",
              "    </tr>\n",
              "  </tbody>\n",
              "</table>\n",
              "</div>"
            ],
            "text/plain": [
              "                    model  roc_auc_score  ...  f1_score  model_type\n",
              "0        GradientBoosting       0.933103  ...  0.875559    Balanced\n",
              "1                     XGB       0.923112  ...  0.866923    Balanced\n",
              "2      LogisticRegression       0.714629  ...  0.724013    Balanced\n",
              "3                     KNN       0.955932  ...  0.910414    Balanced\n",
              "4  RandomForestClassifier       0.999775  ...  0.992342    Balanced\n",
              "5      CatBoostClassifier       0.960342  ...  0.912518    Balanced\n",
              "6       extra_tree_forest       1.000000  ...  0.999996    Balanced\n",
              "\n",
              "[7 rows x 6 columns]"
            ]
          },
          "metadata": {
            "tags": []
          },
          "execution_count": 163
        }
      ]
    },
    {
      "cell_type": "markdown",
      "metadata": {
        "id": "dvyzMwelKdV3"
      },
      "source": [
        "Here is where a good business understanding of the practical situation comes in handy, along with roc_auc_score, getting a good recall a good precision are also important.\n",
        "\n",
        "Looking at the models Report, we can say that RandomForestClassifier and extra_tree_forest models models are giving 100% accuracy, that's means they are highly overfitted, hence, we can reject these two models. \n",
        "\n",
        "\n",
        "After comparing all the metrics in the remaining five models, we can see that CatBoostclassifier model  is giving the highest accuracy. \n",
        "\n",
        "Based on the above, I am selecting CatBoostclassifier model as my final model."
      ]
    },
    {
      "cell_type": "markdown",
      "metadata": {
        "id": "uzjAGpvLMNdz"
      },
      "source": [
        "# Final Prediction on test data set"
      ]
    },
    {
      "cell_type": "code",
      "metadata": {
        "colab": {
          "base_uri": "https://localhost:8080/"
        },
        "id": "6ytN9qtvcThq",
        "outputId": "a1cfd8f5-6d12-4911-9050-51ac6b8e82cb"
      },
      "source": [
        "submission = pd.read_csv('/content/sample_submission_eyYijxG.csv')\n",
        "model = CatBoostClassifier()\n",
        "model.fit(X_train, y_train)\n",
        "final_predictions = model.predict(test)\n",
        "submission['Is_Lead'] = final_predictions\n",
        "submission.to_csv('pred_test_Cat_final.csv',index=False)"
      ],
      "execution_count": 165,
      "outputs": [
        {
          "output_type": "stream",
          "text": [
            "Learning rate set to 0.117663\n",
            "0:\tlearn: 0.6080473\ttotal: 101ms\tremaining: 1m 40s\n",
            "1:\tlearn: 0.5702413\ttotal: 206ms\tremaining: 1m 42s\n",
            "2:\tlearn: 0.5302266\ttotal: 315ms\tremaining: 1m 44s\n",
            "3:\tlearn: 0.5105690\ttotal: 418ms\tremaining: 1m 44s\n",
            "4:\tlearn: 0.4911217\ttotal: 524ms\tremaining: 1m 44s\n",
            "5:\tlearn: 0.4829083\ttotal: 629ms\tremaining: 1m 44s\n",
            "6:\tlearn: 0.4681502\ttotal: 742ms\tremaining: 1m 45s\n",
            "7:\tlearn: 0.4533084\ttotal: 850ms\tremaining: 1m 45s\n",
            "8:\tlearn: 0.4486437\ttotal: 964ms\tremaining: 1m 46s\n",
            "9:\tlearn: 0.4347022\ttotal: 1.07s\tremaining: 1m 46s\n",
            "10:\tlearn: 0.4289360\ttotal: 1.18s\tremaining: 1m 45s\n",
            "11:\tlearn: 0.4223066\ttotal: 1.29s\tremaining: 1m 46s\n",
            "12:\tlearn: 0.4181507\ttotal: 1.4s\tremaining: 1m 46s\n",
            "13:\tlearn: 0.4103433\ttotal: 1.5s\tremaining: 1m 45s\n",
            "14:\tlearn: 0.4085816\ttotal: 1.61s\tremaining: 1m 45s\n",
            "15:\tlearn: 0.4061925\ttotal: 1.72s\tremaining: 1m 45s\n",
            "16:\tlearn: 0.4029170\ttotal: 1.82s\tremaining: 1m 45s\n",
            "17:\tlearn: 0.3993488\ttotal: 1.92s\tremaining: 1m 44s\n",
            "18:\tlearn: 0.3963617\ttotal: 2.02s\tremaining: 1m 44s\n",
            "19:\tlearn: 0.3934500\ttotal: 2.13s\tremaining: 1m 44s\n",
            "20:\tlearn: 0.3918429\ttotal: 2.23s\tremaining: 1m 44s\n",
            "21:\tlearn: 0.3904852\ttotal: 2.35s\tremaining: 1m 44s\n",
            "22:\tlearn: 0.3885460\ttotal: 2.45s\tremaining: 1m 44s\n",
            "23:\tlearn: 0.3876830\ttotal: 2.55s\tremaining: 1m 43s\n",
            "24:\tlearn: 0.3855078\ttotal: 2.66s\tremaining: 1m 43s\n",
            "25:\tlearn: 0.3843536\ttotal: 2.77s\tremaining: 1m 43s\n",
            "26:\tlearn: 0.3837129\ttotal: 2.87s\tremaining: 1m 43s\n",
            "27:\tlearn: 0.3825547\ttotal: 2.98s\tremaining: 1m 43s\n",
            "28:\tlearn: 0.3813427\ttotal: 3.08s\tremaining: 1m 43s\n",
            "29:\tlearn: 0.3804636\ttotal: 3.19s\tremaining: 1m 43s\n",
            "30:\tlearn: 0.3800345\ttotal: 3.29s\tremaining: 1m 43s\n",
            "31:\tlearn: 0.3797384\ttotal: 3.4s\tremaining: 1m 42s\n",
            "32:\tlearn: 0.3793503\ttotal: 3.5s\tremaining: 1m 42s\n",
            "33:\tlearn: 0.3774901\ttotal: 3.61s\tremaining: 1m 42s\n",
            "34:\tlearn: 0.3772047\ttotal: 3.71s\tremaining: 1m 42s\n",
            "35:\tlearn: 0.3767627\ttotal: 3.8s\tremaining: 1m 41s\n",
            "36:\tlearn: 0.3755539\ttotal: 3.91s\tremaining: 1m 41s\n",
            "37:\tlearn: 0.3753364\ttotal: 4.02s\tremaining: 1m 41s\n",
            "38:\tlearn: 0.3749472\ttotal: 4.12s\tremaining: 1m 41s\n",
            "39:\tlearn: 0.3747875\ttotal: 4.22s\tremaining: 1m 41s\n",
            "40:\tlearn: 0.3736297\ttotal: 4.33s\tremaining: 1m 41s\n",
            "41:\tlearn: 0.3721357\ttotal: 4.43s\tremaining: 1m 41s\n",
            "42:\tlearn: 0.3719543\ttotal: 4.54s\tremaining: 1m 40s\n",
            "43:\tlearn: 0.3710016\ttotal: 4.66s\tremaining: 1m 41s\n",
            "44:\tlearn: 0.3703747\ttotal: 4.77s\tremaining: 1m 41s\n",
            "45:\tlearn: 0.3691071\ttotal: 4.88s\tremaining: 1m 41s\n",
            "46:\tlearn: 0.3688877\ttotal: 4.98s\tremaining: 1m 41s\n",
            "47:\tlearn: 0.3681307\ttotal: 5.08s\tremaining: 1m 40s\n",
            "48:\tlearn: 0.3678303\ttotal: 5.19s\tremaining: 1m 40s\n",
            "49:\tlearn: 0.3672941\ttotal: 5.29s\tremaining: 1m 40s\n",
            "50:\tlearn: 0.3669865\ttotal: 5.41s\tremaining: 1m 40s\n",
            "51:\tlearn: 0.3661636\ttotal: 5.51s\tremaining: 1m 40s\n",
            "52:\tlearn: 0.3657757\ttotal: 5.62s\tremaining: 1m 40s\n",
            "53:\tlearn: 0.3656580\ttotal: 5.72s\tremaining: 1m 40s\n",
            "54:\tlearn: 0.3654408\ttotal: 5.82s\tremaining: 1m 40s\n",
            "55:\tlearn: 0.3642737\ttotal: 5.93s\tremaining: 1m 40s\n",
            "56:\tlearn: 0.3634925\ttotal: 6.04s\tremaining: 1m 39s\n",
            "57:\tlearn: 0.3631993\ttotal: 6.14s\tremaining: 1m 39s\n",
            "58:\tlearn: 0.3630680\ttotal: 6.23s\tremaining: 1m 39s\n",
            "59:\tlearn: 0.3627584\ttotal: 6.34s\tremaining: 1m 39s\n",
            "60:\tlearn: 0.3620530\ttotal: 6.45s\tremaining: 1m 39s\n",
            "61:\tlearn: 0.3615576\ttotal: 6.56s\tremaining: 1m 39s\n",
            "62:\tlearn: 0.3613210\ttotal: 6.66s\tremaining: 1m 39s\n",
            "63:\tlearn: 0.3611877\ttotal: 6.75s\tremaining: 1m 38s\n",
            "64:\tlearn: 0.3606712\ttotal: 6.86s\tremaining: 1m 38s\n",
            "65:\tlearn: 0.3605907\ttotal: 6.96s\tremaining: 1m 38s\n",
            "66:\tlearn: 0.3601678\ttotal: 7.06s\tremaining: 1m 38s\n",
            "67:\tlearn: 0.3597897\ttotal: 7.17s\tremaining: 1m 38s\n",
            "68:\tlearn: 0.3594094\ttotal: 7.28s\tremaining: 1m 38s\n",
            "69:\tlearn: 0.3592839\ttotal: 7.41s\tremaining: 1m 38s\n",
            "70:\tlearn: 0.3589665\ttotal: 7.51s\tremaining: 1m 38s\n",
            "71:\tlearn: 0.3587544\ttotal: 7.62s\tremaining: 1m 38s\n",
            "72:\tlearn: 0.3579632\ttotal: 7.73s\tremaining: 1m 38s\n",
            "73:\tlearn: 0.3572345\ttotal: 7.83s\tremaining: 1m 37s\n",
            "74:\tlearn: 0.3569328\ttotal: 7.93s\tremaining: 1m 37s\n",
            "75:\tlearn: 0.3566360\ttotal: 8.03s\tremaining: 1m 37s\n",
            "76:\tlearn: 0.3558923\ttotal: 8.13s\tremaining: 1m 37s\n",
            "77:\tlearn: 0.3554045\ttotal: 8.24s\tremaining: 1m 37s\n",
            "78:\tlearn: 0.3548832\ttotal: 8.35s\tremaining: 1m 37s\n",
            "79:\tlearn: 0.3548246\ttotal: 8.45s\tremaining: 1m 37s\n",
            "80:\tlearn: 0.3543516\ttotal: 8.55s\tremaining: 1m 37s\n",
            "81:\tlearn: 0.3533890\ttotal: 8.66s\tremaining: 1m 36s\n",
            "82:\tlearn: 0.3531393\ttotal: 8.77s\tremaining: 1m 36s\n",
            "83:\tlearn: 0.3529206\ttotal: 8.87s\tremaining: 1m 36s\n",
            "84:\tlearn: 0.3526482\ttotal: 8.97s\tremaining: 1m 36s\n",
            "85:\tlearn: 0.3525362\ttotal: 9.07s\tremaining: 1m 36s\n",
            "86:\tlearn: 0.3521094\ttotal: 9.18s\tremaining: 1m 36s\n",
            "87:\tlearn: 0.3520037\ttotal: 9.28s\tremaining: 1m 36s\n",
            "88:\tlearn: 0.3517991\ttotal: 9.4s\tremaining: 1m 36s\n",
            "89:\tlearn: 0.3515377\ttotal: 9.5s\tremaining: 1m 36s\n",
            "90:\tlearn: 0.3512638\ttotal: 9.61s\tremaining: 1m 35s\n",
            "91:\tlearn: 0.3509941\ttotal: 9.71s\tremaining: 1m 35s\n",
            "92:\tlearn: 0.3504974\ttotal: 9.82s\tremaining: 1m 35s\n",
            "93:\tlearn: 0.3499294\ttotal: 9.92s\tremaining: 1m 35s\n",
            "94:\tlearn: 0.3497466\ttotal: 10s\tremaining: 1m 35s\n",
            "95:\tlearn: 0.3495061\ttotal: 10.1s\tremaining: 1m 35s\n",
            "96:\tlearn: 0.3493141\ttotal: 10.2s\tremaining: 1m 35s\n",
            "97:\tlearn: 0.3489314\ttotal: 10.3s\tremaining: 1m 35s\n",
            "98:\tlearn: 0.3488445\ttotal: 10.5s\tremaining: 1m 35s\n",
            "99:\tlearn: 0.3483199\ttotal: 10.6s\tremaining: 1m 35s\n",
            "100:\tlearn: 0.3481746\ttotal: 10.7s\tremaining: 1m 34s\n",
            "101:\tlearn: 0.3480727\ttotal: 10.8s\tremaining: 1m 34s\n",
            "102:\tlearn: 0.3476840\ttotal: 10.9s\tremaining: 1m 34s\n",
            "103:\tlearn: 0.3474500\ttotal: 11s\tremaining: 1m 34s\n",
            "104:\tlearn: 0.3473504\ttotal: 11.1s\tremaining: 1m 34s\n",
            "105:\tlearn: 0.3465616\ttotal: 11.2s\tremaining: 1m 34s\n",
            "106:\tlearn: 0.3455171\ttotal: 11.3s\tremaining: 1m 34s\n",
            "107:\tlearn: 0.3451681\ttotal: 11.4s\tremaining: 1m 34s\n",
            "108:\tlearn: 0.3445586\ttotal: 11.5s\tremaining: 1m 33s\n",
            "109:\tlearn: 0.3435904\ttotal: 11.6s\tremaining: 1m 33s\n",
            "110:\tlearn: 0.3433002\ttotal: 11.7s\tremaining: 1m 33s\n",
            "111:\tlearn: 0.3428626\ttotal: 11.8s\tremaining: 1m 33s\n",
            "112:\tlearn: 0.3425575\ttotal: 11.9s\tremaining: 1m 33s\n",
            "113:\tlearn: 0.3421269\ttotal: 12s\tremaining: 1m 33s\n",
            "114:\tlearn: 0.3420884\ttotal: 12.1s\tremaining: 1m 33s\n",
            "115:\tlearn: 0.3417831\ttotal: 12.2s\tremaining: 1m 33s\n",
            "116:\tlearn: 0.3412857\ttotal: 12.3s\tremaining: 1m 32s\n",
            "117:\tlearn: 0.3411038\ttotal: 12.4s\tremaining: 1m 32s\n",
            "118:\tlearn: 0.3403015\ttotal: 12.5s\tremaining: 1m 32s\n",
            "119:\tlearn: 0.3398690\ttotal: 12.6s\tremaining: 1m 32s\n",
            "120:\tlearn: 0.3396149\ttotal: 12.7s\tremaining: 1m 32s\n",
            "121:\tlearn: 0.3392418\ttotal: 12.8s\tremaining: 1m 32s\n",
            "122:\tlearn: 0.3387171\ttotal: 12.9s\tremaining: 1m 32s\n",
            "123:\tlearn: 0.3385891\ttotal: 13s\tremaining: 1m 32s\n",
            "124:\tlearn: 0.3385190\ttotal: 13.2s\tremaining: 1m 32s\n",
            "125:\tlearn: 0.3381384\ttotal: 13.3s\tremaining: 1m 31s\n",
            "126:\tlearn: 0.3378527\ttotal: 13.4s\tremaining: 1m 31s\n",
            "127:\tlearn: 0.3376992\ttotal: 13.5s\tremaining: 1m 31s\n",
            "128:\tlearn: 0.3375359\ttotal: 13.6s\tremaining: 1m 31s\n",
            "129:\tlearn: 0.3370890\ttotal: 13.7s\tremaining: 1m 31s\n",
            "130:\tlearn: 0.3369563\ttotal: 13.8s\tremaining: 1m 31s\n",
            "131:\tlearn: 0.3368141\ttotal: 13.9s\tremaining: 1m 31s\n",
            "132:\tlearn: 0.3365819\ttotal: 14s\tremaining: 1m 31s\n",
            "133:\tlearn: 0.3365387\ttotal: 14.1s\tremaining: 1m 31s\n",
            "134:\tlearn: 0.3364083\ttotal: 14.2s\tremaining: 1m 30s\n",
            "135:\tlearn: 0.3360850\ttotal: 14.3s\tremaining: 1m 30s\n",
            "136:\tlearn: 0.3354822\ttotal: 14.4s\tremaining: 1m 30s\n",
            "137:\tlearn: 0.3353973\ttotal: 14.5s\tremaining: 1m 30s\n",
            "138:\tlearn: 0.3351925\ttotal: 14.6s\tremaining: 1m 30s\n",
            "139:\tlearn: 0.3344484\ttotal: 14.7s\tremaining: 1m 30s\n",
            "140:\tlearn: 0.3339812\ttotal: 14.8s\tremaining: 1m 30s\n",
            "141:\tlearn: 0.3337334\ttotal: 14.9s\tremaining: 1m 30s\n",
            "142:\tlearn: 0.3331816\ttotal: 15s\tremaining: 1m 30s\n",
            "143:\tlearn: 0.3329006\ttotal: 15.1s\tremaining: 1m 29s\n",
            "144:\tlearn: 0.3323843\ttotal: 15.2s\tremaining: 1m 29s\n",
            "145:\tlearn: 0.3316111\ttotal: 15.4s\tremaining: 1m 29s\n",
            "146:\tlearn: 0.3313589\ttotal: 15.5s\tremaining: 1m 29s\n",
            "147:\tlearn: 0.3311094\ttotal: 15.6s\tremaining: 1m 29s\n",
            "148:\tlearn: 0.3308067\ttotal: 15.7s\tremaining: 1m 29s\n",
            "149:\tlearn: 0.3306116\ttotal: 15.8s\tremaining: 1m 29s\n",
            "150:\tlearn: 0.3303213\ttotal: 15.9s\tremaining: 1m 29s\n",
            "151:\tlearn: 0.3300016\ttotal: 16s\tremaining: 1m 29s\n",
            "152:\tlearn: 0.3297881\ttotal: 16.1s\tremaining: 1m 29s\n",
            "153:\tlearn: 0.3296038\ttotal: 16.2s\tremaining: 1m 29s\n",
            "154:\tlearn: 0.3295283\ttotal: 16.3s\tremaining: 1m 28s\n",
            "155:\tlearn: 0.3293617\ttotal: 16.4s\tremaining: 1m 28s\n",
            "156:\tlearn: 0.3292988\ttotal: 16.5s\tremaining: 1m 28s\n",
            "157:\tlearn: 0.3289952\ttotal: 16.6s\tremaining: 1m 28s\n",
            "158:\tlearn: 0.3288818\ttotal: 16.7s\tremaining: 1m 28s\n",
            "159:\tlearn: 0.3286778\ttotal: 16.8s\tremaining: 1m 28s\n",
            "160:\tlearn: 0.3284233\ttotal: 16.9s\tremaining: 1m 28s\n",
            "161:\tlearn: 0.3282640\ttotal: 17s\tremaining: 1m 28s\n",
            "162:\tlearn: 0.3280062\ttotal: 17.1s\tremaining: 1m 28s\n",
            "163:\tlearn: 0.3279627\ttotal: 17.3s\tremaining: 1m 27s\n",
            "164:\tlearn: 0.3277708\ttotal: 17.4s\tremaining: 1m 27s\n",
            "165:\tlearn: 0.3275348\ttotal: 17.5s\tremaining: 1m 27s\n",
            "166:\tlearn: 0.3273537\ttotal: 17.6s\tremaining: 1m 27s\n",
            "167:\tlearn: 0.3272013\ttotal: 17.7s\tremaining: 1m 27s\n",
            "168:\tlearn: 0.3268735\ttotal: 17.8s\tremaining: 1m 27s\n",
            "169:\tlearn: 0.3265596\ttotal: 17.9s\tremaining: 1m 27s\n",
            "170:\tlearn: 0.3264589\ttotal: 18s\tremaining: 1m 27s\n",
            "171:\tlearn: 0.3264247\ttotal: 18.1s\tremaining: 1m 27s\n",
            "172:\tlearn: 0.3263042\ttotal: 18.2s\tremaining: 1m 26s\n",
            "173:\tlearn: 0.3262139\ttotal: 18.3s\tremaining: 1m 26s\n",
            "174:\tlearn: 0.3260370\ttotal: 18.4s\tremaining: 1m 26s\n",
            "175:\tlearn: 0.3257169\ttotal: 18.5s\tremaining: 1m 26s\n",
            "176:\tlearn: 0.3255052\ttotal: 18.6s\tremaining: 1m 26s\n",
            "177:\tlearn: 0.3252276\ttotal: 18.7s\tremaining: 1m 26s\n",
            "178:\tlearn: 0.3250852\ttotal: 18.8s\tremaining: 1m 26s\n",
            "179:\tlearn: 0.3249155\ttotal: 18.9s\tremaining: 1m 26s\n",
            "180:\tlearn: 0.3246709\ttotal: 19s\tremaining: 1m 26s\n",
            "181:\tlearn: 0.3245497\ttotal: 19.1s\tremaining: 1m 26s\n",
            "182:\tlearn: 0.3243774\ttotal: 19.2s\tremaining: 1m 25s\n",
            "183:\tlearn: 0.3238731\ttotal: 19.4s\tremaining: 1m 25s\n",
            "184:\tlearn: 0.3238436\ttotal: 19.4s\tremaining: 1m 25s\n",
            "185:\tlearn: 0.3237339\ttotal: 19.6s\tremaining: 1m 25s\n",
            "186:\tlearn: 0.3236894\ttotal: 19.7s\tremaining: 1m 25s\n",
            "187:\tlearn: 0.3236397\ttotal: 19.8s\tremaining: 1m 25s\n",
            "188:\tlearn: 0.3235202\ttotal: 19.9s\tremaining: 1m 25s\n",
            "189:\tlearn: 0.3233675\ttotal: 20s\tremaining: 1m 25s\n",
            "190:\tlearn: 0.3232492\ttotal: 20.1s\tremaining: 1m 25s\n",
            "191:\tlearn: 0.3231517\ttotal: 20.2s\tremaining: 1m 25s\n",
            "192:\tlearn: 0.3230063\ttotal: 20.3s\tremaining: 1m 24s\n",
            "193:\tlearn: 0.3227409\ttotal: 20.4s\tremaining: 1m 24s\n",
            "194:\tlearn: 0.3227044\ttotal: 20.5s\tremaining: 1m 24s\n",
            "195:\tlearn: 0.3225523\ttotal: 20.6s\tremaining: 1m 24s\n",
            "196:\tlearn: 0.3223363\ttotal: 20.7s\tremaining: 1m 24s\n",
            "197:\tlearn: 0.3222090\ttotal: 20.8s\tremaining: 1m 24s\n",
            "198:\tlearn: 0.3221012\ttotal: 20.9s\tremaining: 1m 24s\n",
            "199:\tlearn: 0.3220069\ttotal: 21s\tremaining: 1m 24s\n",
            "200:\tlearn: 0.3219772\ttotal: 21.1s\tremaining: 1m 24s\n",
            "201:\tlearn: 0.3218082\ttotal: 21.3s\tremaining: 1m 23s\n",
            "202:\tlearn: 0.3217665\ttotal: 21.4s\tremaining: 1m 23s\n",
            "203:\tlearn: 0.3217216\ttotal: 21.5s\tremaining: 1m 23s\n",
            "204:\tlearn: 0.3215830\ttotal: 21.6s\tremaining: 1m 23s\n",
            "205:\tlearn: 0.3214159\ttotal: 21.7s\tremaining: 1m 23s\n",
            "206:\tlearn: 0.3212665\ttotal: 21.8s\tremaining: 1m 23s\n",
            "207:\tlearn: 0.3211906\ttotal: 21.9s\tremaining: 1m 23s\n",
            "208:\tlearn: 0.3211552\ttotal: 22s\tremaining: 1m 23s\n",
            "209:\tlearn: 0.3210341\ttotal: 22.1s\tremaining: 1m 23s\n",
            "210:\tlearn: 0.3209970\ttotal: 22.2s\tremaining: 1m 23s\n",
            "211:\tlearn: 0.3209612\ttotal: 22.3s\tremaining: 1m 22s\n",
            "212:\tlearn: 0.3207936\ttotal: 22.4s\tremaining: 1m 22s\n",
            "213:\tlearn: 0.3207537\ttotal: 22.5s\tremaining: 1m 22s\n",
            "214:\tlearn: 0.3206927\ttotal: 22.6s\tremaining: 1m 22s\n",
            "215:\tlearn: 0.3206062\ttotal: 22.7s\tremaining: 1m 22s\n",
            "216:\tlearn: 0.3204555\ttotal: 22.8s\tremaining: 1m 22s\n",
            "217:\tlearn: 0.3203471\ttotal: 22.9s\tremaining: 1m 22s\n",
            "218:\tlearn: 0.3199889\ttotal: 23s\tremaining: 1m 22s\n",
            "219:\tlearn: 0.3198973\ttotal: 23.1s\tremaining: 1m 22s\n",
            "220:\tlearn: 0.3197530\ttotal: 23.3s\tremaining: 1m 21s\n",
            "221:\tlearn: 0.3196742\ttotal: 23.4s\tremaining: 1m 21s\n",
            "222:\tlearn: 0.3196351\ttotal: 23.4s\tremaining: 1m 21s\n",
            "223:\tlearn: 0.3194208\ttotal: 23.6s\tremaining: 1m 21s\n",
            "224:\tlearn: 0.3193677\ttotal: 23.7s\tremaining: 1m 21s\n",
            "225:\tlearn: 0.3193370\ttotal: 23.8s\tremaining: 1m 21s\n",
            "226:\tlearn: 0.3192457\ttotal: 23.9s\tremaining: 1m 21s\n",
            "227:\tlearn: 0.3191800\ttotal: 24s\tremaining: 1m 21s\n",
            "228:\tlearn: 0.3189355\ttotal: 24.1s\tremaining: 1m 21s\n",
            "229:\tlearn: 0.3186800\ttotal: 24.2s\tremaining: 1m 21s\n",
            "230:\tlearn: 0.3186134\ttotal: 24.3s\tremaining: 1m 20s\n",
            "231:\tlearn: 0.3185806\ttotal: 24.4s\tremaining: 1m 20s\n",
            "232:\tlearn: 0.3184996\ttotal: 24.5s\tremaining: 1m 20s\n",
            "233:\tlearn: 0.3184262\ttotal: 24.6s\tremaining: 1m 20s\n",
            "234:\tlearn: 0.3183880\ttotal: 24.7s\tremaining: 1m 20s\n",
            "235:\tlearn: 0.3182915\ttotal: 24.8s\tremaining: 1m 20s\n",
            "236:\tlearn: 0.3182322\ttotal: 24.9s\tremaining: 1m 20s\n",
            "237:\tlearn: 0.3181430\ttotal: 25s\tremaining: 1m 20s\n",
            "238:\tlearn: 0.3181174\ttotal: 25.1s\tremaining: 1m 20s\n",
            "239:\tlearn: 0.3179908\ttotal: 25.2s\tremaining: 1m 19s\n",
            "240:\tlearn: 0.3178731\ttotal: 25.3s\tremaining: 1m 19s\n",
            "241:\tlearn: 0.3177579\ttotal: 25.4s\tremaining: 1m 19s\n",
            "242:\tlearn: 0.3176569\ttotal: 25.5s\tremaining: 1m 19s\n",
            "243:\tlearn: 0.3175676\ttotal: 25.6s\tremaining: 1m 19s\n",
            "244:\tlearn: 0.3175294\ttotal: 25.8s\tremaining: 1m 19s\n",
            "245:\tlearn: 0.3174967\ttotal: 25.9s\tremaining: 1m 19s\n",
            "246:\tlearn: 0.3173093\ttotal: 26s\tremaining: 1m 19s\n",
            "247:\tlearn: 0.3172184\ttotal: 26.1s\tremaining: 1m 19s\n",
            "248:\tlearn: 0.3170920\ttotal: 26.2s\tremaining: 1m 18s\n",
            "249:\tlearn: 0.3169710\ttotal: 26.3s\tremaining: 1m 18s\n",
            "250:\tlearn: 0.3167916\ttotal: 26.4s\tremaining: 1m 18s\n",
            "251:\tlearn: 0.3167638\ttotal: 26.5s\tremaining: 1m 18s\n",
            "252:\tlearn: 0.3167309\ttotal: 26.6s\tremaining: 1m 18s\n",
            "253:\tlearn: 0.3166915\ttotal: 26.7s\tremaining: 1m 18s\n",
            "254:\tlearn: 0.3166556\ttotal: 26.8s\tremaining: 1m 18s\n",
            "255:\tlearn: 0.3166214\ttotal: 26.9s\tremaining: 1m 18s\n",
            "256:\tlearn: 0.3165848\ttotal: 27s\tremaining: 1m 18s\n",
            "257:\tlearn: 0.3162756\ttotal: 27.1s\tremaining: 1m 17s\n",
            "258:\tlearn: 0.3162520\ttotal: 27.2s\tremaining: 1m 17s\n",
            "259:\tlearn: 0.3162312\ttotal: 27.3s\tremaining: 1m 17s\n",
            "260:\tlearn: 0.3161474\ttotal: 27.4s\tremaining: 1m 17s\n",
            "261:\tlearn: 0.3159882\ttotal: 27.5s\tremaining: 1m 17s\n",
            "262:\tlearn: 0.3157296\ttotal: 27.6s\tremaining: 1m 17s\n",
            "263:\tlearn: 0.3156405\ttotal: 27.7s\tremaining: 1m 17s\n",
            "264:\tlearn: 0.3156016\ttotal: 27.8s\tremaining: 1m 17s\n",
            "265:\tlearn: 0.3155065\ttotal: 27.9s\tremaining: 1m 17s\n",
            "266:\tlearn: 0.3153129\ttotal: 28.1s\tremaining: 1m 17s\n",
            "267:\tlearn: 0.3152629\ttotal: 28.1s\tremaining: 1m 16s\n",
            "268:\tlearn: 0.3152297\ttotal: 28.2s\tremaining: 1m 16s\n",
            "269:\tlearn: 0.3151192\ttotal: 28.4s\tremaining: 1m 16s\n",
            "270:\tlearn: 0.3150844\ttotal: 28.4s\tremaining: 1m 16s\n",
            "271:\tlearn: 0.3150590\ttotal: 28.5s\tremaining: 1m 16s\n",
            "272:\tlearn: 0.3150414\ttotal: 28.7s\tremaining: 1m 16s\n",
            "273:\tlearn: 0.3149370\ttotal: 28.8s\tremaining: 1m 16s\n",
            "274:\tlearn: 0.3149137\ttotal: 28.9s\tremaining: 1m 16s\n",
            "275:\tlearn: 0.3146959\ttotal: 29s\tremaining: 1m 16s\n",
            "276:\tlearn: 0.3146562\ttotal: 29.1s\tremaining: 1m 15s\n",
            "277:\tlearn: 0.3144879\ttotal: 29.2s\tremaining: 1m 15s\n",
            "278:\tlearn: 0.3144596\ttotal: 29.3s\tremaining: 1m 15s\n",
            "279:\tlearn: 0.3144352\ttotal: 29.4s\tremaining: 1m 15s\n",
            "280:\tlearn: 0.3143558\ttotal: 29.5s\tremaining: 1m 15s\n",
            "281:\tlearn: 0.3142555\ttotal: 29.6s\tremaining: 1m 15s\n",
            "282:\tlearn: 0.3141327\ttotal: 29.7s\tremaining: 1m 15s\n",
            "283:\tlearn: 0.3141064\ttotal: 29.8s\tremaining: 1m 15s\n",
            "284:\tlearn: 0.3140384\ttotal: 29.9s\tremaining: 1m 15s\n",
            "285:\tlearn: 0.3138841\ttotal: 30s\tremaining: 1m 14s\n",
            "286:\tlearn: 0.3138248\ttotal: 30.1s\tremaining: 1m 14s\n",
            "287:\tlearn: 0.3137727\ttotal: 30.2s\tremaining: 1m 14s\n",
            "288:\tlearn: 0.3136950\ttotal: 30.3s\tremaining: 1m 14s\n",
            "289:\tlearn: 0.3135064\ttotal: 30.4s\tremaining: 1m 14s\n",
            "290:\tlearn: 0.3134812\ttotal: 30.5s\tremaining: 1m 14s\n",
            "291:\tlearn: 0.3134062\ttotal: 30.7s\tremaining: 1m 14s\n",
            "292:\tlearn: 0.3133394\ttotal: 30.8s\tremaining: 1m 14s\n",
            "293:\tlearn: 0.3130934\ttotal: 30.9s\tremaining: 1m 14s\n",
            "294:\tlearn: 0.3130753\ttotal: 31s\tremaining: 1m 13s\n",
            "295:\tlearn: 0.3129515\ttotal: 31.1s\tremaining: 1m 13s\n",
            "296:\tlearn: 0.3128359\ttotal: 31.2s\tremaining: 1m 13s\n",
            "297:\tlearn: 0.3127799\ttotal: 31.3s\tremaining: 1m 13s\n",
            "298:\tlearn: 0.3127474\ttotal: 31.4s\tremaining: 1m 13s\n",
            "299:\tlearn: 0.3125910\ttotal: 31.5s\tremaining: 1m 13s\n",
            "300:\tlearn: 0.3125619\ttotal: 31.6s\tremaining: 1m 13s\n",
            "301:\tlearn: 0.3125246\ttotal: 31.7s\tremaining: 1m 13s\n",
            "302:\tlearn: 0.3125002\ttotal: 31.8s\tremaining: 1m 13s\n",
            "303:\tlearn: 0.3124215\ttotal: 31.9s\tremaining: 1m 13s\n",
            "304:\tlearn: 0.3123649\ttotal: 32s\tremaining: 1m 12s\n",
            "305:\tlearn: 0.3122610\ttotal: 32.1s\tremaining: 1m 12s\n",
            "306:\tlearn: 0.3122307\ttotal: 32.2s\tremaining: 1m 12s\n",
            "307:\tlearn: 0.3121599\ttotal: 32.3s\tremaining: 1m 12s\n",
            "308:\tlearn: 0.3121359\ttotal: 32.4s\tremaining: 1m 12s\n",
            "309:\tlearn: 0.3119721\ttotal: 32.5s\tremaining: 1m 12s\n",
            "310:\tlearn: 0.3119485\ttotal: 32.6s\tremaining: 1m 12s\n",
            "311:\tlearn: 0.3118453\ttotal: 32.7s\tremaining: 1m 12s\n",
            "312:\tlearn: 0.3118271\ttotal: 32.8s\tremaining: 1m 12s\n",
            "313:\tlearn: 0.3118137\ttotal: 32.9s\tremaining: 1m 11s\n",
            "314:\tlearn: 0.3117629\ttotal: 33s\tremaining: 1m 11s\n",
            "315:\tlearn: 0.3117358\ttotal: 33.1s\tremaining: 1m 11s\n",
            "316:\tlearn: 0.3117210\ttotal: 33.2s\tremaining: 1m 11s\n",
            "317:\tlearn: 0.3116992\ttotal: 33.3s\tremaining: 1m 11s\n",
            "318:\tlearn: 0.3116447\ttotal: 33.4s\tremaining: 1m 11s\n",
            "319:\tlearn: 0.3116195\ttotal: 33.5s\tremaining: 1m 11s\n",
            "320:\tlearn: 0.3115748\ttotal: 33.7s\tremaining: 1m 11s\n",
            "321:\tlearn: 0.3115582\ttotal: 33.8s\tremaining: 1m 11s\n",
            "322:\tlearn: 0.3115289\ttotal: 33.9s\tremaining: 1m 10s\n",
            "323:\tlearn: 0.3114600\ttotal: 34s\tremaining: 1m 10s\n",
            "324:\tlearn: 0.3114386\ttotal: 34.1s\tremaining: 1m 10s\n",
            "325:\tlearn: 0.3114164\ttotal: 34.2s\tremaining: 1m 10s\n",
            "326:\tlearn: 0.3113794\ttotal: 34.3s\tremaining: 1m 10s\n",
            "327:\tlearn: 0.3112832\ttotal: 34.4s\tremaining: 1m 10s\n",
            "328:\tlearn: 0.3111257\ttotal: 34.5s\tremaining: 1m 10s\n",
            "329:\tlearn: 0.3110254\ttotal: 34.6s\tremaining: 1m 10s\n",
            "330:\tlearn: 0.3109326\ttotal: 34.7s\tremaining: 1m 10s\n",
            "331:\tlearn: 0.3109111\ttotal: 34.8s\tremaining: 1m 10s\n",
            "332:\tlearn: 0.3108796\ttotal: 34.9s\tremaining: 1m 9s\n",
            "333:\tlearn: 0.3108029\ttotal: 35s\tremaining: 1m 9s\n",
            "334:\tlearn: 0.3107836\ttotal: 35.1s\tremaining: 1m 9s\n",
            "335:\tlearn: 0.3107285\ttotal: 35.2s\tremaining: 1m 9s\n",
            "336:\tlearn: 0.3107005\ttotal: 35.3s\tremaining: 1m 9s\n",
            "337:\tlearn: 0.3106793\ttotal: 35.4s\tremaining: 1m 9s\n",
            "338:\tlearn: 0.3106548\ttotal: 35.5s\tremaining: 1m 9s\n",
            "339:\tlearn: 0.3105894\ttotal: 35.6s\tremaining: 1m 9s\n",
            "340:\tlearn: 0.3104870\ttotal: 35.7s\tremaining: 1m 9s\n",
            "341:\tlearn: 0.3104584\ttotal: 35.8s\tremaining: 1m 8s\n",
            "342:\tlearn: 0.3102727\ttotal: 35.9s\tremaining: 1m 8s\n",
            "343:\tlearn: 0.3102162\ttotal: 36s\tremaining: 1m 8s\n",
            "344:\tlearn: 0.3101186\ttotal: 36.1s\tremaining: 1m 8s\n",
            "345:\tlearn: 0.3100391\ttotal: 36.2s\tremaining: 1m 8s\n",
            "346:\tlearn: 0.3100223\ttotal: 36.3s\tremaining: 1m 8s\n",
            "347:\tlearn: 0.3100053\ttotal: 36.4s\tremaining: 1m 8s\n",
            "348:\tlearn: 0.3099786\ttotal: 36.5s\tremaining: 1m 8s\n",
            "349:\tlearn: 0.3099486\ttotal: 36.6s\tremaining: 1m 8s\n",
            "350:\tlearn: 0.3099323\ttotal: 36.8s\tremaining: 1m 7s\n",
            "351:\tlearn: 0.3099030\ttotal: 36.9s\tremaining: 1m 7s\n",
            "352:\tlearn: 0.3098409\ttotal: 37s\tremaining: 1m 7s\n",
            "353:\tlearn: 0.3098171\ttotal: 37.1s\tremaining: 1m 7s\n",
            "354:\tlearn: 0.3097796\ttotal: 37.2s\tremaining: 1m 7s\n",
            "355:\tlearn: 0.3097581\ttotal: 37.3s\tremaining: 1m 7s\n",
            "356:\tlearn: 0.3097005\ttotal: 37.4s\tremaining: 1m 7s\n",
            "357:\tlearn: 0.3096729\ttotal: 37.5s\tremaining: 1m 7s\n",
            "358:\tlearn: 0.3096520\ttotal: 37.6s\tremaining: 1m 7s\n",
            "359:\tlearn: 0.3096288\ttotal: 37.7s\tremaining: 1m 6s\n",
            "360:\tlearn: 0.3095997\ttotal: 37.8s\tremaining: 1m 6s\n",
            "361:\tlearn: 0.3095814\ttotal: 37.9s\tremaining: 1m 6s\n",
            "362:\tlearn: 0.3095286\ttotal: 38s\tremaining: 1m 6s\n",
            "363:\tlearn: 0.3095002\ttotal: 38.1s\tremaining: 1m 6s\n",
            "364:\tlearn: 0.3094751\ttotal: 38.2s\tremaining: 1m 6s\n",
            "365:\tlearn: 0.3094311\ttotal: 38.3s\tremaining: 1m 6s\n",
            "366:\tlearn: 0.3093434\ttotal: 38.4s\tremaining: 1m 6s\n",
            "367:\tlearn: 0.3092289\ttotal: 38.5s\tremaining: 1m 6s\n",
            "368:\tlearn: 0.3092130\ttotal: 38.6s\tremaining: 1m 6s\n",
            "369:\tlearn: 0.3091622\ttotal: 38.7s\tremaining: 1m 5s\n",
            "370:\tlearn: 0.3091257\ttotal: 38.8s\tremaining: 1m 5s\n",
            "371:\tlearn: 0.3090740\ttotal: 38.9s\tremaining: 1m 5s\n",
            "372:\tlearn: 0.3090571\ttotal: 39s\tremaining: 1m 5s\n",
            "373:\tlearn: 0.3090413\ttotal: 39.1s\tremaining: 1m 5s\n",
            "374:\tlearn: 0.3090212\ttotal: 39.2s\tremaining: 1m 5s\n",
            "375:\tlearn: 0.3089620\ttotal: 39.3s\tremaining: 1m 5s\n",
            "376:\tlearn: 0.3089354\ttotal: 39.4s\tremaining: 1m 5s\n",
            "377:\tlearn: 0.3088658\ttotal: 39.5s\tremaining: 1m 5s\n",
            "378:\tlearn: 0.3088465\ttotal: 39.7s\tremaining: 1m 4s\n",
            "379:\tlearn: 0.3087954\ttotal: 39.8s\tremaining: 1m 4s\n",
            "380:\tlearn: 0.3087717\ttotal: 39.9s\tremaining: 1m 4s\n",
            "381:\tlearn: 0.3087467\ttotal: 40s\tremaining: 1m 4s\n",
            "382:\tlearn: 0.3087333\ttotal: 40.1s\tremaining: 1m 4s\n",
            "383:\tlearn: 0.3087053\ttotal: 40.2s\tremaining: 1m 4s\n",
            "384:\tlearn: 0.3086436\ttotal: 40.3s\tremaining: 1m 4s\n",
            "385:\tlearn: 0.3085936\ttotal: 40.4s\tremaining: 1m 4s\n",
            "386:\tlearn: 0.3085470\ttotal: 40.5s\tremaining: 1m 4s\n",
            "387:\tlearn: 0.3084803\ttotal: 40.6s\tremaining: 1m 4s\n",
            "388:\tlearn: 0.3084614\ttotal: 40.7s\tremaining: 1m 3s\n",
            "389:\tlearn: 0.3084091\ttotal: 40.8s\tremaining: 1m 3s\n",
            "390:\tlearn: 0.3083873\ttotal: 40.9s\tremaining: 1m 3s\n",
            "391:\tlearn: 0.3083532\ttotal: 41s\tremaining: 1m 3s\n",
            "392:\tlearn: 0.3083278\ttotal: 41.1s\tremaining: 1m 3s\n",
            "393:\tlearn: 0.3083045\ttotal: 41.2s\tremaining: 1m 3s\n",
            "394:\tlearn: 0.3082795\ttotal: 41.3s\tremaining: 1m 3s\n",
            "395:\tlearn: 0.3082529\ttotal: 41.4s\tremaining: 1m 3s\n",
            "396:\tlearn: 0.3081725\ttotal: 41.5s\tremaining: 1m 3s\n",
            "397:\tlearn: 0.3081325\ttotal: 41.6s\tremaining: 1m 2s\n",
            "398:\tlearn: 0.3081095\ttotal: 41.7s\tremaining: 1m 2s\n",
            "399:\tlearn: 0.3080713\ttotal: 41.8s\tremaining: 1m 2s\n",
            "400:\tlearn: 0.3080311\ttotal: 42s\tremaining: 1m 2s\n",
            "401:\tlearn: 0.3079649\ttotal: 42.1s\tremaining: 1m 2s\n",
            "402:\tlearn: 0.3079453\ttotal: 42.2s\tremaining: 1m 2s\n",
            "403:\tlearn: 0.3078936\ttotal: 42.3s\tremaining: 1m 2s\n",
            "404:\tlearn: 0.3078674\ttotal: 42.4s\tremaining: 1m 2s\n",
            "405:\tlearn: 0.3078436\ttotal: 42.5s\tremaining: 1m 2s\n",
            "406:\tlearn: 0.3078125\ttotal: 42.6s\tremaining: 1m 2s\n",
            "407:\tlearn: 0.3077405\ttotal: 42.7s\tremaining: 1m 1s\n",
            "408:\tlearn: 0.3077224\ttotal: 42.8s\tremaining: 1m 1s\n",
            "409:\tlearn: 0.3076224\ttotal: 42.9s\tremaining: 1m 1s\n",
            "410:\tlearn: 0.3076018\ttotal: 43s\tremaining: 1m 1s\n",
            "411:\tlearn: 0.3075814\ttotal: 43.1s\tremaining: 1m 1s\n",
            "412:\tlearn: 0.3075489\ttotal: 43.2s\tremaining: 1m 1s\n",
            "413:\tlearn: 0.3074970\ttotal: 43.3s\tremaining: 1m 1s\n",
            "414:\tlearn: 0.3074156\ttotal: 43.4s\tremaining: 1m 1s\n",
            "415:\tlearn: 0.3073992\ttotal: 43.5s\tremaining: 1m 1s\n",
            "416:\tlearn: 0.3073814\ttotal: 43.6s\tremaining: 1m\n",
            "417:\tlearn: 0.3073555\ttotal: 43.7s\tremaining: 1m\n",
            "418:\tlearn: 0.3073416\ttotal: 43.8s\tremaining: 1m\n",
            "419:\tlearn: 0.3073277\ttotal: 43.9s\tremaining: 1m\n",
            "420:\tlearn: 0.3073061\ttotal: 44s\tremaining: 1m\n",
            "421:\tlearn: 0.3072745\ttotal: 44.1s\tremaining: 1m\n",
            "422:\tlearn: 0.3072444\ttotal: 44.2s\tremaining: 1m\n",
            "423:\tlearn: 0.3072246\ttotal: 44.3s\tremaining: 1m\n",
            "424:\tlearn: 0.3072039\ttotal: 44.4s\tremaining: 1m\n",
            "425:\tlearn: 0.3071015\ttotal: 44.5s\tremaining: 60s\n",
            "426:\tlearn: 0.3070786\ttotal: 44.6s\tremaining: 59.9s\n",
            "427:\tlearn: 0.3070585\ttotal: 44.7s\tremaining: 59.8s\n",
            "428:\tlearn: 0.3070351\ttotal: 44.8s\tremaining: 59.7s\n",
            "429:\tlearn: 0.3070197\ttotal: 44.9s\tremaining: 59.6s\n",
            "430:\tlearn: 0.3069994\ttotal: 45s\tremaining: 59.4s\n",
            "431:\tlearn: 0.3069772\ttotal: 45.1s\tremaining: 59.3s\n",
            "432:\tlearn: 0.3069429\ttotal: 45.2s\tremaining: 59.2s\n",
            "433:\tlearn: 0.3068697\ttotal: 45.3s\tremaining: 59.1s\n",
            "434:\tlearn: 0.3068552\ttotal: 45.4s\tremaining: 59s\n",
            "435:\tlearn: 0.3067578\ttotal: 45.5s\tremaining: 58.9s\n",
            "436:\tlearn: 0.3066907\ttotal: 45.7s\tremaining: 58.8s\n",
            "437:\tlearn: 0.3066639\ttotal: 45.8s\tremaining: 58.7s\n",
            "438:\tlearn: 0.3065453\ttotal: 45.9s\tremaining: 58.6s\n",
            "439:\tlearn: 0.3064941\ttotal: 46s\tremaining: 58.5s\n",
            "440:\tlearn: 0.3064600\ttotal: 46.1s\tremaining: 58.4s\n",
            "441:\tlearn: 0.3064353\ttotal: 46.2s\tremaining: 58.3s\n",
            "442:\tlearn: 0.3064023\ttotal: 46.3s\tremaining: 58.2s\n",
            "443:\tlearn: 0.3063792\ttotal: 46.4s\tremaining: 58.1s\n",
            "444:\tlearn: 0.3063532\ttotal: 46.5s\tremaining: 58s\n",
            "445:\tlearn: 0.3063331\ttotal: 46.6s\tremaining: 57.9s\n",
            "446:\tlearn: 0.3061780\ttotal: 46.7s\tremaining: 57.8s\n",
            "447:\tlearn: 0.3061337\ttotal: 46.8s\tremaining: 57.7s\n",
            "448:\tlearn: 0.3060808\ttotal: 46.9s\tremaining: 57.6s\n",
            "449:\tlearn: 0.3060158\ttotal: 47s\tremaining: 57.5s\n",
            "450:\tlearn: 0.3059287\ttotal: 47.1s\tremaining: 57.4s\n",
            "451:\tlearn: 0.3059090\ttotal: 47.2s\tremaining: 57.2s\n",
            "452:\tlearn: 0.3058914\ttotal: 47.3s\tremaining: 57.1s\n",
            "453:\tlearn: 0.3058648\ttotal: 47.4s\tremaining: 57s\n",
            "454:\tlearn: 0.3058363\ttotal: 47.5s\tremaining: 56.9s\n",
            "455:\tlearn: 0.3058133\ttotal: 47.6s\tremaining: 56.8s\n",
            "456:\tlearn: 0.3057202\ttotal: 47.7s\tremaining: 56.7s\n",
            "457:\tlearn: 0.3056822\ttotal: 47.8s\tremaining: 56.6s\n",
            "458:\tlearn: 0.3056175\ttotal: 47.9s\tremaining: 56.5s\n",
            "459:\tlearn: 0.3055237\ttotal: 48.1s\tremaining: 56.4s\n",
            "460:\tlearn: 0.3054758\ttotal: 48.2s\tremaining: 56.3s\n",
            "461:\tlearn: 0.3054589\ttotal: 48.2s\tremaining: 56.2s\n",
            "462:\tlearn: 0.3053938\ttotal: 48.4s\tremaining: 56.1s\n",
            "463:\tlearn: 0.3053618\ttotal: 48.5s\tremaining: 56s\n",
            "464:\tlearn: 0.3052793\ttotal: 48.6s\tremaining: 55.9s\n",
            "465:\tlearn: 0.3052671\ttotal: 48.7s\tremaining: 55.8s\n",
            "466:\tlearn: 0.3052528\ttotal: 48.8s\tremaining: 55.6s\n",
            "467:\tlearn: 0.3052069\ttotal: 48.9s\tremaining: 55.5s\n",
            "468:\tlearn: 0.3051827\ttotal: 49s\tremaining: 55.4s\n",
            "469:\tlearn: 0.3051678\ttotal: 49.1s\tremaining: 55.3s\n",
            "470:\tlearn: 0.3051202\ttotal: 49.2s\tremaining: 55.2s\n",
            "471:\tlearn: 0.3050929\ttotal: 49.3s\tremaining: 55.1s\n",
            "472:\tlearn: 0.3050713\ttotal: 49.4s\tremaining: 55s\n",
            "473:\tlearn: 0.3050597\ttotal: 49.5s\tremaining: 54.9s\n",
            "474:\tlearn: 0.3050458\ttotal: 49.6s\tremaining: 54.8s\n",
            "475:\tlearn: 0.3050008\ttotal: 49.7s\tremaining: 54.7s\n",
            "476:\tlearn: 0.3049724\ttotal: 49.8s\tremaining: 54.6s\n",
            "477:\tlearn: 0.3049505\ttotal: 49.9s\tremaining: 54.5s\n",
            "478:\tlearn: 0.3049286\ttotal: 50s\tremaining: 54.4s\n",
            "479:\tlearn: 0.3049154\ttotal: 50.1s\tremaining: 54.2s\n",
            "480:\tlearn: 0.3048971\ttotal: 50.2s\tremaining: 54.1s\n",
            "481:\tlearn: 0.3048653\ttotal: 50.3s\tremaining: 54s\n",
            "482:\tlearn: 0.3048110\ttotal: 50.4s\tremaining: 53.9s\n",
            "483:\tlearn: 0.3047931\ttotal: 50.5s\tremaining: 53.8s\n",
            "484:\tlearn: 0.3047701\ttotal: 50.6s\tremaining: 53.7s\n",
            "485:\tlearn: 0.3047492\ttotal: 50.7s\tremaining: 53.6s\n",
            "486:\tlearn: 0.3047068\ttotal: 50.8s\tremaining: 53.5s\n",
            "487:\tlearn: 0.3046890\ttotal: 50.9s\tremaining: 53.4s\n",
            "488:\tlearn: 0.3046705\ttotal: 51s\tremaining: 53.3s\n",
            "489:\tlearn: 0.3046388\ttotal: 51.1s\tremaining: 53.2s\n",
            "490:\tlearn: 0.3046095\ttotal: 51.2s\tremaining: 53.1s\n",
            "491:\tlearn: 0.3045927\ttotal: 51.3s\tremaining: 53s\n",
            "492:\tlearn: 0.3045738\ttotal: 51.4s\tremaining: 52.9s\n",
            "493:\tlearn: 0.3045516\ttotal: 51.5s\tremaining: 52.8s\n",
            "494:\tlearn: 0.3045332\ttotal: 51.6s\tremaining: 52.7s\n",
            "495:\tlearn: 0.3045061\ttotal: 51.7s\tremaining: 52.6s\n",
            "496:\tlearn: 0.3044742\ttotal: 51.8s\tremaining: 52.5s\n",
            "497:\tlearn: 0.3044572\ttotal: 51.9s\tremaining: 52.3s\n",
            "498:\tlearn: 0.3044191\ttotal: 52s\tremaining: 52.2s\n",
            "499:\tlearn: 0.3044026\ttotal: 52.1s\tremaining: 52.1s\n",
            "500:\tlearn: 0.3043879\ttotal: 52.2s\tremaining: 52s\n",
            "501:\tlearn: 0.3043549\ttotal: 52.4s\tremaining: 51.9s\n",
            "502:\tlearn: 0.3043370\ttotal: 52.5s\tremaining: 51.8s\n",
            "503:\tlearn: 0.3043231\ttotal: 52.5s\tremaining: 51.7s\n",
            "504:\tlearn: 0.3043022\ttotal: 52.6s\tremaining: 51.6s\n",
            "505:\tlearn: 0.3042719\ttotal: 52.7s\tremaining: 51.5s\n",
            "506:\tlearn: 0.3042487\ttotal: 52.9s\tremaining: 51.4s\n",
            "507:\tlearn: 0.3042011\ttotal: 53s\tremaining: 51.3s\n",
            "508:\tlearn: 0.3041815\ttotal: 53.1s\tremaining: 51.2s\n",
            "509:\tlearn: 0.3041606\ttotal: 53.2s\tremaining: 51.1s\n",
            "510:\tlearn: 0.3041416\ttotal: 53.3s\tremaining: 51s\n",
            "511:\tlearn: 0.3041245\ttotal: 53.4s\tremaining: 50.9s\n",
            "512:\tlearn: 0.3041063\ttotal: 53.5s\tremaining: 50.7s\n",
            "513:\tlearn: 0.3040858\ttotal: 53.6s\tremaining: 50.6s\n",
            "514:\tlearn: 0.3040745\ttotal: 53.7s\tremaining: 50.5s\n",
            "515:\tlearn: 0.3040635\ttotal: 53.8s\tremaining: 50.4s\n",
            "516:\tlearn: 0.3040203\ttotal: 53.9s\tremaining: 50.3s\n",
            "517:\tlearn: 0.3040000\ttotal: 54s\tremaining: 50.2s\n",
            "518:\tlearn: 0.3039879\ttotal: 54.1s\tremaining: 50.1s\n",
            "519:\tlearn: 0.3039664\ttotal: 54.2s\tremaining: 50s\n",
            "520:\tlearn: 0.3038781\ttotal: 54.3s\tremaining: 49.9s\n",
            "521:\tlearn: 0.3038570\ttotal: 54.4s\tremaining: 49.8s\n",
            "522:\tlearn: 0.3038293\ttotal: 54.5s\tremaining: 49.7s\n",
            "523:\tlearn: 0.3037704\ttotal: 54.6s\tremaining: 49.6s\n",
            "524:\tlearn: 0.3037453\ttotal: 54.7s\tremaining: 49.5s\n",
            "525:\tlearn: 0.3036488\ttotal: 54.8s\tremaining: 49.4s\n",
            "526:\tlearn: 0.3036250\ttotal: 54.9s\tremaining: 49.3s\n",
            "527:\tlearn: 0.3035000\ttotal: 55s\tremaining: 49.2s\n",
            "528:\tlearn: 0.3034461\ttotal: 55.1s\tremaining: 49.1s\n",
            "529:\tlearn: 0.3033665\ttotal: 55.2s\tremaining: 49s\n",
            "530:\tlearn: 0.3033437\ttotal: 55.3s\tremaining: 48.9s\n",
            "531:\tlearn: 0.3033194\ttotal: 55.5s\tremaining: 48.8s\n",
            "532:\tlearn: 0.3033038\ttotal: 55.6s\tremaining: 48.7s\n",
            "533:\tlearn: 0.3032905\ttotal: 55.7s\tremaining: 48.6s\n",
            "534:\tlearn: 0.3032490\ttotal: 55.8s\tremaining: 48.5s\n",
            "535:\tlearn: 0.3032053\ttotal: 55.9s\tremaining: 48.4s\n",
            "536:\tlearn: 0.3031856\ttotal: 56s\tremaining: 48.3s\n",
            "537:\tlearn: 0.3031467\ttotal: 56.1s\tremaining: 48.2s\n",
            "538:\tlearn: 0.3030689\ttotal: 56.2s\tremaining: 48s\n",
            "539:\tlearn: 0.3030484\ttotal: 56.3s\tremaining: 47.9s\n",
            "540:\tlearn: 0.3030276\ttotal: 56.4s\tremaining: 47.8s\n",
            "541:\tlearn: 0.3030040\ttotal: 56.5s\tremaining: 47.7s\n",
            "542:\tlearn: 0.3029769\ttotal: 56.6s\tremaining: 47.6s\n",
            "543:\tlearn: 0.3029270\ttotal: 56.7s\tremaining: 47.6s\n",
            "544:\tlearn: 0.3028840\ttotal: 56.9s\tremaining: 47.5s\n",
            "545:\tlearn: 0.3028689\ttotal: 57.1s\tremaining: 47.4s\n",
            "546:\tlearn: 0.3028411\ttotal: 57.2s\tremaining: 47.4s\n",
            "547:\tlearn: 0.3028004\ttotal: 57.4s\tremaining: 47.3s\n",
            "548:\tlearn: 0.3027535\ttotal: 57.5s\tremaining: 47.3s\n",
            "549:\tlearn: 0.3027359\ttotal: 57.7s\tremaining: 47.2s\n",
            "550:\tlearn: 0.3027237\ttotal: 57.8s\tremaining: 47.1s\n",
            "551:\tlearn: 0.3026999\ttotal: 57.9s\tremaining: 47s\n",
            "552:\tlearn: 0.3026757\ttotal: 58s\tremaining: 46.9s\n",
            "553:\tlearn: 0.3026528\ttotal: 58.2s\tremaining: 46.8s\n",
            "554:\tlearn: 0.3026359\ttotal: 58.4s\tremaining: 46.8s\n",
            "555:\tlearn: 0.3026063\ttotal: 58.5s\tremaining: 46.7s\n",
            "556:\tlearn: 0.3025827\ttotal: 58.6s\tremaining: 46.6s\n",
            "557:\tlearn: 0.3025394\ttotal: 58.7s\tremaining: 46.5s\n",
            "558:\tlearn: 0.3025272\ttotal: 58.8s\tremaining: 46.4s\n",
            "559:\tlearn: 0.3025071\ttotal: 58.9s\tremaining: 46.3s\n",
            "560:\tlearn: 0.3024835\ttotal: 59s\tremaining: 46.2s\n",
            "561:\tlearn: 0.3024393\ttotal: 59.2s\tremaining: 46.1s\n",
            "562:\tlearn: 0.3024213\ttotal: 59.3s\tremaining: 46s\n",
            "563:\tlearn: 0.3022831\ttotal: 59.4s\tremaining: 45.9s\n",
            "564:\tlearn: 0.3022350\ttotal: 59.5s\tremaining: 45.8s\n",
            "565:\tlearn: 0.3022183\ttotal: 59.6s\tremaining: 45.7s\n",
            "566:\tlearn: 0.3022021\ttotal: 59.7s\tremaining: 45.6s\n",
            "567:\tlearn: 0.3021085\ttotal: 59.8s\tremaining: 45.5s\n",
            "568:\tlearn: 0.3020936\ttotal: 59.9s\tremaining: 45.3s\n",
            "569:\tlearn: 0.3020765\ttotal: 60s\tremaining: 45.2s\n",
            "570:\tlearn: 0.3020625\ttotal: 1m\tremaining: 45.1s\n",
            "571:\tlearn: 0.3020239\ttotal: 1m\tremaining: 45s\n",
            "572:\tlearn: 0.3020102\ttotal: 1m\tremaining: 44.9s\n",
            "573:\tlearn: 0.3019937\ttotal: 1m\tremaining: 44.8s\n",
            "574:\tlearn: 0.3019761\ttotal: 1m\tremaining: 44.7s\n",
            "575:\tlearn: 0.3019498\ttotal: 1m\tremaining: 44.6s\n",
            "576:\tlearn: 0.3019304\ttotal: 1m\tremaining: 44.5s\n",
            "577:\tlearn: 0.3019082\ttotal: 1m\tremaining: 44.4s\n",
            "578:\tlearn: 0.3018896\ttotal: 1m\tremaining: 44.3s\n",
            "579:\tlearn: 0.3018724\ttotal: 1m 1s\tremaining: 44.2s\n",
            "580:\tlearn: 0.3018137\ttotal: 1m 1s\tremaining: 44.1s\n",
            "581:\tlearn: 0.3017992\ttotal: 1m 1s\tremaining: 44s\n",
            "582:\tlearn: 0.3017806\ttotal: 1m 1s\tremaining: 43.9s\n",
            "583:\tlearn: 0.3017631\ttotal: 1m 1s\tremaining: 43.7s\n",
            "584:\tlearn: 0.3017040\ttotal: 1m 1s\tremaining: 43.6s\n",
            "585:\tlearn: 0.3016849\ttotal: 1m 1s\tremaining: 43.5s\n",
            "586:\tlearn: 0.3016129\ttotal: 1m 1s\tremaining: 43.4s\n",
            "587:\tlearn: 0.3015958\ttotal: 1m 1s\tremaining: 43.3s\n",
            "588:\tlearn: 0.3015807\ttotal: 1m 1s\tremaining: 43.2s\n",
            "589:\tlearn: 0.3015466\ttotal: 1m 2s\tremaining: 43.1s\n",
            "590:\tlearn: 0.3015297\ttotal: 1m 2s\tremaining: 43s\n",
            "591:\tlearn: 0.3015158\ttotal: 1m 2s\tremaining: 42.9s\n",
            "592:\tlearn: 0.3015024\ttotal: 1m 2s\tremaining: 42.8s\n",
            "593:\tlearn: 0.3014647\ttotal: 1m 2s\tremaining: 42.7s\n",
            "594:\tlearn: 0.3014475\ttotal: 1m 2s\tremaining: 42.6s\n",
            "595:\tlearn: 0.3014078\ttotal: 1m 2s\tremaining: 42.5s\n",
            "596:\tlearn: 0.3013912\ttotal: 1m 2s\tremaining: 42.4s\n",
            "597:\tlearn: 0.3013752\ttotal: 1m 2s\tremaining: 42.3s\n",
            "598:\tlearn: 0.3013542\ttotal: 1m 2s\tremaining: 42.2s\n",
            "599:\tlearn: 0.3013347\ttotal: 1m 3s\tremaining: 42.1s\n",
            "600:\tlearn: 0.3013221\ttotal: 1m 3s\tremaining: 42s\n",
            "601:\tlearn: 0.3013093\ttotal: 1m 3s\tremaining: 41.8s\n",
            "602:\tlearn: 0.3012879\ttotal: 1m 3s\tremaining: 41.7s\n",
            "603:\tlearn: 0.3012649\ttotal: 1m 3s\tremaining: 41.6s\n",
            "604:\tlearn: 0.3012462\ttotal: 1m 3s\tremaining: 41.5s\n",
            "605:\tlearn: 0.3011924\ttotal: 1m 3s\tremaining: 41.4s\n",
            "606:\tlearn: 0.3011743\ttotal: 1m 3s\tremaining: 41.3s\n",
            "607:\tlearn: 0.3011561\ttotal: 1m 3s\tremaining: 41.2s\n",
            "608:\tlearn: 0.3011373\ttotal: 1m 4s\tremaining: 41.1s\n",
            "609:\tlearn: 0.3010901\ttotal: 1m 4s\tremaining: 41s\n",
            "610:\tlearn: 0.3010675\ttotal: 1m 4s\tremaining: 40.9s\n",
            "611:\tlearn: 0.3010545\ttotal: 1m 4s\tremaining: 40.8s\n",
            "612:\tlearn: 0.3010012\ttotal: 1m 4s\tremaining: 40.7s\n",
            "613:\tlearn: 0.3009755\ttotal: 1m 4s\tremaining: 40.6s\n",
            "614:\tlearn: 0.3009575\ttotal: 1m 4s\tremaining: 40.5s\n",
            "615:\tlearn: 0.3009345\ttotal: 1m 4s\tremaining: 40.4s\n",
            "616:\tlearn: 0.3009217\ttotal: 1m 4s\tremaining: 40.3s\n",
            "617:\tlearn: 0.3009081\ttotal: 1m 4s\tremaining: 40.2s\n",
            "618:\tlearn: 0.3008920\ttotal: 1m 5s\tremaining: 40.1s\n",
            "619:\tlearn: 0.3008798\ttotal: 1m 5s\tremaining: 39.9s\n",
            "620:\tlearn: 0.3008627\ttotal: 1m 5s\tremaining: 39.8s\n",
            "621:\tlearn: 0.3008395\ttotal: 1m 5s\tremaining: 39.7s\n",
            "622:\tlearn: 0.3008217\ttotal: 1m 5s\tremaining: 39.6s\n",
            "623:\tlearn: 0.3008006\ttotal: 1m 5s\tremaining: 39.5s\n",
            "624:\tlearn: 0.3007856\ttotal: 1m 5s\tremaining: 39.4s\n",
            "625:\tlearn: 0.3007724\ttotal: 1m 5s\tremaining: 39.3s\n",
            "626:\tlearn: 0.3007576\ttotal: 1m 5s\tremaining: 39.2s\n",
            "627:\tlearn: 0.3007427\ttotal: 1m 5s\tremaining: 39.1s\n",
            "628:\tlearn: 0.3007277\ttotal: 1m 6s\tremaining: 39s\n",
            "629:\tlearn: 0.3007144\ttotal: 1m 6s\tremaining: 38.9s\n",
            "630:\tlearn: 0.3007029\ttotal: 1m 6s\tremaining: 38.8s\n",
            "631:\tlearn: 0.3006796\ttotal: 1m 6s\tremaining: 38.7s\n",
            "632:\tlearn: 0.3006483\ttotal: 1m 6s\tremaining: 38.6s\n",
            "633:\tlearn: 0.3005975\ttotal: 1m 6s\tremaining: 38.5s\n",
            "634:\tlearn: 0.3005770\ttotal: 1m 6s\tremaining: 38.3s\n",
            "635:\tlearn: 0.3005570\ttotal: 1m 6s\tremaining: 38.2s\n",
            "636:\tlearn: 0.3005423\ttotal: 1m 6s\tremaining: 38.1s\n",
            "637:\tlearn: 0.3005279\ttotal: 1m 7s\tremaining: 38s\n",
            "638:\tlearn: 0.3005120\ttotal: 1m 7s\tremaining: 37.9s\n",
            "639:\tlearn: 0.3005014\ttotal: 1m 7s\tremaining: 37.8s\n",
            "640:\tlearn: 0.3004493\ttotal: 1m 7s\tremaining: 37.7s\n",
            "641:\tlearn: 0.3004355\ttotal: 1m 7s\tremaining: 37.6s\n",
            "642:\tlearn: 0.3004104\ttotal: 1m 7s\tremaining: 37.5s\n",
            "643:\tlearn: 0.3003656\ttotal: 1m 7s\tremaining: 37.4s\n",
            "644:\tlearn: 0.3003474\ttotal: 1m 7s\tremaining: 37.3s\n",
            "645:\tlearn: 0.3003237\ttotal: 1m 7s\tremaining: 37.2s\n",
            "646:\tlearn: 0.3003125\ttotal: 1m 7s\tremaining: 37.1s\n",
            "647:\tlearn: 0.3002958\ttotal: 1m 8s\tremaining: 37s\n",
            "648:\tlearn: 0.3002753\ttotal: 1m 8s\tremaining: 36.9s\n",
            "649:\tlearn: 0.3002642\ttotal: 1m 8s\tremaining: 36.8s\n",
            "650:\tlearn: 0.3002493\ttotal: 1m 8s\tremaining: 36.6s\n",
            "651:\tlearn: 0.3002160\ttotal: 1m 8s\tremaining: 36.5s\n",
            "652:\tlearn: 0.3002070\ttotal: 1m 8s\tremaining: 36.4s\n",
            "653:\tlearn: 0.3001764\ttotal: 1m 8s\tremaining: 36.3s\n",
            "654:\tlearn: 0.3001565\ttotal: 1m 8s\tremaining: 36.2s\n",
            "655:\tlearn: 0.3001368\ttotal: 1m 8s\tremaining: 36.1s\n",
            "656:\tlearn: 0.3001244\ttotal: 1m 8s\tremaining: 36s\n",
            "657:\tlearn: 0.3001051\ttotal: 1m 9s\tremaining: 35.9s\n",
            "658:\tlearn: 0.3000806\ttotal: 1m 9s\tremaining: 35.8s\n",
            "659:\tlearn: 0.3000765\ttotal: 1m 9s\tremaining: 35.7s\n",
            "660:\tlearn: 0.3000539\ttotal: 1m 9s\tremaining: 35.6s\n",
            "661:\tlearn: 0.3000078\ttotal: 1m 9s\tremaining: 35.5s\n",
            "662:\tlearn: 0.2999792\ttotal: 1m 9s\tremaining: 35.4s\n",
            "663:\tlearn: 0.2999675\ttotal: 1m 9s\tremaining: 35.3s\n",
            "664:\tlearn: 0.2999503\ttotal: 1m 9s\tremaining: 35.2s\n",
            "665:\tlearn: 0.2999337\ttotal: 1m 9s\tremaining: 35.1s\n",
            "666:\tlearn: 0.2999226\ttotal: 1m 10s\tremaining: 35s\n",
            "667:\tlearn: 0.2999094\ttotal: 1m 10s\tremaining: 34.8s\n",
            "668:\tlearn: 0.2998979\ttotal: 1m 10s\tremaining: 34.7s\n",
            "669:\tlearn: 0.2998835\ttotal: 1m 10s\tremaining: 34.6s\n",
            "670:\tlearn: 0.2998136\ttotal: 1m 10s\tremaining: 34.5s\n",
            "671:\tlearn: 0.2998003\ttotal: 1m 10s\tremaining: 34.4s\n",
            "672:\tlearn: 0.2997492\ttotal: 1m 10s\tremaining: 34.3s\n",
            "673:\tlearn: 0.2997236\ttotal: 1m 10s\tremaining: 34.2s\n",
            "674:\tlearn: 0.2996974\ttotal: 1m 10s\tremaining: 34.1s\n",
            "675:\tlearn: 0.2996831\ttotal: 1m 10s\tremaining: 34s\n",
            "676:\tlearn: 0.2996672\ttotal: 1m 11s\tremaining: 33.9s\n",
            "677:\tlearn: 0.2996503\ttotal: 1m 11s\tremaining: 33.8s\n",
            "678:\tlearn: 0.2996364\ttotal: 1m 11s\tremaining: 33.7s\n",
            "679:\tlearn: 0.2996021\ttotal: 1m 11s\tremaining: 33.6s\n",
            "680:\tlearn: 0.2995884\ttotal: 1m 11s\tremaining: 33.5s\n",
            "681:\tlearn: 0.2995773\ttotal: 1m 11s\tremaining: 33.4s\n",
            "682:\tlearn: 0.2995547\ttotal: 1m 11s\tremaining: 33.3s\n",
            "683:\tlearn: 0.2995214\ttotal: 1m 11s\tremaining: 33.1s\n",
            "684:\tlearn: 0.2994895\ttotal: 1m 11s\tremaining: 33s\n",
            "685:\tlearn: 0.2994749\ttotal: 1m 11s\tremaining: 32.9s\n",
            "686:\tlearn: 0.2994522\ttotal: 1m 12s\tremaining: 32.8s\n",
            "687:\tlearn: 0.2993974\ttotal: 1m 12s\tremaining: 32.7s\n",
            "688:\tlearn: 0.2993832\ttotal: 1m 12s\tremaining: 32.6s\n",
            "689:\tlearn: 0.2993695\ttotal: 1m 12s\tremaining: 32.5s\n",
            "690:\tlearn: 0.2993488\ttotal: 1m 12s\tremaining: 32.4s\n",
            "691:\tlearn: 0.2993315\ttotal: 1m 12s\tremaining: 32.3s\n",
            "692:\tlearn: 0.2993038\ttotal: 1m 12s\tremaining: 32.2s\n",
            "693:\tlearn: 0.2992924\ttotal: 1m 12s\tremaining: 32.1s\n",
            "694:\tlearn: 0.2992748\ttotal: 1m 12s\tremaining: 32s\n",
            "695:\tlearn: 0.2992297\ttotal: 1m 13s\tremaining: 31.9s\n",
            "696:\tlearn: 0.2992149\ttotal: 1m 13s\tremaining: 31.8s\n",
            "697:\tlearn: 0.2991935\ttotal: 1m 13s\tremaining: 31.7s\n",
            "698:\tlearn: 0.2991746\ttotal: 1m 13s\tremaining: 31.6s\n",
            "699:\tlearn: 0.2991632\ttotal: 1m 13s\tremaining: 31.5s\n",
            "700:\tlearn: 0.2991341\ttotal: 1m 13s\tremaining: 31.4s\n",
            "701:\tlearn: 0.2991208\ttotal: 1m 13s\tremaining: 31.3s\n",
            "702:\tlearn: 0.2991094\ttotal: 1m 13s\tremaining: 31.2s\n",
            "703:\tlearn: 0.2990899\ttotal: 1m 13s\tremaining: 31.1s\n",
            "704:\tlearn: 0.2990516\ttotal: 1m 13s\tremaining: 31s\n",
            "705:\tlearn: 0.2990397\ttotal: 1m 14s\tremaining: 30.9s\n",
            "706:\tlearn: 0.2990268\ttotal: 1m 14s\tremaining: 30.7s\n",
            "707:\tlearn: 0.2989987\ttotal: 1m 14s\tremaining: 30.6s\n",
            "708:\tlearn: 0.2989862\ttotal: 1m 14s\tremaining: 30.5s\n",
            "709:\tlearn: 0.2989691\ttotal: 1m 14s\tremaining: 30.4s\n",
            "710:\tlearn: 0.2989580\ttotal: 1m 14s\tremaining: 30.3s\n",
            "711:\tlearn: 0.2989461\ttotal: 1m 14s\tremaining: 30.2s\n",
            "712:\tlearn: 0.2989313\ttotal: 1m 14s\tremaining: 30.1s\n",
            "713:\tlearn: 0.2989074\ttotal: 1m 14s\tremaining: 30s\n",
            "714:\tlearn: 0.2988885\ttotal: 1m 14s\tremaining: 29.9s\n",
            "715:\tlearn: 0.2988686\ttotal: 1m 15s\tremaining: 29.8s\n",
            "716:\tlearn: 0.2988479\ttotal: 1m 15s\tremaining: 29.7s\n",
            "717:\tlearn: 0.2988284\ttotal: 1m 15s\tremaining: 29.6s\n",
            "718:\tlearn: 0.2988146\ttotal: 1m 15s\tremaining: 29.5s\n",
            "719:\tlearn: 0.2987954\ttotal: 1m 15s\tremaining: 29.4s\n",
            "720:\tlearn: 0.2987711\ttotal: 1m 15s\tremaining: 29.3s\n",
            "721:\tlearn: 0.2987554\ttotal: 1m 15s\tremaining: 29.2s\n",
            "722:\tlearn: 0.2987416\ttotal: 1m 15s\tremaining: 29s\n",
            "723:\tlearn: 0.2987223\ttotal: 1m 15s\tremaining: 28.9s\n",
            "724:\tlearn: 0.2987045\ttotal: 1m 16s\tremaining: 28.8s\n",
            "725:\tlearn: 0.2986816\ttotal: 1m 16s\tremaining: 28.7s\n",
            "726:\tlearn: 0.2986686\ttotal: 1m 16s\tremaining: 28.6s\n",
            "727:\tlearn: 0.2986509\ttotal: 1m 16s\tremaining: 28.5s\n",
            "728:\tlearn: 0.2986111\ttotal: 1m 16s\tremaining: 28.4s\n",
            "729:\tlearn: 0.2985993\ttotal: 1m 16s\tremaining: 28.3s\n",
            "730:\tlearn: 0.2985685\ttotal: 1m 16s\tremaining: 28.2s\n",
            "731:\tlearn: 0.2985542\ttotal: 1m 16s\tremaining: 28.1s\n",
            "732:\tlearn: 0.2985344\ttotal: 1m 16s\tremaining: 28s\n",
            "733:\tlearn: 0.2985226\ttotal: 1m 16s\tremaining: 27.9s\n",
            "734:\tlearn: 0.2984794\ttotal: 1m 17s\tremaining: 27.8s\n",
            "735:\tlearn: 0.2984318\ttotal: 1m 17s\tremaining: 27.7s\n",
            "736:\tlearn: 0.2984143\ttotal: 1m 17s\tremaining: 27.6s\n",
            "737:\tlearn: 0.2983701\ttotal: 1m 17s\tremaining: 27.5s\n",
            "738:\tlearn: 0.2983413\ttotal: 1m 17s\tremaining: 27.4s\n",
            "739:\tlearn: 0.2983289\ttotal: 1m 17s\tremaining: 27.3s\n",
            "740:\tlearn: 0.2983151\ttotal: 1m 17s\tremaining: 27.2s\n",
            "741:\tlearn: 0.2982965\ttotal: 1m 17s\tremaining: 27.1s\n",
            "742:\tlearn: 0.2982805\ttotal: 1m 17s\tremaining: 26.9s\n",
            "743:\tlearn: 0.2982537\ttotal: 1m 18s\tremaining: 26.8s\n",
            "744:\tlearn: 0.2982319\ttotal: 1m 18s\tremaining: 26.7s\n",
            "745:\tlearn: 0.2982146\ttotal: 1m 18s\tremaining: 26.6s\n",
            "746:\tlearn: 0.2981990\ttotal: 1m 18s\tremaining: 26.5s\n",
            "747:\tlearn: 0.2981852\ttotal: 1m 18s\tremaining: 26.4s\n",
            "748:\tlearn: 0.2981707\ttotal: 1m 18s\tremaining: 26.3s\n",
            "749:\tlearn: 0.2981543\ttotal: 1m 18s\tremaining: 26.2s\n",
            "750:\tlearn: 0.2981431\ttotal: 1m 18s\tremaining: 26.1s\n",
            "751:\tlearn: 0.2981310\ttotal: 1m 18s\tremaining: 26s\n",
            "752:\tlearn: 0.2981144\ttotal: 1m 18s\tremaining: 25.9s\n",
            "753:\tlearn: 0.2980896\ttotal: 1m 19s\tremaining: 25.8s\n",
            "754:\tlearn: 0.2980762\ttotal: 1m 19s\tremaining: 25.7s\n",
            "755:\tlearn: 0.2980593\ttotal: 1m 19s\tremaining: 25.6s\n",
            "756:\tlearn: 0.2980418\ttotal: 1m 19s\tremaining: 25.5s\n",
            "757:\tlearn: 0.2980150\ttotal: 1m 19s\tremaining: 25.4s\n",
            "758:\tlearn: 0.2979926\ttotal: 1m 19s\tremaining: 25.3s\n",
            "759:\tlearn: 0.2979764\ttotal: 1m 19s\tremaining: 25.2s\n",
            "760:\tlearn: 0.2979683\ttotal: 1m 19s\tremaining: 25.1s\n",
            "761:\tlearn: 0.2979510\ttotal: 1m 19s\tremaining: 25s\n",
            "762:\tlearn: 0.2979373\ttotal: 1m 20s\tremaining: 24.9s\n",
            "763:\tlearn: 0.2979213\ttotal: 1m 20s\tremaining: 24.7s\n",
            "764:\tlearn: 0.2979075\ttotal: 1m 20s\tremaining: 24.6s\n",
            "765:\tlearn: 0.2978953\ttotal: 1m 20s\tremaining: 24.5s\n",
            "766:\tlearn: 0.2978654\ttotal: 1m 20s\tremaining: 24.4s\n",
            "767:\tlearn: 0.2978426\ttotal: 1m 20s\tremaining: 24.3s\n",
            "768:\tlearn: 0.2978129\ttotal: 1m 20s\tremaining: 24.2s\n",
            "769:\tlearn: 0.2977968\ttotal: 1m 20s\tremaining: 24.1s\n",
            "770:\tlearn: 0.2977812\ttotal: 1m 20s\tremaining: 24s\n",
            "771:\tlearn: 0.2977677\ttotal: 1m 20s\tremaining: 23.9s\n",
            "772:\tlearn: 0.2977528\ttotal: 1m 21s\tremaining: 23.8s\n",
            "773:\tlearn: 0.2977357\ttotal: 1m 21s\tremaining: 23.7s\n",
            "774:\tlearn: 0.2977220\ttotal: 1m 21s\tremaining: 23.6s\n",
            "775:\tlearn: 0.2977136\ttotal: 1m 21s\tremaining: 23.5s\n",
            "776:\tlearn: 0.2977002\ttotal: 1m 21s\tremaining: 23.4s\n",
            "777:\tlearn: 0.2976829\ttotal: 1m 21s\tremaining: 23.3s\n",
            "778:\tlearn: 0.2976500\ttotal: 1m 21s\tremaining: 23.2s\n",
            "779:\tlearn: 0.2976134\ttotal: 1m 21s\tremaining: 23.1s\n",
            "780:\tlearn: 0.2975913\ttotal: 1m 21s\tremaining: 23s\n",
            "781:\tlearn: 0.2975764\ttotal: 1m 21s\tremaining: 22.8s\n",
            "782:\tlearn: 0.2975681\ttotal: 1m 22s\tremaining: 22.7s\n",
            "783:\tlearn: 0.2975527\ttotal: 1m 22s\tremaining: 22.6s\n",
            "784:\tlearn: 0.2975118\ttotal: 1m 22s\tremaining: 22.5s\n",
            "785:\tlearn: 0.2974811\ttotal: 1m 22s\tremaining: 22.4s\n",
            "786:\tlearn: 0.2974680\ttotal: 1m 22s\tremaining: 22.3s\n",
            "787:\tlearn: 0.2974529\ttotal: 1m 22s\tremaining: 22.2s\n",
            "788:\tlearn: 0.2974288\ttotal: 1m 22s\tremaining: 22.1s\n",
            "789:\tlearn: 0.2974165\ttotal: 1m 22s\tremaining: 22s\n",
            "790:\tlearn: 0.2973999\ttotal: 1m 22s\tremaining: 21.9s\n",
            "791:\tlearn: 0.2973870\ttotal: 1m 22s\tremaining: 21.8s\n",
            "792:\tlearn: 0.2973741\ttotal: 1m 23s\tremaining: 21.7s\n",
            "793:\tlearn: 0.2973592\ttotal: 1m 23s\tremaining: 21.6s\n",
            "794:\tlearn: 0.2973443\ttotal: 1m 23s\tremaining: 21.5s\n",
            "795:\tlearn: 0.2973330\ttotal: 1m 23s\tremaining: 21.4s\n",
            "796:\tlearn: 0.2973165\ttotal: 1m 23s\tremaining: 21.3s\n",
            "797:\tlearn: 0.2973038\ttotal: 1m 23s\tremaining: 21.2s\n",
            "798:\tlearn: 0.2972885\ttotal: 1m 23s\tremaining: 21.1s\n",
            "799:\tlearn: 0.2972695\ttotal: 1m 23s\tremaining: 20.9s\n",
            "800:\tlearn: 0.2972296\ttotal: 1m 23s\tremaining: 20.8s\n",
            "801:\tlearn: 0.2972130\ttotal: 1m 24s\tremaining: 20.7s\n",
            "802:\tlearn: 0.2971976\ttotal: 1m 24s\tremaining: 20.6s\n",
            "803:\tlearn: 0.2971809\ttotal: 1m 24s\tremaining: 20.5s\n",
            "804:\tlearn: 0.2971574\ttotal: 1m 24s\tremaining: 20.4s\n",
            "805:\tlearn: 0.2971016\ttotal: 1m 24s\tremaining: 20.3s\n",
            "806:\tlearn: 0.2970911\ttotal: 1m 24s\tremaining: 20.2s\n",
            "807:\tlearn: 0.2970783\ttotal: 1m 24s\tremaining: 20.1s\n",
            "808:\tlearn: 0.2970609\ttotal: 1m 24s\tremaining: 20s\n",
            "809:\tlearn: 0.2970453\ttotal: 1m 24s\tremaining: 19.9s\n",
            "810:\tlearn: 0.2970296\ttotal: 1m 24s\tremaining: 19.8s\n",
            "811:\tlearn: 0.2970168\ttotal: 1m 25s\tremaining: 19.7s\n",
            "812:\tlearn: 0.2969997\ttotal: 1m 25s\tremaining: 19.6s\n",
            "813:\tlearn: 0.2969831\ttotal: 1m 25s\tremaining: 19.5s\n",
            "814:\tlearn: 0.2969672\ttotal: 1m 25s\tremaining: 19.4s\n",
            "815:\tlearn: 0.2969485\ttotal: 1m 25s\tremaining: 19.3s\n",
            "816:\tlearn: 0.2969065\ttotal: 1m 25s\tremaining: 19.2s\n",
            "817:\tlearn: 0.2968945\ttotal: 1m 25s\tremaining: 19.1s\n",
            "818:\tlearn: 0.2968828\ttotal: 1m 25s\tremaining: 19s\n",
            "819:\tlearn: 0.2968599\ttotal: 1m 25s\tremaining: 18.9s\n",
            "820:\tlearn: 0.2968415\ttotal: 1m 26s\tremaining: 18.8s\n",
            "821:\tlearn: 0.2968225\ttotal: 1m 26s\tremaining: 18.6s\n",
            "822:\tlearn: 0.2968050\ttotal: 1m 26s\tremaining: 18.5s\n",
            "823:\tlearn: 0.2967867\ttotal: 1m 26s\tremaining: 18.4s\n",
            "824:\tlearn: 0.2967696\ttotal: 1m 26s\tremaining: 18.3s\n",
            "825:\tlearn: 0.2967560\ttotal: 1m 26s\tremaining: 18.2s\n",
            "826:\tlearn: 0.2967330\ttotal: 1m 26s\tremaining: 18.1s\n",
            "827:\tlearn: 0.2967133\ttotal: 1m 26s\tremaining: 18s\n",
            "828:\tlearn: 0.2967010\ttotal: 1m 26s\tremaining: 17.9s\n",
            "829:\tlearn: 0.2966891\ttotal: 1m 26s\tremaining: 17.8s\n",
            "830:\tlearn: 0.2966778\ttotal: 1m 27s\tremaining: 17.7s\n",
            "831:\tlearn: 0.2966590\ttotal: 1m 27s\tremaining: 17.6s\n",
            "832:\tlearn: 0.2966462\ttotal: 1m 27s\tremaining: 17.5s\n",
            "833:\tlearn: 0.2966356\ttotal: 1m 27s\tremaining: 17.4s\n",
            "834:\tlearn: 0.2966234\ttotal: 1m 27s\tremaining: 17.3s\n",
            "835:\tlearn: 0.2966019\ttotal: 1m 27s\tremaining: 17.2s\n",
            "836:\tlearn: 0.2965858\ttotal: 1m 27s\tremaining: 17.1s\n",
            "837:\tlearn: 0.2965642\ttotal: 1m 27s\tremaining: 17s\n",
            "838:\tlearn: 0.2965387\ttotal: 1m 27s\tremaining: 16.9s\n",
            "839:\tlearn: 0.2965074\ttotal: 1m 27s\tremaining: 16.8s\n",
            "840:\tlearn: 0.2964946\ttotal: 1m 28s\tremaining: 16.6s\n",
            "841:\tlearn: 0.2964779\ttotal: 1m 28s\tremaining: 16.5s\n",
            "842:\tlearn: 0.2964662\ttotal: 1m 28s\tremaining: 16.4s\n",
            "843:\tlearn: 0.2964514\ttotal: 1m 28s\tremaining: 16.3s\n",
            "844:\tlearn: 0.2964238\ttotal: 1m 28s\tremaining: 16.2s\n",
            "845:\tlearn: 0.2964012\ttotal: 1m 28s\tremaining: 16.1s\n",
            "846:\tlearn: 0.2963754\ttotal: 1m 28s\tremaining: 16s\n",
            "847:\tlearn: 0.2963604\ttotal: 1m 28s\tremaining: 15.9s\n",
            "848:\tlearn: 0.2963465\ttotal: 1m 28s\tremaining: 15.8s\n",
            "849:\tlearn: 0.2963192\ttotal: 1m 28s\tremaining: 15.7s\n",
            "850:\tlearn: 0.2963011\ttotal: 1m 29s\tremaining: 15.6s\n",
            "851:\tlearn: 0.2962863\ttotal: 1m 29s\tremaining: 15.5s\n",
            "852:\tlearn: 0.2962661\ttotal: 1m 29s\tremaining: 15.4s\n",
            "853:\tlearn: 0.2962469\ttotal: 1m 29s\tremaining: 15.3s\n",
            "854:\tlearn: 0.2962328\ttotal: 1m 29s\tremaining: 15.2s\n",
            "855:\tlearn: 0.2962166\ttotal: 1m 29s\tremaining: 15.1s\n",
            "856:\tlearn: 0.2961974\ttotal: 1m 29s\tremaining: 15s\n",
            "857:\tlearn: 0.2961809\ttotal: 1m 29s\tremaining: 14.9s\n",
            "858:\tlearn: 0.2961616\ttotal: 1m 29s\tremaining: 14.8s\n",
            "859:\tlearn: 0.2961395\ttotal: 1m 30s\tremaining: 14.7s\n",
            "860:\tlearn: 0.2961286\ttotal: 1m 30s\tremaining: 14.6s\n",
            "861:\tlearn: 0.2961044\ttotal: 1m 30s\tremaining: 14.4s\n",
            "862:\tlearn: 0.2960864\ttotal: 1m 30s\tremaining: 14.3s\n",
            "863:\tlearn: 0.2960746\ttotal: 1m 30s\tremaining: 14.2s\n",
            "864:\tlearn: 0.2960378\ttotal: 1m 30s\tremaining: 14.1s\n",
            "865:\tlearn: 0.2960216\ttotal: 1m 30s\tremaining: 14s\n",
            "866:\tlearn: 0.2959829\ttotal: 1m 30s\tremaining: 13.9s\n",
            "867:\tlearn: 0.2959367\ttotal: 1m 30s\tremaining: 13.8s\n",
            "868:\tlearn: 0.2959222\ttotal: 1m 30s\tremaining: 13.7s\n",
            "869:\tlearn: 0.2959095\ttotal: 1m 31s\tremaining: 13.6s\n",
            "870:\tlearn: 0.2958918\ttotal: 1m 31s\tremaining: 13.5s\n",
            "871:\tlearn: 0.2958715\ttotal: 1m 31s\tremaining: 13.4s\n",
            "872:\tlearn: 0.2958583\ttotal: 1m 31s\tremaining: 13.3s\n",
            "873:\tlearn: 0.2958501\ttotal: 1m 31s\tremaining: 13.2s\n",
            "874:\tlearn: 0.2958310\ttotal: 1m 31s\tremaining: 13.1s\n",
            "875:\tlearn: 0.2958143\ttotal: 1m 31s\tremaining: 13s\n",
            "876:\tlearn: 0.2958044\ttotal: 1m 31s\tremaining: 12.9s\n",
            "877:\tlearn: 0.2957766\ttotal: 1m 31s\tremaining: 12.8s\n",
            "878:\tlearn: 0.2957632\ttotal: 1m 32s\tremaining: 12.7s\n",
            "879:\tlearn: 0.2957531\ttotal: 1m 32s\tremaining: 12.6s\n",
            "880:\tlearn: 0.2957316\ttotal: 1m 32s\tremaining: 12.5s\n",
            "881:\tlearn: 0.2957148\ttotal: 1m 32s\tremaining: 12.4s\n",
            "882:\tlearn: 0.2957005\ttotal: 1m 32s\tremaining: 12.2s\n",
            "883:\tlearn: 0.2956770\ttotal: 1m 32s\tremaining: 12.1s\n",
            "884:\tlearn: 0.2956428\ttotal: 1m 32s\tremaining: 12s\n",
            "885:\tlearn: 0.2956252\ttotal: 1m 32s\tremaining: 11.9s\n",
            "886:\tlearn: 0.2956133\ttotal: 1m 32s\tremaining: 11.8s\n",
            "887:\tlearn: 0.2955927\ttotal: 1m 32s\tremaining: 11.7s\n",
            "888:\tlearn: 0.2955793\ttotal: 1m 33s\tremaining: 11.6s\n",
            "889:\tlearn: 0.2955586\ttotal: 1m 33s\tremaining: 11.5s\n",
            "890:\tlearn: 0.2955395\ttotal: 1m 33s\tremaining: 11.4s\n",
            "891:\tlearn: 0.2955275\ttotal: 1m 33s\tremaining: 11.3s\n",
            "892:\tlearn: 0.2955173\ttotal: 1m 33s\tremaining: 11.2s\n",
            "893:\tlearn: 0.2954932\ttotal: 1m 33s\tremaining: 11.1s\n",
            "894:\tlearn: 0.2954507\ttotal: 1m 33s\tremaining: 11s\n",
            "895:\tlearn: 0.2954427\ttotal: 1m 33s\tremaining: 10.9s\n",
            "896:\tlearn: 0.2954264\ttotal: 1m 33s\tremaining: 10.8s\n",
            "897:\tlearn: 0.2954073\ttotal: 1m 33s\tremaining: 10.7s\n",
            "898:\tlearn: 0.2953919\ttotal: 1m 34s\tremaining: 10.6s\n",
            "899:\tlearn: 0.2953788\ttotal: 1m 34s\tremaining: 10.5s\n",
            "900:\tlearn: 0.2953502\ttotal: 1m 34s\tremaining: 10.4s\n",
            "901:\tlearn: 0.2953368\ttotal: 1m 34s\tremaining: 10.3s\n",
            "902:\tlearn: 0.2953126\ttotal: 1m 34s\tremaining: 10.2s\n",
            "903:\tlearn: 0.2952983\ttotal: 1m 34s\tremaining: 10s\n",
            "904:\tlearn: 0.2952818\ttotal: 1m 34s\tremaining: 9.94s\n",
            "905:\tlearn: 0.2952695\ttotal: 1m 34s\tremaining: 9.84s\n",
            "906:\tlearn: 0.2952631\ttotal: 1m 34s\tremaining: 9.73s\n",
            "907:\tlearn: 0.2952512\ttotal: 1m 35s\tremaining: 9.63s\n",
            "908:\tlearn: 0.2952321\ttotal: 1m 35s\tremaining: 9.52s\n",
            "909:\tlearn: 0.2952160\ttotal: 1m 35s\tremaining: 9.42s\n",
            "910:\tlearn: 0.2951964\ttotal: 1m 35s\tremaining: 9.31s\n",
            "911:\tlearn: 0.2951647\ttotal: 1m 35s\tremaining: 9.21s\n",
            "912:\tlearn: 0.2951495\ttotal: 1m 35s\tremaining: 9.11s\n",
            "913:\tlearn: 0.2951337\ttotal: 1m 35s\tremaining: 9s\n",
            "914:\tlearn: 0.2951131\ttotal: 1m 35s\tremaining: 8.89s\n",
            "915:\tlearn: 0.2951013\ttotal: 1m 35s\tremaining: 8.79s\n",
            "916:\tlearn: 0.2950885\ttotal: 1m 35s\tremaining: 8.69s\n",
            "917:\tlearn: 0.2950755\ttotal: 1m 36s\tremaining: 8.58s\n",
            "918:\tlearn: 0.2950642\ttotal: 1m 36s\tremaining: 8.48s\n",
            "919:\tlearn: 0.2950464\ttotal: 1m 36s\tremaining: 8.37s\n",
            "920:\tlearn: 0.2950299\ttotal: 1m 36s\tremaining: 8.27s\n",
            "921:\tlearn: 0.2950135\ttotal: 1m 36s\tremaining: 8.16s\n",
            "922:\tlearn: 0.2950033\ttotal: 1m 36s\tremaining: 8.06s\n",
            "923:\tlearn: 0.2949912\ttotal: 1m 36s\tremaining: 7.96s\n",
            "924:\tlearn: 0.2949604\ttotal: 1m 36s\tremaining: 7.85s\n",
            "925:\tlearn: 0.2949441\ttotal: 1m 36s\tremaining: 7.75s\n",
            "926:\tlearn: 0.2949287\ttotal: 1m 37s\tremaining: 7.64s\n",
            "927:\tlearn: 0.2949127\ttotal: 1m 37s\tremaining: 7.54s\n",
            "928:\tlearn: 0.2948986\ttotal: 1m 37s\tremaining: 7.43s\n",
            "929:\tlearn: 0.2948864\ttotal: 1m 37s\tremaining: 7.33s\n",
            "930:\tlearn: 0.2948734\ttotal: 1m 37s\tremaining: 7.22s\n",
            "931:\tlearn: 0.2948614\ttotal: 1m 37s\tremaining: 7.12s\n",
            "932:\tlearn: 0.2948517\ttotal: 1m 37s\tremaining: 7.01s\n",
            "933:\tlearn: 0.2948335\ttotal: 1m 37s\tremaining: 6.91s\n",
            "934:\tlearn: 0.2948236\ttotal: 1m 37s\tremaining: 6.8s\n",
            "935:\tlearn: 0.2948033\ttotal: 1m 37s\tremaining: 6.7s\n",
            "936:\tlearn: 0.2947916\ttotal: 1m 38s\tremaining: 6.59s\n",
            "937:\tlearn: 0.2947675\ttotal: 1m 38s\tremaining: 6.49s\n",
            "938:\tlearn: 0.2947532\ttotal: 1m 38s\tremaining: 6.38s\n",
            "939:\tlearn: 0.2947125\ttotal: 1m 38s\tremaining: 6.28s\n",
            "940:\tlearn: 0.2946994\ttotal: 1m 38s\tremaining: 6.17s\n",
            "941:\tlearn: 0.2946810\ttotal: 1m 38s\tremaining: 6.07s\n",
            "942:\tlearn: 0.2946642\ttotal: 1m 38s\tremaining: 5.96s\n",
            "943:\tlearn: 0.2946502\ttotal: 1m 38s\tremaining: 5.86s\n",
            "944:\tlearn: 0.2946296\ttotal: 1m 38s\tremaining: 5.75s\n",
            "945:\tlearn: 0.2946164\ttotal: 1m 39s\tremaining: 5.65s\n",
            "946:\tlearn: 0.2946035\ttotal: 1m 39s\tremaining: 5.55s\n",
            "947:\tlearn: 0.2945955\ttotal: 1m 39s\tremaining: 5.44s\n",
            "948:\tlearn: 0.2945787\ttotal: 1m 39s\tremaining: 5.34s\n",
            "949:\tlearn: 0.2945602\ttotal: 1m 39s\tremaining: 5.23s\n",
            "950:\tlearn: 0.2945416\ttotal: 1m 39s\tremaining: 5.13s\n",
            "951:\tlearn: 0.2945146\ttotal: 1m 39s\tremaining: 5.02s\n",
            "952:\tlearn: 0.2944958\ttotal: 1m 39s\tremaining: 4.92s\n",
            "953:\tlearn: 0.2944611\ttotal: 1m 39s\tremaining: 4.81s\n",
            "954:\tlearn: 0.2944456\ttotal: 1m 39s\tremaining: 4.71s\n",
            "955:\tlearn: 0.2944022\ttotal: 1m 40s\tremaining: 4.6s\n",
            "956:\tlearn: 0.2943507\ttotal: 1m 40s\tremaining: 4.5s\n",
            "957:\tlearn: 0.2943400\ttotal: 1m 40s\tremaining: 4.39s\n",
            "958:\tlearn: 0.2943276\ttotal: 1m 40s\tremaining: 4.29s\n",
            "959:\tlearn: 0.2943140\ttotal: 1m 40s\tremaining: 4.18s\n",
            "960:\tlearn: 0.2943000\ttotal: 1m 40s\tremaining: 4.08s\n",
            "961:\tlearn: 0.2942960\ttotal: 1m 40s\tremaining: 3.98s\n",
            "962:\tlearn: 0.2942591\ttotal: 1m 40s\tremaining: 3.87s\n",
            "963:\tlearn: 0.2942455\ttotal: 1m 40s\tremaining: 3.77s\n",
            "964:\tlearn: 0.2942340\ttotal: 1m 40s\tremaining: 3.66s\n",
            "965:\tlearn: 0.2942195\ttotal: 1m 41s\tremaining: 3.56s\n",
            "966:\tlearn: 0.2941837\ttotal: 1m 41s\tremaining: 3.45s\n",
            "967:\tlearn: 0.2941453\ttotal: 1m 41s\tremaining: 3.35s\n",
            "968:\tlearn: 0.2941318\ttotal: 1m 41s\tremaining: 3.24s\n",
            "969:\tlearn: 0.2941204\ttotal: 1m 41s\tremaining: 3.14s\n",
            "970:\tlearn: 0.2940998\ttotal: 1m 41s\tremaining: 3.03s\n",
            "971:\tlearn: 0.2940878\ttotal: 1m 41s\tremaining: 2.93s\n",
            "972:\tlearn: 0.2940722\ttotal: 1m 41s\tremaining: 2.83s\n",
            "973:\tlearn: 0.2940591\ttotal: 1m 41s\tremaining: 2.72s\n",
            "974:\tlearn: 0.2940431\ttotal: 1m 42s\tremaining: 2.62s\n",
            "975:\tlearn: 0.2939924\ttotal: 1m 42s\tremaining: 2.51s\n",
            "976:\tlearn: 0.2939803\ttotal: 1m 42s\tremaining: 2.41s\n",
            "977:\tlearn: 0.2939725\ttotal: 1m 42s\tremaining: 2.3s\n",
            "978:\tlearn: 0.2939325\ttotal: 1m 42s\tremaining: 2.2s\n",
            "979:\tlearn: 0.2939141\ttotal: 1m 42s\tremaining: 2.09s\n",
            "980:\tlearn: 0.2939042\ttotal: 1m 42s\tremaining: 1.99s\n",
            "981:\tlearn: 0.2938930\ttotal: 1m 42s\tremaining: 1.88s\n",
            "982:\tlearn: 0.2938833\ttotal: 1m 42s\tremaining: 1.78s\n",
            "983:\tlearn: 0.2938639\ttotal: 1m 42s\tremaining: 1.67s\n",
            "984:\tlearn: 0.2938503\ttotal: 1m 43s\tremaining: 1.57s\n",
            "985:\tlearn: 0.2938440\ttotal: 1m 43s\tremaining: 1.46s\n",
            "986:\tlearn: 0.2938331\ttotal: 1m 43s\tremaining: 1.36s\n",
            "987:\tlearn: 0.2938213\ttotal: 1m 43s\tremaining: 1.25s\n",
            "988:\tlearn: 0.2938064\ttotal: 1m 43s\tremaining: 1.15s\n",
            "989:\tlearn: 0.2937659\ttotal: 1m 43s\tremaining: 1.04s\n",
            "990:\tlearn: 0.2937551\ttotal: 1m 43s\tremaining: 941ms\n",
            "991:\tlearn: 0.2937456\ttotal: 1m 43s\tremaining: 837ms\n",
            "992:\tlearn: 0.2937184\ttotal: 1m 43s\tremaining: 732ms\n",
            "993:\tlearn: 0.2937066\ttotal: 1m 43s\tremaining: 628ms\n",
            "994:\tlearn: 0.2936948\ttotal: 1m 44s\tremaining: 523ms\n",
            "995:\tlearn: 0.2936780\ttotal: 1m 44s\tremaining: 418ms\n",
            "996:\tlearn: 0.2936653\ttotal: 1m 44s\tremaining: 314ms\n",
            "997:\tlearn: 0.2936475\ttotal: 1m 44s\tremaining: 209ms\n",
            "998:\tlearn: 0.2936327\ttotal: 1m 44s\tremaining: 105ms\n",
            "999:\tlearn: 0.2936219\ttotal: 1m 44s\tremaining: 0us\n"
          ],
          "name": "stdout"
        }
      ]
    },
    {
      "cell_type": "code",
      "metadata": {
        "id": "YjkAiWUrrLfy"
      },
      "source": [
        "#reading the prediction fipred_test_Cat_finalle\n",
        "pred_test_Cat_final = pd.read_csv('/content/pred_test_Cat_final.csv')"
      ],
      "execution_count": 167,
      "outputs": []
    },
    {
      "cell_type": "code",
      "metadata": {
        "colab": {
          "base_uri": "https://localhost:8080/",
          "height": 647
        },
        "id": "9TinuV2RrxAW",
        "outputId": "d3fe1485-89af-4ff1-a149-1b28387d7350"
      },
      "source": [
        "pred_test_Cat_final.head(20)"
      ],
      "execution_count": 170,
      "outputs": [
        {
          "output_type": "execute_result",
          "data": {
            "text/html": [
              "<div>\n",
              "<style scoped>\n",
              "    .dataframe tbody tr th:only-of-type {\n",
              "        vertical-align: middle;\n",
              "    }\n",
              "\n",
              "    .dataframe tbody tr th {\n",
              "        vertical-align: top;\n",
              "    }\n",
              "\n",
              "    .dataframe thead th {\n",
              "        text-align: right;\n",
              "    }\n",
              "</style>\n",
              "<table border=\"1\" class=\"dataframe\">\n",
              "  <thead>\n",
              "    <tr style=\"text-align: right;\">\n",
              "      <th></th>\n",
              "      <th>ID</th>\n",
              "      <th>Is_Lead</th>\n",
              "    </tr>\n",
              "  </thead>\n",
              "  <tbody>\n",
              "    <tr>\n",
              "      <th>0</th>\n",
              "      <td>VBENBARO</td>\n",
              "      <td>0</td>\n",
              "    </tr>\n",
              "    <tr>\n",
              "      <th>1</th>\n",
              "      <td>CCMEWNKY</td>\n",
              "      <td>0</td>\n",
              "    </tr>\n",
              "    <tr>\n",
              "      <th>2</th>\n",
              "      <td>VK3KGA9M</td>\n",
              "      <td>0</td>\n",
              "    </tr>\n",
              "    <tr>\n",
              "      <th>3</th>\n",
              "      <td>TT8RPZVC</td>\n",
              "      <td>0</td>\n",
              "    </tr>\n",
              "    <tr>\n",
              "      <th>4</th>\n",
              "      <td>SHQZEYTZ</td>\n",
              "      <td>0</td>\n",
              "    </tr>\n",
              "    <tr>\n",
              "      <th>5</th>\n",
              "      <td>MZZAQMPT</td>\n",
              "      <td>1</td>\n",
              "    </tr>\n",
              "    <tr>\n",
              "      <th>6</th>\n",
              "      <td>Y88TW36I</td>\n",
              "      <td>0</td>\n",
              "    </tr>\n",
              "    <tr>\n",
              "      <th>7</th>\n",
              "      <td>3UGOAQNU</td>\n",
              "      <td>0</td>\n",
              "    </tr>\n",
              "    <tr>\n",
              "      <th>8</th>\n",
              "      <td>VVUKMUJT</td>\n",
              "      <td>1</td>\n",
              "    </tr>\n",
              "    <tr>\n",
              "      <th>9</th>\n",
              "      <td>9R363ZXS</td>\n",
              "      <td>0</td>\n",
              "    </tr>\n",
              "    <tr>\n",
              "      <th>10</th>\n",
              "      <td>BLISM6JE</td>\n",
              "      <td>0</td>\n",
              "    </tr>\n",
              "    <tr>\n",
              "      <th>11</th>\n",
              "      <td>CH8S7JK7</td>\n",
              "      <td>0</td>\n",
              "    </tr>\n",
              "    <tr>\n",
              "      <th>12</th>\n",
              "      <td>EAHDPXEJ</td>\n",
              "      <td>0</td>\n",
              "    </tr>\n",
              "    <tr>\n",
              "      <th>13</th>\n",
              "      <td>BNUK9PRF</td>\n",
              "      <td>0</td>\n",
              "    </tr>\n",
              "    <tr>\n",
              "      <th>14</th>\n",
              "      <td>GP2PG6FJ</td>\n",
              "      <td>0</td>\n",
              "    </tr>\n",
              "    <tr>\n",
              "      <th>15</th>\n",
              "      <td>WNQCSN8A</td>\n",
              "      <td>0</td>\n",
              "    </tr>\n",
              "    <tr>\n",
              "      <th>16</th>\n",
              "      <td>32DN4YVZ</td>\n",
              "      <td>0</td>\n",
              "    </tr>\n",
              "    <tr>\n",
              "      <th>17</th>\n",
              "      <td>GXAMDANM</td>\n",
              "      <td>0</td>\n",
              "    </tr>\n",
              "    <tr>\n",
              "      <th>18</th>\n",
              "      <td>MXETLUP4</td>\n",
              "      <td>0</td>\n",
              "    </tr>\n",
              "    <tr>\n",
              "      <th>19</th>\n",
              "      <td>MPXK6TVE</td>\n",
              "      <td>1</td>\n",
              "    </tr>\n",
              "  </tbody>\n",
              "</table>\n",
              "</div>"
            ],
            "text/plain": [
              "          ID  Is_Lead\n",
              "0   VBENBARO        0\n",
              "1   CCMEWNKY        0\n",
              "2   VK3KGA9M        0\n",
              "3   TT8RPZVC        0\n",
              "4   SHQZEYTZ        0\n",
              "5   MZZAQMPT        1\n",
              "6   Y88TW36I        0\n",
              "7   3UGOAQNU        0\n",
              "8   VVUKMUJT        1\n",
              "9   9R363ZXS        0\n",
              "10  BLISM6JE        0\n",
              "11  CH8S7JK7        0\n",
              "12  EAHDPXEJ        0\n",
              "13  BNUK9PRF        0\n",
              "14  GP2PG6FJ        0\n",
              "15  WNQCSN8A        0\n",
              "16  32DN4YVZ        0\n",
              "17  GXAMDANM        0\n",
              "18  MXETLUP4        0\n",
              "19  MPXK6TVE        1"
            ]
          },
          "metadata": {
            "tags": []
          },
          "execution_count": 170
        }
      ]
    },
    {
      "cell_type": "markdown",
      "metadata": {
        "id": "WkMnbDO0PmDS"
      },
      "source": [
        "#Conclusion\n",
        "\n",
        "On the Happy Bank’s existing customer data, we have been asked to train a predictive model, which can predict the propensity of customers, willing to take the credit card offered to them by bank in future. \n",
        "To accomplish this task I have train various classification model on the given train data set and validate the algorithm performance by roc_auc_score and other matrices.  \n",
        "\n",
        "While training the models I have countered the class-imbalance problem. In the target variable the minority (yes) class was very less. To overcome this problem I have used the Synthetic minority over sampling technique. \n",
        "After the oversampling of the training data, I have noticed the remarkable difference in accuracy of the models, trained before oversampling and trained after oversampling. Though the oversampling lead to overfitting of the models, I have decided to consider the precision and recall matrices also. On that account, I select catBoostClassifier model as my final model."
      ]
    }
  ]
}